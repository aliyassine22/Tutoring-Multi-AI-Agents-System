{
 "cells": [
  {
   "cell_type": "code",
   "execution_count": 1,
   "id": "8d76f2f9",
   "metadata": {},
   "outputs": [],
   "source": [
    "import os\n",
    "import openai\n",
    "import sys\n",
    "sys.path.append('../..')\n",
    "\n",
    "from dotenv import load_dotenv, find_dotenv\n",
    "_=load_dotenv(find_dotenv()) # read local .env file\n",
    "\n",
    "openai.api_key =os.environ['OPENAI_API_KEY']"
   ]
  },
  {
   "cell_type": "markdown",
   "id": "8a810b86",
   "metadata": {},
   "source": [
    "### Using the PYPDF Loader"
   ]
  },
  {
   "cell_type": "code",
   "execution_count": 2,
   "id": "804a3ef7",
   "metadata": {},
   "outputs": [],
   "source": [
    "# pip install langchain langchain-community langchain-text-splitters  pymupdf\n",
    "\n",
    "from pathlib import Path\n",
    "import re\n",
    "from langchain_community.document_loaders import DirectoryLoader, PyPDFLoader\n",
    "from langchain_text_splitters import RecursiveCharacterTextSplitter\n",
    "\n",
    "BASE_DIR=Path(\"../../Courses/signals and systems\")   \n",
    "\n",
    "# load every pdf under the course folder \n",
    "loader=DirectoryLoader(\n",
    "    str(BASE_DIR),\n",
    "    glob=\"**/*.pdf\",\n",
    "    loader_cls=PyPDFLoader,\n",
    ")\n"
   ]
  },
  {
   "cell_type": "code",
   "execution_count": null,
   "id": "e4da4076",
   "metadata": {},
   "outputs": [],
   "source": [
    "raw_docs=loader.load()"
   ]
  },
  {
   "cell_type": "code",
   "execution_count": 7,
   "id": "f49075b2",
   "metadata": {},
   "outputs": [
    {
     "name": "stdout",
     "output_type": "stream",
     "text": [
      "['..', '..', 'courses', 'signals and systems', 'assigments', 'assignment1_lecture2_lecture3_lecture4.pdf']\n"
     ]
    }
   ],
   "source": [
    "doc_sample=raw_docs[0]\n",
    "path_sample=Path(doc_sample.metadata['source'])\n",
    "print([x.lower() for x in path_sample.parts])"
   ]
  },
  {
   "cell_type": "markdown",
   "id": "2f7ab270",
   "metadata": {},
   "source": [
    "#### Document Splittings"
   ]
  },
  {
   "cell_type": "code",
   "execution_count": 95,
   "id": "60969ecc",
   "metadata": {},
   "outputs": [],
   "source": [
    "\n",
    "r_splitter = RecursiveCharacterTextSplitter(\n",
    "    chunk_size=500, # Maximum size of chunks to return\n",
    "    chunk_overlap= 50 # Overlap in characters between chunks\n",
    ")\n",
    "docs=r_splitter.split_documents(raw_docs) # we are dealing with a list of documents not text, thats why we did not use split_text"
   ]
  },
  {
   "cell_type": "markdown",
   "id": "3f9a3f1a",
   "metadata": {},
   "source": [
    "#### Vector Stores and Embeddings"
   ]
  },
  {
   "cell_type": "code",
   "execution_count": 96,
   "id": "7837d535",
   "metadata": {},
   "outputs": [],
   "source": [
    "from langchain.embeddings.openai import OpenAIEmbeddings\n",
    "embedding = OpenAIEmbeddings()"
   ]
  },
  {
   "cell_type": "code",
   "execution_count": null,
   "id": "a8c33659",
   "metadata": {},
   "outputs": [],
   "source": [
    "from langchain.vectorstores import Chroma\n",
    "persist_directory = '../RAG_tests_db/PYPDF/'\n",
    "vectordb = Chroma.from_documents(\n",
    "    documents=docs,\n",
    "    embedding=embedding,\n",
    "    collection_name=\"ele430_signals\",\n",
    "    persist_directory=persist_directory\n",
    ")"
   ]
  },
  {
   "cell_type": "markdown",
   "id": "0742c247",
   "metadata": {},
   "source": [
    "#### Retrieval"
   ]
  },
  {
   "cell_type": "code",
   "execution_count": 98,
   "id": "672a021d",
   "metadata": {},
   "outputs": [],
   "source": [
    "from langchain.retrievers.self_query.base import SelfQueryRetriever\n",
    "from langchain_openai import OpenAI\n",
    "document_content_description = \"Signals and Systems\"\n",
    "llm = OpenAI(temperature=0)\n",
    "retriever = SelfQueryRetriever.from_llm(\n",
    "    llm,\n",
    "    vectordb,\n",
    "    document_contents=document_content_description,\n",
    "    metadata_field_info=metadata_field_info,\n",
    "    verbose=True\n",
    ")"
   ]
  },
  {
   "cell_type": "code",
   "execution_count": 99,
   "id": "34884642",
   "metadata": {},
   "outputs": [],
   "source": [
    "from langchain.chains import  ConversationalRetrievalChain\n",
    "qa_pypdf_loader_test = ConversationalRetrievalChain.from_llm(\n",
    "    llm=llm,\n",
    "    retriever=retriever,\n",
    "    chain_type=\"map_reduce\", # depending on the state, might be refine (mostprobably)\n",
    "    return_source_documents=True,\n",
    "    )"
   ]
  },
  {
   "cell_type": "markdown",
   "id": "6f6363f6",
   "metadata": {},
   "source": [
    "### USING the PYMUPDF LOADER"
   ]
  },
  {
   "cell_type": "code",
   "execution_count": 25,
   "id": "2a7747d1",
   "metadata": {},
   "outputs": [],
   "source": [
    "# pip install langchain langchain-community langchain-text-splitters  pymupdf\n",
    "\n",
    "from pathlib import Path\n",
    "import re\n",
    "from langchain_community.document_loaders import DirectoryLoader, PyMuPDFLoader\n",
    "from langchain_text_splitters import RecursiveCharacterTextSplitter\n",
    "\n",
    "BASE_DIR=Path(\"../../Courses/signals and systems\")   \n",
    "\n",
    "# load every pdf under the course folder \n",
    "loader=DirectoryLoader(\n",
    "    str(BASE_DIR),\n",
    "    glob=\"**/*.pdf\",\n",
    "    loader_cls=PyMuPDFLoader,\n",
    ")\n"
   ]
  },
  {
   "cell_type": "code",
   "execution_count": null,
   "id": "d03ff190",
   "metadata": {},
   "outputs": [],
   "source": [
    "raw_docs=loader.load()"
   ]
  },
  {
   "cell_type": "markdown",
   "id": "f24d7bb6",
   "metadata": {},
   "source": [
    "#### Document Splittings"
   ]
  },
  {
   "cell_type": "code",
   "execution_count": 100,
   "id": "2e50c5c5",
   "metadata": {},
   "outputs": [],
   "source": [
    "\n",
    "r_splitter = RecursiveCharacterTextSplitter(\n",
    "    chunk_size=500, # Maximum size of chunks to return\n",
    "    chunk_overlap= 50 # Overlap in characters between chunks\n",
    ")\n",
    "docs=r_splitter.split_documents(raw_docs) # we are dealing with a list of documents not text, thats why we did not use split_text"
   ]
  },
  {
   "cell_type": "markdown",
   "id": "4755c21a",
   "metadata": {},
   "source": [
    "#### Vector Stores and Embeddings"
   ]
  },
  {
   "cell_type": "code",
   "execution_count": 101,
   "id": "d5b49910",
   "metadata": {},
   "outputs": [],
   "source": [
    "from langchain.embeddings.openai import OpenAIEmbeddings\n",
    "embedding = OpenAIEmbeddings()"
   ]
  },
  {
   "cell_type": "code",
   "execution_count": null,
   "id": "cc7b756a",
   "metadata": {},
   "outputs": [],
   "source": [
    "from langchain.vectorstores import Chroma\n",
    "persist_directory = '../RAG_tests_db/PyMuPDF/'\n",
    "vectordb = Chroma.from_documents(\n",
    "    documents=docs,\n",
    "    embedding=embedding,\n",
    "    collection_name=\"ele430_signals\",\n",
    "    persist_directory=persist_directory\n",
    ")"
   ]
  },
  {
   "cell_type": "markdown",
   "id": "422dfe8b",
   "metadata": {},
   "source": [
    "#### Retrieval"
   ]
  },
  {
   "cell_type": "code",
   "execution_count": 103,
   "id": "8eef957c",
   "metadata": {},
   "outputs": [],
   "source": [
    "from langchain.retrievers.self_query.base import SelfQueryRetriever\n",
    "from langchain_openai import OpenAI\n",
    "document_content_description = \"Signals and Systems\"\n",
    "llm = OpenAI(temperature=0)\n",
    "retriever = SelfQueryRetriever.from_llm(\n",
    "    llm,\n",
    "    vectordb,\n",
    "    document_contents=document_content_description,\n",
    "    metadata_field_info=metadata_field_info,\n",
    "    verbose=True\n",
    ")"
   ]
  },
  {
   "cell_type": "code",
   "execution_count": 104,
   "id": "b98e1e0e",
   "metadata": {},
   "outputs": [],
   "source": [
    "from langchain.chains import  ConversationalRetrievalChain\n",
    "qa_pymupdf_loader_test = ConversationalRetrievalChain.from_llm(\n",
    "    llm=llm,\n",
    "    retriever=retriever,\n",
    "    chain_type=\"map_reduce\", # depending on the state, might be refine (mostprobably)\n",
    "    return_source_documents=True,\n",
    "    )"
   ]
  },
  {
   "cell_type": "markdown",
   "id": "95e26fce",
   "metadata": {},
   "source": [
    "## Chunks testing"
   ]
  },
  {
   "cell_type": "markdown",
   "id": "dd57c844",
   "metadata": {},
   "source": [
    "for the rest of the tests, we will adopt a common criteria in terms of using the same loader, every test will be independent so that we may get the best result. for the overlap, it will be set to 10 % of the chunk size"
   ]
  },
  {
   "cell_type": "code",
   "execution_count": 37,
   "id": "35fbf426",
   "metadata": {},
   "outputs": [],
   "source": [
    "# pip install langchain langchain-community langchain-text-splitters  pymupdf\n",
    "\n",
    "from pathlib import Path\n",
    "import re\n",
    "from langchain_community.document_loaders import DirectoryLoader, PyPDFLoader\n",
    "from langchain_text_splitters import RecursiveCharacterTextSplitter\n",
    "\n",
    "BASE_DIR=Path(\"../../Courses/signals and systems\")   \n",
    "\n",
    "# load every pdf under the course folder \n",
    "loader=DirectoryLoader(\n",
    "    str(BASE_DIR),\n",
    "    glob=\"**/*.pdf\",\n",
    "    loader_cls=PyPDFLoader,\n",
    ")\n"
   ]
  },
  {
   "cell_type": "code",
   "execution_count": 38,
   "id": "66901cc2",
   "metadata": {},
   "outputs": [
    {
     "name": "stderr",
     "output_type": "stream",
     "text": [
      "Ignoring wrong pointing object 8 0 (offset 0)\n",
      "Ignoring wrong pointing object 11 0 (offset 0)\n",
      "Ignoring wrong pointing object 15 0 (offset 0)\n",
      "Ignoring wrong pointing object 18 0 (offset 0)\n",
      "Ignoring wrong pointing object 28 0 (offset 0)\n",
      "Ignoring wrong pointing object 9 0 (offset 0)\n",
      "Ignoring wrong pointing object 11 0 (offset 0)\n",
      "Ignoring wrong pointing object 30 0 (offset 0)\n",
      "Ignoring wrong pointing object 33 0 (offset 0)\n",
      "Ignoring wrong pointing object 31 0 (offset 0)\n",
      "Ignoring wrong pointing object 11 0 (offset 0)\n",
      "Ignoring wrong pointing object 22 0 (offset 0)\n",
      "Ignoring wrong pointing object 14 0 (offset 0)\n",
      "Ignoring wrong pointing object 17 0 (offset 0)\n",
      "Ignoring wrong pointing object 19 0 (offset 0)\n",
      "Ignoring wrong pointing object 24 0 (offset 0)\n",
      "Ignoring wrong pointing object 38 0 (offset 0)\n",
      "Ignoring wrong pointing object 40 0 (offset 0)\n",
      "Ignoring wrong pointing object 81 0 (offset 0)\n",
      "Ignoring wrong pointing object 108 0 (offset 0)\n",
      "Ignoring wrong pointing object 123 0 (offset 0)\n",
      "Ignoring wrong pointing object 126 0 (offset 0)\n",
      "Ignoring wrong pointing object 17 0 (offset 0)\n",
      "Ignoring wrong pointing object 40 0 (offset 0)\n",
      "Ignoring wrong pointing object 45 0 (offset 0)\n",
      "Ignoring wrong pointing object 71 0 (offset 0)\n",
      "Ignoring wrong pointing object 135 0 (offset 0)\n",
      "Ignoring wrong pointing object 137 0 (offset 0)\n",
      "Ignoring wrong pointing object 15 0 (offset 0)\n",
      "Ignoring wrong pointing object 19 0 (offset 0)\n",
      "Ignoring wrong pointing object 38 0 (offset 0)\n",
      "Ignoring wrong pointing object 40 0 (offset 0)\n",
      "Ignoring wrong pointing object 96 0 (offset 0)\n",
      "Ignoring wrong pointing object 18 0 (offset 0)\n",
      "Ignoring wrong pointing object 22 0 (offset 0)\n",
      "Ignoring wrong pointing object 66 0 (offset 0)\n",
      "Ignoring wrong pointing object 91 0 (offset 0)\n",
      "Ignoring wrong pointing object 132 0 (offset 0)\n",
      "Ignoring wrong pointing object 137 0 (offset 0)\n",
      "Ignoring wrong pointing object 15 0 (offset 0)\n",
      "Ignoring wrong pointing object 20 0 (offset 0)\n",
      "Ignoring wrong pointing object 36 0 (offset 0)\n",
      "Ignoring wrong pointing object 18 0 (offset 0)\n",
      "Ignoring wrong pointing object 22 0 (offset 0)\n",
      "Ignoring wrong pointing object 27 0 (offset 0)\n",
      "Ignoring wrong pointing object 29 0 (offset 0)\n",
      "Ignoring wrong pointing object 84 0 (offset 0)\n",
      "Ignoring wrong pointing object 121 0 (offset 0)\n",
      "Ignoring wrong pointing object 15 0 (offset 0)\n",
      "Ignoring wrong pointing object 21 0 (offset 0)\n",
      "Ignoring wrong pointing object 23 0 (offset 0)\n",
      "Ignoring wrong pointing object 25 0 (offset 0)\n",
      "Ignoring wrong pointing object 29 0 (offset 0)\n",
      "Ignoring wrong pointing object 41 0 (offset 0)\n",
      "Ignoring wrong pointing object 71 0 (offset 0)\n",
      "Ignoring wrong pointing object 78 0 (offset 0)\n",
      "Ignoring wrong pointing object 84 0 (offset 0)\n",
      "Ignoring wrong pointing object 125 0 (offset 0)\n",
      "Ignoring wrong pointing object 9 0 (offset 0)\n",
      "Ignoring wrong pointing object 13 0 (offset 0)\n",
      "Ignoring wrong pointing object 15 0 (offset 0)\n",
      "Ignoring wrong pointing object 95 0 (offset 0)\n",
      "Ignoring wrong pointing object 108 0 (offset 0)\n",
      "Ignoring wrong pointing object 111 0 (offset 0)\n",
      "Ignoring wrong pointing object 114 0 (offset 0)\n",
      "Ignoring wrong pointing object 142 0 (offset 0)\n",
      "Ignoring wrong pointing object 300 0 (offset 0)\n",
      "Ignoring wrong pointing object 301 0 (offset 0)\n",
      "Ignoring wrong pointing object 11 0 (offset 0)\n",
      "Ignoring wrong pointing object 13 0 (offset 0)\n",
      "Ignoring wrong pointing object 34 0 (offset 0)\n",
      "Ignoring wrong pointing object 38 0 (offset 0)\n",
      "Ignoring wrong pointing object 177 0 (offset 0)\n",
      "Ignoring wrong pointing object 186 0 (offset 0)\n",
      "Ignoring wrong pointing object 187 0 (offset 0)\n",
      "Ignoring wrong pointing object 11 0 (offset 0)\n",
      "Ignoring wrong pointing object 13 0 (offset 0)\n",
      "Ignoring wrong pointing object 47 0 (offset 0)\n",
      "Ignoring wrong pointing object 101 0 (offset 0)\n",
      "Ignoring wrong pointing object 102 0 (offset 0)\n",
      "Ignoring wrong pointing object 9 0 (offset 0)\n",
      "Ignoring wrong pointing object 13 0 (offset 0)\n",
      "Ignoring wrong pointing object 15 0 (offset 0)\n",
      "Ignoring wrong pointing object 26 0 (offset 0)\n",
      "Ignoring wrong pointing object 28 0 (offset 0)\n",
      "Ignoring wrong pointing object 180 0 (offset 0)\n",
      "Ignoring wrong pointing object 236 0 (offset 0)\n",
      "Ignoring wrong pointing object 258 0 (offset 0)\n",
      "Ignoring wrong pointing object 326 0 (offset 0)\n",
      "Ignoring wrong pointing object 331 0 (offset 0)\n",
      "Ignoring wrong pointing object 332 0 (offset 0)\n",
      "Ignoring wrong pointing object 11 0 (offset 0)\n",
      "Ignoring wrong pointing object 13 0 (offset 0)\n",
      "Ignoring wrong pointing object 109 0 (offset 0)\n",
      "Ignoring wrong pointing object 110 0 (offset 0)\n",
      "Ignoring wrong pointing object 9 0 (offset 0)\n",
      "Ignoring wrong pointing object 13 0 (offset 0)\n",
      "Ignoring wrong pointing object 15 0 (offset 0)\n",
      "Ignoring wrong pointing object 127 0 (offset 0)\n",
      "Ignoring wrong pointing object 128 0 (offset 0)\n",
      "Ignoring wrong pointing object 11 0 (offset 0)\n",
      "Ignoring wrong pointing object 13 0 (offset 0)\n",
      "Ignoring wrong pointing object 174 0 (offset 0)\n",
      "Ignoring wrong pointing object 199 0 (offset 0)\n",
      "Ignoring wrong pointing object 200 0 (offset 0)\n",
      "Ignoring wrong pointing object 9 0 (offset 0)\n",
      "Ignoring wrong pointing object 13 0 (offset 0)\n",
      "Ignoring wrong pointing object 15 0 (offset 0)\n",
      "Ignoring wrong pointing object 74 0 (offset 0)\n",
      "Ignoring wrong pointing object 91 0 (offset 0)\n",
      "Ignoring wrong pointing object 92 0 (offset 0)\n",
      "Ignoring wrong pointing object 9 0 (offset 0)\n",
      "Ignoring wrong pointing object 13 0 (offset 0)\n",
      "Ignoring wrong pointing object 15 0 (offset 0)\n",
      "Ignoring wrong pointing object 64 0 (offset 0)\n",
      "Ignoring wrong pointing object 229 0 (offset 0)\n",
      "Ignoring wrong pointing object 230 0 (offset 0)\n",
      "Ignoring wrong pointing object 9 0 (offset 0)\n",
      "Ignoring wrong pointing object 13 0 (offset 0)\n",
      "Ignoring wrong pointing object 15 0 (offset 0)\n",
      "Ignoring wrong pointing object 223 0 (offset 0)\n",
      "Ignoring wrong pointing object 224 0 (offset 0)\n",
      "Ignoring wrong pointing object 24 0 (offset 0)\n",
      "Ignoring wrong pointing object 29 0 (offset 0)\n",
      "Ignoring wrong pointing object 52 0 (offset 0)\n"
     ]
    }
   ],
   "source": [
    "raw_docs=loader.load()"
   ]
  },
  {
   "cell_type": "markdown",
   "id": "2e80414c",
   "metadata": {},
   "source": [
    "### Chunk size = 500  "
   ]
  },
  {
   "cell_type": "markdown",
   "id": "80b01940",
   "metadata": {},
   "source": [
    "#### Document Splittings"
   ]
  },
  {
   "cell_type": "code",
   "execution_count": 54,
   "id": "2d8b8637",
   "metadata": {},
   "outputs": [],
   "source": [
    "\n",
    "r_splitter = RecursiveCharacterTextSplitter(\n",
    "    chunk_size=500, # Maximum size of chunks to return\n",
    "    chunk_overlap= 50 # Overlap in characters between chunks\n",
    ")\n",
    "docs=r_splitter.split_documents(raw_docs) # we are dealing with a list of documents not text, thats why we did not use split_text"
   ]
  },
  {
   "cell_type": "markdown",
   "id": "cca7c7a3",
   "metadata": {},
   "source": [
    "#### Vector Stores and Embeddings"
   ]
  },
  {
   "cell_type": "code",
   "execution_count": 55,
   "id": "ea08100e",
   "metadata": {},
   "outputs": [],
   "source": [
    "from langchain.embeddings.openai import OpenAIEmbeddings\n",
    "embedding = OpenAIEmbeddings()"
   ]
  },
  {
   "cell_type": "code",
   "execution_count": null,
   "id": "1c599709",
   "metadata": {},
   "outputs": [],
   "source": [
    "from langchain.vectorstores import Chroma\n",
    "persist_directory = '../RAG_tests_db/C500/'\n",
    "vectordb = Chroma.from_documents(\n",
    "    documents=docs,\n",
    "    embedding=embedding,\n",
    "    collection_name=\"ele430_signals\",\n",
    "    persist_directory=persist_directory\n",
    ")"
   ]
  },
  {
   "cell_type": "markdown",
   "id": "f31c527e",
   "metadata": {},
   "source": [
    "#### Retrieval"
   ]
  },
  {
   "cell_type": "code",
   "execution_count": 57,
   "id": "c394af6e",
   "metadata": {},
   "outputs": [],
   "source": [
    "from langchain.retrievers.self_query.base import SelfQueryRetriever\n",
    "from langchain_openai import OpenAI\n",
    "document_content_description = \"Signals and Systems\"\n",
    "llm = OpenAI(temperature=0)\n",
    "retriever = SelfQueryRetriever.from_llm(\n",
    "    llm,\n",
    "    vectordb,\n",
    "    document_contents=document_content_description,\n",
    "    metadata_field_info=metadata_field_info,\n",
    "    verbose=True\n",
    ")"
   ]
  },
  {
   "cell_type": "code",
   "execution_count": 58,
   "id": "825835df",
   "metadata": {},
   "outputs": [],
   "source": [
    "from langchain.chains import  ConversationalRetrievalChain\n",
    "qa_C500_loader_test = ConversationalRetrievalChain.from_llm(\n",
    "    llm=llm,\n",
    "    retriever=retriever,\n",
    "    chain_type=\"map_reduce\", # depending on the state, might be refine (mostprobably)\n",
    "    return_source_documents=True,\n",
    "    )"
   ]
  },
  {
   "cell_type": "markdown",
   "id": "58dbc38d",
   "metadata": {},
   "source": [
    "### Chunk size = 1000"
   ]
  },
  {
   "cell_type": "markdown",
   "id": "5e2b3f19",
   "metadata": {},
   "source": [
    "#### Document Splittings"
   ]
  },
  {
   "cell_type": "code",
   "execution_count": 59,
   "id": "6ee6f590",
   "metadata": {},
   "outputs": [],
   "source": [
    "\n",
    "r_splitter = RecursiveCharacterTextSplitter(\n",
    "    chunk_size=1000, # Maximum size of chunks to return\n",
    "    chunk_overlap= 10 # Overlap in characters between chunks\n",
    ")\n",
    "docs=r_splitter.split_documents(raw_docs) # we are dealing with a list of documents not text, thats why we did not use split_text"
   ]
  },
  {
   "cell_type": "markdown",
   "id": "6ec1f580",
   "metadata": {},
   "source": [
    "#### Vector Stores and Embeddings"
   ]
  },
  {
   "cell_type": "code",
   "execution_count": 60,
   "id": "87aa3708",
   "metadata": {},
   "outputs": [],
   "source": [
    "from langchain.embeddings.openai import OpenAIEmbeddings\n",
    "embedding = OpenAIEmbeddings()"
   ]
  },
  {
   "cell_type": "code",
   "execution_count": null,
   "id": "bbcd5788",
   "metadata": {},
   "outputs": [],
   "source": [
    "from langchain.vectorstores import Chroma\n",
    "persist_directory = '../RAG_tests_db/C1000/'\n",
    "vectordb = Chroma.from_documents(\n",
    "    documents=docs,\n",
    "    embedding=embedding,\n",
    "    collection_name=\"ele430_signals\",\n",
    "    persist_directory=persist_directory\n",
    ")"
   ]
  },
  {
   "cell_type": "markdown",
   "id": "da288edd",
   "metadata": {},
   "source": [
    "#### Retrieval"
   ]
  },
  {
   "cell_type": "code",
   "execution_count": 62,
   "id": "6b59124c",
   "metadata": {},
   "outputs": [],
   "source": [
    "from langchain.retrievers.self_query.base import SelfQueryRetriever\n",
    "from langchain_openai import OpenAI\n",
    "document_content_description = \"Signals and Systems\"\n",
    "llm = OpenAI(temperature=0)\n",
    "retriever = SelfQueryRetriever.from_llm(\n",
    "    llm,\n",
    "    vectordb,\n",
    "    document_contents=document_content_description,\n",
    "    metadata_field_info=metadata_field_info,\n",
    "    verbose=True\n",
    ")"
   ]
  },
  {
   "cell_type": "code",
   "execution_count": 63,
   "id": "dbc559a7",
   "metadata": {},
   "outputs": [],
   "source": [
    "from langchain.chains import  ConversationalRetrievalChain\n",
    "qa_C1000_loader_test = ConversationalRetrievalChain.from_llm(\n",
    "    llm=llm,\n",
    "    retriever=retriever,\n",
    "    chain_type=\"map_reduce\", # depending on the state, might be refine (mostprobably)\n",
    "    return_source_documents=True,\n",
    "    )"
   ]
  },
  {
   "cell_type": "markdown",
   "id": "ccc9ff2c",
   "metadata": {},
   "source": [
    "## Chunk size = 1500"
   ]
  },
  {
   "cell_type": "markdown",
   "id": "4f8939fe",
   "metadata": {},
   "source": [
    "#### Document Splittings"
   ]
  },
  {
   "cell_type": "code",
   "execution_count": 49,
   "id": "047b35ef",
   "metadata": {},
   "outputs": [],
   "source": [
    "\n",
    "r_splitter = RecursiveCharacterTextSplitter(\n",
    "    chunk_size=1500, # Maximum size of chunks to return\n",
    "    chunk_overlap= 150 # Overlap in characters between chunks\n",
    ")\n",
    "docs=r_splitter.split_documents(raw_docs) # we are dealing with a list of documents not text, thats why we did not use split_text"
   ]
  },
  {
   "cell_type": "markdown",
   "id": "fe83d285",
   "metadata": {},
   "source": [
    "#### Vector Stores and Embeddings"
   ]
  },
  {
   "cell_type": "code",
   "execution_count": 50,
   "id": "a33d39c1",
   "metadata": {},
   "outputs": [],
   "source": [
    "from langchain.embeddings.openai import OpenAIEmbeddings\n",
    "embedding = OpenAIEmbeddings()"
   ]
  },
  {
   "cell_type": "code",
   "execution_count": null,
   "id": "984c943b",
   "metadata": {},
   "outputs": [],
   "source": [
    "from langchain.vectorstores import Chroma\n",
    "persist_directory = '../RAG_tests_db/C1500/'\n",
    "vectordb = Chroma.from_documents(\n",
    "    documents=docs,\n",
    "    embedding=embedding,\n",
    "    collection_name=\"ele430_signals\",\n",
    "    persist_directory=persist_directory\n",
    ")"
   ]
  },
  {
   "cell_type": "markdown",
   "id": "dbfc6d6f",
   "metadata": {},
   "source": [
    "#### Retrieval"
   ]
  },
  {
   "cell_type": "code",
   "execution_count": 52,
   "id": "9aee48c6",
   "metadata": {},
   "outputs": [],
   "source": [
    "from langchain.retrievers.self_query.base import SelfQueryRetriever\n",
    "from langchain_openai import OpenAI\n",
    "document_content_description = \"Signals and Systems\"\n",
    "llm = OpenAI(temperature=0)\n",
    "retriever = SelfQueryRetriever.from_llm(\n",
    "    llm,\n",
    "    vectordb,\n",
    "    document_contents=document_content_description,\n",
    "    metadata_field_info=metadata_field_info,\n",
    "    verbose=True\n",
    ")"
   ]
  },
  {
   "cell_type": "code",
   "execution_count": 53,
   "id": "4f42b6d8",
   "metadata": {},
   "outputs": [],
   "source": [
    "from langchain.chains import  ConversationalRetrievalChain\n",
    "qa_C1500_loader_test = ConversationalRetrievalChain.from_llm(\n",
    "    llm=llm,\n",
    "    retriever=retriever,\n",
    "    chain_type=\"map_reduce\", # depending on the state, might be refine (mostprobably)\n",
    "    return_source_documents=True,\n",
    "    )"
   ]
  },
  {
   "cell_type": "markdown",
   "id": "db2f96d4",
   "metadata": {},
   "source": [
    "## Embeddings Testing"
   ]
  },
  {
   "cell_type": "markdown",
   "id": "c0401fe5",
   "metadata": {},
   "source": [
    "### OpenAI embeddings"
   ]
  },
  {
   "cell_type": "markdown",
   "id": "2eb5752e",
   "metadata": {},
   "source": [
    "#### Document Splittings"
   ]
  },
  {
   "cell_type": "code",
   "execution_count": 74,
   "id": "9275476a",
   "metadata": {},
   "outputs": [],
   "source": [
    "\n",
    "r_splitter = RecursiveCharacterTextSplitter(\n",
    "    chunk_size=500, # Maximum size of chunks to return\n",
    "    chunk_overlap= 50 # Overlap in characters between chunks\n",
    ")\n",
    "docs=r_splitter.split_documents(raw_docs) # we are dealing with a list of documents not text, thats why we did not use split_text"
   ]
  },
  {
   "cell_type": "markdown",
   "id": "6bc3d676",
   "metadata": {},
   "source": [
    "#### Vector Stores and Embeddings"
   ]
  },
  {
   "cell_type": "code",
   "execution_count": 75,
   "id": "8ff53167",
   "metadata": {},
   "outputs": [],
   "source": [
    "from langchain.embeddings.openai import OpenAIEmbeddings\n",
    "embedding = OpenAIEmbeddings()"
   ]
  },
  {
   "cell_type": "code",
   "execution_count": null,
   "id": "36ec8451",
   "metadata": {},
   "outputs": [],
   "source": [
    "from langchain.vectorstores import Chroma\n",
    "persist_directory = '../RAG_tests_db/OpenAiEmbd/'\n",
    "vectordb = Chroma.from_documents(\n",
    "    documents=docs,\n",
    "    embedding=embedding,\n",
    "    collection_name=\"ele430_signals\",\n",
    "    persist_directory=persist_directory\n",
    ")"
   ]
  },
  {
   "cell_type": "markdown",
   "id": "33e5771e",
   "metadata": {},
   "source": [
    "#### Retrieval"
   ]
  },
  {
   "cell_type": "code",
   "execution_count": 77,
   "id": "38df954e",
   "metadata": {},
   "outputs": [],
   "source": [
    "from langchain.retrievers.self_query.base import SelfQueryRetriever\n",
    "from langchain_openai import OpenAI\n",
    "document_content_description = \"Signals and Systems\"\n",
    "llm = OpenAI(temperature=0)\n",
    "retriever = SelfQueryRetriever.from_llm(\n",
    "    llm,\n",
    "    vectordb,\n",
    "    document_contents=document_content_description,\n",
    "    metadata_field_info=metadata_field_info,\n",
    "    verbose=True\n",
    ")"
   ]
  },
  {
   "cell_type": "code",
   "execution_count": 78,
   "id": "38fca130",
   "metadata": {},
   "outputs": [],
   "source": [
    "from langchain.chains import  ConversationalRetrievalChain\n",
    "qa_openaiembd_loader_test = ConversationalRetrievalChain.from_llm(\n",
    "    llm=llm,\n",
    "    retriever=retriever,\n",
    "    chain_type=\"map_reduce\", # depending on the state, might be refine (mostprobably)\n",
    "    return_source_documents=True,\n",
    "    )"
   ]
  },
  {
   "cell_type": "markdown",
   "id": "7bf61527",
   "metadata": {},
   "source": [
    "### Google Gen AI embeddings"
   ]
  },
  {
   "cell_type": "code",
   "execution_count": 71,
   "id": "45c371f6",
   "metadata": {},
   "outputs": [],
   "source": [
    "import os, getpass\n",
    "if not os.environ.get(\"GOOGLE_API_KEY\"):\n",
    "  os.environ[\"GOOGLE_API_KEY\"] = getpass.getpass(\"Enter API key for Google Gemini: \")\n"
   ]
  },
  {
   "cell_type": "markdown",
   "id": "4cce9a88",
   "metadata": {},
   "source": [
    "#### Vector Stores and Embeddings"
   ]
  },
  {
   "cell_type": "code",
   "execution_count": 79,
   "id": "e9b41933",
   "metadata": {},
   "outputs": [],
   "source": [
    "from langchain_google_genai import GoogleGenerativeAIEmbeddings\n",
    "embeddings = GoogleGenerativeAIEmbeddings(model=\"models/gemini-embedding-001\")"
   ]
  },
  {
   "cell_type": "code",
   "execution_count": null,
   "id": "828b0afc",
   "metadata": {},
   "outputs": [
    {
     "ename": "GoogleGenerativeAIError",
     "evalue": "Error embedding content: 429 Resource has been exhausted (e.g. check quota).",
     "output_type": "error",
     "traceback": [
      "\u001b[1;31m---------------------------------------------------------------------------\u001b[0m",
      "\u001b[1;31mResourceExhausted\u001b[0m                         Traceback (most recent call last)",
      "File \u001b[1;32mc:\\Users\\User\\anaconda3\\envs\\PT\\Lib\\site-packages\\langchain_google_genai\\embeddings.py:243\u001b[0m, in \u001b[0;36mGoogleGenerativeAIEmbeddings.embed_documents\u001b[1;34m(self, texts, batch_size, task_type, titles, output_dimensionality)\u001b[0m\n\u001b[0;32m    242\u001b[0m \u001b[38;5;28;01mtry\u001b[39;00m:\n\u001b[1;32m--> 243\u001b[0m     result \u001b[38;5;241m=\u001b[39m \u001b[38;5;28;43mself\u001b[39;49m\u001b[38;5;241;43m.\u001b[39;49m\u001b[43mclient\u001b[49m\u001b[38;5;241;43m.\u001b[39;49m\u001b[43mbatch_embed_contents\u001b[49m\u001b[43m(\u001b[49m\n\u001b[0;32m    244\u001b[0m \u001b[43m        \u001b[49m\u001b[43mBatchEmbedContentsRequest\u001b[49m\u001b[43m(\u001b[49m\u001b[43mrequests\u001b[49m\u001b[38;5;241;43m=\u001b[39;49m\u001b[43mrequests\u001b[49m\u001b[43m,\u001b[49m\u001b[43m \u001b[49m\u001b[43mmodel\u001b[49m\u001b[38;5;241;43m=\u001b[39;49m\u001b[38;5;28;43mself\u001b[39;49m\u001b[38;5;241;43m.\u001b[39;49m\u001b[43mmodel\u001b[49m\u001b[43m)\u001b[49m\n\u001b[0;32m    245\u001b[0m \u001b[43m    \u001b[49m\u001b[43m)\u001b[49m\n\u001b[0;32m    246\u001b[0m \u001b[38;5;28;01mexcept\u001b[39;00m \u001b[38;5;167;01mException\u001b[39;00m \u001b[38;5;28;01mas\u001b[39;00m e:\n",
      "File \u001b[1;32mc:\\Users\\User\\anaconda3\\envs\\PT\\Lib\\site-packages\\google\\ai\\generativelanguage_v1beta\\services\\generative_service\\client.py:1437\u001b[0m, in \u001b[0;36mGenerativeServiceClient.batch_embed_contents\u001b[1;34m(self, request, model, requests, retry, timeout, metadata)\u001b[0m\n\u001b[0;32m   1436\u001b[0m \u001b[38;5;66;03m# Send the request.\u001b[39;00m\n\u001b[1;32m-> 1437\u001b[0m response \u001b[38;5;241m=\u001b[39m \u001b[43mrpc\u001b[49m\u001b[43m(\u001b[49m\n\u001b[0;32m   1438\u001b[0m \u001b[43m    \u001b[49m\u001b[43mrequest\u001b[49m\u001b[43m,\u001b[49m\n\u001b[0;32m   1439\u001b[0m \u001b[43m    \u001b[49m\u001b[43mretry\u001b[49m\u001b[38;5;241;43m=\u001b[39;49m\u001b[43mretry\u001b[49m\u001b[43m,\u001b[49m\n\u001b[0;32m   1440\u001b[0m \u001b[43m    \u001b[49m\u001b[43mtimeout\u001b[49m\u001b[38;5;241;43m=\u001b[39;49m\u001b[43mtimeout\u001b[49m\u001b[43m,\u001b[49m\n\u001b[0;32m   1441\u001b[0m \u001b[43m    \u001b[49m\u001b[43mmetadata\u001b[49m\u001b[38;5;241;43m=\u001b[39;49m\u001b[43mmetadata\u001b[49m\u001b[43m,\u001b[49m\n\u001b[0;32m   1442\u001b[0m \u001b[43m\u001b[49m\u001b[43m)\u001b[49m\n\u001b[0;32m   1444\u001b[0m \u001b[38;5;66;03m# Done; return the response.\u001b[39;00m\n",
      "File \u001b[1;32mc:\\Users\\User\\anaconda3\\envs\\PT\\Lib\\site-packages\\google\\api_core\\gapic_v1\\method.py:131\u001b[0m, in \u001b[0;36m_GapicCallable.__call__\u001b[1;34m(self, timeout, retry, compression, *args, **kwargs)\u001b[0m\n\u001b[0;32m    129\u001b[0m     kwargs[\u001b[38;5;124m\"\u001b[39m\u001b[38;5;124mcompression\u001b[39m\u001b[38;5;124m\"\u001b[39m] \u001b[38;5;241m=\u001b[39m compression\n\u001b[1;32m--> 131\u001b[0m \u001b[38;5;28;01mreturn\u001b[39;00m \u001b[43mwrapped_func\u001b[49m\u001b[43m(\u001b[49m\u001b[38;5;241;43m*\u001b[39;49m\u001b[43margs\u001b[49m\u001b[43m,\u001b[49m\u001b[43m \u001b[49m\u001b[38;5;241;43m*\u001b[39;49m\u001b[38;5;241;43m*\u001b[39;49m\u001b[43mkwargs\u001b[49m\u001b[43m)\u001b[49m\n",
      "File \u001b[1;32mc:\\Users\\User\\anaconda3\\envs\\PT\\Lib\\site-packages\\google\\api_core\\retry\\retry_unary.py:294\u001b[0m, in \u001b[0;36mRetry.__call__.<locals>.retry_wrapped_func\u001b[1;34m(*args, **kwargs)\u001b[0m\n\u001b[0;32m    291\u001b[0m sleep_generator \u001b[38;5;241m=\u001b[39m exponential_sleep_generator(\n\u001b[0;32m    292\u001b[0m     \u001b[38;5;28mself\u001b[39m\u001b[38;5;241m.\u001b[39m_initial, \u001b[38;5;28mself\u001b[39m\u001b[38;5;241m.\u001b[39m_maximum, multiplier\u001b[38;5;241m=\u001b[39m\u001b[38;5;28mself\u001b[39m\u001b[38;5;241m.\u001b[39m_multiplier\n\u001b[0;32m    293\u001b[0m )\n\u001b[1;32m--> 294\u001b[0m \u001b[38;5;28;01mreturn\u001b[39;00m \u001b[43mretry_target\u001b[49m\u001b[43m(\u001b[49m\n\u001b[0;32m    295\u001b[0m \u001b[43m    \u001b[49m\u001b[43mtarget\u001b[49m\u001b[43m,\u001b[49m\n\u001b[0;32m    296\u001b[0m \u001b[43m    \u001b[49m\u001b[38;5;28;43mself\u001b[39;49m\u001b[38;5;241;43m.\u001b[39;49m\u001b[43m_predicate\u001b[49m\u001b[43m,\u001b[49m\n\u001b[0;32m    297\u001b[0m \u001b[43m    \u001b[49m\u001b[43msleep_generator\u001b[49m\u001b[43m,\u001b[49m\n\u001b[0;32m    298\u001b[0m \u001b[43m    \u001b[49m\u001b[43mtimeout\u001b[49m\u001b[38;5;241;43m=\u001b[39;49m\u001b[38;5;28;43mself\u001b[39;49m\u001b[38;5;241;43m.\u001b[39;49m\u001b[43m_timeout\u001b[49m\u001b[43m,\u001b[49m\n\u001b[0;32m    299\u001b[0m \u001b[43m    \u001b[49m\u001b[43mon_error\u001b[49m\u001b[38;5;241;43m=\u001b[39;49m\u001b[43mon_error\u001b[49m\u001b[43m,\u001b[49m\n\u001b[0;32m    300\u001b[0m \u001b[43m\u001b[49m\u001b[43m)\u001b[49m\n",
      "File \u001b[1;32mc:\\Users\\User\\anaconda3\\envs\\PT\\Lib\\site-packages\\google\\api_core\\retry\\retry_unary.py:156\u001b[0m, in \u001b[0;36mretry_target\u001b[1;34m(target, predicate, sleep_generator, timeout, on_error, exception_factory, **kwargs)\u001b[0m\n\u001b[0;32m    154\u001b[0m \u001b[38;5;28;01mexcept\u001b[39;00m \u001b[38;5;167;01mException\u001b[39;00m \u001b[38;5;28;01mas\u001b[39;00m exc:\n\u001b[0;32m    155\u001b[0m     \u001b[38;5;66;03m# defer to shared logic for handling errors\u001b[39;00m\n\u001b[1;32m--> 156\u001b[0m     next_sleep \u001b[38;5;241m=\u001b[39m \u001b[43m_retry_error_helper\u001b[49m\u001b[43m(\u001b[49m\n\u001b[0;32m    157\u001b[0m \u001b[43m        \u001b[49m\u001b[43mexc\u001b[49m\u001b[43m,\u001b[49m\n\u001b[0;32m    158\u001b[0m \u001b[43m        \u001b[49m\u001b[43mdeadline\u001b[49m\u001b[43m,\u001b[49m\n\u001b[0;32m    159\u001b[0m \u001b[43m        \u001b[49m\u001b[43msleep_iter\u001b[49m\u001b[43m,\u001b[49m\n\u001b[0;32m    160\u001b[0m \u001b[43m        \u001b[49m\u001b[43merror_list\u001b[49m\u001b[43m,\u001b[49m\n\u001b[0;32m    161\u001b[0m \u001b[43m        \u001b[49m\u001b[43mpredicate\u001b[49m\u001b[43m,\u001b[49m\n\u001b[0;32m    162\u001b[0m \u001b[43m        \u001b[49m\u001b[43mon_error\u001b[49m\u001b[43m,\u001b[49m\n\u001b[0;32m    163\u001b[0m \u001b[43m        \u001b[49m\u001b[43mexception_factory\u001b[49m\u001b[43m,\u001b[49m\n\u001b[0;32m    164\u001b[0m \u001b[43m        \u001b[49m\u001b[43mtimeout\u001b[49m\u001b[43m,\u001b[49m\n\u001b[0;32m    165\u001b[0m \u001b[43m    \u001b[49m\u001b[43m)\u001b[49m\n\u001b[0;32m    166\u001b[0m     \u001b[38;5;66;03m# if exception not raised, sleep before next attempt\u001b[39;00m\n",
      "File \u001b[1;32mc:\\Users\\User\\anaconda3\\envs\\PT\\Lib\\site-packages\\google\\api_core\\retry\\retry_base.py:214\u001b[0m, in \u001b[0;36m_retry_error_helper\u001b[1;34m(exc, deadline, sleep_iterator, error_list, predicate_fn, on_error_fn, exc_factory_fn, original_timeout)\u001b[0m\n\u001b[0;32m    209\u001b[0m     final_exc, source_exc \u001b[38;5;241m=\u001b[39m exc_factory_fn(\n\u001b[0;32m    210\u001b[0m         error_list,\n\u001b[0;32m    211\u001b[0m         RetryFailureReason\u001b[38;5;241m.\u001b[39mNON_RETRYABLE_ERROR,\n\u001b[0;32m    212\u001b[0m         original_timeout,\n\u001b[0;32m    213\u001b[0m     )\n\u001b[1;32m--> 214\u001b[0m     \u001b[38;5;28;01mraise\u001b[39;00m final_exc \u001b[38;5;28;01mfrom\u001b[39;00m\u001b[38;5;250m \u001b[39m\u001b[38;5;21;01msource_exc\u001b[39;00m\n\u001b[0;32m    215\u001b[0m \u001b[38;5;28;01mif\u001b[39;00m on_error_fn \u001b[38;5;129;01mis\u001b[39;00m \u001b[38;5;129;01mnot\u001b[39;00m \u001b[38;5;28;01mNone\u001b[39;00m:\n",
      "File \u001b[1;32mc:\\Users\\User\\anaconda3\\envs\\PT\\Lib\\site-packages\\google\\api_core\\retry\\retry_unary.py:147\u001b[0m, in \u001b[0;36mretry_target\u001b[1;34m(target, predicate, sleep_generator, timeout, on_error, exception_factory, **kwargs)\u001b[0m\n\u001b[0;32m    146\u001b[0m \u001b[38;5;28;01mtry\u001b[39;00m:\n\u001b[1;32m--> 147\u001b[0m     result \u001b[38;5;241m=\u001b[39m \u001b[43mtarget\u001b[49m\u001b[43m(\u001b[49m\u001b[43m)\u001b[49m\n\u001b[0;32m    148\u001b[0m     \u001b[38;5;28;01mif\u001b[39;00m inspect\u001b[38;5;241m.\u001b[39misawaitable(result):\n",
      "File \u001b[1;32mc:\\Users\\User\\anaconda3\\envs\\PT\\Lib\\site-packages\\google\\api_core\\timeout.py:130\u001b[0m, in \u001b[0;36mTimeToDeadlineTimeout.__call__.<locals>.func_with_timeout\u001b[1;34m(*args, **kwargs)\u001b[0m\n\u001b[0;32m    128\u001b[0m     kwargs[\u001b[38;5;124m\"\u001b[39m\u001b[38;5;124mtimeout\u001b[39m\u001b[38;5;124m\"\u001b[39m] \u001b[38;5;241m=\u001b[39m remaining_timeout\n\u001b[1;32m--> 130\u001b[0m \u001b[38;5;28;01mreturn\u001b[39;00m \u001b[43mfunc\u001b[49m\u001b[43m(\u001b[49m\u001b[38;5;241;43m*\u001b[39;49m\u001b[43margs\u001b[49m\u001b[43m,\u001b[49m\u001b[43m \u001b[49m\u001b[38;5;241;43m*\u001b[39;49m\u001b[38;5;241;43m*\u001b[39;49m\u001b[43mkwargs\u001b[49m\u001b[43m)\u001b[49m\n",
      "File \u001b[1;32mc:\\Users\\User\\anaconda3\\envs\\PT\\Lib\\site-packages\\google\\api_core\\grpc_helpers.py:78\u001b[0m, in \u001b[0;36m_wrap_unary_errors.<locals>.error_remapped_callable\u001b[1;34m(*args, **kwargs)\u001b[0m\n\u001b[0;32m     77\u001b[0m \u001b[38;5;28;01mexcept\u001b[39;00m grpc\u001b[38;5;241m.\u001b[39mRpcError \u001b[38;5;28;01mas\u001b[39;00m exc:\n\u001b[1;32m---> 78\u001b[0m     \u001b[38;5;28;01mraise\u001b[39;00m exceptions\u001b[38;5;241m.\u001b[39mfrom_grpc_error(exc) \u001b[38;5;28;01mfrom\u001b[39;00m\u001b[38;5;250m \u001b[39m\u001b[38;5;21;01mexc\u001b[39;00m\n",
      "\u001b[1;31mResourceExhausted\u001b[0m: 429 Resource has been exhausted (e.g. check quota).",
      "\nThe above exception was the direct cause of the following exception:\n",
      "\u001b[1;31mGoogleGenerativeAIError\u001b[0m                   Traceback (most recent call last)",
      "Cell \u001b[1;32mIn[81], line 3\u001b[0m\n\u001b[0;32m      1\u001b[0m \u001b[38;5;28;01mfrom\u001b[39;00m\u001b[38;5;250m \u001b[39m\u001b[38;5;21;01mlangchain\u001b[39;00m\u001b[38;5;21;01m.\u001b[39;00m\u001b[38;5;21;01mvectorstores\u001b[39;00m\u001b[38;5;250m \u001b[39m\u001b[38;5;28;01mimport\u001b[39;00m Chroma\n\u001b[0;32m      2\u001b[0m persist_directory \u001b[38;5;241m=\u001b[39m \u001b[38;5;124m'\u001b[39m\u001b[38;5;124m../test/Gemini001Embd/\u001b[39m\u001b[38;5;124m'\u001b[39m\n\u001b[1;32m----> 3\u001b[0m vectordb \u001b[38;5;241m=\u001b[39m \u001b[43mChroma\u001b[49m\u001b[38;5;241;43m.\u001b[39;49m\u001b[43mfrom_documents\u001b[49m\u001b[43m(\u001b[49m\n\u001b[0;32m      4\u001b[0m \u001b[43m    \u001b[49m\u001b[43mdocuments\u001b[49m\u001b[38;5;241;43m=\u001b[39;49m\u001b[43mdocs\u001b[49m\u001b[43m,\u001b[49m\n\u001b[0;32m      5\u001b[0m \u001b[43m    \u001b[49m\u001b[43membedding\u001b[49m\u001b[38;5;241;43m=\u001b[39;49m\u001b[43membeddings\u001b[49m\u001b[43m,\u001b[49m\n\u001b[0;32m      6\u001b[0m \u001b[43m    \u001b[49m\u001b[43mcollection_name\u001b[49m\u001b[38;5;241;43m=\u001b[39;49m\u001b[38;5;124;43m\"\u001b[39;49m\u001b[38;5;124;43mele430_signals\u001b[39;49m\u001b[38;5;124;43m\"\u001b[39;49m\u001b[43m,\u001b[49m\n\u001b[0;32m      7\u001b[0m \u001b[43m    \u001b[49m\u001b[43mpersist_directory\u001b[49m\u001b[38;5;241;43m=\u001b[39;49m\u001b[43mpersist_directory\u001b[49m\n\u001b[0;32m      8\u001b[0m \u001b[43m)\u001b[49m\n",
      "File \u001b[1;32mc:\\Users\\User\\anaconda3\\envs\\PT\\Lib\\site-packages\\langchain_community\\vectorstores\\chroma.py:887\u001b[0m, in \u001b[0;36mChroma.from_documents\u001b[1;34m(cls, documents, embedding, ids, collection_name, persist_directory, client_settings, client, collection_metadata, **kwargs)\u001b[0m\n\u001b[0;32m    885\u001b[0m texts \u001b[38;5;241m=\u001b[39m [doc\u001b[38;5;241m.\u001b[39mpage_content \u001b[38;5;28;01mfor\u001b[39;00m doc \u001b[38;5;129;01min\u001b[39;00m documents]\n\u001b[0;32m    886\u001b[0m metadatas \u001b[38;5;241m=\u001b[39m [doc\u001b[38;5;241m.\u001b[39mmetadata \u001b[38;5;28;01mfor\u001b[39;00m doc \u001b[38;5;129;01min\u001b[39;00m documents]\n\u001b[1;32m--> 887\u001b[0m \u001b[38;5;28;01mreturn\u001b[39;00m \u001b[38;5;28;43mcls\u001b[39;49m\u001b[38;5;241;43m.\u001b[39;49m\u001b[43mfrom_texts\u001b[49m\u001b[43m(\u001b[49m\n\u001b[0;32m    888\u001b[0m \u001b[43m    \u001b[49m\u001b[43mtexts\u001b[49m\u001b[38;5;241;43m=\u001b[39;49m\u001b[43mtexts\u001b[49m\u001b[43m,\u001b[49m\n\u001b[0;32m    889\u001b[0m \u001b[43m    \u001b[49m\u001b[43membedding\u001b[49m\u001b[38;5;241;43m=\u001b[39;49m\u001b[43membedding\u001b[49m\u001b[43m,\u001b[49m\n\u001b[0;32m    890\u001b[0m \u001b[43m    \u001b[49m\u001b[43mmetadatas\u001b[49m\u001b[38;5;241;43m=\u001b[39;49m\u001b[43mmetadatas\u001b[49m\u001b[43m,\u001b[49m\n\u001b[0;32m    891\u001b[0m \u001b[43m    \u001b[49m\u001b[43mids\u001b[49m\u001b[38;5;241;43m=\u001b[39;49m\u001b[43mids\u001b[49m\u001b[43m,\u001b[49m\n\u001b[0;32m    892\u001b[0m \u001b[43m    \u001b[49m\u001b[43mcollection_name\u001b[49m\u001b[38;5;241;43m=\u001b[39;49m\u001b[43mcollection_name\u001b[49m\u001b[43m,\u001b[49m\n\u001b[0;32m    893\u001b[0m \u001b[43m    \u001b[49m\u001b[43mpersist_directory\u001b[49m\u001b[38;5;241;43m=\u001b[39;49m\u001b[43mpersist_directory\u001b[49m\u001b[43m,\u001b[49m\n\u001b[0;32m    894\u001b[0m \u001b[43m    \u001b[49m\u001b[43mclient_settings\u001b[49m\u001b[38;5;241;43m=\u001b[39;49m\u001b[43mclient_settings\u001b[49m\u001b[43m,\u001b[49m\n\u001b[0;32m    895\u001b[0m \u001b[43m    \u001b[49m\u001b[43mclient\u001b[49m\u001b[38;5;241;43m=\u001b[39;49m\u001b[43mclient\u001b[49m\u001b[43m,\u001b[49m\n\u001b[0;32m    896\u001b[0m \u001b[43m    \u001b[49m\u001b[43mcollection_metadata\u001b[49m\u001b[38;5;241;43m=\u001b[39;49m\u001b[43mcollection_metadata\u001b[49m\u001b[43m,\u001b[49m\n\u001b[0;32m    897\u001b[0m \u001b[43m    \u001b[49m\u001b[38;5;241;43m*\u001b[39;49m\u001b[38;5;241;43m*\u001b[39;49m\u001b[43mkwargs\u001b[49m\u001b[43m,\u001b[49m\n\u001b[0;32m    898\u001b[0m \u001b[43m\u001b[49m\u001b[43m)\u001b[49m\n",
      "File \u001b[1;32mc:\\Users\\User\\anaconda3\\envs\\PT\\Lib\\site-packages\\langchain_community\\vectorstores\\chroma.py:843\u001b[0m, in \u001b[0;36mChroma.from_texts\u001b[1;34m(cls, texts, embedding, metadatas, ids, collection_name, persist_directory, client_settings, client, collection_metadata, **kwargs)\u001b[0m\n\u001b[0;32m    835\u001b[0m     \u001b[38;5;28;01mfrom\u001b[39;00m\u001b[38;5;250m \u001b[39m\u001b[38;5;21;01mchromadb\u001b[39;00m\u001b[38;5;21;01m.\u001b[39;00m\u001b[38;5;21;01mutils\u001b[39;00m\u001b[38;5;21;01m.\u001b[39;00m\u001b[38;5;21;01mbatch_utils\u001b[39;00m\u001b[38;5;250m \u001b[39m\u001b[38;5;28;01mimport\u001b[39;00m create_batches\n\u001b[0;32m    837\u001b[0m     \u001b[38;5;28;01mfor\u001b[39;00m batch \u001b[38;5;129;01min\u001b[39;00m create_batches(\n\u001b[0;32m    838\u001b[0m         api\u001b[38;5;241m=\u001b[39mchroma_collection\u001b[38;5;241m.\u001b[39m_client,\n\u001b[0;32m    839\u001b[0m         ids\u001b[38;5;241m=\u001b[39mids,\n\u001b[0;32m    840\u001b[0m         metadatas\u001b[38;5;241m=\u001b[39mmetadatas,\n\u001b[0;32m    841\u001b[0m         documents\u001b[38;5;241m=\u001b[39mtexts,\n\u001b[0;32m    842\u001b[0m     ):\n\u001b[1;32m--> 843\u001b[0m         \u001b[43mchroma_collection\u001b[49m\u001b[38;5;241;43m.\u001b[39;49m\u001b[43madd_texts\u001b[49m\u001b[43m(\u001b[49m\n\u001b[0;32m    844\u001b[0m \u001b[43m            \u001b[49m\u001b[43mtexts\u001b[49m\u001b[38;5;241;43m=\u001b[39;49m\u001b[43mbatch\u001b[49m\u001b[43m[\u001b[49m\u001b[38;5;241;43m3\u001b[39;49m\u001b[43m]\u001b[49m\u001b[43m \u001b[49m\u001b[38;5;28;43;01mif\u001b[39;49;00m\u001b[43m \u001b[49m\u001b[43mbatch\u001b[49m\u001b[43m[\u001b[49m\u001b[38;5;241;43m3\u001b[39;49m\u001b[43m]\u001b[49m\u001b[43m \u001b[49m\u001b[38;5;28;43;01melse\u001b[39;49;00m\u001b[43m \u001b[49m\u001b[43m[\u001b[49m\u001b[43m]\u001b[49m\u001b[43m,\u001b[49m\n\u001b[0;32m    845\u001b[0m \u001b[43m            \u001b[49m\u001b[43mmetadatas\u001b[49m\u001b[38;5;241;43m=\u001b[39;49m\u001b[43mbatch\u001b[49m\u001b[43m[\u001b[49m\u001b[38;5;241;43m2\u001b[39;49m\u001b[43m]\u001b[49m\u001b[43m \u001b[49m\u001b[38;5;28;43;01mif\u001b[39;49;00m\u001b[43m \u001b[49m\u001b[43mbatch\u001b[49m\u001b[43m[\u001b[49m\u001b[38;5;241;43m2\u001b[39;49m\u001b[43m]\u001b[49m\u001b[43m \u001b[49m\u001b[38;5;28;43;01melse\u001b[39;49;00m\u001b[43m \u001b[49m\u001b[38;5;28;43;01mNone\u001b[39;49;00m\u001b[43m,\u001b[49m\n\u001b[0;32m    846\u001b[0m \u001b[43m            \u001b[49m\u001b[43mids\u001b[49m\u001b[38;5;241;43m=\u001b[39;49m\u001b[43mbatch\u001b[49m\u001b[43m[\u001b[49m\u001b[38;5;241;43m0\u001b[39;49m\u001b[43m]\u001b[49m\u001b[43m,\u001b[49m\n\u001b[0;32m    847\u001b[0m \u001b[43m        \u001b[49m\u001b[43m)\u001b[49m\n\u001b[0;32m    848\u001b[0m \u001b[38;5;28;01melse\u001b[39;00m:\n\u001b[0;32m    849\u001b[0m     chroma_collection\u001b[38;5;241m.\u001b[39madd_texts(texts\u001b[38;5;241m=\u001b[39mtexts, metadatas\u001b[38;5;241m=\u001b[39mmetadatas, ids\u001b[38;5;241m=\u001b[39mids)\n",
      "File \u001b[1;32mc:\\Users\\User\\anaconda3\\envs\\PT\\Lib\\site-packages\\langchain_community\\vectorstores\\chroma.py:277\u001b[0m, in \u001b[0;36mChroma.add_texts\u001b[1;34m(self, texts, metadatas, ids, **kwargs)\u001b[0m\n\u001b[0;32m    275\u001b[0m texts \u001b[38;5;241m=\u001b[39m \u001b[38;5;28mlist\u001b[39m(texts)\n\u001b[0;32m    276\u001b[0m \u001b[38;5;28;01mif\u001b[39;00m \u001b[38;5;28mself\u001b[39m\u001b[38;5;241m.\u001b[39m_embedding_function \u001b[38;5;129;01mis\u001b[39;00m \u001b[38;5;129;01mnot\u001b[39;00m \u001b[38;5;28;01mNone\u001b[39;00m:\n\u001b[1;32m--> 277\u001b[0m     embeddings \u001b[38;5;241m=\u001b[39m \u001b[38;5;28;43mself\u001b[39;49m\u001b[38;5;241;43m.\u001b[39;49m\u001b[43m_embedding_function\u001b[49m\u001b[38;5;241;43m.\u001b[39;49m\u001b[43membed_documents\u001b[49m\u001b[43m(\u001b[49m\u001b[43mtexts\u001b[49m\u001b[43m)\u001b[49m\n\u001b[0;32m    278\u001b[0m \u001b[38;5;28;01mif\u001b[39;00m metadatas:\n\u001b[0;32m    279\u001b[0m     \u001b[38;5;66;03m# fill metadatas with empty dicts if somebody\u001b[39;00m\n\u001b[0;32m    280\u001b[0m     \u001b[38;5;66;03m# did not specify metadata for all texts\u001b[39;00m\n\u001b[0;32m    281\u001b[0m     length_diff \u001b[38;5;241m=\u001b[39m \u001b[38;5;28mlen\u001b[39m(texts) \u001b[38;5;241m-\u001b[39m \u001b[38;5;28mlen\u001b[39m(metadatas)\n",
      "File \u001b[1;32mc:\\Users\\User\\anaconda3\\envs\\PT\\Lib\\site-packages\\langchain_google_genai\\embeddings.py:247\u001b[0m, in \u001b[0;36mGoogleGenerativeAIEmbeddings.embed_documents\u001b[1;34m(self, texts, batch_size, task_type, titles, output_dimensionality)\u001b[0m\n\u001b[0;32m    243\u001b[0m         result \u001b[38;5;241m=\u001b[39m \u001b[38;5;28mself\u001b[39m\u001b[38;5;241m.\u001b[39mclient\u001b[38;5;241m.\u001b[39mbatch_embed_contents(\n\u001b[0;32m    244\u001b[0m             BatchEmbedContentsRequest(requests\u001b[38;5;241m=\u001b[39mrequests, model\u001b[38;5;241m=\u001b[39m\u001b[38;5;28mself\u001b[39m\u001b[38;5;241m.\u001b[39mmodel)\n\u001b[0;32m    245\u001b[0m         )\n\u001b[0;32m    246\u001b[0m     \u001b[38;5;28;01mexcept\u001b[39;00m \u001b[38;5;167;01mException\u001b[39;00m \u001b[38;5;28;01mas\u001b[39;00m e:\n\u001b[1;32m--> 247\u001b[0m         \u001b[38;5;28;01mraise\u001b[39;00m GoogleGenerativeAIError(\u001b[38;5;124mf\u001b[39m\u001b[38;5;124m\"\u001b[39m\u001b[38;5;124mError embedding content: \u001b[39m\u001b[38;5;132;01m{\u001b[39;00me\u001b[38;5;132;01m}\u001b[39;00m\u001b[38;5;124m\"\u001b[39m) \u001b[38;5;28;01mfrom\u001b[39;00m\u001b[38;5;250m \u001b[39m\u001b[38;5;21;01me\u001b[39;00m\n\u001b[0;32m    248\u001b[0m     embeddings\u001b[38;5;241m.\u001b[39mextend([\u001b[38;5;28mlist\u001b[39m(e\u001b[38;5;241m.\u001b[39mvalues) \u001b[38;5;28;01mfor\u001b[39;00m e \u001b[38;5;129;01min\u001b[39;00m result\u001b[38;5;241m.\u001b[39membeddings])\n\u001b[0;32m    249\u001b[0m \u001b[38;5;28;01mreturn\u001b[39;00m embeddings\n",
      "\u001b[1;31mGoogleGenerativeAIError\u001b[0m: Error embedding content: 429 Resource has been exhausted (e.g. check quota)."
     ]
    }
   ],
   "source": [
    "from langchain.vectorstores import Chroma\n",
    "persist_directory = '../RAG_tests_db/Gemini001Embd/'\n",
    "vectordb = Chroma.from_documents(\n",
    "    documents=docs,\n",
    "    embedding=embeddings,\n",
    "    collection_name=\"ele430_signals\",\n",
    "    persist_directory=persist_directory\n",
    ")"
   ]
  },
  {
   "cell_type": "markdown",
   "id": "58064e29",
   "metadata": {},
   "source": [
    "#### Retrieval"
   ]
  },
  {
   "cell_type": "code",
   "execution_count": null,
   "id": "1264951f",
   "metadata": {},
   "outputs": [],
   "source": [
    "from langchain.retrievers.self_query.base import SelfQueryRetriever\n",
    "from langchain_openai import OpenAI\n",
    "document_content_description = \"Signals and Systems\"\n",
    "llm = OpenAI(temperature=0)\n",
    "retriever = SelfQueryRetriever.from_llm(\n",
    "    llm,\n",
    "    vectordb,\n",
    "    document_contents=document_content_description,\n",
    "    metadata_field_info=metadata_field_info,\n",
    "    verbose=True\n",
    ")"
   ]
  },
  {
   "cell_type": "code",
   "execution_count": null,
   "id": "90a68f66",
   "metadata": {},
   "outputs": [],
   "source": [
    "from langchain.chains import  ConversationalRetrievalChain\n",
    "qa_geminiEmbd001_loader_test = ConversationalRetrievalChain.from_llm(\n",
    "    llm=llm,\n",
    "    retriever=retriever,\n",
    "    chain_type=\"map_reduce\", # depending on the state, might be refine (mostprobably)\n",
    "    return_source_documents=True,\n",
    "    )"
   ]
  },
  {
   "cell_type": "markdown",
   "id": "13c1d075",
   "metadata": {},
   "source": [
    "I will adopt the open ai embeddings since i won't be able to embed using google gen ai embeddings technique (i have a large load of documents)"
   ]
  },
  {
   "cell_type": "markdown",
   "id": "4975bc79",
   "metadata": {},
   "source": [
    "## Tests"
   ]
  },
  {
   "cell_type": "markdown",
   "id": "e48840d6",
   "metadata": {},
   "source": [
    "in this section, i will be relying on the following tutorial.\n",
    "\n",
    "ref: https://learn.deeplearning.ai/courses/langchain/lesson/dputu/evaluation"
   ]
  },
  {
   "cell_type": "code",
   "execution_count": 82,
   "id": "6e204d7f",
   "metadata": {},
   "outputs": [],
   "source": [
    "from langchain_openai import ChatOpenAI"
   ]
  },
  {
   "cell_type": "code",
   "execution_count": null,
   "id": "9dac0545",
   "metadata": {},
   "outputs": [],
   "source": [
    "# this is the bench mark:\n",
    "examples = [\n",
    "    {\n",
    "        \"query\": \"For a continuous-time sinusoid x(t)=A sin(2π f0 t + θ), what is its period T0? Then, for x(t)=50 sin(200π t), what are f0 and T0?\",\n",
    "        \"answer\": \"T0 = 1/f0. For x(t)=50 sin(200π t): f0 = 100 Hz and T0 = 10 ms.\"\n",
    "    },\n",
    "    {\n",
    "        \"query\": \"What is a causal system?\",\n",
    "        \"answer\": \"A system is causal if its response occurs only during or after the time in which the excitation is applied. The current output depends only on the current and previous inputs; it does not depend on future inputs.\"\n",
    "    },\n",
    "    {\n",
    "        \"query\": \"What does time-invariance mean for a system?\",\n",
    "        \"answer\": \"If an excitation x(t) causes a response y(t) and an excitation x(t − t0) causes a response y(t − t0), for an arbitrary t0, the system is said to be time invariant.\"\n",
    "    },\n",
    "    {\n",
    "        \"query\": \"How are signal energy and signal power defined?\",\n",
    "        \"answer\": \"Signal energy is the area under the square of the magnitude of the signal (a measure of total energy). Signal power is the rate at which energy is transmitted or used.\"\n",
    "    },\n",
    "    {\n",
    "        \"query\": \"what determines the order of a (digital) system?\",\n",
    "        \"answer\": \"The order of the system is the number of poles.\"\n",
    "    },\n",
    "    {\n",
    "        \"query\": \"How do you identify the filter type in first-order digital filters, and what indicates a low-pass case?\",\n",
    "        \"answer\": \"Inspect what is happening between 0 and π. A decreasing magnitude response indicates a low-pass filter (“decreating : Iow pas filter”).\"\n",
    "    },\n",
    "    {\n",
    "        \"query\": \"State the Initial Value Theorem and the Final Value Theorem for the Laplace transform, with their usual conditions.\",\n",
    "        \"answer\": \"IVT: x(0+) = lim_{s→∞} s X(s) (when the limit exists and there is no impulse at t=0). FVT: x(∞) = lim_{s→0} s X(s) (provided all poles of sX(s) lie in the open left half-plane so the finite limit exists).\"\n",
    "    },\n",
    "    {\n",
    "        \"query\": \"What is the Region of Convergence (ROC) in the Laplace transform, and what is the ROC for x(t)=e^{a t} u(t)?\",\n",
    "        \"answer\": \"The ROC is the set of s where the Laplace integral converges; for right-sided signals it lies to the right of the rightmost pole. For x(t)=e^{a t} u(t), X(s)=1/(s−a) and the ROC is Re{s} > a.\"\n",
    "    },\n",
    "    {\n",
    "        \"query\": \"What is the Fourier transform of the unit impulse, and what is the inverse Fourier transform of a unit impulse in frequency?\",\n",
    "        \"answer\": \"The Fourier transform of the unit impulse is a constant (real and even). The inverse Fourier transform of a unit impulse in frequency is a constant in time; the impulse area is 1.\"\n",
    "    },\n",
    "    {\n",
    "        \"query\": \"In amplitude modulation by a cosine carrier, where do the spectral components move, and how is the original message recovered?\",\n",
    "        \"answer\": \"Multiplying by a cosine shifts the spectrum to the carrier, creating sidebands at f_c ± f. The message is recovered with a low-pass filter (LPF) to bring the baseband back.\"\n",
    "    }\n",
    "]\n"
   ]
  },
  {
   "cell_type": "code",
   "execution_count": 121,
   "id": "fb4a95f4",
   "metadata": {},
   "outputs": [],
   "source": [
    "from langchain.evaluation.qa import QAEvalChain\n",
    "llm = ChatOpenAI(temperature=0, model=\"gpt-3.5-turbo\")\n",
    "eval_chain = QAEvalChain.from_llm(llm)\n",
    "eval_examples = examples\n"
   ]
  },
  {
   "cell_type": "markdown",
   "id": "297909d6",
   "metadata": {},
   "source": [
    "## Loaders evaluation"
   ]
  },
  {
   "cell_type": "markdown",
   "id": "beb3589d",
   "metadata": {},
   "source": [
    "### PYPDF loder"
   ]
  },
  {
   "cell_type": "code",
   "execution_count": 137,
   "id": "0c104562",
   "metadata": {},
   "outputs": [],
   "source": [
    "# Provide the required keys: 'chat_history' and 'question'\n",
    "predictions = qa_pypdf_loader_test.apply(\n",
    "\t[{\"chat_history\":[],\"question\":example[\"query\"]} for example in examples]\n",
    ")"
   ]
  },
  {
   "cell_type": "code",
   "execution_count": 138,
   "id": "819a0c7d",
   "metadata": {},
   "outputs": [
    {
     "data": {
      "text/plain": [
       "[{'chat_history': [],\n",
       "  'question': 'For a continuous-time sinusoid x(t)=A sin(2π f0 t + θ), what is its period T0? Then, for x(t)=50 sin(200π t), what are f0 and T0?',\n",
       "  'answer': ' For x(t)=50 sin(200π t), f0 = 100 Hz and T0 = 0.01 seconds.',\n",
       "  'source_documents': [Document(metadata={'is_solution': False, 'page': 9, 'course_id': 'signals and systems', 'source': '..\\\\..\\\\Courses\\\\signals and systems\\\\Chapters\\\\Chapter 1\\\\ELE430_Chapter1_Lecture1_Lecture2.pdf', 'doc_id': 'ELE430_Chapter1_Lecture1_Lecture2', 'page_label': '10', 'creationdate': \"D:20250815111755Z00'00'\", 'has_multiple_lectures': True, 'category': 'chapters', 'producer': 'iOS Version 18.1.1 (Build 22B91) Quartz PDFContext', 'relpath': 'Chapters\\\\Chapter 1\\\\ELE430_Chapter1_Lecture1_Lecture2.pdf', 'chapter': 1, 'moddate': \"D:20250815111755Z00'00'\", 'creator': 'PyPDF', 'lecture_max': 2, 'lecture_min': 1, 'filename': 'ELE430_Chapter1_Lecture1_Lecture2.pdf', 'total_pages': 26}, page_content='14/01/2024\\n10\\nLAU –SOE, ELE 430: Signals and Systems – Chapter 1 - Continuous Signals and Systems ConceptsSpring 2024 19\\nConsider the CT sinusoidal signal:\\nx(t) = Asin(2πf0t + θ)\\nThis signal is periodic with a period T0 = 1 where f0\\nf0\\ncorresponds to the fundamental frequency of x(t).\\nFor example,the next figure shows the signal:\\nx(t) = 50 sin(200πt)\\nthat has a frequency f0 = 100 Hz and a period T0 = 10\\nms.\\nPeriodic Signals (2)'),\n",
       "   Document(metadata={'total_pages': 26, 'creationdate': \"D:20250815111755Z00'00'\", 'source': '..\\\\..\\\\Courses\\\\signals and systems\\\\Chapters\\\\Chapter 1\\\\ELE430_Chapter1_Lecture1_Lecture2.pdf', 'page_label': '10', 'producer': 'iOS Version 18.1.1 (Build 22B91) Quartz PDFContext', 'creator': 'PyPDF', 'page': 9, 'moddate': \"D:20250815111755Z00'00'\"}, page_content='14/01/2024\\n10\\nLAU –SOE, ELE 430: Signals and Systems – Chapter 1 - Continuous Signals and Systems ConceptsSpring 2024 19\\nConsider the CT sinusoidal signal:\\nx(t) = Asin(2πf0t + θ)\\nThis signal is periodic with a period T0 = 1 where f0\\nf0\\ncorresponds to the fundamental frequency of x(t).\\nFor example,the next figure shows the signal:\\nx(t) = 50 sin(200πt)\\nthat has a frequency f0 = 100 Hz and a period T0 = 10\\nms.\\nPeriodic Signals (2)'),\n",
       "   Document(metadata={'moddate': \"D:20250815111757Z00'00'\", 'page': 11, 'source': '..\\\\..\\\\Courses\\\\signals and systems\\\\Chapters\\\\Chapter 1\\\\ELE430_Chapter1_Lecture3_Lecture4_Lecture5.pdf', 'total_pages': 20, 'page_label': '12', 'creationdate': \"D:20250815111757Z00'00'\", 'producer': 'iOS Version 18.1.1 (Build 22B91) Quartz PDFContext', 'creator': 'PyPDF'}, page_content='21/01/2024\\n12\\n74LAU –SOE, ELE 430: Signals and Systems – Chapter 1 - Continuous Signals and Systems ConceptsSpring 2024\\nPower of the sinusoidal function (1)\\n75LAU –SOE, ELE 430: Signals and Systems – Chapter 1 - Continuous Signals and Systems ConceptsSpring 2024\\nPower of the sinusoidal function (2)'),\n",
       "   Document(metadata={'is_solution': False, 'course_id': 'signals and systems', 'creator': 'PyPDF', 'creationdate': \"D:20250815111757Z00'00'\", 'category': 'chapters', 'lecture_min': 3, 'page_label': '12', 'total_pages': 20, 'chapter': 1, 'has_multiple_lectures': True, 'moddate': \"D:20250815111757Z00'00'\", 'page': 11, 'producer': 'iOS Version 18.1.1 (Build 22B91) Quartz PDFContext', 'relpath': 'Chapters\\\\Chapter 1\\\\ELE430_Chapter1_Lecture3_Lecture4_Lecture5.pdf', 'lecture_max': 5, 'source': '..\\\\..\\\\Courses\\\\signals and systems\\\\Chapters\\\\Chapter 1\\\\ELE430_Chapter1_Lecture3_Lecture4_Lecture5.pdf', 'doc_id': 'ELE430_Chapter1_Lecture3_Lecture4_Lecture5', 'filename': 'ELE430_Chapter1_Lecture3_Lecture4_Lecture5.pdf'}, page_content='21/01/2024\\n12\\n74LAU –SOE, ELE 430: Signals and Systems – Chapter 1 - Continuous Signals and Systems ConceptsSpring 2024\\nPower of the sinusoidal function (1)\\n75LAU –SOE, ELE 430: Signals and Systems – Chapter 1 - Continuous Signals and Systems ConceptsSpring 2024\\nPower of the sinusoidal function (2)')]},\n",
       " {'chat_history': [],\n",
       "  'question': 'What is a causal system?',\n",
       "  'answer': ' A causal system is one in which the response only occurs during or after the time in which the excitation is applied.',\n",
       "  'source_documents': [Document(metadata={'creationdate': \"D:20250815111757Z00'00'\", 'creator': 'PyPDF', 'course_id': 'signals and systems', 'is_solution': False, 'filename': 'ELE430_Chapter1_Lecture3_Lecture4_Lecture5.pdf', 'source': '..\\\\..\\\\Courses\\\\signals and systems\\\\Chapters\\\\Chapter 1\\\\ELE430_Chapter1_Lecture3_Lecture4_Lecture5.pdf', 'moddate': \"D:20250815111757Z00'00'\", 'doc_id': 'ELE430_Chapter1_Lecture3_Lecture4_Lecture5', 'chapter': 1, 'page_label': '1', 'page': 0, 'lecture_max': 5, 'has_multiple_lectures': True, 'category': 'chapters', 'lecture_min': 3, 'relpath': 'Chapters\\\\Chapter 1\\\\ELE430_Chapter1_Lecture3_Lecture4_Lecture5.pdf', 'total_pages': 20, 'producer': 'iOS Version 18.1.1 (Build 22B91) Quartz PDFContext'}, page_content='53LAU –SOE, ELE 430: Signals and Systems – Chapter 1 - Continuous Signals and Systems ConceptsSpring 2024\\nCausality:\\nA system is causal if its response occursonly during or \\nafter the time in which the excitationis applied.\\nIn other words:\\nThe current output depends only on the current and \\nprevious inputs.\\nThe current output does not depend on future inputs.\\nCausality (1)'),\n",
       "   Document(metadata={'creator': 'PyPDF', 'creationdate': \"D:20250815111757Z00'00'\", 'moddate': \"D:20250815111757Z00'00'\", 'producer': 'iOS Version 18.1.1 (Build 22B91) Quartz PDFContext', 'total_pages': 20, 'page_label': '1', 'page': 0, 'source': '..\\\\..\\\\Courses\\\\signals and systems\\\\Chapters\\\\Chapter 1\\\\ELE430_Chapter1_Lecture3_Lecture4_Lecture5.pdf'}, page_content='Assignment 1 : Lectures 2, 3, 4    ;       Assignment 2 : Lectures 5, 6 \\n53LAU –SOE, ELE 430: Signals and Systems – Chapter 1 - Continuous Signals and Systems ConceptsSpring 2024\\nCausality:\\nA system is causal if its response occursonly during or \\nafter the time in which the excitationis applied.\\nIn other words:\\nThe current output depends only on the current and \\nprevious inputs.\\nThe current output does not depend on future inputs.\\nCausality (1)'),\n",
       "   Document(metadata={'assignment_number': 1, 'category': 'assignments_solutions', 'filename': 'Assignment01_solution.pdf', 'course_id': 'signals and systems', 'doc_id': 'Assignment01_solution', 'creationdate': \"D:20250815111751Z00'00'\", 'has_multiple_lectures': False, 'page_label': '12', 'creator': 'PyPDF', 'total_pages': 30, 'relpath': 'Assignments Solutions\\\\Assignment01_solution.pdf', 'producer': 'iOS Version 18.1.1 (Build 22B91) Quartz PDFContext', 'source': '..\\\\..\\\\Courses\\\\signals and systems\\\\Assignments Solutions\\\\Assignment01_solution.pdf', 'is_solution': True, 'page': 11, 'moddate': \"D:20250815111751Z00'00'\"}, page_content='▶ The output depends only on the present input.\\n▶ Consequently, this system is causal.\\nCausality of y(t)=( x(t))2 → x(t → 1):\\n▶ The output at time t depends on the inputs at times t and\\nt → 1.\\n▶ Consequently, this system is causal.\\nFor example:\\n▶ y(t)= 2x(t)+ x(t + 1) is not causal.\\n▶ y(t)= x(1 → t) is not causal.I nf a c t ,t h eo u t p u tw i l ld e p e n d\\non future inputs when t < 1 → t implying that t < 1\\n2 .F o r\\nexample, the output at time t = 0d e p e n d so nt h ei n p u ta t'),\n",
       "   Document(metadata={'is_solution': True, 'source': '..\\\\..\\\\Courses\\\\signals and systems\\\\Assignments Solutions\\\\Assignment01_solution.pdf', 'producer': 'iOS Version 18.1.1 (Build 22B91) Quartz PDFContext', 'creator': 'PyPDF', 'creationdate': \"D:20250815111751Z00'00'\", 'page_label': '12', 'has_multiple_lectures': False, 'page': 11, 'category': 'assignments_solutions', 'assignment_number': 1, 'course_id': 'signals and systems', 'doc_id': 'Assignment01_solution', 'filename': 'Assignment01_solution.pdf', 'total_pages': 30, 'relpath': 'Assignments Solutions\\\\Assignment01_solution.pdf', 'moddate': \"D:20250815111751Z00'00'\"}, page_content='Exercise 2 (7)\\nCausality of y(t)= x(t → 1) → x(t → 5):\\n▶ The output at time t depends on the inputs at times t → 1\\nand t → 5. That is, it does not depend on future inputs.\\n▶ Consequently, this system is causal.\\nCausality of y(t)= |t|x(t):\\n▶ The output depends only on the present input.\\n▶ Consequently, this system is causal.\\nCausality of y(t)=( x(t))2 → x(t → 1):\\n▶ The output at time t depends on the inputs at times t and\\nt → 1.\\n▶ Consequently, this system is causal.\\nFor example:')]},\n",
       " {'chat_history': [],\n",
       "  'question': 'What does time-invariance mean for a system?',\n",
       "  'answer': \" Time-invariance means that the system's behavior does not change over time.\",\n",
       "  'source_documents': [Document(metadata={'page_label': '3', 'has_multiple_lectures': True, 'relpath': 'Chapters\\\\Chapter 1\\\\ELE430_Chapter1_Lecture3_Lecture4_Lecture5.pdf', 'chapter': 1, 'course_id': 'signals and systems', 'lecture_min': 3, 'filename': 'ELE430_Chapter1_Lecture3_Lecture4_Lecture5.pdf', 'lecture_max': 5, 'producer': 'iOS Version 18.1.1 (Build 22B91) Quartz PDFContext', 'is_solution': False, 'page': 2, 'category': 'chapters', 'moddate': \"D:20250815111757Z00'00'\", 'creationdate': \"D:20250815111757Z00'00'\", 'source': '..\\\\..\\\\Courses\\\\signals and systems\\\\Chapters\\\\Chapter 1\\\\ELE430_Chapter1_Lecture3_Lecture4_Lecture5.pdf', 'doc_id': 'ELE430_Chapter1_Lecture3_Lecture4_Lecture5', 'total_pages': 20, 'creator': 'PyPDF'}, page_content='arbitrary t0, the system is said to be time invariant:\\nx(t) → y(t)\\nx(t − t0) → y(t − t0)\\nTime-Invariance (1)\\n57LAU –SOE, ELE 430: Signals and Systems – Chapter 1 - Continuous Signals and Systems ConceptsSpring 2024\\nConsider the system described by:\\ny(t) = x2(t) + 2x(t + 1):\\nAt time t − t0, y(t − t0) is given by:\\ny(t − t0) = x2(t − t0) + 2x(t − t0 + 1).\\nWhen the input is X(t) = x(t − t0), the output is given by:\\nz(t) = X2(t) + 2X(t + 1)\\n= x2(t − t0) + 2x(t + 1 − t0)'),\n",
       "   Document(metadata={'creationdate': \"D:20250815111751Z00'00'\", 'total_pages': 30, 'creator': 'PyPDF', 'page': 8, 'source': '..\\\\..\\\\Courses\\\\signals and systems\\\\Assignments Solutions\\\\Assignment01_solution.pdf', 'producer': 'iOS Version 18.1.1 (Build 22B91) Quartz PDFContext', 'moddate': \"D:20250815111751Z00'00'\", 'page_label': '9'}, page_content='Exercise 2 (4)\\nTime-invariance of y(t)= x(t → 1) → x(t → 5):\\n▶ y(t → t0) is given by:\\ny(t → t0)= x(t →t0 → 1) → x(t → t0 → 5)\\n▶ On the other hand, when the input is equal to\\nX(t)= x(t → t0) then:\\nY (t)= X(t → 1) → X(t → 5)\\n= x(t → t0 → 1) → x(t → t0 → 5)\\n= y(t → t0)\\n▶ Consequently, this system is time-invariant.'),\n",
       "   Document(metadata={'category': 'assignments_solutions', 'assignment_number': 1, 'page_label': '9', 'producer': 'iOS Version 18.1.1 (Build 22B91) Quartz PDFContext', 'total_pages': 30, 'course_id': 'signals and systems', 'creator': 'PyPDF', 'page': 8, 'doc_id': 'Assignment01_solution', 'moddate': \"D:20250815111751Z00'00'\", 'is_solution': True, 'relpath': 'Assignments Solutions\\\\Assignment01_solution.pdf', 'has_multiple_lectures': False, 'creationdate': \"D:20250815111751Z00'00'\", 'filename': 'Assignment01_solution.pdf', 'source': '..\\\\..\\\\Courses\\\\signals and systems\\\\Assignments Solutions\\\\Assignment01_solution.pdf'}, page_content='Exercise 2 (4)\\nTime-invariance of y(t)= x(t → 1) → x(t → 5):\\n▶ y(t → t0) is given by:\\ny(t → t0)= x(t →t0 → 1) → x(t → t0 → 5)\\n▶ On the other hand, when the input is equal to\\nX(t)= x(t → t0) then:\\nY (t)= X(t → 1) → X(t → 5)\\n= x(t → t0 → 1) → x(t → t0 → 5)\\n= y(t → t0)\\n▶ Consequently, this system is time-invariant.'),\n",
       "   Document(metadata={'filename': 'Assignment01_solution.pdf', 'producer': 'iOS Version 18.1.1 (Build 22B91) Quartz PDFContext', 'moddate': \"D:20250815111751Z00'00'\", 'page': 10, 'creationdate': \"D:20250815111751Z00'00'\", 'course_id': 'signals and systems', 'doc_id': 'Assignment01_solution', 'is_solution': True, 'page_label': '11', 'relpath': 'Assignments Solutions\\\\Assignment01_solution.pdf', 'creator': 'PyPDF', 'source': '..\\\\..\\\\Courses\\\\signals and systems\\\\Assignments Solutions\\\\Assignment01_solution.pdf', 'assignment_number': 1, 'has_multiple_lectures': False, 'category': 'assignments_solutions', 'total_pages': 30}, page_content='Exercise 2 (6)\\nTime-invariance of y(t)=( x(t))2 → x(t → 1):\\n▶ y(t → t0) is given by:\\ny(t → t0)=( x(t → t0))2 → x(t → t0 → 1)\\n▶ On the other hand, when the input is equal to\\nX(t)= x(t → t0) then:\\nY (t)=( X(t))2 → X(t → 1)\\n=( x(t →t0))2 → x(t → t0 → 1)\\n= y(t → t0)\\n▶ Consequently, this system is time-invariant.')]},\n",
       " {'chat_history': [],\n",
       "  'question': 'How are signal energy and signal power defined?',\n",
       "  'answer': ' Signal energy is defined as the area under the square of the magnitude of the signal. Signal power is a measure of the rate at which energy is transmitted or used.',\n",
       "  'source_documents': [Document(metadata={'moddate': \"D:20250815111757Z00'00'\", 'total_pages': 20, 'creator': 'PyPDF', 'relpath': 'Chapters\\\\Chapter 1\\\\ELE430_Chapter1_Lecture3_Lecture4_Lecture5.pdf', 'is_solution': False, 'filename': 'ELE430_Chapter1_Lecture3_Lecture4_Lecture5.pdf', 'creationdate': \"D:20250815111757Z00'00'\", 'page_label': '6', 'source': '..\\\\..\\\\Courses\\\\signals and systems\\\\Chapters\\\\Chapter 1\\\\ELE430_Chapter1_Lecture3_Lecture4_Lecture5.pdf', 'has_multiple_lectures': True, 'lecture_min': 3, 'page': 5, 'lecture_max': 5, 'course_id': 'signals and systems', 'category': 'chapters', 'doc_id': 'ELE430_Chapter1_Lecture3_Lecture4_Lecture5', 'chapter': 1, 'producer': 'iOS Version 18.1.1 (Build 22B91) Quartz PDFContext'}, page_content='Often the physical significance of the signal is ignored for the sake of simplicity of analysis.\\n\\uf0a7 Because of the many different kinds of physical signals that can be operated on by systems, the\\nterm signal energy has been defined. Signal energy is defined as the area under the square of the\\nmagnitude of the signal.\\n\\uf0a7 Signal Energy is a measure of total energy contained in a signal. Signal power is a measure of the\\nrate at which energy is transmitted or used.'),\n",
       "   Document(metadata={'page_label': '6', 'creationdate': \"D:20250815111757Z00'00'\", 'course_id': 'signals and systems', 'total_pages': 20, 'creator': 'PyPDF', 'is_solution': False, 'source': '..\\\\..\\\\Courses\\\\signals and systems\\\\Chapters\\\\Chapter 1\\\\ELE430_Chapter1_Lecture3_Lecture4_Lecture5.pdf', 'doc_id': 'ELE430_Chapter1_Lecture3_Lecture4_Lecture5', 'producer': 'iOS Version 18.1.1 (Build 22B91) Quartz PDFContext', 'lecture_max': 5, 'filename': 'ELE430_Chapter1_Lecture3_Lecture4_Lecture5.pdf', 'chapter': 1, 'moddate': \"D:20250815111757Z00'00'\", 'category': 'chapters', 'lecture_min': 3, 'has_multiple_lectures': True, 'relpath': 'Chapters\\\\Chapter 1\\\\ELE430_Chapter1_Lecture3_Lecture4_Lecture5.pdf', 'page': 5}, page_content='magnitude of the signal.\\n\\uf0a7 Signal Energy is a measure of total energy contained in a signal. Signal power is a measure of the\\nrate at which energy is transmitted or used.\\nEnergy of continuous-time signals (0)\\nhttps://www.youtube.com/watch?v=WHHVsmOE21M\\nhttps://www.youtube.com/watch?v=1f1vQAWwjlc'),\n",
       "   Document(metadata={'creationdate': \"D:20250815111757Z00'00'\", 'moddate': \"D:20250815111757Z00'00'\", 'page_label': '6', 'source': '..\\\\..\\\\Courses\\\\signals and systems\\\\Chapters\\\\Chapter 1\\\\ELE430_Chapter1_Lecture3_Lecture4_Lecture5.pdf', 'total_pages': 20, 'page': 5, 'producer': 'iOS Version 18.1.1 (Build 22B91) Quartz PDFContext', 'creator': 'PyPDF'}, page_content='magnitude of the signal.\\n\\uf0a7 Signal Energy is a measure of total energy contained in a signal. Signal power is a measure of the\\nrate at which energy is transmitted or used.\\nEnergy of continuous-time signals (0)\\nhttps://www.youtube.com/watch?v=WHHVsmOE21M\\nhttps://www.youtube.com/watch?v=1f1vQAWwjlc'),\n",
       "   Document(metadata={'creationdate': \"D:20250815111757Z00'00'\", 'total_pages': 20, 'producer': 'iOS Version 18.1.1 (Build 22B91) Quartz PDFContext', 'source': '..\\\\..\\\\Courses\\\\signals and systems\\\\Chapters\\\\Chapter 1\\\\ELE430_Chapter1_Lecture3_Lecture4_Lecture5.pdf', 'page_label': '6', 'page': 5, 'moddate': \"D:20250815111757Z00'00'\", 'creator': 'PyPDF'}, page_content='temperature, a chemical concentration, a neutron flux and so on.\\n\\uf0a7 In the study of signals in systems, the signals are often treated as mathematical abstractions.\\nOften the physical significance of the signal is ignored for the sake of simplicity of analysis.\\n\\uf0a7 Because of the many different kinds of physical signals that can be operated on by systems, the\\nterm signal energy has been defined. Signal energy is defined as the area under the square of the\\nmagnitude of the signal.')]},\n",
       " {'chat_history': [],\n",
       "  'question': 'what determines the order of a (digital) system?',\n",
       "  'answer': ' The order of a digital system is determined by comparing the signal value at the middle of each bit duration to a threshold.',\n",
       "  'source_documents': [Document(metadata={'page_label': '7', 'producer': 'iOS Version 18.1.1 (Build 22B91) Quartz PDFContext', 'creationdate': \"D:20250815111755Z00'00'\", 'page': 6, 'source': '..\\\\..\\\\Courses\\\\signals and systems\\\\Chapters\\\\Chapter 1\\\\ELE430_Chapter1_Lecture1_Lecture2.pdf', 'total_pages': 26, 'creator': 'PyPDF', 'moddate': \"D:20250815111755Z00'00'\"}, page_content='14/01/2024\\n7\\nLAU –SOE, ELE 430: Signals and Systems – Chapter 1 - Continuous Signals and Systems ConceptsSpring 2024 13\\nThere has been a great interest in the design of digital signals and digital systems.\\nDigital signals have the advantage of a better immunity to noise.\\nIn binary communications,the bits can be detected very cleanly until the noise gets very large.\\nThe signal value at the middle of each bit duration is compared to a threshold:'),\n",
       "   Document(metadata={'lecture_max': 2, 'page': 6, 'creator': 'PyPDF', 'creationdate': \"D:20250815111755Z00'00'\", 'producer': 'iOS Version 18.1.1 (Build 22B91) Quartz PDFContext', 'moddate': \"D:20250815111755Z00'00'\", 'filename': 'ELE430_Chapter1_Lecture1_Lecture2.pdf', 'course_id': 'signals and systems', 'doc_id': 'ELE430_Chapter1_Lecture1_Lecture2', 'category': 'chapters', 'total_pages': 26, 'lecture_min': 1, 'relpath': 'Chapters\\\\Chapter 1\\\\ELE430_Chapter1_Lecture1_Lecture2.pdf', 'page_label': '7', 'source': '..\\\\..\\\\Courses\\\\signals and systems\\\\Chapters\\\\Chapter 1\\\\ELE430_Chapter1_Lecture1_Lecture2.pdf', 'chapter': 1, 'has_multiple_lectures': True, 'is_solution': False}, page_content='14/01/2024\\n7\\nLAU –SOE, ELE 430: Signals and Systems – Chapter 1 - Continuous Signals and Systems ConceptsSpring 2024 13\\nThere has been a great interest in the design of digital signals and digital systems.\\nDigital signals have the advantage of a better immunity to noise.\\nIn binary communications,the bits can be detected very cleanly until the noise gets very large.\\nThe signal value at the middle of each bit duration is compared to a threshold:'),\n",
       "   Document(metadata={'moddate': \"D:20250815111755Z00'00'\", 'chapter': 1, 'lecture_max': 2, 'is_solution': False, 'page_label': '7', 'total_pages': 26, 'doc_id': 'ELE430_Chapter1_Lecture1_Lecture2', 'creator': 'PyPDF', 'source': '..\\\\..\\\\Courses\\\\signals and systems\\\\Chapters\\\\Chapter 1\\\\ELE430_Chapter1_Lecture1_Lecture2.pdf', 'producer': 'iOS Version 18.1.1 (Build 22B91) Quartz PDFContext', 'relpath': 'Chapters\\\\Chapter 1\\\\ELE430_Chapter1_Lecture1_Lecture2.pdf', 'lecture_min': 1, 'has_multiple_lectures': True, 'page': 6, 'filename': 'ELE430_Chapter1_Lecture1_Lecture2.pdf', 'course_id': 'signals and systems', 'category': 'chapters', 'creationdate': \"D:20250815111755Z00'00'\"}, page_content='Digital signals have the advantage of a better immunity to noise.\\nIn binary communications,the bits can be detected very cleanly until the noise gets very large.\\nThe signal value at the middle of each bit duration is compared to a threshold:\\nIf this value is above the threshold, a 1 is detected.\\nIf this value is below the threshold, a 0 is detected.\\nIntroduction (10)\\nLAU –SOE, ELE 430: Signals and Systems – Chapter 1 - Continuous Signals and Systems ConceptsSpring 2024 14'),\n",
       "   Document(metadata={'category': 'chapters', 'has_multiple_lectures': True, 'page': 7, 'page_label': '8', 'total_pages': 26, 'lecture_min': 1, 'source': '..\\\\..\\\\Courses\\\\signals and systems\\\\Chapters\\\\Chapter 1\\\\ELE430_Chapter1_Lecture1_Lecture2.pdf', 'creator': 'PyPDF', 'is_solution': False, 'doc_id': 'ELE430_Chapter1_Lecture1_Lecture2', 'producer': 'iOS Version 18.1.1 (Build 22B91) Quartz PDFContext', 'relpath': 'Chapters\\\\Chapter 1\\\\ELE430_Chapter1_Lecture1_Lecture2.pdf', 'creationdate': \"D:20250815111755Z00'00'\", 'lecture_max': 2, 'filename': 'ELE430_Chapter1_Lecture1_Lecture2.pdf', 'chapter': 1, 'course_id': 'signals and systems', 'moddate': \"D:20250815111755Z00'00'\"}, page_content='important example is a digital computer. Significant events occur at the end of each clock cycle\\nand nothing of significance (to the computer user) happens between those points in time.\\nDiscrete-time systems can be described by difference (not differential) equations. For example a\\nsimple discrete-time system might be described by:\\nLAU –SOE, ELE 430: Signals and Systems – Chapter 1 - Continuous Signals and Systems ConceptsSpring 2024 16\\nIntroduction (13)')]},\n",
       " {'chat_history': [],\n",
       "  'question': 'How do you identify the filter type in first-order digital filters, and what indicates a low-pass case?',\n",
       "  'answer': ' The filter type in first-order digital filters can be identified by the order of the system, which is indicated by the number of poles. In a low-pass case, the order of the system is then b.',\n",
       "  'source_documents': [Document(metadata={'producer': 'iOS Version 18.1.1 (Build 22B91) Quartz PDFContext', 'lecture_min': 16, 'doc_id': 'ELE430_Chapter6_Lecture16_Lecture17', 'course_id': 'signals and systems', 'page': 30, 'creator': 'PyPDF', 'relpath': 'Chapters\\\\Chapter 6\\\\ELE430_Chapter6_Lecture16_Lecture17.pdf', 'total_pages': 32, 'has_multiple_lectures': True, 'page_label': '31', 'source': '..\\\\..\\\\Courses\\\\signals and systems\\\\Chapters\\\\Chapter 6\\\\ELE430_Chapter6_Lecture16_Lecture17.pdf', 'lecture_max': 17, 'is_solution': False, 'category': 'chapters', 'filename': 'ELE430_Chapter6_Lecture16_Lecture17.pdf', 'chapter': 6, 'creationdate': \"D:20250815111721Z00'00'\", 'moddate': \"D:20250815111721Z00'00'\"}, page_content='14/04/2024\\n31\\nSpring 2024 61LAU –SOE, ELE 430: Signals and Systems – Chapter 6 –z-transform\\nFirst order digital ﬁlters (3)\\nSpring 2024 62LAU –SOE, ELE 430: Signals and Systems – Chapter 6 –z-transform\\nFirst order digital ﬁlters (4)\\nI ns\\nErat\\nI\\n, / decreating: Iowpasfilter\\n-\\n-\\nStoLeterminethetypeofFilter\\nInspectwhatis\\nhappening\\nbtw20, i)'),\n",
       "   Document(metadata={'page': 30, 'page_label': '31', 'source': '..\\\\..\\\\Courses\\\\signals and systems\\\\Chapters\\\\Chapter 6\\\\ELE430_Chapter6_Lecture16_Lecture17.pdf', 'moddate': \"D:20250815111721Z00'00'\", 'total_pages': 32, 'creator': 'PyPDF', 'producer': 'iOS Version 18.1.1 (Build 22B91) Quartz PDFContext', 'creationdate': \"D:20250815111721Z00'00'\"}, page_content='14/04/2024\\n31\\nSpring 2024 61LAU –SOE, ELE 430: Signals and Systems – Chapter 6 –z-transform\\nFirst order digital ﬁlters (3)\\nSpring 2024 62LAU –SOE, ELE 430: Signals and Systems – Chapter 6 –z-transform\\nFirst order digital ﬁlters (4)\\nI ns\\nErat\\nI\\n, / decreating: Iowpasfilter\\n-\\n-\\nStoLeterminethetypeofFilter\\nInspectwhatis\\nhappening\\nbtw20, i)'),\n",
       "   Document(metadata={'course_id': 'signals and systems', 'producer': 'iOS Version 18.1.1 (Build 22B91) Quartz PDFContext', 'chapter': 6, 'moddate': \"D:20250815111721Z00'00'\", 'creationdate': \"D:20250815111721Z00'00'\", 'page': 29, 'doc_id': 'ELE430_Chapter6_Lecture16_Lecture17', 'page_label': '30', 'filename': 'ELE430_Chapter6_Lecture16_Lecture17.pdf', 'source': '..\\\\..\\\\Courses\\\\signals and systems\\\\Chapters\\\\Chapter 6\\\\ELE430_Chapter6_Lecture16_Lecture17.pdf', 'lecture_max': 17, 'creator': 'PyPDF', 'relpath': 'Chapters\\\\Chapter 6\\\\ELE430_Chapter6_Lecture16_Lecture17.pdf', 'has_multiple_lectures': True, 'is_solution': False, 'lecture_min': 16, 'category': 'chapters', 'total_pages': 32}, page_content='14/04/2024\\n30\\nSpring 2024 59LAU –SOE, ELE 430: Signals and Systems – Chapter 6 –z-transform\\nFirst order digital ﬁlters (1)\\nSpring 2024 60LAU –SOE, ELE 430: Signals and Systems – Chapter 6 –z-transform\\nFirst order digital ﬁlters (2)\\ntheorderofthesystemis\\nthenb.\\nofpoles\\n28'),\n",
       "   Document(metadata={'source': '..\\\\..\\\\Courses\\\\signals and systems\\\\Chapters\\\\Chapter 6\\\\ELE430_Chapter6_Lecture16_Lecture17.pdf', 'page': 29, 'creationdate': \"D:20250815111721Z00'00'\", 'moddate': \"D:20250815111721Z00'00'\", 'total_pages': 32, 'page_label': '30', 'creator': 'PyPDF', 'producer': 'iOS Version 18.1.1 (Build 22B91) Quartz PDFContext'}, page_content='14/04/2024\\n30\\nSpring 2024 59LAU –SOE, ELE 430: Signals and Systems – Chapter 6 –z-transform\\nFirst order digital ﬁlters (1)\\nSpring 2024 60LAU –SOE, ELE 430: Signals and Systems – Chapter 6 –z-transform\\nFirst order digital ﬁlters (2)\\ntheorderofthesystemis\\nthenb.\\nofpoles\\n28')]},\n",
       " {'chat_history': [],\n",
       "  'question': 'State the Initial Value Theorem and the Final Value Theorem for the Laplace transform, with their usual conditions.',\n",
       "  'answer': ' The Initial Value Theorem states that the initial value of a function x(t) can be found by taking the limit of the Laplace transform X(s) as s approaches infinity. The Final Value Theorem states that the final value of a function x(t) can be found by taking the limit of the Laplace transform X(s) as s approaches zero. Both the Initial Value Theorem and the Final Value Theorem have the condition that the function x(t) must be continuous and have a finite number of discontinuities in the interval [0,∞).',\n",
       "  'source_documents': [Document(metadata={'source': '..\\\\..\\\\Courses\\\\signals and systems\\\\Chapters\\\\Chapter 5\\\\ELE430_Chapter5_Lecture14_Lecture15.pdf', 'moddate': \"D:20250815111716Z00'00'\", 'page': 32, 'creationdate': \"D:20250815111716Z00'00'\", 'creator': 'PyPDF', 'producer': 'iOS Version 18.1.1 (Build 22B91) Quartz PDFContext', 'page_label': '33', 'total_pages': 33}, page_content='Time Differentiation, Initial and Final Value Theorems, Examples.\\n15. Laplace transform 2: Inverse Laplace Transform, Solving differential equations,\\nSystem Stability, First Order Filters.\\nAssignment 6 : Lectures 14, 15'),\n",
       "   Document(metadata={'page': 27, 'creationdate': \"D:20250815111716Z00'00'\", 'creator': 'PyPDF', 'page_label': '28', 'source': '..\\\\..\\\\Courses\\\\signals and systems\\\\Chapters\\\\Chapter 5\\\\ELE430_Chapter5_Lecture14_Lecture15.pdf', 'total_pages': 33, 'moddate': \"D:20250815111716Z00'00'\", 'producer': 'iOS Version 18.1.1 (Build 22B91) Quartz PDFContext'}, page_content='Time Differentiation, Initial and Final Value Theorems, Examples.\\n15. Laplace transform 2: Inverse Laplace Transform, Solving differential equations,\\nSystem Stability, First Order Filters.\\nAssignment 6 : Lectures 14, 15\\nwritetheI . L.\\n4 as if there\\nz\\nisno\\nshiftingthemaddtheshifting\\n-\\ntimeshifting'),\n",
       "   Document(metadata={'total_pages': 3, 'producer': 'iOS Version 18.1.1 (Build 22B91) Quartz PDFContext', 'filename': 'Assignment6_Lecture14_Lecture15.pdf', 'course_id': 'signals and systems', 'is_solution': False, 'creationdate': \"D:20250815111713Z00'00'\", 'doc_id': 'Assignment6_Lecture14_Lecture15', 'page': 0, 'source': '..\\\\..\\\\Courses\\\\signals and systems\\\\Assigments\\\\Assignment6_Lecture14_Lecture15.pdf', 'page_label': '1', 'category': 'other', 'has_multiple_lectures': False, 'relpath': 'Assigments\\\\Assignment6_Lecture14_Lecture15.pdf', 'creator': 'PyPDF', 'moddate': \"D:20250815111713Z00'00'\"}, page_content='Assignment 06\\nLectures: 14, 15\\nExercise 1:F i n dt h ec a u s a ls i g n a lw h o s eL a p l a c et r a n s f o r m i sg i v e nb y :\\nX(s)= 2s2 +7 s +9\\n(s +2 )2\\nExercise 2:T h eL a p l a c et r a n s f o r m o fas i g n a lx(t)i sg i v e nb y :\\nX(s)= 4s\\ns2 +1 1s +2 4e→2s\\na. Using the initial value theorem and the ﬁnal value theoremevaluate\\nx(0+)a n dl i mt→ +∞ x(t).\\nb. Check the results of part (a) by ﬁrst ﬁnding the expressionof x(t)a n d\\nthen evaluatingx(0+)a n dl i mt→ +∞ x(t).'),\n",
       "   Document(metadata={'creationdate': \"D:20250815111713Z00'00'\", 'page': 0, 'page_label': '1', 'total_pages': 3, 'source': '..\\\\..\\\\Courses\\\\signals and systems\\\\Assigments\\\\Assignment6_Lecture14_Lecture15.pdf', 'creator': 'PyPDF', 'moddate': \"D:20250815111713Z00'00'\", 'producer': 'iOS Version 18.1.1 (Build 22B91) Quartz PDFContext'}, page_content='Assignment 06\\nLectures: 14, 15\\nExercise 1:F i n dt h ec a u s a ls i g n a lw h o s eL a p l a c et r a n s f o r m i sg i v e nb y :\\nX(s)= 2s2 +7 s +9\\n(s +2 )2\\nExercise 2:T h eL a p l a c et r a n s f o r m o fas i g n a lx(t)i sg i v e nb y :\\nX(s)= 4s\\ns2 +1 1s +2 4e→2s\\na. Using the initial value theorem and the ﬁnal value theoremevaluate\\nx(0+)a n dl i mt→ +∞ x(t).\\nb. Check the results of part (a) by ﬁrst ﬁnding the expressionof x(t)a n d\\nthen evaluatingx(0+)a n dl i mt→ +∞ x(t).')]},\n",
       " {'chat_history': [],\n",
       "  'question': 'What is the Region of Convergence (ROC) in the Laplace transform, and what is the ROC for x(t)=e^{a t} u(t)?',\n",
       "  'answer': ' The Region of Convergence (ROC) in the Laplace transform is the set of values for which the transform converges. For x(t)=e^{a t} u(t), the ROC is the right half-plane, Re(s)>a.',\n",
       "  'source_documents': [Document(metadata={'page': 3, 'creationdate': \"D:20250815111716Z00'00'\", 'page_label': '4', 'producer': 'iOS Version 18.1.1 (Build 22B91) Quartz PDFContext', 'creator': 'PyPDF', 'moddate': \"D:20250815111716Z00'00'\", 'total_pages': 33, 'source': '..\\\\..\\\\Courses\\\\signals and systems\\\\Chapters\\\\Chapter 5\\\\ELE430_Chapter5_Lecture14_Lecture15.pdf'}, page_content='03/04/2024\\n4\\nLAU –SOE, ELE 430: Signals and Systems – Chapter 5 –Laplace transformSpring 2024 7\\nRegion Of Convergence (2)\\nLAU –SOE, ELE 430: Signals and Systems – Chapter 5 –Laplace transformSpring 2024 8\\nRegion Of Convergence (3)\\nwe\\ncannota ocomplex\\ninstect\\n>2:\\nregionofconvergena'),\n",
       "   Document(metadata={'filename': 'ELE430_Chapter5_Lecture14_Lecture15.pdf', 'lecture_min': 14, 'doc_id': 'ELE430_Chapter5_Lecture14_Lecture15', 'moddate': \"D:20250815111716Z00'00'\", 'relpath': 'Chapters\\\\Chapter 5\\\\ELE430_Chapter5_Lecture14_Lecture15.pdf', 'creator': 'PyPDF', 'page_label': '4', 'source': '..\\\\..\\\\Courses\\\\signals and systems\\\\Chapters\\\\Chapter 5\\\\ELE430_Chapter5_Lecture14_Lecture15.pdf', 'chapter': 5, 'total_pages': 33, 'is_solution': False, 'lecture_max': 15, 'has_multiple_lectures': True, 'course_id': 'signals and systems', 'page': 3, 'category': 'chapters', 'creationdate': \"D:20250815111716Z00'00'\", 'producer': 'iOS Version 18.1.1 (Build 22B91) Quartz PDFContext'}, page_content='03/04/2024\\n4\\nLAU –SOE, ELE 430: Signals and Systems – Chapter 5 –Laplace transformSpring 2024 7\\nRegion Of Convergence (2)\\nLAU –SOE, ELE 430: Signals and Systems – Chapter 5 –Laplace transformSpring 2024 8\\nRegion Of Convergence (3)\\nwe\\ncannota ocomplex\\ninstect\\n>2:\\nregionofconvergena'),\n",
       "   Document(metadata={'creator': 'PyPDF', 'total_pages': 33, 'creationdate': \"D:20250815111716Z00'00'\", 'page': 4, 'producer': 'iOS Version 18.1.1 (Build 22B91) Quartz PDFContext', 'moddate': \"D:20250815111716Z00'00'\", 'source': '..\\\\..\\\\Courses\\\\signals and systems\\\\Chapters\\\\Chapter 5\\\\ELE430_Chapter5_Lecture14_Lecture15.pdf', 'page_label': '5'}, page_content='03/04/2024\\n5\\nLAU –SOE, ELE 430: Signals and Systems – Chapter 5 –Laplace transformSpring 2024 9\\nRegion Of Convergence (4)\\nLAU –SOE, ELE 430: Signals and Systems – Chapter 5 –Laplace transformSpring 2024 10\\nRelation between the FT and the LT\\nintheE. Y., we cannothavethe\\nJameX(f)for2different\\nSignalsx(H&y(t)'),\n",
       "   Document(metadata={'total_pages': 33, 'source': '..\\\\..\\\\Courses\\\\signals and systems\\\\Chapters\\\\Chapter 5\\\\ELE430_Chapter5_Lecture14_Lecture15.pdf', 'creator': 'PyPDF', 'doc_id': 'ELE430_Chapter5_Lecture14_Lecture15', 'filename': 'ELE430_Chapter5_Lecture14_Lecture15.pdf', 'page_label': '5', 'moddate': \"D:20250815111716Z00'00'\", 'relpath': 'Chapters\\\\Chapter 5\\\\ELE430_Chapter5_Lecture14_Lecture15.pdf', 'page': 4, 'category': 'chapters', 'lecture_min': 14, 'producer': 'iOS Version 18.1.1 (Build 22B91) Quartz PDFContext', 'chapter': 5, 'creationdate': \"D:20250815111716Z00'00'\", 'course_id': 'signals and systems', 'lecture_max': 15, 'is_solution': False, 'has_multiple_lectures': True}, page_content='03/04/2024\\n5\\nLAU –SOE, ELE 430: Signals and Systems – Chapter 5 –Laplace transformSpring 2024 9\\nRegion Of Convergence (4)\\nLAU –SOE, ELE 430: Signals and Systems – Chapter 5 –Laplace transformSpring 2024 10\\nRelation between the FT and the LT\\nintheE. Y., we cannothavethe\\nJameX(f)for2different\\nSignalsx(H&y(t)')]},\n",
       " {'chat_history': [],\n",
       "  'question': 'What is the Fourier transform of the unit impulse, and what is the inverse Fourier transform of a unit impulse in frequency?',\n",
       "  'answer': ' The Fourier transform of the unit impulse is a constant function with a value of 1 at all frequencies, and the inverse Fourier transform of a unit impulse in frequency is a delta function in the time domain.',\n",
       "  'source_documents': [Document(metadata={'producer': 'iOS Version 18.1.1 (Build 22B91) Quartz PDFContext', 'has_multiple_lectures': False, 'relpath': 'Assignments Solutions\\\\Assignment05_solution.pdf', 'source': '..\\\\..\\\\Courses\\\\signals and systems\\\\Assignments Solutions\\\\Assignment05_solution.pdf', 'creationdate': \"D:20250815111816Z00'00'\", 'total_pages': 15, 'page_label': '4', 'doc_id': 'Assignment05_solution', 'assignment_number': 5, 'is_solution': True, 'moddate': \"D:20250815111816Z00'00'\", 'category': 'assignments_solutions', 'creator': 'PyPDF', 'page': 3, 'course_id': 'signals and systems', 'filename': 'Assignment05_solution.pdf'}, page_content='Exercise 3 (1)\\n▶ The Fourier transform ofx(t) is given by:\\nX(f)= 1\\n2δ(f −100)+ 1\\n2δ(f + 100)\\n▶ The sampling frequency is given by:\\nfs = 3\\n4fNyq = 3\\n4(2 ×100)= 150 (Hz)\\nNote thatfs < fNyq and aliasing will occur in this case.\\n▶ The FT of the sampled signal is given by:\\nXs(f)= 1\\nTs\\n∑\\nn\\nX(f −nfs)= 150\\n∑\\nn\\nX(f −nfs)\\nwhere Ts = 1\\nfs = 1\\n150 (s).'),\n",
       "   Document(metadata={'source': '..\\\\..\\\\Courses\\\\signals and systems\\\\Assignments Solutions\\\\Assignment05_solution.pdf', 'total_pages': 15, 'creator': 'PyPDF', 'page': 3, 'page_label': '4', 'producer': 'iOS Version 18.1.1 (Build 22B91) Quartz PDFContext', 'creationdate': \"D:20250815111816Z00'00'\", 'moddate': \"D:20250815111816Z00'00'\"}, page_content='Exercise 3 (1)\\n▶ The Fourier transform ofx(t) is given by:\\nX(f)= 1\\n2δ(f −100)+ 1\\n2δ(f + 100)\\n▶ The sampling frequency is given by:\\nfs = 3\\n4fNyq = 3\\n4(2 ×100)= 150 (Hz)\\nNote thatfs < fNyq and aliasing will occur in this case.\\n▶ The FT of the sampled signal is given by:\\nXs(f)= 1\\nTs\\n∑\\nn\\nX(f −nfs)= 150\\n∑\\nn\\nX(f −nfs)\\nwhere Ts = 1\\nfs = 1\\n150 (s).'),\n",
       "   Document(metadata={'is_solution': False, 'has_multiple_lectures': False, 'moddate': \"D:20250815111739Z00'00'\", 'lecture_min': 10, 'doc_id': 'ELE430_Chapter3_Lecture10', 'filename': 'ELE430_Chapter3_Lecture10.pdf', 'creationdate': \"D:20250815111739Z00'00'\", 'chapter': 3, 'relpath': 'Chapters\\\\Chapter 3\\\\ELE430_Chapter3_Lecture10.pdf', 'producer': 'iOS Version 18.1.1 (Build 22B91) Quartz PDFContext', 'source': '..\\\\..\\\\Courses\\\\signals and systems\\\\Chapters\\\\Chapter 3\\\\ELE430_Chapter3_Lecture10.pdf', 'page': 0, 'creator': 'PyPDF', 'lecture_max': 10, 'lecture_number': 10, 'course_id': 'signals and systems', 'total_pages': 16, 'page_label': '1', 'category': 'chapters'}, page_content='Outline\\n10. Fourier Transform (1) : Introduction, Motivating Example, Definition, Total area\\nintegrals using FT, Fourier Transform of Real Signals, Fourier Transform of the unit\\nimpulse, Inverse Fourier Transform of the unit impulse, Fourier Transform of the cosine\\nfunction, Fourier Transform of the sine function, Examples, Fourier Transform of\\nperiodic signals, Examples, Summary.\\n11. Fourier Transform (2) : Linearity of the Fourier Transform, Time Scaling, Frequency'),\n",
       "   Document(metadata={'source': '..\\\\..\\\\Courses\\\\signals and systems\\\\syllabus\\\\syllabus ELE430.pdf', 'producer': 'Microsoft® Word for Microsoft 365', 'total_pages': 6, 'page_label': '4', 'page': 3, 'creator': 'Microsoft® Word for Microsoft 365', 'moddate': '2025-08-17T10:38:05+03:00', 'creationdate': '2025-08-17T10:38:05+03:00', 'author': 'a y'}, page_content='Topic: Fourier Transform (FT) \\nLectures: 10, 11, 12 \\nDiscovered materials \\n• The Fourier integral; symmetry properties of the FT \\n• FT of real/imaginary, even/odd signals; total-area theorems \\n• FT of unit impulse and comb function \\n• FT of sinusoids; FT of periodic signals; common FT pairs (examples) \\n• Linearity, time-scaling, frequency-scaling \\n• Time-shifting, frequency-shifting, duality theorem \\n• FT of conjugates; Parseval’s theorem \\n• Amplitude modulation; frequency-division multiplexing')]},\n",
       " {'chat_history': [],\n",
       "  'question': 'In amplitude modulation by a cosine carrier, where do the spectral components move, and how is the original message recovered?',\n",
       "  'answer': ' The spectral components move to frequencies above and below the carrier frequency, and the original message can be recovered by using a demodulator to extract the original baseband signal from the modulated signal.',\n",
       "  'source_documents': [Document(metadata={'creationdate': \"D:20250815111742Z00'00'\", 'page_label': '9', 'total_pages': 27, 'source': '..\\\\..\\\\Courses\\\\signals and systems\\\\Chapters\\\\Chapter 3\\\\ELE430_Chapter3_Lecture11_Lecture12.pdf', 'producer': 'iOS Version 18.1.1 (Build 22B91) Quartz PDFContext', 'creator': 'PyPDF', 'moddate': \"D:20250815111742Z00'00'\", 'page': 8}, page_content='03/03/2024\\n9\\nLAU –SOE, ELE 430: Signals and Systems – Chapter 3 - Fourier TransformSpring 2024 48\\nAmplitude Modulation (1)\\nLAU –SOE, ELE 430: Signals and Systems – Chapter 3 - Fourier TransformSpring 2024 49\\nAmplitude Modulation (2)\\nor fi\\nfc-fr())o\\n-\\nfefr-feefr forfr f+fr'),\n",
       "   Document(metadata={'is_solution': False, 'filename': 'ELE430_Chapter3_Lecture11_Lecture12.pdf', 'creator': 'PyPDF', 'source': '..\\\\..\\\\Courses\\\\signals and systems\\\\Chapters\\\\Chapter 3\\\\ELE430_Chapter3_Lecture11_Lecture12.pdf', 'relpath': 'Chapters\\\\Chapter 3\\\\ELE430_Chapter3_Lecture11_Lecture12.pdf', 'total_pages': 27, 'category': 'chapters', 'has_multiple_lectures': True, 'moddate': \"D:20250815111742Z00'00'\", 'lecture_max': 12, 'creationdate': \"D:20250815111742Z00'00'\", 'page_label': '9', 'producer': 'iOS Version 18.1.1 (Build 22B91) Quartz PDFContext', 'chapter': 3, 'course_id': 'signals and systems', 'lecture_min': 11, 'doc_id': 'ELE430_Chapter3_Lecture11_Lecture12', 'page': 8}, page_content='03/03/2024\\n9\\nLAU –SOE, ELE 430: Signals and Systems – Chapter 3 - Fourier TransformSpring 2024 48\\nAmplitude Modulation (1)\\nLAU –SOE, ELE 430: Signals and Systems – Chapter 3 - Fourier TransformSpring 2024 49\\nAmplitude Modulation (2)\\nor fi\\nfc-fr())o\\n-\\nfefr-feefr forfr f+fr'),\n",
       "   Document(metadata={'page': 10, 'course_id': 'signals and systems', 'producer': 'iOS Version 18.1.1 (Build 22B91) Quartz PDFContext', 'category': 'chapters', 'lecture_max': 12, 'has_multiple_lectures': True, 'creationdate': \"D:20250815111742Z00'00'\", 'lecture_min': 11, 'total_pages': 27, 'relpath': 'Chapters\\\\Chapter 3\\\\ELE430_Chapter3_Lecture11_Lecture12.pdf', 'is_solution': False, 'doc_id': 'ELE430_Chapter3_Lecture11_Lecture12', 'creator': 'PyPDF', 'chapter': 3, 'page_label': '11', 'moddate': \"D:20250815111742Z00'00'\", 'source': '..\\\\..\\\\Courses\\\\signals and systems\\\\Chapters\\\\Chapter 3\\\\ELE430_Chapter3_Lecture11_Lecture12.pdf', 'filename': 'ELE430_Chapter3_Lecture11_Lecture12.pdf'}, page_content='03/03/2024\\n11\\nLAU –SOE, ELE 430: Signals and Systems – Chapter 3 - Fourier TransformSpring 2024 52\\nAmplitude Modulation (5)\\nLAU –SOE, ELE 430: Signals and Systems – Chapter 3 - Fourier TransformSpring 2024 53\\nFrequency Division Multiplexing (1)\\nSystemworst\\nifthereisno\\ninterference'),\n",
       "   Document(metadata={'producer': 'iOS Version 18.1.1 (Build 22B91) Quartz PDFContext', 'moddate': \"D:20250815111742Z00'00'\", 'creationdate': \"D:20250815111742Z00'00'\", 'total_pages': 27, 'creator': 'PyPDF', 'page': 10, 'source': '..\\\\..\\\\Courses\\\\signals and systems\\\\Chapters\\\\Chapter 3\\\\ELE430_Chapter3_Lecture11_Lecture12.pdf', 'page_label': '11'}, page_content='03/03/2024\\n11\\nLAU –SOE, ELE 430: Signals and Systems – Chapter 3 - Fourier TransformSpring 2024 52\\nAmplitude Modulation (5)\\nLAU –SOE, ELE 430: Signals and Systems – Chapter 3 - Fourier TransformSpring 2024 53\\nFrequency Division Multiplexing (1)\\nSystemworst\\nifthereisno\\ninterference')]}]"
      ]
     },
     "execution_count": 138,
     "metadata": {},
     "output_type": "execute_result"
    }
   ],
   "source": [
    "predictions"
   ]
  },
  {
   "cell_type": "code",
   "execution_count": 139,
   "id": "5ac680b6",
   "metadata": {},
   "outputs": [],
   "source": [
    "graded = eval_chain.evaluate(\n",
    "    examples=eval_examples,\n",
    "    predictions=predictions,      # must contain \"answer\"\n",
    "    question_key=\"query\",         # <-- your question field\n",
    "    prediction_key=\"answer\",      # <-- your model’s output field\n",
    "    answer_key=\"answer\",          # <-- reference/ground-truth field\n",
    ")"
   ]
  },
  {
   "cell_type": "code",
   "execution_count": 140,
   "id": "d2e9adc2",
   "metadata": {},
   "outputs": [
    {
     "name": "stdout",
     "output_type": "stream",
     "text": [
      "Example 0:\n",
      "Question: For a continuous-time sinusoid x(t)=A sin(2π f0 t + θ), what is its period T0? Then, for x(t)=50 sin(200π t), what are f0 and T0?\n",
      "Real Answer: T0 = 1/f0. For x(t)=50 sin(200π t): f0 = 100 Hz and T0 = 10 ms.\n",
      "Predicted Answer:  For x(t)=50 sin(200π t), f0 = 100 Hz and T0 = 0.01 seconds.\n",
      "Predicted Grade: GRADE: INCORRECT\n",
      "\n",
      "Example 1:\n",
      "Question: What is a causal system?\n",
      "Real Answer: A system is causal if its response occurs only during or after the time in which the excitation is applied. The current output depends only on the current and previous inputs; it does not depend on future inputs.\n",
      "Predicted Answer:  A causal system is one in which the response only occurs during or after the time in which the excitation is applied.\n",
      "Predicted Grade: CORRECT\n",
      "\n",
      "Example 2:\n",
      "Question: What does time-invariance mean for a system?\n",
      "Real Answer: If an excitation x(t) causes a response y(t) and an excitation x(t − t0) causes a response y(t − t0), for an arbitrary t0, the system is said to be time invariant.\n",
      "Predicted Answer:  Time-invariance means that the system's behavior does not change over time.\n",
      "Predicted Grade: CORRECT\n",
      "\n",
      "Example 3:\n",
      "Question: How are signal energy and signal power defined?\n",
      "Real Answer: Signal energy is the area under the square of the magnitude of the signal (a measure of total energy). Signal power is the rate at which energy is transmitted or used.\n",
      "Predicted Answer:  Signal energy is defined as the area under the square of the magnitude of the signal. Signal power is a measure of the rate at which energy is transmitted or used.\n",
      "Predicted Grade: CORRECT\n",
      "\n",
      "Example 4:\n",
      "Question: what determines the order of a (digital) system?\n",
      "Real Answer: The order of the system is the number of poles.\n",
      "Predicted Answer:  The order of a digital system is determined by comparing the signal value at the middle of each bit duration to a threshold.\n",
      "Predicted Grade: CORRECT\n",
      "\n",
      "Example 5:\n",
      "Question: How do you identify the filter type in first-order digital filters, and what indicates a low-pass case?\n",
      "Real Answer: Inspect what is happening between 0 and π. A decreasing magnitude response indicates a low-pass filter (“decreating : Iow pas filter”).\n",
      "Predicted Answer:  The filter type in first-order digital filters can be identified by the order of the system, which is indicated by the number of poles. In a low-pass case, the order of the system is then b.\n",
      "Predicted Grade: CORRECT\n",
      "\n",
      "Example 6:\n",
      "Question: State the Initial Value Theorem and the Final Value Theorem for the Laplace transform, with their usual conditions.\n",
      "Real Answer: IVT: x(0+) = lim_{s→∞} s X(s) (when the limit exists and there is no impulse at t=0). FVT: x(∞) = lim_{s→0} s X(s) (provided all poles of sX(s) lie in the open left half-plane so the finite limit exists).\n",
      "Predicted Answer:  The Initial Value Theorem states that the initial value of a function x(t) can be found by taking the limit of the Laplace transform X(s) as s approaches infinity. The Final Value Theorem states that the final value of a function x(t) can be found by taking the limit of the Laplace transform X(s) as s approaches zero. Both the Initial Value Theorem and the Final Value Theorem have the condition that the function x(t) must be continuous and have a finite number of discontinuities in the interval [0,∞).\n",
      "Predicted Grade: CORRECT\n",
      "\n",
      "Example 7:\n",
      "Question: What is the Region of Convergence (ROC) in the Laplace transform, and what is the ROC for x(t)=e^{a t} u(t)?\n",
      "Real Answer: The ROC is the set of s where the Laplace integral converges; for right-sided signals it lies to the right of the rightmost pole. For x(t)=e^{a t} u(t), X(s)=1/(s−a) and the ROC is Re{s} > a.\n",
      "Predicted Answer:  The Region of Convergence (ROC) in the Laplace transform is the set of values for which the transform converges. For x(t)=e^{a t} u(t), the ROC is the right half-plane, Re(s)>a.\n",
      "Predicted Grade: CORRECT\n",
      "\n",
      "Example 8:\n",
      "Question: What is the Fourier transform of the unit impulse, and what is the inverse Fourier transform of a unit impulse in frequency?\n",
      "Real Answer: The Fourier transform of the unit impulse is a constant (real and even). The inverse Fourier transform of a unit impulse in frequency is a constant in time; the impulse area is 1.\n",
      "Predicted Answer:  The Fourier transform of the unit impulse is a constant function with a value of 1 at all frequencies, and the inverse Fourier transform of a unit impulse in frequency is a delta function in the time domain.\n",
      "Predicted Grade: CORRECT\n",
      "\n",
      "Example 9:\n",
      "Question: In amplitude modulation by a cosine carrier, where do the spectral components move, and how is the original message recovered?\n",
      "Real Answer: Multiplying by a cosine shifts the spectrum to the carrier, creating sidebands at f_c ± f. The message is recovered with a low-pass filter (LPF) to bring the baseband back.\n",
      "Predicted Answer:  The spectral components move to frequencies above and below the carrier frequency, and the original message can be recovered by using a demodulator to extract the original baseband signal from the modulated signal.\n",
      "Predicted Grade: CORRECT\n",
      "\n"
     ]
    }
   ],
   "source": [
    "for i, eg in enumerate(examples):\n",
    "    print(f\"Example {i}:\")\n",
    "    print(\"Question: \" + predictions[i].get('question', 'No query available'))\n",
    "    print(\"Real Answer: \" + examples[i].get('answer', 'No answer available'))\n",
    "    print(\"Predicted Answer: \" + predictions[i].get('answer', 'No result available'))\n",
    "    print(\"Predicted Grade: \" + graded[i].get('results', 'No grade available'))\n",
    "    print()"
   ]
  },
  {
   "cell_type": "markdown",
   "id": "851ad2a0",
   "metadata": {},
   "source": [
    "### PYMUPDF loader"
   ]
  },
  {
   "cell_type": "code",
   "execution_count": 125,
   "id": "c8acf432",
   "metadata": {},
   "outputs": [],
   "source": [
    "# Provide the required keys: 'chat_history' and 'question'\n",
    "predictions = qa_pymupdf_loader_test.apply(\n",
    "\t[{\"chat_history\":[],\"question\":example[\"query\"]} for example in examples]\n",
    ")"
   ]
  },
  {
   "cell_type": "code",
   "execution_count": 126,
   "id": "a76434e7",
   "metadata": {},
   "outputs": [],
   "source": [
    "graded = eval_chain.evaluate(\n",
    "    examples=eval_examples,\n",
    "    predictions=predictions,      # must contain \"answer\"\n",
    "    question_key=\"query\",         # <-- your question field\n",
    "    prediction_key=\"answer\",      # <-- your model’s output field\n",
    "    answer_key=\"answer\",          # <-- reference/ground-truth field\n",
    ")"
   ]
  },
  {
   "cell_type": "code",
   "execution_count": 127,
   "id": "3b0c5365",
   "metadata": {},
   "outputs": [
    {
     "name": "stdout",
     "output_type": "stream",
     "text": [
      "Example 0:\n",
      "Question: For a continuous-time sinusoid x(t)=A sin(2π f0 t + θ), what is its period T0? Then, for x(t)=50 sin(200π t), what are f0 and T0?\n",
      "Real Answer: T0 = 1/f0. For x(t)=50 sin(200π t): f0 = 100 Hz and T0 = 10 ms.\n",
      "Predicted Answer:  For x(t)=50 sin(200π t), f0 = 100 Hz and T0 = 0.01 seconds.\n",
      "Predicted Grade: GRADE: INCORRECT\n",
      "\n",
      "Example 1:\n",
      "Question: What is a causal system?\n",
      "Real Answer: A system is causal if its response occurs only during or after the time in which the excitation is applied. The current output depends only on the current and previous inputs; it does not depend on future inputs.\n",
      "Predicted Answer:  A causal system is one in which the response occurs only during or after the time in which the excitation is applied. It means that the current output only depends on the current and previous inputs, and not on future inputs.\n",
      "Predicted Grade: CORRECT\n",
      "\n",
      "Example 2:\n",
      "Question: What does time-invariance mean for a system?\n",
      "Real Answer: If an excitation x(t) causes a response y(t) and an excitation x(t − t0) causes a response y(t − t0), for an arbitrary t0, the system is said to be time invariant.\n",
      "Predicted Answer:  Time-invariance means that the system's behavior does not change over time.\n",
      "Predicted Grade: CORRECT\n",
      "\n",
      "Example 3:\n",
      "Question: How are signal energy and signal power defined?\n",
      "Real Answer: Signal energy is the area under the square of the magnitude of the signal (a measure of total energy). Signal power is the rate at which energy is transmitted or used.\n",
      "Predicted Answer:  Signal energy is defined as the area under the square of the magnitude of the signal. Signal power is a measure of the rate at which energy is transmitted or used.\n",
      "Predicted Grade: CORRECT\n",
      "\n",
      "Example 4:\n",
      "Question: what determines the order of a (digital) system?\n",
      "Real Answer: The order of the system is the number of poles.\n",
      "Predicted Answer:  The order of a digital system is determined by comparing the signal value at the middle of each bit duration to a threshold.\n",
      "Predicted Grade: CORRECT\n",
      "\n",
      "Example 5:\n",
      "Question: How do you identify the filter type in first-order digital filters, and what indicates a low-pass case?\n",
      "Real Answer: Inspect what is happening between 0 and π. A decreasing magnitude response indicates a low-pass filter (“decreating : Iow pas filter”).\n",
      "Predicted Answer:  The filter type in first-order digital filters can be identified by the order of the system, which is indicated by the number of poles. In a low-pass case, the order of the system is then b.\n",
      "Predicted Grade: CORRECT\n",
      "\n",
      "Example 6:\n",
      "Question: State the Initial Value Theorem and the Final Value Theorem for the Laplace transform, with their usual conditions.\n",
      "Real Answer: IVT: x(0+) = lim_{s→∞} s X(s) (when the limit exists and there is no impulse at t=0). FVT: x(∞) = lim_{s→0} s X(s) (provided all poles of sX(s) lie in the open left half-plane so the finite limit exists).\n",
      "Predicted Answer:  The Initial Value Theorem states that the initial value of a function f(t) can be found by taking the limit of the Laplace transform F(s) as s approaches infinity. The Final Value Theorem states that the final value of a function f(t) can be found by taking the limit of the Laplace transform F(s) as s approaches zero. Both the Initial and Final Value Theorems hold under the condition that the function f(t) is continuous and has a finite number of discontinuities in the interval [0,∞).\n",
      "Predicted Grade: CORRECT\n",
      "\n",
      "Example 7:\n",
      "Question: What is the Region of Convergence (ROC) in the Laplace transform, and what is the ROC for x(t)=e^{a t} u(t)?\n",
      "Real Answer: The ROC is the set of s where the Laplace integral converges; for right-sided signals it lies to the right of the rightmost pole. For x(t)=e^{a t} u(t), X(s)=1/(s−a) and the ROC is Re{s} > a.\n",
      "Predicted Answer:  The Region of Convergence (ROC) in the Laplace transform is the set of values for which the transform converges. For x(t)=e^{a t} u(t), the ROC is the right half-plane, Re(s)>a.\n",
      "Predicted Grade: CORRECT\n",
      "\n",
      "Example 8:\n",
      "Question: What is the Fourier transform of the unit impulse, and what is the inverse Fourier transform of a unit impulse in frequency?\n",
      "Real Answer: The Fourier transform of the unit impulse is a constant (real and even). The inverse Fourier transform of a unit impulse in frequency is a constant in time; the impulse area is 1.\n",
      "Predicted Answer:  The Fourier Transform of the unit impulse is a constant function, with a value of 1 at all frequencies. The inverse Fourier Transform of a unit impulse in frequency is a delta function, or unit impulse, in the time domain. This means that the unit impulse in frequency contains all frequencies equally, and the inverse Fourier Transform of this results in a single spike at time 0.\n",
      "Predicted Grade: CORRECT\n",
      "\n",
      "Example 9:\n",
      "Question: In amplitude modulation by a cosine carrier, where do the spectral components move, and how is the original message recovered?\n",
      "Real Answer: Multiplying by a cosine shifts the spectrum to the carrier, creating sidebands at f_c ± f. The message is recovered with a low-pass filter (LPF) to bring the baseband back.\n",
      "Predicted Answer:  The spectral components move to frequencies above and below the carrier frequency, and the original message can be recovered by using a demodulator to extract the original baseband signal from the modulated signal.\n",
      "Predicted Grade: CORRECT\n",
      "\n"
     ]
    }
   ],
   "source": [
    "for i, eg in enumerate(examples):\n",
    "    print(f\"Example {i}:\")\n",
    "    print(\"Question: \" + predictions[i].get('question', 'No query available'))\n",
    "    print(\"Real Answer: \" + examples[i].get('answer', 'No answer available'))\n",
    "    print(\"Predicted Answer: \" + predictions[i].get('answer', 'No result available'))\n",
    "    print(\"Predicted Grade: \" + graded[i].get('results', 'No grade available'))\n",
    "    print()"
   ]
  },
  {
   "cell_type": "markdown",
   "id": "2da5c480",
   "metadata": {},
   "source": [
    "There is a tie between the two loaders, so there is no difference between which loader to use. **note that** the first question is correct in the current and the following models despite being tagged as incorrect"
   ]
  },
  {
   "cell_type": "markdown",
   "id": "f2a9439f",
   "metadata": {},
   "source": [
    "## Chunk sizes Tests"
   ]
  },
  {
   "cell_type": "markdown",
   "id": "ace46a03",
   "metadata": {},
   "source": [
    "### chunk size = 500 loader"
   ]
  },
  {
   "cell_type": "code",
   "execution_count": 128,
   "id": "34ea4b0c",
   "metadata": {},
   "outputs": [],
   "source": [
    "# Provide the required keys: 'chat_history' and 'question'\n",
    "predictions = qa_C500_loader_test.apply(\n",
    "\t[{\"chat_history\":[],\"question\":example[\"query\"]} for example in examples]\n",
    ")"
   ]
  },
  {
   "cell_type": "code",
   "execution_count": 129,
   "id": "e3005901",
   "metadata": {},
   "outputs": [],
   "source": [
    "graded = eval_chain.evaluate(\n",
    "    examples=eval_examples,\n",
    "    predictions=predictions,      # must contain \"answer\"\n",
    "    question_key=\"query\",         # <-- your question field\n",
    "    prediction_key=\"answer\",      # <-- your model’s output field\n",
    "    answer_key=\"answer\",          # <-- reference/ground-truth field\n",
    ")"
   ]
  },
  {
   "cell_type": "code",
   "execution_count": 130,
   "id": "739e2e4f",
   "metadata": {},
   "outputs": [
    {
     "name": "stdout",
     "output_type": "stream",
     "text": [
      "Example 0:\n",
      "Question: For a continuous-time sinusoid x(t)=A sin(2π f0 t + θ), what is its period T0? Then, for x(t)=50 sin(200π t), what are f0 and T0?\n",
      "Real Answer: T0 = 1/f0. For x(t)=50 sin(200π t): f0 = 100 Hz and T0 = 10 ms.\n",
      "Predicted Answer:  For x(t)=50 sin(200π t), f0 = 100 Hz and T0 = 0.01 seconds.\n",
      "Predicted Grade: GRADE: INCORRECT\n",
      "\n",
      "Example 1:\n",
      "Question: What is a causal system?\n",
      "Real Answer: A system is causal if its response occurs only during or after the time in which the excitation is applied. The current output depends only on the current and previous inputs; it does not depend on future inputs.\n",
      "Predicted Answer:  A causal system is one in which the current output only depends on the current and previous inputs, and not on future inputs.\n",
      "Predicted Grade: CORRECT\n",
      "\n",
      "Example 2:\n",
      "Question: What does time-invariance mean for a system?\n",
      "Real Answer: If an excitation x(t) causes a response y(t) and an excitation x(t − t0) causes a response y(t − t0), for an arbitrary t0, the system is said to be time invariant.\n",
      "Predicted Answer:  Time-invariance means that the system's behavior does not change over time.\n",
      "Predicted Grade: CORRECT\n",
      "\n",
      "Example 3:\n",
      "Question: How are signal energy and signal power defined?\n",
      "Real Answer: Signal energy is the area under the square of the magnitude of the signal (a measure of total energy). Signal power is the rate at which energy is transmitted or used.\n",
      "Predicted Answer:  Signal energy is defined as the area under the square of the magnitude of the signal, while signal power is a measure of the rate at which energy is transmitted or used.\n",
      "Predicted Grade: CORRECT\n",
      "\n",
      "Example 4:\n",
      "Question: what determines the order of a (digital) system?\n",
      "Real Answer: The order of the system is the number of poles.\n",
      "Predicted Answer:  The order of a digital system is determined by comparing the signal value at the middle of each bit duration to a threshold.\n",
      "Predicted Grade: CORRECT\n",
      "\n",
      "Example 5:\n",
      "Question: How do you identify the filter type in first-order digital filters, and what indicates a low-pass case?\n",
      "Real Answer: Inspect what is happening between 0 and π. A decreasing magnitude response indicates a low-pass filter (“decreating : Iow pas filter”).\n",
      "Predicted Answer:  The filter type in first-order digital filters can be identified by the order of the system, which is indicated by the number of poles. In a low-pass case, the order of the system is then b.\n",
      "Predicted Grade: CORRECT\n",
      "\n",
      "Example 6:\n",
      "Question: State the Initial Value Theorem and the Final Value Theorem for the Laplace transform, with their usual conditions.\n",
      "Real Answer: IVT: x(0+) = lim_{s→∞} s X(s) (when the limit exists and there is no impulse at t=0). FVT: x(∞) = lim_{s→0} s X(s) (provided all poles of sX(s) lie in the open left half-plane so the finite limit exists).\n",
      "Predicted Answer:  The Initial Value Theorem states that the initial value of a function f(t) can be found by taking the limit of the Laplace transform F(s) as s approaches infinity. The Final Value Theorem states that the final value of a function f(t) can be found by taking the limit of the Laplace transform F(s) as s approaches zero. Both the Initial and Final Value Theorems have the usual condition that the function f(t) must be continuous and have a finite number of discontinuities in the interval [0,∞).\n",
      "Predicted Grade: CORRECT\n",
      "\n",
      "Example 7:\n",
      "Question: What is the Region of Convergence (ROC) in the Laplace transform, and what is the ROC for x(t)=e^{a t} u(t)?\n",
      "Real Answer: The ROC is the set of s where the Laplace integral converges; for right-sided signals it lies to the right of the rightmost pole. For x(t)=e^{a t} u(t), X(s)=1/(s−a) and the ROC is Re{s} > a.\n",
      "Predicted Answer:  The Region of Convergence (ROC) in the Laplace transform is the set of values for which the transform converges. For x(t)=e^{a t} u(t), the ROC is the right half-plane, Re(s)>a.\n",
      "Predicted Grade: CORRECT\n",
      "\n",
      "Example 8:\n",
      "Question: What is the Fourier transform of the unit impulse, and what is the inverse Fourier transform of a unit impulse in frequency?\n",
      "Real Answer: The Fourier transform of the unit impulse is a constant (real and even). The inverse Fourier transform of a unit impulse in frequency is a constant in time; the impulse area is 1.\n",
      "Predicted Answer:  The Fourier transform of the unit impulse is a constant function with a value of 1 at all frequencies, and the inverse Fourier transform of a unit impulse in frequency is a delta function at time 0.\n",
      "Predicted Grade: CORRECT\n",
      "\n",
      "Example 9:\n",
      "Question: In amplitude modulation by a cosine carrier, where do the spectral components move, and how is the original message recovered?\n",
      "Real Answer: Multiplying by a cosine shifts the spectrum to the carrier, creating sidebands at f_c ± f. The message is recovered with a low-pass filter (LPF) to bring the baseband back.\n",
      "Predicted Answer:  The spectral components move to frequencies above and below the carrier frequency, creating sidebands. The original message can be recovered by demodulating the signal using a bandpass filter.\n",
      "Predicted Grade: CORRECT\n",
      "\n"
     ]
    }
   ],
   "source": [
    "for i, eg in enumerate(examples):\n",
    "    print(f\"Example {i}:\")\n",
    "    print(\"Question: \" + predictions[i].get('question', 'No query available'))\n",
    "    print(\"Real Answer: \" + examples[i].get('answer', 'No answer available'))\n",
    "    print(\"Predicted Answer: \" + predictions[i].get('answer', 'No result available'))\n",
    "    print(\"Predicted Grade: \" + graded[i].get('results', 'No grade available'))\n",
    "    print()"
   ]
  },
  {
   "cell_type": "markdown",
   "id": "328141e3",
   "metadata": {},
   "source": [
    "### chunk size = 1000 loader"
   ]
  },
  {
   "cell_type": "code",
   "execution_count": 131,
   "id": "7d042f29",
   "metadata": {},
   "outputs": [],
   "source": [
    "# Provide the required keys: 'chat_history' and 'question'\n",
    "predictions = qa_C1000_loader_test.apply(\n",
    "\t[{\"chat_history\":[],\"question\":example[\"query\"]} for example in examples]\n",
    ")"
   ]
  },
  {
   "cell_type": "code",
   "execution_count": 132,
   "id": "f7f42b7f",
   "metadata": {},
   "outputs": [],
   "source": [
    "graded = eval_chain.evaluate(\n",
    "    examples=eval_examples,\n",
    "    predictions=predictions,      # must contain \"answer\"\n",
    "    question_key=\"query\",         # <-- your question field\n",
    "    prediction_key=\"answer\",      # <-- your model’s output field\n",
    "    answer_key=\"answer\",          # <-- reference/ground-truth field\n",
    ")"
   ]
  },
  {
   "cell_type": "code",
   "execution_count": 133,
   "id": "5cb832e9",
   "metadata": {},
   "outputs": [
    {
     "name": "stdout",
     "output_type": "stream",
     "text": [
      "Example 0:\n",
      "Question: For a continuous-time sinusoid x(t)=A sin(2π f0 t + θ), what is its period T0? Then, for x(t)=50 sin(200π t), what are f0 and T0?\n",
      "Real Answer: T0 = 1/f0. For x(t)=50 sin(200π t): f0 = 100 Hz and T0 = 10 ms.\n",
      "Predicted Answer:  For x(t)=50 sin(200π t), f0 = 200π and T0 = 1/(200π) = 1/200 seconds.\n",
      "Predicted Grade: GRADE: INCORRECT\n",
      "\n",
      "Example 1:\n",
      "Question: What is a causal system?\n",
      "Real Answer: A system is causal if its response occurs only during or after the time in which the excitation is applied. The current output depends only on the current and previous inputs; it does not depend on future inputs.\n",
      "Predicted Answer:  A causal system is one in which the output only depends on the input at the same time or previous times, and not on future inputs.\n",
      "Predicted Grade: CORRECT\n",
      "\n",
      "Example 2:\n",
      "Question: What does time-invariance mean for a system?\n",
      "Real Answer: If an excitation x(t) causes a response y(t) and an excitation x(t − t0) causes a response y(t − t0), for an arbitrary t0, the system is said to be time invariant.\n",
      "Predicted Answer:  Time-invariance means that the behavior of a system does not change over time.\n",
      "Predicted Grade: CORRECT\n",
      "\n",
      "Example 3:\n",
      "Question: How are signal energy and signal power defined?\n",
      "Real Answer: Signal energy is the area under the square of the magnitude of the signal (a measure of total energy). Signal power is the rate at which energy is transmitted or used.\n",
      "Predicted Answer:  Signal energy is defined as the area under the square of the magnitude of the signal, while signal power is a measure of the rate at which energy is transmitted or used.\n",
      "Predicted Grade: CORRECT\n",
      "\n",
      "Example 4:\n",
      "Question: what determines the order of a (digital) system?\n",
      "Real Answer: The order of the system is the number of poles.\n",
      "Predicted Answer:  The order of a digital system is determined by signal processing techniques.\n",
      "Predicted Grade: INCORRECT\n",
      "\n",
      "Example 5:\n",
      "Question: How do you identify the filter type in first-order digital filters, and what indicates a low-pass case?\n",
      "Real Answer: Inspect what is happening between 0 and π. A decreasing magnitude response indicates a low-pass filter (“decreating : Iow pas filter”).\n",
      "Predicted Answer:  The filter type in first-order digital filters can be identified by the order of the system, which is indicated by the number of poles. In a low-pass case, the order of the system is then b.\n",
      "Predicted Grade: CORRECT\n",
      "\n",
      "Example 6:\n",
      "Question: State the Initial Value Theorem and the Final Value Theorem for the Laplace transform, with their usual conditions.\n",
      "Real Answer: IVT: x(0+) = lim_{s→∞} s X(s) (when the limit exists and there is no impulse at t=0). FVT: x(∞) = lim_{s→0} s X(s) (provided all poles of sX(s) lie in the open left half-plane so the finite limit exists).\n",
      "Predicted Answer:  The Initial Value Theorem states that the initial value of a function f(t) at t=0 can be found by taking the limit of the Laplace transform of f(t) as s approaches infinity. The Final Value Theorem states that the final value of a function f(t) as t approaches infinity can be found by taking the limit of the Laplace transform of f(t) as s approaches zero. These theorems hold true for functions that are continuous and have a finite number of discontinuities in the interval [0,∞).\n",
      "Predicted Grade: CORRECT\n",
      "\n",
      "Example 7:\n",
      "Question: What is the Region of Convergence (ROC) in the Laplace transform, and what is the ROC for x(t)=e^{a t} u(t)?\n",
      "Real Answer: The ROC is the set of s where the Laplace integral converges; for right-sided signals it lies to the right of the rightmost pole. For x(t)=e^{a t} u(t), X(s)=1/(s−a) and the ROC is Re{s} > a.\n",
      "Predicted Answer:  The Region of Convergence (ROC) in the Laplace transform is the set of values for which the transform converges. For x(t)=e^{a t} u(t), the ROC is the right half-plane, Re(s)>a.\n",
      "Predicted Grade: CORRECT\n",
      "\n",
      "Example 8:\n",
      "Question: What is the Fourier transform of the unit impulse, and what is the inverse Fourier transform of a unit impulse in frequency?\n",
      "Real Answer: The Fourier transform of the unit impulse is a constant (real and even). The inverse Fourier transform of a unit impulse in frequency is a constant in time; the impulse area is 1.\n",
      "Predicted Answer:  The Fourier transform of the unit impulse is a constant value of 1, and the inverse Fourier transform of a unit impulse in frequency is a delta function.\n",
      "Predicted Grade: CORRECT\n",
      "\n",
      "Example 9:\n",
      "Question: In amplitude modulation by a cosine carrier, where do the spectral components move, and how is the original message recovered?\n",
      "Real Answer: Multiplying by a cosine shifts the spectrum to the carrier, creating sidebands at f_c ± f. The message is recovered with a low-pass filter (LPF) to bring the baseband back.\n",
      "Predicted Answer:  The spectral components move to frequencies above and below the carrier frequency, and the original message can be recovered by using a demodulator to extract the original baseband signal from the modulated signal.\n",
      "Predicted Grade: CORRECT\n",
      "\n"
     ]
    }
   ],
   "source": [
    "for i, eg in enumerate(examples):\n",
    "    print(f\"Example {i}:\")\n",
    "    print(\"Question: \" + predictions[i].get('question', 'No query available'))\n",
    "    print(\"Real Answer: \" + examples[i].get('answer', 'No answer available'))\n",
    "    print(\"Predicted Answer: \" + predictions[i].get('answer', 'No result available'))\n",
    "    print(\"Predicted Grade: \" + graded[i].get('results', 'No grade available'))\n",
    "    print()"
   ]
  },
  {
   "cell_type": "markdown",
   "id": "b07a4c51",
   "metadata": {},
   "source": [
    "### chunk size = 1500 loader"
   ]
  },
  {
   "cell_type": "code",
   "execution_count": 134,
   "id": "0d944791",
   "metadata": {},
   "outputs": [],
   "source": [
    "# Provide the required keys: 'chat_history' and 'question'\n",
    "predictions = qa_C1500_loader_test.apply(\n",
    "\t[{\"chat_history\":[],\"question\":example[\"query\"]} for example in examples]\n",
    ")"
   ]
  },
  {
   "cell_type": "code",
   "execution_count": 135,
   "id": "baaa41e2",
   "metadata": {},
   "outputs": [],
   "source": [
    "graded = eval_chain.evaluate(\n",
    "    examples=eval_examples,\n",
    "    predictions=predictions,      # must contain \"answer\"\n",
    "    question_key=\"query\",         # <-- your question field\n",
    "    prediction_key=\"answer\",      # <-- your model’s output field\n",
    "    answer_key=\"answer\",          # <-- reference/ground-truth field\n",
    ")"
   ]
  },
  {
   "cell_type": "code",
   "execution_count": 136,
   "id": "f6ec1c9b",
   "metadata": {},
   "outputs": [
    {
     "name": "stdout",
     "output_type": "stream",
     "text": [
      "Example 0:\n",
      "Question: For a continuous-time sinusoid x(t)=A sin(2π f0 t + θ), what is its period T0? Then, for x(t)=50 sin(200π t), what are f0 and T0?\n",
      "Real Answer: T0 = 1/f0. For x(t)=50 sin(200π t): f0 = 100 Hz and T0 = 10 ms.\n",
      "Predicted Answer:  For x(t)=50 sin(200π t), f0 = 100 Hz and T0 = 0.01 seconds.\n",
      "Predicted Grade: GRADE: INCORRECT\n",
      "\n",
      "Example 1:\n",
      "Question: What is a causal system?\n",
      "Real Answer: A system is causal if its response occurs only during or after the time in which the excitation is applied. The current output depends only on the current and previous inputs; it does not depend on future inputs.\n",
      "Predicted Answer:  The system y(t)= x(|t −2|) is not causal.\n",
      "Predicted Grade: CORRECT\n",
      "\n",
      "Example 2:\n",
      "Question: What does time-invariance mean for a system?\n",
      "Real Answer: If an excitation x(t) causes a response y(t) and an excitation x(t − t0) causes a response y(t − t0), for an arbitrary t0, the system is said to be time invariant.\n",
      "Predicted Answer:  Time-invariance means that the output of a system remains unchanged regardless of when the input is applied.\n",
      "Predicted Grade: CORRECT\n",
      "\n",
      "Example 3:\n",
      "Question: How are signal energy and signal power defined?\n",
      "Real Answer: Signal energy is the area under the square of the magnitude of the signal (a measure of total energy). Signal power is the rate at which energy is transmitted or used.\n",
      "Predicted Answer:  It is not possible to classify z(t) without knowing its specific form or properties.\n",
      "Predicted Grade: INCORRECT\n",
      "\n",
      "Example 4:\n",
      "Question: what determines the order of a (digital) system?\n",
      "Real Answer: The order of the system is the number of poles.\n",
      "Predicted Answer:  The order of a (digital) system is determined by the number of independent state variables or energy storage elements in the system.\n",
      "Predicted Grade: CORRECT\n",
      "\n",
      "Example 5:\n",
      "Question: How do you identify the filter type in first-order digital filters, and what indicates a low-pass case?\n",
      "Real Answer: Inspect what is happening between 0 and π. A decreasing magnitude response indicates a low-pass filter (“decreating : Iow pas filter”).\n",
      "Predicted Answer:  The filter type in first-order digital filters can be identified by examining the transfer function, which is represented by the Laplace transform. In a low-pass case, the transfer function will have a pole at the origin, indicating a decrease in amplitude as frequency increases. This can also be seen in the frequency response plot, where the magnitude decreases as frequency increases.\n",
      "Predicted Grade: CORRECT\n",
      "\n",
      "Example 6:\n",
      "Question: State the Initial Value Theorem and the Final Value Theorem for the Laplace transform, with their usual conditions.\n",
      "Real Answer: IVT: x(0+) = lim_{s→∞} s X(s) (when the limit exists and there is no impulse at t=0). FVT: x(∞) = lim_{s→0} s X(s) (provided all poles of sX(s) lie in the open left half-plane so the finite limit exists).\n",
      "Predicted Answer:  The Initial Value Theorem states that the initial value of a function f(t) at t=0 can be found by taking the limit of the Laplace transform of f(t) as s approaches infinity. The Final Value Theorem states that the final value of a function f(t) as t approaches infinity can be found by taking the limit of the Laplace transform of f(t) as s approaches 0. These theorems hold true for functions that are continuous and have a finite number of discontinuities in the interval [0,∞).\n",
      "Predicted Grade: CORRECT\n",
      "\n",
      "Example 7:\n",
      "Question: What is the Region of Convergence (ROC) in the Laplace transform, and what is the ROC for x(t)=e^{a t} u(t)?\n",
      "Real Answer: The ROC is the set of s where the Laplace integral converges; for right-sided signals it lies to the right of the rightmost pole. For x(t)=e^{a t} u(t), X(s)=1/(s−a) and the ROC is Re{s} > a.\n",
      "Predicted Answer:  The Region of Convergence (ROC) in the Laplace transform is the set of values for which the transform converges. For x(t)=e^{a t} u(t), the ROC is the right half-plane, Re(s)>a.\n",
      "Predicted Grade: CORRECT\n",
      "\n",
      "Example 8:\n",
      "Question: What is the Fourier transform of the unit impulse, and what is the inverse Fourier transform of a unit impulse in frequency?\n",
      "Real Answer: The Fourier transform of the unit impulse is a constant (real and even). The inverse Fourier transform of a unit impulse in frequency is a constant in time; the impulse area is 1.\n",
      "Predicted Answer:  The Fourier transform of the unit impulse is a constant value of 1. The inverse Fourier transform of a unit impulse in frequency is a delta function, or a Dirac delta function.\n",
      "Predicted Grade: CORRECT\n",
      "\n",
      "Example 9:\n",
      "Question: In amplitude modulation by a cosine carrier, where do the spectral components move, and how is the original message recovered?\n",
      "Real Answer: Multiplying by a cosine shifts the spectrum to the carrier, creating sidebands at f_c ± f. The message is recovered with a low-pass filter (LPF) to bring the baseband back.\n",
      "Predicted Answer:  The spectral components move to higher and lower frequencies around the carrier frequency, and the original message can be recovered by demodulating the signal using a low-pass filter.\n",
      "Predicted Grade: CORRECT\n",
      "\n"
     ]
    }
   ],
   "source": [
    "for i, eg in enumerate(examples):\n",
    "    print(f\"Example {i}:\")\n",
    "    print(\"Question: \" + predictions[i].get('question', 'No query available'))\n",
    "    print(\"Real Answer: \" + examples[i].get('answer', 'No answer available'))\n",
    "    print(\"Predicted Answer: \" + predictions[i].get('answer', 'No result available'))\n",
    "    print(\"Predicted Grade: \" + graded[i].get('results', 'No grade available'))\n",
    "    print()"
   ]
  },
  {
   "cell_type": "markdown",
   "id": "aadc390b",
   "metadata": {},
   "source": [
    "Based on the above example, it seems there is a ties between the 1500 and 1000 chunk sizes rags that are returning an 80% (actually 9 out of 10) accuracy in comparison with the 500 chunk size rag that get all the questions correct, thats why we decided to set the chunk size to 500"
   ]
  },
  {
   "cell_type": "markdown",
   "id": "bf39f0a9",
   "metadata": {},
   "source": [
    "## Chain type test"
   ]
  },
  {
   "cell_type": "markdown",
   "id": "e968d2b5",
   "metadata": {},
   "source": [
    "we will conduct this test to check which chain type is better, we will set the chunk size to 1000 to keep a room for incorrect hits and have a clearer vizualization of the results. note that we already know the result of the map reduce chain type rag, 9/10. "
   ]
  },
  {
   "cell_type": "markdown",
   "id": "dd95eab3",
   "metadata": {},
   "source": [
    "#### Document Splittings"
   ]
  },
  {
   "cell_type": "code",
   "execution_count": 141,
   "id": "8f6a13ec",
   "metadata": {},
   "outputs": [],
   "source": [
    "\n",
    "r_splitter = RecursiveCharacterTextSplitter(\n",
    "    chunk_size=1000, # Maximum size of chunks to return\n",
    "    chunk_overlap= 10 # Overlap in characters between chunks\n",
    ")\n",
    "docs=r_splitter.split_documents(raw_docs) # we are dealing with a list of documents not text, thats why we did not use split_text"
   ]
  },
  {
   "cell_type": "markdown",
   "id": "5a1054ed",
   "metadata": {},
   "source": [
    "#### Vector Stores and Embeddings"
   ]
  },
  {
   "cell_type": "code",
   "execution_count": 142,
   "id": "32a8cb93",
   "metadata": {},
   "outputs": [],
   "source": [
    "from langchain.embeddings.openai import OpenAIEmbeddings\n",
    "embedding = OpenAIEmbeddings()"
   ]
  },
  {
   "cell_type": "code",
   "execution_count": null,
   "id": "6b362028",
   "metadata": {},
   "outputs": [],
   "source": [
    "from langchain.vectorstores import Chroma\n",
    "persist_directory = '../RAG_tests_db/C1000/'\n",
    "vectordb = Chroma.from_documents(\n",
    "    documents=docs,\n",
    "    embedding=embedding,\n",
    "    collection_name=\"ele430_signals\",\n",
    "    persist_directory=persist_directory\n",
    ")"
   ]
  },
  {
   "cell_type": "markdown",
   "id": "ef3a304b",
   "metadata": {},
   "source": [
    "#### Retrieval"
   ]
  },
  {
   "cell_type": "code",
   "execution_count": 144,
   "id": "5fa5fd3c",
   "metadata": {},
   "outputs": [],
   "source": [
    "from langchain.retrievers.self_query.base import SelfQueryRetriever\n",
    "from langchain_openai import OpenAI\n",
    "document_content_description = \"Signals and Systems\"\n",
    "llm = OpenAI(temperature=0)\n",
    "retriever = SelfQueryRetriever.from_llm(\n",
    "    llm,\n",
    "    vectordb,\n",
    "    document_contents=document_content_description,\n",
    "    metadata_field_info=metadata_field_info,\n",
    "    verbose=True\n",
    ")"
   ]
  },
  {
   "cell_type": "markdown",
   "id": "f84a7f72",
   "metadata": {},
   "source": [
    "### Refine chain type"
   ]
  },
  {
   "cell_type": "code",
   "execution_count": 145,
   "id": "bf2c7d92",
   "metadata": {},
   "outputs": [],
   "source": [
    "from langchain.chains import  ConversationalRetrievalChain\n",
    "qa_refine_loader_test = ConversationalRetrievalChain.from_llm(\n",
    "    llm=llm,\n",
    "    retriever=retriever,\n",
    "    chain_type=\"refine\", # depending on the state, might be refine (mostprobably)\n",
    "    return_source_documents=True,\n",
    "    )"
   ]
  },
  {
   "cell_type": "markdown",
   "id": "76da91ad",
   "metadata": {},
   "source": [
    "### stuff"
   ]
  },
  {
   "cell_type": "code",
   "execution_count": 151,
   "id": "e725f27b",
   "metadata": {},
   "outputs": [],
   "source": [
    "from langchain.chains import  ConversationalRetrievalChain\n",
    "qa_rerank_loader_test = ConversationalRetrievalChain.from_llm(\n",
    "    llm=llm,\n",
    "    retriever=retriever,\n",
    "    chain_type=\"stuff\", # depending on the state, might be refine (mostprobably)\n",
    "    return_source_documents=True,\n",
    "    )"
   ]
  },
  {
   "cell_type": "markdown",
   "id": "9f75eee7",
   "metadata": {},
   "source": [
    "## Testing"
   ]
  },
  {
   "cell_type": "markdown",
   "id": "6ef79441",
   "metadata": {},
   "source": [
    "### refine test"
   ]
  },
  {
   "cell_type": "code",
   "execution_count": 147,
   "id": "5e06c14c",
   "metadata": {},
   "outputs": [],
   "source": [
    "# Provide the required keys: 'chat_history' and 'question'\n",
    "predictions = qa_refine_loader_test.apply(\n",
    "\t[{\"chat_history\":[],\"question\":example[\"query\"]} for example in examples]\n",
    ")"
   ]
  },
  {
   "cell_type": "code",
   "execution_count": 148,
   "id": "9b8e106e",
   "metadata": {},
   "outputs": [],
   "source": [
    "graded = eval_chain.evaluate(\n",
    "    examples=eval_examples,\n",
    "    predictions=predictions,      # must contain \"answer\"\n",
    "    question_key=\"query\",         # <-- your question field\n",
    "    prediction_key=\"answer\",      # <-- your model’s output field\n",
    "    answer_key=\"answer\",          # <-- reference/ground-truth field\n",
    ")"
   ]
  },
  {
   "cell_type": "code",
   "execution_count": 149,
   "id": "06afca52",
   "metadata": {},
   "outputs": [
    {
     "name": "stdout",
     "output_type": "stream",
     "text": [
      "Example 0:\n",
      "Question: For a continuous-time sinusoid x(t)=A sin(2π f0 t + θ), what is its period T0? Then, for x(t)=50 sin(200π t), what are f0 and T0?\n",
      "Real Answer: T0 = 1/f0. For x(t)=50 sin(200π t): f0 = 100 Hz and T0 = 10 ms.\n",
      "Predicted Answer: \n",
      "\n",
      "For a continuous-time sinusoid x(t)=A sin(2π f0 t + θ), the period T0 is equal to 1/f0, where f0 is the fundamental frequency of the signal. This means that the signal repeats itself every T0 seconds, with a fundamental frequency of f0 Hz. \n",
      "\n",
      "For x(t)=50 sin(200π t), f0 is equal to 100 Hz and T0 is equal to 10 ms. This means that the signal repeats itself every 10 ms, with a fundamental frequency of 100 Hz. \n",
      "\n",
      "The unit step function, u(t), is a common continuous-time signal that is defined as 1 for t ≥ 0 and 0 for t < 0. It is often used to model the behavior of a system that is turned on at t=0. \n",
      "\n",
      "Another common continuous-time signal is the unit sinc function, defined as sinc(t) = sin(πt)/(πt). It has a value of 1 at t=0 and approaches 0 as t approaches infinity. It is often used in signal processing and filtering applications. \n",
      "\n",
      "Other common continuous-time signals include the ramp function, the exponential function, and the Gaussian function. These signals have various properties and are\n",
      "Predicted Grade: INCORRECT\n",
      "\n",
      "Example 1:\n",
      "Question: What is a causal system?\n",
      "Real Answer: A system is causal if its response occurs only during or after the time in which the excitation is applied. The current output depends only on the current and previous inputs; it does not depend on future inputs.\n",
      "Predicted Answer: \n",
      "\n",
      "A causal system is a system in which the output only depends on the current and previous inputs, and not on future inputs. This means that the response of the system only occurs during or after the time in which the excitation is applied. In other words, the current output of a causal system is determined solely by the current and past inputs, and is not affected by any future inputs. This concept is important in the study of signals and systems, as it allows for the prediction and analysis of a system's behavior based on its past inputs. In the context of signals and systems, causality refers to the idea that the output of a system is caused by its input, and not the other way around. This concept is essential in understanding the behavior and properties of systems, and is a fundamental concept in the field of signal processing. Examples of causal systems include systems with time-invariant and linear properties, such as filters and differential equations. Non-causal systems, on the other hand, can exhibit behaviors such as time-delay and anticipation, and are often used in predictive modeling and control systems.\n",
      "Predicted Grade: CORRECT\n",
      "\n",
      "Example 2:\n",
      "Question: What does time-invariance mean for a system?\n",
      "Real Answer: If an excitation x(t) causes a response y(t) and an excitation x(t − t0) causes a response y(t − t0), for an arbitrary t0, the system is said to be time invariant.\n",
      "Predicted Answer: \n",
      "\n",
      "Time-invariance means that the behavior of a system remains unchanged over time. This means that the system will produce the same output for a given input, regardless of when the input is applied. In other words, the system's response is not affected by a shift in time. This property is important in understanding and analyzing the behavior of systems, as it allows for the use of mathematical tools and techniques to model and predict the system's behavior. In the given context, this means that the system's output at time t will be the same as the output at time t-1, as long as the input remains the same. This allows for the system to be studied and analyzed at different points in time without affecting its behavior. Additionally, time-invariance also means that the system's behavior is consistent and predictable, making it easier to analyze and control. This property is particularly useful in engineering and physics, where systems need to be accurately modeled and controlled over time. In the specific example given, the system is time-invariant because the output at time t0 will be the same as the output at any other time t, as long as the input remains the same. This allows for the system to be analyzed and controlled at different points in time without affecting its behavior.\n",
      "Predicted Grade: CORRECT\n",
      "\n",
      "Example 3:\n",
      "Question: How are signal energy and signal power defined?\n",
      "Real Answer: Signal energy is the area under the square of the magnitude of the signal (a measure of total energy). Signal power is the rate at which energy is transmitted or used.\n",
      "Predicted Answer: \n",
      "\n",
      "Signal energy is a measure of the total energy contained in a signal, calculated by integrating the squared amplitude of the signal over time. This is often represented by the symbol E. On the other hand, signal power is a measure of the rate at which energy is transmitted or used, calculated by taking the average of the squared amplitude of the signal over time. This is often represented by the symbol P. In other words, signal power is the energy per unit time. Both signal energy and signal power are important measures in signal processing and communication systems, as they provide information about the strength and efficiency of a signal. In continuous-time signals, the energy is calculated by integrating the squared amplitude of the signal over an infinite time interval, while the power is calculated by taking the average over a finite time interval. This distinction is important in understanding the behavior and characteristics of different types of signals. In the study of signals in systems, the signals are often treated as mathematical abstractions. However, because of the many different kinds of physical signals that can be operated on by systems, the term signal energy has been defined. Signal energy is defined as the area under the square of the magnitude of the signal. This definition allows for a more comprehensive understanding of the energy contained in a signal and its\n",
      "Predicted Grade: CORRECT\n",
      "\n",
      "Example 4:\n",
      "Question: what determines the order of a (digital) system?\n",
      "Real Answer: The order of the system is the number of poles.\n",
      "Predicted Answer: \n",
      "\n",
      "The order of a digital system is determined by the number of independent energy storage elements (such as capacitors or inductors) in the system. This is also known as the number of poles in the system. The higher the order, the more complex the system is and the more energy storage elements it contains. In the context of digital signals and systems, the order of a system can also be influenced by the design and implementation of filtering techniques for bit recovery. This can affect the number of poles in the system and therefore impact its overall order. Additionally, the order of a digital system can also be affected by the level of noise present in the system, as higher levels of noise may require more complex filtering techniques and thus increase the order of the system. In the design of digital signals and systems, the order of the system is an important consideration as it can affect the system's performance and its ability to handle noise. By carefully selecting the number of poles and implementing effective filtering techniques, the order of a digital system can be optimized for efficient and accurate signal processing. In the context of electronic devices and communication systems, the order of a digital system is crucial as it can impact the quality and reliability of the signals being processed. This is especially important in applications such as telecommunications\n",
      "Predicted Grade: CORRECT\n",
      "\n",
      "Example 5:\n",
      "Question: How do you identify the filter type in first-order digital filters, and what indicates a low-pass case?\n",
      "Real Answer: Inspect what is happening between 0 and π. A decreasing magnitude response indicates a low-pass filter (“decreating : Iow pas filter”).\n",
      "Predicted Answer: \n",
      "\n",
      "To identify the filter type in first-order digital filters, you can inspect the behavior of the filter in the frequency domain. Specifically, you can look at the magnitude response of the filter, which shows how the filter affects different frequencies. \n",
      "\n",
      "In a low-pass case, the filter allows low frequencies to pass through while attenuating high frequencies. This can be seen in the magnitude response as a gradual decrease in magnitude as frequency increases. The cutoff frequency, where the filter starts to attenuate frequencies, is an important indicator of a low-pass case. \n",
      "\n",
      "In contrast, a high-pass case would show a gradual increase in magnitude as frequency increases, with a cutoff frequency where the filter starts to allow frequencies to pass through. A band-pass case would show a peak in the magnitude response at a specific frequency range, while a band-stop case would show a dip in the magnitude response at a specific frequency range. \n",
      "\n",
      "Overall, the shape of the magnitude response and the location of the cutoff frequency can help identify the type of filter in a first-order digital filter. Additionally, the z-transform of the filter's transfer function can also provide information about the filter type. A low-pass filter would have a transfer function with a pole at the origin, while a high-pass filter would have a zero at\n",
      "Predicted Grade: CORRECT\n",
      "\n",
      "Example 6:\n",
      "Question: State the Initial Value Theorem and the Final Value Theorem for the Laplace transform, with their usual conditions.\n",
      "Real Answer: IVT: x(0+) = lim_{s→∞} s X(s) (when the limit exists and there is no impulse at t=0). FVT: x(∞) = lim_{s→0} s X(s) (provided all poles of sX(s) lie in the open left half-plane so the finite limit exists).\n",
      "Predicted Answer: \n",
      "The Initial Value Theorem states that the initial value of a function f(t) at t=0 can be found by taking the limit of the Laplace transform of f(t) as s approaches infinity, as long as the function is continuous and has a finite limit at t=0. This theorem is useful for finding the initial conditions of a system, which can then be used to solve for the complete response of the system.\n",
      "\n",
      "The Final Value Theorem states that the final value of a function f(t) as t approaches infinity can be found by taking the limit of the Laplace transform of f(t) as s approaches zero, as long as all poles of the Laplace transform are in the left half-plane and the function has a finite limit as t approaches infinity. This theorem is useful for determining the steady-state behavior of a system, which is important in understanding the long-term behavior of a system.\n",
      "\n",
      "In Exercise 1, the Laplace transform of a causal signal is given by X(s)= 2s2 +7 s +9 / (s +2 )2. Using the initial value theorem, we can evaluate the initial value of the signal as X(0)= 9/4. This means that the initial value of the signal is 9\n",
      "Predicted Grade: CORRECT\n",
      "\n",
      "Example 7:\n",
      "Question: What is the Region of Convergence (ROC) in the Laplace transform, and what is the ROC for x(t)=e^{a t} u(t)?\n",
      "Real Answer: The ROC is the set of s where the Laplace integral converges; for right-sided signals it lies to the right of the rightmost pole. For x(t)=e^{a t} u(t), X(s)=1/(s−a) and the ROC is Re{s} > a.\n",
      "Predicted Answer: \n",
      "The Region of Convergence (ROC) in the Laplace transform is the set of values for which the Laplace transform converges. It is typically represented as a region in the complex plane.\n",
      "\n",
      "For the function x(t)=e^{a t} u(t), the ROC is the right half-plane, Re(s)>a. This means that the Laplace transform of this function will only converge for values of s that have a real part greater than a. In other words, the ROC is the set of all complex numbers s for which the integral of e^{a t} u(t) converges. This integral is also known as the Laplace transform of x(t).\n",
      "\n",
      "In the context of signals and systems, the ROC is an important concept as it determines the stability and causality of a system. A system is considered stable if its ROC includes the imaginary axis, and it is considered causal if its ROC includes the entire left half-plane. The ROC also affects the inverse Laplace transform, as it determines the range of values for which the inverse transform is valid.\n",
      "\n",
      "In the course ELE 430: Signals and Systems, the concept of ROC is further explored in the context of system analysis and design. The ROC is used to determine the stability and causality of\n",
      "Predicted Grade: CORRECT\n",
      "\n",
      "Example 8:\n",
      "Question: What is the Fourier transform of the unit impulse, and what is the inverse Fourier transform of a unit impulse in frequency?\n",
      "Real Answer: The Fourier transform of the unit impulse is a constant (real and even). The inverse Fourier transform of a unit impulse in frequency is a constant in time; the impulse area is 1.\n",
      "Predicted Answer: \n",
      "\n",
      "The Fourier transform of the unit impulse is a constant value of 1, and the inverse Fourier transform of a unit impulse in frequency is a delta function. In the context of the given exercise, the Fourier transform of the sampled signal is given by Xs(f) = 150 ∑n X(f - nfs), where Ts = 1/fs = 1/150 seconds. This means that the sampled signal has a frequency resolution of 150 Hz, which is less than the Nyquist frequency of 200 Hz. Therefore, aliasing will occur in this case. Additionally, the given sampling frequency of 150 Hz is less than the Nyquist frequency of 200 Hz, which means that the sampled signal will be aliased and the original signal cannot be accurately reconstructed from the sampled signal. This highlights the importance of choosing a sampling frequency that is at least twice the highest frequency component in the signal to avoid aliasing.\n",
      "\n",
      "In the given exercise, the Fourier transform of the signal a(t) is determined by multiplying the Fourier transforms of x(t) and p(t). This results in a Fourier transform with two rectangular functions centered at ±1/4 Hz, each with a magnitude of 1/2. This indicates that the signal has two frequency components at ±1\n",
      "Predicted Grade: INCORRECT\n",
      "\n",
      "The student answer contains additional information that is not relevant to the question asked. The true answer is more concise and specific.\n",
      "\n",
      "Example 9:\n",
      "Question: In amplitude modulation by a cosine carrier, where do the spectral components move, and how is the original message recovered?\n",
      "Real Answer: Multiplying by a cosine shifts the spectrum to the carrier, creating sidebands at f_c ± f. The message is recovered with a low-pass filter (LPF) to bring the baseband back.\n",
      "Predicted Answer: \n",
      "\n",
      "In amplitude modulation by a cosine carrier, the spectral components move to higher and lower frequencies around the carrier frequency, with the sidebands located at frequencies of fc ± fm, where fc is the carrier frequency and fm is the frequency of the original message signal. This can be visualized in the frequency domain as the original message signal being multiplied by a shifted version of the carrier signal, resulting in the sidebands. To recover the original message, the modulated signal can be demodulated using a bandpass filter centered at the carrier frequency. This filter will remove the carrier frequency and leave only the original message signal, which can then be further processed to remove any remaining sidebands and retrieve the original message. The Fourier transform can be used to analyze the spectrum of the modulated signal and identify the location of the sidebands. In the context of frequency division multiplexing, where multiple signals are transmitted simultaneously, the demodulation process would involve separating the different carrier frequencies and applying the same demodulation process to each individual signal. This allows for multiple signals to be transmitted over the same channel without interference.\n",
      "Predicted Grade: CORRECT\n",
      "\n"
     ]
    }
   ],
   "source": [
    "for i, eg in enumerate(examples):\n",
    "    print(f\"Example {i}:\")\n",
    "    print(\"Question: \" + predictions[i].get('question', 'No query available'))\n",
    "    print(\"Real Answer: \" + examples[i].get('answer', 'No answer available'))\n",
    "    print(\"Predicted Answer: \" + predictions[i].get('answer', 'No result available'))\n",
    "    print(\"Predicted Grade: \" + graded[i].get('results', 'No grade available'))\n",
    "    print()"
   ]
  },
  {
   "cell_type": "markdown",
   "id": "a24f3af4",
   "metadata": {},
   "source": [
    "although it is difficult to see, there is more incorrects than map refine, our used chain type"
   ]
  },
  {
   "cell_type": "markdown",
   "id": "d6dd69b1",
   "metadata": {},
   "source": [
    "### rerank test"
   ]
  },
  {
   "cell_type": "code",
   "execution_count": 152,
   "id": "77fdf391",
   "metadata": {},
   "outputs": [],
   "source": [
    "# Provide the required keys: 'chat_history' and 'question'\n",
    "predictions = qa_rerank_loader_test.apply(\n",
    "\t[{\"chat_history\":[],\"question\":example[\"query\"]} for example in examples]\n",
    ")"
   ]
  },
  {
   "cell_type": "code",
   "execution_count": 153,
   "id": "28fe625d",
   "metadata": {},
   "outputs": [],
   "source": [
    "graded = eval_chain.evaluate(\n",
    "    examples=eval_examples,\n",
    "    predictions=predictions,      # must contain \"answer\"\n",
    "    question_key=\"query\",         # <-- your question field\n",
    "    prediction_key=\"answer\",      # <-- your model’s output field\n",
    "    answer_key=\"answer\",          # <-- reference/ground-truth field\n",
    ")"
   ]
  },
  {
   "cell_type": "code",
   "execution_count": 154,
   "id": "650f7a8b",
   "metadata": {},
   "outputs": [
    {
     "name": "stdout",
     "output_type": "stream",
     "text": [
      "Example 0:\n",
      "Question: For a continuous-time sinusoid x(t)=A sin(2π f0 t + θ), what is its period T0? Then, for x(t)=50 sin(200π t), what are f0 and T0?\n",
      "Real Answer: T0 = 1/f0. For x(t)=50 sin(200π t): f0 = 100 Hz and T0 = 10 ms.\n",
      "Predicted Answer:  For a continuous-time sinusoid x(t)=A sin(2π f0 t + θ), its period T0 is equal to 1/f0. For x(t)=50 sin(200π t), f0 is equal to 100 Hz and T0 is equal to 10 ms.\n",
      "Predicted Grade: CORRECT\n",
      "\n",
      "Example 1:\n",
      "Question: What is a causal system?\n",
      "Real Answer: A system is causal if its response occurs only during or after the time in which the excitation is applied. The current output depends only on the current and previous inputs; it does not depend on future inputs.\n",
      "Predicted Answer:  A causal system is a system where the current output only depends on the current and previous inputs, and does not depend on future inputs.\n",
      "Predicted Grade: CORRECT\n",
      "\n",
      "Example 2:\n",
      "Question: What does time-invariance mean for a system?\n",
      "Real Answer: If an excitation x(t) causes a response y(t) and an excitation x(t − t0) causes a response y(t − t0), for an arbitrary t0, the system is said to be time invariant.\n",
      "Predicted Answer:  Time-invariance means that the behavior of the system does not change over time. This means that if the input to the system is shifted in time, the output will also be shifted in the same way. In other words, the system's response to an input does not depend on when the input is applied.\n",
      "Predicted Grade: CORRECT\n",
      "\n",
      "Example 3:\n",
      "Question: How are signal energy and signal power defined?\n",
      "Real Answer: Signal energy is the area under the square of the magnitude of the signal (a measure of total energy). Signal power is the rate at which energy is transmitted or used.\n",
      "Predicted Answer:  Signal energy is a measure of the total energy contained in a signal, while signal power is a measure of the rate at which energy is transmitted or used. Signal energy is defined as the area under the square of the magnitude of the signal.\n",
      "Predicted Grade: CORRECT\n",
      "\n",
      "Example 4:\n",
      "Question: what determines the order of a (digital) system?\n",
      "Real Answer: The order of the system is the number of poles.\n",
      "Predicted Answer:  The order of a digital system is determined by the number of independent energy storage elements in the system. This can include capacitors, inductors, and other components that store energy. The higher the number of energy storage elements, the higher the order of the system.\n",
      "Predicted Grade: CORRECT\n",
      "\n",
      "Example 5:\n",
      "Question: How do you identify the filter type in first-order digital filters, and what indicates a low-pass case?\n",
      "Real Answer: Inspect what is happening between 0 and π. A decreasing magnitude response indicates a low-pass filter (“decreating : Iow pas filter”).\n",
      "Predicted Answer:  To identify the filter type in first-order digital filters, you can inspect the behavior of the filter at different frequencies. A low-pass filter will allow low frequencies to pass through while attenuating high frequencies. This can be seen by looking at the magnitude response of the filter, which will have a gradual decrease in amplitude as frequency increases. In the given context, the filter type can be determined by looking at the course numbers (61LAU, 62LAU) and the chapter number (Chapter 6) which indicate that the topic being discussed is first-order digital filters. Additionally, the mention of \"low-pass filter\" in the context suggests that the filter being discussed is a low-pass filter.\n",
      "Predicted Grade: CORRECT\n",
      "\n",
      "Example 6:\n",
      "Question: State the Initial Value Theorem and the Final Value Theorem for the Laplace transform, with their usual conditions.\n",
      "Real Answer: IVT: x(0+) = lim_{s→∞} s X(s) (when the limit exists and there is no impulse at t=0). FVT: x(∞) = lim_{s→0} s X(s) (provided all poles of sX(s) lie in the open left half-plane so the finite limit exists).\n",
      "Predicted Answer: \n",
      "The Initial Value Theorem states that the initial value of a function x(t) can be found by taking the limit of its Laplace transform X(s) as s approaches infinity. This is given by x(0+) = lim s→∞ X(s).\n",
      "\n",
      "The Final Value Theorem states that the final value of a function x(t) can be found by taking the limit of its Laplace transform X(s) as s approaches zero. This is given by x(∞) = lim s→0 X(s).\n",
      "\n",
      "The usual conditions for these theorems are that the function x(t) must be continuous and have a finite number of discontinuities, and its Laplace transform X(s) must exist and be convergent for all values of s.\n",
      "Predicted Grade: INCORRECT\n",
      "\n",
      "The student answer contains some inaccuracies in the statements of the Initial Value Theorem and the Final Value Theorem, as well as the conditions for these theorems. The student answer also includes additional information not present in the true answer.\n",
      "\n",
      "Example 7:\n",
      "Question: What is the Region of Convergence (ROC) in the Laplace transform, and what is the ROC for x(t)=e^{a t} u(t)?\n",
      "Real Answer: The ROC is the set of s where the Laplace integral converges; for right-sided signals it lies to the right of the rightmost pole. For x(t)=e^{a t} u(t), X(s)=1/(s−a) and the ROC is Re{s} > a.\n",
      "Predicted Answer:  The Region of Convergence (ROC) in the Laplace transform is the set of values for which the Laplace transform converges. It is represented by a complex plane and can be determined by analyzing the poles and zeros of the Laplace transform. For x(t)=e^{a t} u(t), the ROC is the right half-plane, Re(s)>a.\n",
      "Predicted Grade: CORRECT\n",
      "\n",
      "Example 8:\n",
      "Question: What is the Fourier transform of the unit impulse, and what is the inverse Fourier transform of a unit impulse in frequency?\n",
      "Real Answer: The Fourier transform of the unit impulse is a constant (real and even). The inverse Fourier transform of a unit impulse in frequency is a constant in time; the impulse area is 1.\n",
      "Predicted Answer:  The Fourier transform of a unit impulse is a constant value, and the inverse Fourier transform of a unit impulse in frequency is a unit impulse in the time domain.\n",
      "Predicted Grade: CORRECT\n",
      "\n",
      "Example 9:\n",
      "Question: In amplitude modulation by a cosine carrier, where do the spectral components move, and how is the original message recovered?\n",
      "Real Answer: Multiplying by a cosine shifts the spectrum to the carrier, creating sidebands at f_c ± f. The message is recovered with a low-pass filter (LPF) to bring the baseband back.\n",
      "Predicted Answer:  The spectral components move to the sidebands, and the original message is recovered by demodulating the signal.\n",
      "Predicted Grade: CORRECT\n",
      "\n"
     ]
    }
   ],
   "source": [
    "for i, eg in enumerate(examples):\n",
    "    print(f\"Example {i}:\")\n",
    "    print(\"Question: \" + predictions[i].get('question', 'No query available'))\n",
    "    print(\"Real Answer: \" + examples[i].get('answer', 'No answer available'))\n",
    "    print(\"Predicted Answer: \" + predictions[i].get('answer', 'No result available'))\n",
    "    print(\"Predicted Grade: \" + graded[i].get('results', 'No grade available'))\n",
    "    print()"
   ]
  },
  {
   "cell_type": "markdown",
   "id": "13297009",
   "metadata": {},
   "source": [
    "The stuff is the goat chain type ..."
   ]
  }
 ],
 "metadata": {
  "kernelspec": {
   "display_name": "PT",
   "language": "python",
   "name": "python3"
  },
  "language_info": {
   "codemirror_mode": {
    "name": "ipython",
    "version": 3
   },
   "file_extension": ".py",
   "mimetype": "text/x-python",
   "name": "python",
   "nbconvert_exporter": "python",
   "pygments_lexer": "ipython3",
   "version": "3.12.8"
  }
 },
 "nbformat": 4,
 "nbformat_minor": 5
}
