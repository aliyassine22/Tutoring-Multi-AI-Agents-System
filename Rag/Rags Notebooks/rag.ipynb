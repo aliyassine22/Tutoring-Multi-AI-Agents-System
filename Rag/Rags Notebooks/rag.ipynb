{
 "cells": [
  {
   "cell_type": "markdown",
   "id": "2f5e1e9e",
   "metadata": {},
   "source": [
    "# RAG\n",
    "\n",
    "In this notebook, i will do some experimentation before deploying my rag as a tool on mcp, here you will find all the steps that i walked into before reaching the final structure."
   ]
  },
  {
   "cell_type": "code",
   "execution_count": 2,
   "id": "ff170bf3",
   "metadata": {},
   "outputs": [],
   "source": [
    "import os\n",
    "import openai\n",
    "import sys\n",
    "sys.path.append('../..')\n",
    "\n",
    "from dotenv import load_dotenv, find_dotenv\n",
    "_=load_dotenv(find_dotenv()) # read local .env file\n",
    "\n",
    "openai.api_key =os.environ['OPENAI_API_KEY']"
   ]
  },
  {
   "cell_type": "markdown",
   "id": "4bfdbac5",
   "metadata": {},
   "source": [
    "## Document Loaders"
   ]
  },
  {
   "cell_type": "markdown",
   "id": "451a0960",
   "metadata": {},
   "source": [
    "we will start by loading our pdfs\n",
    "\n",
    "ref: https://python.langchain.com/docs/how_to/document_loader_directory/"
   ]
  },
  {
   "cell_type": "markdown",
   "id": "9c94cb08",
   "metadata": {},
   "source": [
    "For the loading, I starting initailly with the pypdf loader, however it field since the structure of the pdf involved complex equations, images based pdfs, and other complexities. You may check the feasibility tests in the testing_rags notebook"
   ]
  },
  {
   "cell_type": "code",
   "execution_count": 2,
   "id": "a5769114",
   "metadata": {},
   "outputs": [],
   "source": [
    "# pip install langchain langchain-community langchain-text-splitters  pymupdf\n",
    "\n",
    "from pathlib import Path\n",
    "import re\n",
    "from langchain_community.document_loaders import DirectoryLoader, PyMuPDFLoader\n",
    "from langchain_text_splitters import RecursiveCharacterTextSplitter\n",
    "\n",
    "BASE_DIR=Path(\"../../Courses/signals and systems\")   \n",
    "\n",
    "# load every pdf under the course folder \n",
    "loader=DirectoryLoader(\n",
    "    str(BASE_DIR),\n",
    "    glob=\"**/*.pdf\",\n",
    "    loader_cls=PyMuPDFLoader,\n",
    ")\n"
   ]
  },
  {
   "cell_type": "code",
   "execution_count": 3,
   "id": "59f6e116",
   "metadata": {},
   "outputs": [
    {
     "data": {
      "text/plain": [
       "'signals and systems'"
      ]
     },
     "execution_count": 3,
     "metadata": {},
     "output_type": "execute_result"
    }
   ],
   "source": [
    "BASE_DIR.name"
   ]
  },
  {
   "cell_type": "code",
   "execution_count": 4,
   "id": "b855661a",
   "metadata": {},
   "outputs": [],
   "source": [
    "raw_docs=loader.load()"
   ]
  },
  {
   "cell_type": "code",
   "execution_count": 5,
   "id": "31fc5d44",
   "metadata": {},
   "outputs": [
    {
     "data": {
      "text/plain": [
       "570"
      ]
     },
     "execution_count": 5,
     "metadata": {},
     "output_type": "execute_result"
    }
   ],
   "source": [
    "len(raw_docs)  # number of pages loaded"
   ]
  },
  {
   "cell_type": "code",
   "execution_count": 6,
   "id": "7ffa9000",
   "metadata": {},
   "outputs": [
    {
     "name": "stdout",
     "output_type": "stream",
     "text": [
      "page_content='Assignment 01\n",
      "Lectures: 2, 3, 4\n",
      "Exercise 1: Plot the following continuous-time signals:\n",
      "1. f(t) = −6rect(t) cos(3πt).\n",
      "2. f(t) = rect(t)tri(t + 1\n",
      "2).\n",
      "3. f(t) = −ramp(t)u(t −2).\n",
      "4. f(t) = 2tri(2t\n",
      "3 ) + 3rect( t\n",
      "3).\n",
      "Exercise 2: Consider the systems described by the following input-output\n",
      "relations x(t) →y(t):\n",
      "1. y(t) = x(t −1) −x(t −5).\n",
      "2. y(t) = |t|x(t).\n",
      "3. y(t) = (x(t))2 −x(t −1).\n",
      "Study the linearity, time-invariance and causality of the above systems. Jus-\n",
      "tify your answers.\n",
      "Exercise 3: Consider the continuous-time signal f(t) shown in the ﬁgure\n",
      "below:\n",
      "1. Plot: −2f(t), f(t −3) and f(−t).\n",
      "2. Plot: −3f\n",
      "\u0000 2t+1\n",
      "5\n",
      "\u0001\n",
      ", f(−2t + 1) and f\n",
      "\u0000 −3t+1\n",
      "5\n",
      "\u0001\n",
      ".\n",
      "1' metadata={'producer': 'MiKTeX GPL Ghostscript 9.19', 'creator': 'dvips(k) 5.997 Copyright 2017 Radical Eye Software', 'creationdate': '2023-01-16T09:42:17+02:00', 'source': '..\\\\..\\\\Courses\\\\signals and systems\\\\Assigments\\\\Assignment1_Lecture2_Lecture3_Lecture4.pdf', 'file_path': '..\\\\..\\\\Courses\\\\signals and systems\\\\Assigments\\\\Assignment1_Lecture2_Lecture3_Lecture4.pdf', 'total_pages': 3, 'format': 'PDF 1.4', 'title': 'Assignment01.dvi', 'author': '', 'subject': '', 'keywords': '', 'moddate': '2023-01-16T09:42:17+02:00', 'trapped': '', 'modDate': \"D:20230116094217+02'00'\", 'creationDate': \"D:20230116094217+02'00'\", 'page': 0}\n"
     ]
    }
   ],
   "source": [
    "print(raw_docs[0])"
   ]
  },
  {
   "cell_type": "code",
   "execution_count": 7,
   "id": "deb3dc3e",
   "metadata": {},
   "outputs": [
    {
     "name": "stdout",
     "output_type": "stream",
     "text": [
      "['..', '..', 'courses', 'signals and systems', 'assigments', 'assignment1_lecture2_lecture3_lecture4.pdf']\n"
     ]
    }
   ],
   "source": [
    "doc_sample=raw_docs[0]\n",
    "path_sample=Path(doc_sample.metadata['source'])\n",
    "print([x.lower() for x in path_sample.parts])"
   ]
  },
  {
   "cell_type": "code",
   "execution_count": 8,
   "id": "6a92a9ee",
   "metadata": {},
   "outputs": [],
   "source": [
    "CHAPTER_DIR_RE      = re.compile(r\"chapter\\s*(\\d+)\", re.I)\n",
    "LECTURE_IN_NAME_RE  = re.compile(r\"[ _-]lecture\\s*(\\d+)\", re.I)\n",
    "ASSIGNMENT_RE       = re.compile(r\"assignment\\s*(\\d+)\", re.I)\n",
    "EXAM_DIR_RE         = re.compile(r\"exam\\s*(\\d+)\", re.I)\n",
    "TERM_RE             = re.compile(r\"(spring|summer|fall|autumn|winter)[ _-]?(\\d{4})\", re.I)\n",
    "SOLUTION_RE         = re.compile(r\"solution\", re.I)\n",
    "\n",
    "chapter_name_set = set()\n",
    "exams_name_set = set()\n",
    "\n",
    "for d in raw_docs:\n",
    "    p = Path(d.metadata[\"source\"])\n",
    "    parts_lower = [x.lower() for x in p.parts]\n",
    "    parts_joined = \"/\".join(parts_lower)\n",
    "\n",
    "    # defaults\n",
    "    category = \"other\"\n",
    "    chapter_num = None\n",
    "    lecture_number = None\n",
    "    lecture_min = None\n",
    "    lecture_max = None\n",
    "    has_multiple = False\n",
    "    assignment_num = None\n",
    "    is_solution = False\n",
    "    exam_num = None\n",
    "    term_year = None\n",
    "\n",
    "    if \"chapters\" in parts_lower:\n",
    "        category = \"chapters\"\n",
    "        m = CHAPTER_DIR_RE.search(p.parent.name)\n",
    "        chapter_num = int(m.group(1)) if m else None\n",
    "        lec_nums = sorted({int(n) for n in LECTURE_IN_NAME_RE.findall(p.name)})\n",
    "        if lec_nums:\n",
    "            has_multiple = len(lec_nums) > 1\n",
    "            if len(lec_nums) == 1:\n",
    "                lecture_number = lec_nums[0]\n",
    "            lecture_min, lecture_max = min(lec_nums), max(lec_nums)\n",
    "\n",
    "    elif \"syllabus\" in parts_lower:\n",
    "        category = \"syllabus\"\n",
    "\n",
    "    elif \"assignments solutions\" in parts_joined:\n",
    "        category = \"assignments_solutions\"\n",
    "        is_solution = True\n",
    "        m = ASSIGNMENT_RE.search(p.stem)\n",
    "        assignment_num = int(m.group(1)) if m else None\n",
    "        lec_nums = sorted({int(n) for n in LECTURE_IN_NAME_RE.findall(p.name)})\n",
    "        if lec_nums:\n",
    "            has_multiple = len(lec_nums) > 1\n",
    "            if len(lec_nums) == 1:\n",
    "                lecture_number = lec_nums[0]\n",
    "            lecture_min, lecture_max = min(lec_nums), max(lec_nums)\n",
    "\n",
    "    elif \"assignments\" in parts_lower:\n",
    "        category = \"assignments\"\n",
    "        m = ASSIGNMENT_RE.search(p.stem)\n",
    "        assignment_num = int(m.group(1)) if m else None\n",
    "        lec_nums = sorted({int(n) for n in LECTURE_IN_NAME_RE.findall(p.name)})\n",
    "        if lec_nums:\n",
    "            has_multiple = len(lec_nums) > 1\n",
    "            if len(lec_nums) == 1:\n",
    "                lecture_number = lec_nums[0]\n",
    "            lecture_min, lecture_max = min(lec_nums), max(lec_nums)\n",
    "\n",
    "    elif \"previouses\" in parts_lower or \"exams\" in parts_lower:\n",
    "        category = \"exams\"\n",
    "        mdir = None\n",
    "        for anc in [p] + list(p.parents):\n",
    "            mdir = EXAM_DIR_RE.search(anc.name)\n",
    "            if mdir:\n",
    "                break\n",
    "        exam_num = int(mdir.group(1)) if mdir else None\n",
    "        if exam_num is not None:\n",
    "            exams_name_set.add(exam_num)\n",
    "\n",
    "        mterm = TERM_RE.search(p.stem)\n",
    "        if mterm:\n",
    "            term_year = int(mterm.group(2))\n",
    "        is_solution = bool(SOLUTION_RE.search(p.stem))\n",
    "\n",
    "    d.metadata.update({\n",
    "        \"course_id\": BASE_DIR.name,\n",
    "        \"category\": category,                  # chapters | syllabus | assignments | assignments_solutions | exams | other\n",
    "        \"chapter\": chapter_num,                # int or None\n",
    "        \"lecture_number\": lecture_number,      # int or None\n",
    "        \"lecture_min\": lecture_min,            # int or None\n",
    "        \"lecture_max\": lecture_max,            # int or None\n",
    "        \"has_multiple_lectures\": has_multiple, # bool\n",
    "        \"assignment_number\": assignment_num,   # int or None\n",
    "        \"exam_number\": exam_num,               # int or None\n",
    "        \"term_year\": term_year,                # int or None\n",
    "        \"is_solution\": is_solution,            # bool\n",
    "        \"doc_id\": p.stem,\n",
    "        \"filename\": p.name,\n",
    "        \"relpath\": str(p.relative_to(BASE_DIR)),\n",
    "    })\n"
   ]
  },
  {
   "cell_type": "code",
   "execution_count": 9,
   "id": "b5fbab0e",
   "metadata": {},
   "outputs": [
    {
     "data": {
      "text/plain": [
       "{1, 2}"
      ]
     },
     "execution_count": 9,
     "metadata": {},
     "output_type": "execute_result"
    }
   ],
   "source": [
    "exams_name_set # checking the exams that were returned"
   ]
  },
  {
   "cell_type": "code",
   "execution_count": 10,
   "id": "2f0c90be",
   "metadata": {},
   "outputs": [
    {
     "data": {
      "text/plain": [
       "set()"
      ]
     },
     "execution_count": 10,
     "metadata": {},
     "output_type": "execute_result"
    }
   ],
   "source": [
    "chapter_name_set # double checking"
   ]
  },
  {
   "cell_type": "code",
   "execution_count": 11,
   "id": "d1a6e687",
   "metadata": {},
   "outputs": [],
   "source": [
    "# this is the initial function i used when i was trying out stuff\n",
    "\n",
    "\n",
    "\n",
    "# now we need to update our meta data\n",
    "# chapter_name_set= set()\n",
    "# for d in raw_docs:\n",
    "#     p=Path(d.metadata[\"source\"])         \n",
    "#     parts=[x.lower() for x in p.parts]\n",
    "\n",
    "#     # checking the category of our data\n",
    "#     if \"chapters\" in parts:\n",
    "#         category=\"chapters\"\n",
    "#         chap_name=p.parent.name   \n",
    "#         chapter_name_set.add(chap_name) # keep track of our chapters that are loaded     \n",
    "#         m=re.search(r\"chapter\\s*(\\d+)\", chap_name, re.I) # this regex was provided by chatgpt\n",
    "#         chapter_num=int(m.group(1)) if m else None\n",
    "#     elif \"syllabus\" in parts:\n",
    "#         category=\"syllabus\"\n",
    "#         chapter_num=None\n",
    "#     elif \"previouses\" in parts:\n",
    "#         category=\"previouses\"\n",
    "#         chapter_num=None\n",
    "#     else:\n",
    "#         category=\"other\"\n",
    "#         chapter_num=None\n",
    "\n",
    "#     d.metadata.update({\n",
    "#         \"course_id\":BASE_DIR.name,                # \"signals and systems\"\n",
    "#         \"category\":category,                      # chapters | syllabus | previouses\n",
    "#         \"chapter\":chapter_num,             \n",
    "#         \"doc_id\": p.stem,\n",
    "#         \"filename\":p.name,\n",
    "#         \"relpath\":str(p.relative_to(BASE_DIR))\n",
    "#     })\n"
   ]
  },
  {
   "cell_type": "markdown",
   "id": "4a4d143a",
   "metadata": {},
   "source": [
    "## Document Splittings"
   ]
  },
  {
   "cell_type": "code",
   "execution_count": 12,
   "id": "467de41b",
   "metadata": {},
   "outputs": [],
   "source": [
    "\n",
    "r_splitter = RecursiveCharacterTextSplitter(\n",
    "    chunk_size=500, # Maximum size of chunks to return\n",
    "    chunk_overlap= 50 # Overlap in characters between chunks\n",
    ")\n",
    "docs=r_splitter.split_documents(raw_docs) # we are dealing with a list of documents not text, thats why we did not use split_text"
   ]
  },
  {
   "cell_type": "code",
   "execution_count": 13,
   "id": "a7468ef5",
   "metadata": {},
   "outputs": [
    {
     "data": {
      "text/plain": [
       "570"
      ]
     },
     "execution_count": 13,
     "metadata": {},
     "output_type": "execute_result"
    }
   ],
   "source": [
    "len(raw_docs) # number of loaded pages"
   ]
  },
  {
   "cell_type": "code",
   "execution_count": 14,
   "id": "4a35355b",
   "metadata": {},
   "outputs": [
    {
     "data": {
      "text/plain": [
       "685"
      ]
     },
     "execution_count": 14,
     "metadata": {},
     "output_type": "execute_result"
    }
   ],
   "source": [
    "len(docs) # number of chunks"
   ]
  },
  {
   "cell_type": "code",
   "execution_count": 15,
   "id": "a7a7b3db",
   "metadata": {},
   "outputs": [
    {
     "name": "stdout",
     "output_type": "stream",
     "text": [
      "..\\..\\Courses\\signals and systems\\Assigments\\Assignment1_Lecture2_Lecture3_Lecture4.pdf\n",
      "..\\..\\Courses\\signals and systems\\Assigments\\Assignment1_Lecture2_Lecture3_Lecture4.pdf\n",
      "..\\..\\Courses\\signals and systems\\Assigments\\Assignment1_Lecture2_Lecture3_Lecture4.pdf\n",
      "..\\..\\Courses\\signals and systems\\Assigments\\Assignment1_Lecture2_Lecture3_Lecture4.pdf\n",
      "..\\..\\Courses\\signals and systems\\Assigments\\Assignment1_Lecture2_Lecture3_Lecture4.pdf\n",
      "..\\..\\Courses\\signals and systems\\Assigments\\Assignment2_Lecture5_Lecture6.pdf\n",
      "..\\..\\Courses\\signals and systems\\Assigments\\Assignment2_Lecture5_Lecture6.pdf\n",
      "..\\..\\Courses\\signals and systems\\Assigments\\Assignment2_Lecture5_Lecture6.pdf\n",
      "..\\..\\Courses\\signals and systems\\Assigments\\Assignment2_Lecture5_Lecture6.pdf\n",
      "..\\..\\Courses\\signals and systems\\Assigments\\Assignment3_Lecture7_Lecture8_Lecture9.pdf\n",
      "..\\..\\Courses\\signals and systems\\Assigments\\Assignment3_Lecture7_Lecture8_Lecture9.pdf\n",
      "..\\..\\Courses\\signals and systems\\Assigments\\Assignment3_Lecture7_Lecture8_Lecture9.pdf\n",
      "..\\..\\Courses\\signals and systems\\Assigments\\Assignment3_Lecture7_Lecture8_Lecture9.pdf\n",
      "..\\..\\Courses\\signals and systems\\Assigments\\Assignment3_Lecture7_Lecture8_Lecture9.pdf\n",
      "..\\..\\Courses\\signals and systems\\Assigments\\Assignment3_Lecture7_Lecture8_Lecture9.pdf\n",
      "..\\..\\Courses\\signals and systems\\Assigments\\Assignment3_Lecture7_Lecture8_Lecture9.pdf\n",
      "..\\..\\Courses\\signals and systems\\Assigments\\Assignment3_Lecture7_Lecture8_Lecture9.pdf\n",
      "..\\..\\Courses\\signals and systems\\Assigments\\Assignment4_Lecture10_Lecture11_Lecture12.pdf\n",
      "..\\..\\Courses\\signals and systems\\Assigments\\Assignment4_Lecture10_Lecture11_Lecture12.pdf\n",
      "..\\..\\Courses\\signals and systems\\Assigments\\Assignment4_Lecture10_Lecture11_Lecture12.pdf\n",
      "..\\..\\Courses\\signals and systems\\Assigments\\Assignment4_Lecture10_Lecture11_Lecture12.pdf\n",
      "..\\..\\Courses\\signals and systems\\Assigments\\Assignment4_Lecture10_Lecture11_Lecture12.pdf\n",
      "..\\..\\Courses\\signals and systems\\Assigments\\Assignment4_Lecture10_Lecture11_Lecture12.pdf\n",
      "..\\..\\Courses\\signals and systems\\Assigments\\Assignment4_Lecture10_Lecture11_Lecture12.pdf\n",
      "..\\..\\Courses\\signals and systems\\Assigments\\Assignment4_Lecture10_Lecture11_Lecture12.pdf\n",
      "..\\..\\Courses\\signals and systems\\Assigments\\Assignment4_Lecture10_Lecture11_Lecture12.pdf\n",
      "..\\..\\Courses\\signals and systems\\Assigments\\Assignment4_Lecture10_Lecture11_Lecture12.pdf\n",
      "..\\..\\Courses\\signals and systems\\Assigments\\Assignment4_Lecture10_Lecture11_Lecture12.pdf\n",
      "..\\..\\Courses\\signals and systems\\Assigments\\Assignment5_Lecture13.pdf\n",
      "..\\..\\Courses\\signals and systems\\Assigments\\Assignment5_Lecture13.pdf\n"
     ]
    }
   ],
   "source": [
    "# checking the consistency of our metadata\n",
    "for i in range(30):\n",
    "    print(docs[i].metadata['source'])"
   ]
  },
  {
   "cell_type": "code",
   "execution_count": 16,
   "id": "e8488cc9",
   "metadata": {},
   "outputs": [
    {
     "name": "stdout",
     "output_type": "stream",
     "text": [
      "Assignment 01\n",
      "Lectures: 2, 3, 4\n",
      "Exercise 1: Plot the following continuous-time signals:\n",
      "1. f(t) = −6rect(t) cos(3πt).\n",
      "2. f(t) = rect(t)tri(t + 1\n",
      "2).\n",
      "3. f(t) = −ramp(t)u(t −2).\n",
      "4. f(t) = 2tri(2t\n",
      "3 ) + 3rect( t\n",
      "3).\n",
      "Exercise 2: Consider the systems described by the following input-output\n",
      "relations x(t) →y(t):\n",
      "1. y(t) = x(t −1) −x(t −5).\n",
      "2. y(t) = |t|x(t).\n",
      "3. y(t) = (x(t))2 −x(t −1).\n",
      "Study the linearity, time-invariance and causality of the above systems. Jus-\n",
      "tify your answers.\n"
     ]
    }
   ],
   "source": [
    "print(docs[0].page_content)\n"
   ]
  },
  {
   "cell_type": "code",
   "execution_count": 17,
   "id": "ec2c66c3",
   "metadata": {},
   "outputs": [
    {
     "data": {
      "text/plain": [
       "479"
      ]
     },
     "execution_count": 17,
     "metadata": {},
     "output_type": "execute_result"
    }
   ],
   "source": [
    "len(docs[0].page_content.strip())"
   ]
  },
  {
   "cell_type": "markdown",
   "id": "37c74ece",
   "metadata": {},
   "source": [
    "## Vector Stores and Embeddings"
   ]
  },
  {
   "cell_type": "code",
   "execution_count": 3,
   "id": "7a1fca74",
   "metadata": {},
   "outputs": [],
   "source": [
    "from langchain.embeddings.openai import OpenAIEmbeddings\n",
    "embedding = OpenAIEmbeddings()"
   ]
  },
  {
   "cell_type": "code",
   "execution_count": 19,
   "id": "335a33ca",
   "metadata": {},
   "outputs": [],
   "source": [
    "from langchain.vectorstores import Chroma\n",
    "persist_directory = '../docs/chroma/'\n",
    "vectordb = Chroma.from_documents(\n",
    "    documents=docs,\n",
    "    embedding=embedding,\n",
    "    collection_name=\"ele430_signals\",\n",
    "    persist_directory=persist_directory\n",
    ")"
   ]
  },
  {
   "cell_type": "markdown",
   "id": "ded4c7bf",
   "metadata": {},
   "source": [
    "## Retrieval"
   ]
  },
  {
   "cell_type": "code",
   "execution_count": 374,
   "id": "586a4760",
   "metadata": {},
   "outputs": [],
   "source": [
    "from langchain.llms import OpenAI\n",
    "from langchain.retrievers.self_query.base import SelfQueryRetriever\n",
    "from langchain.chains.query_constructor.base import AttributeInfo"
   ]
  },
  {
   "cell_type": "code",
   "execution_count": 375,
   "id": "1bf5f640",
   "metadata": {},
   "outputs": [],
   "source": [
    "metadata_field_info = [\n",
    "    AttributeInfo(name=\"category\", type=\"string\", description=\"chapters | syllabus | assignments | assignments_solutions | previouses\"),\n",
    "    AttributeInfo(name=\"chapter\", type=\"integer\", description=\"Chapter number\"),\n",
    "    AttributeInfo(name=\"lecture_number\", type=\"integer\", description=\"Exact lecture number when the file is a single lecture\"),\n",
    "    AttributeInfo(name=\"lecture_min\", type=\"integer\", description=\"Smallest lecture number contained in the file\"),\n",
    "    AttributeInfo(name=\"lecture_max\", type=\"integer\", description=\"Largest lecture number contained in the file\"),\n",
    "    AttributeInfo(name=\"assignment_number\", type=\"integer\", description=\"Assignment index\"),\n",
    "    AttributeInfo(name=\"is_solution\", type=\"bool\", description=\"True if solution file\"),\n",
    "    AttributeInfo(name=\"exam_number\", type=\"integer\", description=\"Exam index\"),\n",
    "    AttributeInfo(name=\"term_year\", type=\"integer\", description=\"Year for exams\"),\n",
    "]"
   ]
  },
  {
   "cell_type": "code",
   "execution_count": 376,
   "id": "d41ebf0b",
   "metadata": {},
   "outputs": [],
   "source": [
    "from langchain.retrievers.self_query.base import SelfQueryRetriever"
   ]
  },
  {
   "cell_type": "code",
   "execution_count": 377,
   "id": "e6b2988c",
   "metadata": {},
   "outputs": [],
   "source": [
    "from langchain_openai import OpenAI\n",
    "document_content_description = \"Signals and Systems\"\n",
    "llm = OpenAI(temperature=0)\n",
    "retriever = SelfQueryRetriever.from_llm(\n",
    "    llm,\n",
    "    vectordb,\n",
    "    document_contents=document_content_description,\n",
    "    metadata_field_info=metadata_field_info,\n",
    "    verbose=True\n",
    ")"
   ]
  },
  {
   "cell_type": "code",
   "execution_count": 378,
   "id": "71f0d559",
   "metadata": {},
   "outputs": [],
   "source": [
    "from langchain.chains import  ConversationalRetrievalChain"
   ]
  },
  {
   "cell_type": "code",
   "execution_count": 379,
   "id": "7134e941",
   "metadata": {},
   "outputs": [],
   "source": [
    "qa = ConversationalRetrievalChain.from_llm(\n",
    "    llm=llm,\n",
    "    retriever=retriever,\n",
    "    chain_type=\"map_reduce\", # depending on the state, might be refine (mostprobably)\n",
    "    return_source_documents=True,\n",
    "    )"
   ]
  },
  {
   "cell_type": "code",
   "execution_count": 380,
   "id": "57f5fe26",
   "metadata": {},
   "outputs": [
    {
     "name": "stdout",
     "output_type": "stream",
     "text": [
      "ANSWER:\n",
      "  The Fourier series is discussed in lectures 7, 8, and 9. \n",
      "\n",
      "SOURCES:\n",
      "[1] syllabus | chapter=None | lecture#=None | range=None-None | page=3 | file=syllabus ELE430.pdf | rel=syllabus\\syllabus ELE430.pdf\n",
      "[2] syllabus | chapter=None | lecture#=None | range=None-None | page=1 | file=syllabus ELE430.pdf | rel=syllabus\\syllabus ELE430.pdf\n",
      "[3] syllabus | chapter=None | lecture#=None | range=None-None | page=2 | file=syllabus ELE430.pdf | rel=syllabus\\syllabus ELE430.pdf\n",
      "[4] syllabus | chapter=None | lecture#=None | range=None-None | page=None | file=syllabus ELE430.pdf | rel=syllabus\\syllabus ELE430.pdf\n"
     ]
    }
   ],
   "source": [
    "# Ask a Lecture 1 question (will trigger the self-query filter)\n",
    "question = (\n",
    "    \"\"\"\n",
    "    based on the syllabus, in which lectures is the fourier series discussed.\n",
    "    \"\"\"\n",
    ")\n",
    "\n",
    "resp = qa({\"question\": question, \"chat_history\": []})\n",
    "\n",
    "print(\"ANSWER:\\n\", resp[\"answer\"], \"\\n\")\n",
    "\n",
    "print(\"SOURCES:\")\n",
    "for i, doc in enumerate(resp.get(\"source_documents\", []), 1):\n",
    "    md = doc.metadata\n",
    "    page = md.get(\"page\") or md.get(\"page_or_slide\") or md.get(\"page_label\")\n",
    "    print(\n",
    "        f\"[{i}] {md.get('category')} | chapter={md.get('chapter')} \"\n",
    "        f\"| lecture#={md.get('lecture_number')} | range={md.get('lecture_min')}-{md.get('lecture_max')} \"\n",
    "        f\"| page={page} | file={md.get('filename')} | rel={md.get('relpath')}\"\n",
    "    )\n"
   ]
  },
  {
   "cell_type": "markdown",
   "id": "9ac00e67",
   "metadata": {},
   "source": [
    "The advantage of this adopted retriver is that we will be the stone of our approach for performing an educated search in our data, without scraping all the files."
   ]
  },
  {
   "cell_type": "markdown",
   "id": "5e33e7e4",
   "metadata": {},
   "source": [
    "# Creating our RAG built up method"
   ]
  },
  {
   "cell_type": "code",
   "execution_count": null,
   "id": "feb4a61b",
   "metadata": {},
   "outputs": [],
   "source": [
    "\n",
    "from typing import Sequence, Union\n",
    "from langchain_core.language_models import BaseLanguageModel\n",
    "from langchain.chains.query_constructor.schema import AttributeInfo\n",
    "from langchain_core.vectorstores import VectorStore\n",
    "from langchain.chains.conversational_retrieval.base import BaseConversationalRetrievalChain\n",
    "\n",
    "def educated_retriever(llm: BaseLanguageModel,\n",
    "                       metadata_field_info: Sequence[Union[AttributeInfo, dict]],\n",
    "                       document_content: str,\n",
    "                       vectordb: VectorStore,\n",
    "                       chain_type: str =\"map reduce\") -> BaseConversationalRetrievalChain:\n",
    "    \"\"\"_summary_\n",
    "    Builds a conversational retrieval QA pipeline by combining a SelfQueryRetriever (LLM-guided vector search + structured metadata filters) with a ConversationalRetrievalChain. \n",
    "    Given metadata field descriptions and a natural-language summary of the document contents, it lets the agent translate user questions into filtered vector store queries, handle follow-ups using chat history, and return answers with cited source documents.\n",
    "\n",
    "    Inputs:\n",
    "    - llm (BaseLanguageModel): LLM used to infer filters and generate answers.\n",
    "    - metadata_field_info (Sequence[Union[AttributeInfo, dict]]): Descriptions of filterable metadata fields (name/type/description/constraints).\n",
    "    - document_content (str): Plain-language description of what each document represents.\n",
    "    - vectordb (VectorStore): Backing vector store containing embedded documents.\n",
    "    - chain_type (str, optional): QA chain type (e.g., \"stuff\", \"map_reduce\", \"refine\", \"map_rerank\"). Default: \"map reduce\".\n",
    "\n",
    "    Return type:\n",
    "    - BaseConversationalRetrievalChain — a callable chain expecting {\"question\": str, \"chat_history\": list[tuple[str, str]]}\n",
    "    and returning {\"answer\": str, \"source_documents\": List[Document], ...}.\n",
    "    \"\"\"\n",
    "\n",
    "    retriever = SelfQueryRetriever.from_llm(\n",
    "        llm,\n",
    "        vectordb,\n",
    "        document_contents=document_content,\n",
    "        metadata_field_info=metadata_field_info,\n",
    "        verbose=True)\n",
    "    qa = ConversationalRetrievalChain.from_llm(\n",
    "    llm=llm,\n",
    "    retriever=retriever,\n",
    "    chain_type=chain_type, # depending on the state, might be refine (mostprobably)\n",
    "    return_source_documents=True,\n",
    "    )\n",
    "    return qa"
   ]
  },
  {
   "cell_type": "markdown",
   "id": "e5fe2004",
   "metadata": {},
   "source": [
    "## RAG CLASS"
   ]
  },
  {
   "cell_type": "code",
   "execution_count": 382,
   "id": "bbfbd775",
   "metadata": {},
   "outputs": [],
   "source": [
    "from typing import TypedDict, List, Tuple, Dict, Any, Optional\n",
    "from langchain.chains.query_constructor.base import AttributeInfo\n",
    "from langchain_openai.chat_models import ChatOpenAI\n",
    "from langgraph.graph import StateGraph, START,END"
   ]
  },
  {
   "cell_type": "markdown",
   "id": "c4ba8b1f",
   "metadata": {},
   "source": [
    "Using chatgpt, i wrapped up all the above setup in a class code"
   ]
  },
  {
   "cell_type": "code",
   "execution_count": 384,
   "id": "9feba5de",
   "metadata": {},
   "outputs": [],
   "source": [
    "from langgraph.graph import START, MessagesState, StateGraph\n",
    "class AgentState(MessagesState):\n",
    "    \"\"\"The state of the agent.\"\"\"\n",
    "    response: str\n",
    "    "
   ]
  },
  {
   "cell_type": "code",
   "execution_count": null,
   "id": "c80e3523",
   "metadata": {},
   "outputs": [],
   "source": [
    "from langchain.tools import BaseTool\n",
    "from pydantic import BaseModel, Field\n",
    "from typing import Optional, Type, Annotated\n",
    "\n",
    "class RAGSearchInput(BaseModel):\n",
    "    \"\"\"Input schema for the RAG search tool\"\"\"\n",
    "    query: str = Field(..., description=\"The query to search for in the course materials\")\n",
    "    course_path: Optional[str] = Field(default=None, description=\"Path to the course materials\")\n",
    "    chain_type: Optional[str] = Field(default=\"map_reduce\", description=\"Chain type for the QA system\")\n",
    "\n",
    "class RAGSearchTool(BaseTool):\n",
    "    \"\"\"\n",
    "    A tool that implements educated RAG search capabilities for course materials.\n",
    "    Built on top of the educated_retriever implementation.\n",
    "    \"\"\"\n",
    "    name: Annotated[str, Field(description=\"Name of the tool\")] = \"educated_course_material_search\"\n",
    "    description: Annotated[str, Field(description=\"Description of the tool\")] = \"\"\"\n",
    "    Search through course materials using an educated RAG approach.\n",
    "    Uses metadata filtering and conversational capabilities to provide relevant information.\n",
    "    \"\"\"\n",
    "    args_schema: Type[BaseModel] = RAGSearchInput\n",
    "    default_course_path: Path = None\n",
    "    def __init__(self, default_course_path: Optional[Path] = None):\n",
    "        super().__init__()\n",
    "        self.default_course_path = default_course_path or Path(\"../../Courses/signals and systems\")\n",
    "        self._qa_chain = None\n",
    "        self._metadata_field_info = None\n",
    "        self._vectordb = None\n",
    "        \n",
    "    def _initialize_components(self):\n",
    "        \"\"\"Initialize the RAG components if not already initialized\"\"\"\n",
    "        if self._qa_chain is None:\n",
    "            # [Rest of the implementation remains the same]\n",
    "            # Load documents\n",
    "            loader = DirectoryLoader(\n",
    "                str(self.default_course_path),\n",
    "                glob=\"**/*.pdf\",\n",
    "                loader_cls=PyMuPDFLoader,\n",
    "            )\n",
    "            raw_docs = loader.load()\n",
    "            \n",
    "            # Process metadata\n",
    "            for d in raw_docs:\n",
    "                p = Path(d.metadata[\"source\"])\n",
    "                parts_lower = [x.lower() for x in p.parts]\n",
    "                \n",
    "                # Initialize metadata with defaults\n",
    "                metadata = {\n",
    "                    \"category\": \"other\",\n",
    "                    \"chapter\": None,\n",
    "                    \"lecture_number\": None,\n",
    "                    \"lecture_min\": None,\n",
    "                    \"lecture_max\": None,\n",
    "                    \"has_multiple_lectures\": False,\n",
    "                    \"assignment_number\": None,\n",
    "                    \"is_solution\": False,\n",
    "                    \"exam_number\": None,\n",
    "                    \"term_year\": None,\n",
    "                }\n",
    "                \n",
    "                # Update metadata based on file location\n",
    "                if \"chapters\" in parts_lower:\n",
    "                    metadata[\"category\"] = \"chapters\"\n",
    "                    m = re.search(r\"chapter\\s*(\\d+)\", p.parent.name, re.I)\n",
    "                    metadata[\"chapter\"] = int(m.group(1)) if m else None\n",
    "                    lec_nums = sorted({int(n) for n in re.findall(r\"lecture\\s*(\\d+)\", p.name, re.I)})\n",
    "                    if lec_nums:\n",
    "                        metadata[\"has_multiple_lectures\"] = len(lec_nums) > 1\n",
    "                        metadata[\"lecture_number\"] = lec_nums[0] if len(lec_nums) == 1 else None\n",
    "                        metadata[\"lecture_min\"], metadata[\"lecture_max\"] = min(lec_nums), max(lec_nums)\n",
    "                elif \"syllabus\" in parts_lower:\n",
    "                    metadata[\"category\"] = \"syllabus\"\n",
    "                elif \"assignments\" in parts_lower:\n",
    "                    metadata[\"category\"] = \"assignments\"\n",
    "                    if \"solutions\" in parts_lower:\n",
    "                        metadata[\"is_solution\"] = True\n",
    "                    m = re.search(r\"assignment\\s*(\\d+)\", p.stem, re.I)\n",
    "                    metadata[\"assignment_number\"] = int(m.group(1)) if m else None\n",
    "                elif any(x in parts_lower for x in [\"previouses\", \"exams\"]):\n",
    "                    metadata[\"category\"] = \"exams\"\n",
    "                    m = re.search(r\"exam\\s*(\\d+)\", p.name, re.I)\n",
    "                    metadata[\"exam_number\"] = int(m.group(1)) if m else None\n",
    "                    m_term = re.search(r\"(spring|fall)\\s*(\\d{4})\", p.stem, re.I)\n",
    "                    if m_term:\n",
    "                        metadata[\"term_year\"] = int(m_term.group(2))\n",
    "                    metadata[\"is_solution\"] = bool(re.search(r\"solution\", p.stem, re.I))\n",
    "                \n",
    "                d.metadata.update(metadata)\n",
    "            \n",
    "            # Split documents\n",
    "            splitter = RecursiveCharacterTextSplitter(\n",
    "                chunk_size=1500,\n",
    "                chunk_overlap=250\n",
    "            )\n",
    "            split_docs = splitter.split_documents(raw_docs)\n",
    "            \n",
    "            # Create vector store\n",
    "            embeddings = OpenAIEmbeddings()\n",
    "            self._vectordb = Chroma.from_documents(\n",
    "                documents=split_docs,\n",
    "                embedding=embeddings,\n",
    "                collection_name=\"course_materials\",\n",
    "                persist_directory=\"../docs/chroma/\"\n",
    "            )\n",
    "            \n",
    "            # Define metadata fields\n",
    "            self._metadata_field_info = [\n",
    "                AttributeInfo(name=\"category\", type=\"string\", \n",
    "                            description=\"Type of document: chapters | syllabus | assignments | exams\"),\n",
    "                AttributeInfo(name=\"chapter\", type=\"integer\", \n",
    "                            description=\"Chapter number\"),\n",
    "                AttributeInfo(name=\"lecture_number\", type=\"integer\", \n",
    "                            description=\"Specific lecture number\"),\n",
    "                AttributeInfo(name=\"lecture_min\", type=\"integer\", \n",
    "                            description=\"First lecture number in range\"),\n",
    "                AttributeInfo(name=\"lecture_max\", type=\"integer\", \n",
    "                            description=\"Last lecture number in range\"),\n",
    "                AttributeInfo(name=\"assignment_number\", type=\"integer\", \n",
    "                            description=\"Assignment number\"),\n",
    "                AttributeInfo(name=\"is_solution\", type=\"boolean\", \n",
    "                            description=\"Whether document is a solution\"),\n",
    "                AttributeInfo(name=\"exam_number\", type=\"integer\", \n",
    "                            description=\"Exam number\"),\n",
    "                AttributeInfo(name=\"term_year\", type=\"integer\", \n",
    "                            description=\"Academic year\")\n",
    "            ]\n",
    "            \n",
    "            # Create the QA chain using educated_retriever\n",
    "            llm = ChatOpenAI(temperature=0)\n",
    "            self._qa_chain = educated_retriever(\n",
    "                llm=llm,\n",
    "                metadata_field_info=self._metadata_field_info,\n",
    "                document_content=\"Course materials for Signals and Systems\",\n",
    "                vectordb=self._vectordb,\n",
    "                chain_type=\"map_reduce\"\n",
    "            )\n",
    "    \n",
    "    def _run(\n",
    "        self,\n",
    "        query: str,\n",
    "        course_path: Optional[str] = None,\n",
    "        chain_type: Optional[str] = None,          # kept for compatibility; ignored unless you want to rebuild\n",
    "        category: Optional[str] = None,\n",
    "        chapter: Optional[int] = None,\n",
    "        lecture_number: Optional[int] = None,\n",
    "        k: int = 5,\n",
    "    ) -> str:\n",
    "        \"\"\"Execute the RAG search (optionally constrained by metadata filters).\"\"\"\n",
    "\n",
    "        # Allow switching course on the fly\n",
    "        if course_path:\n",
    "            self.default_course_path = Path(course_path)\n",
    "            self._qa_chain = None  # Force re-init for new corpus\n",
    "\n",
    "        # Make sure components exist\n",
    "        self._initialize_components()\n",
    "\n",
    "        # Build a HARD filter (ANDed with SQR’s inferred filter)\n",
    "        # Keep it Chroma-friendly: primitives + {$lte,$gte} for ranges\n",
    "        flt = {}\n",
    "        if category:\n",
    "            flt[\"category\"] = category\n",
    "        if chapter is not None:\n",
    "            flt[\"chapter\"] = chapter\n",
    "        # If a single lecture number is requested, match exact or within [lecture_min, lecture_max]\n",
    "        if lecture_number is not None:\n",
    "            # Use an $or across exact number OR range gate (Chroma supports $and/$or/$lte/$gte)\n",
    "            lecture_gate = {\n",
    "                \"$or\": [\n",
    "                    {\"lecture_number\": lecture_number},\n",
    "                    {\"$and\": [\n",
    "                        {\"lecture_min\": {\"$lte\": lecture_number}},\n",
    "                        {\"lecture_max\": {\"$gte\": lecture_number}},\n",
    "                    ]}\n",
    "                ]\n",
    "            }\n",
    "            # Merge $or with any existing filter via $and (if needed)\n",
    "            if flt:\n",
    "                flt = {\"$and\": [flt, lecture_gate]}\n",
    "            else:\n",
    "                flt = lecture_gate\n",
    "\n",
    "        # Stash current search kwargs, then apply ours temporarily\n",
    "        retr = self._qa_chain.retriever\n",
    "        orig_kwargs = dict(getattr(retr, \"search_kwargs\", {}) or {})\n",
    "        try:\n",
    "            new_kwargs = {\"k\": k}\n",
    "            if flt:\n",
    "                new_kwargs[\"filter\"] = flt\n",
    "            # Update (temporary)\n",
    "            retr.search_kwargs.update(new_kwargs)\n",
    "\n",
    "            # Run QA\n",
    "            response = self._qa_chain({\"question\": query, \"chat_history\": []})\n",
    "\n",
    "            # Format response\n",
    "            answer = (response.get(\"answer\") or \"\").strip()\n",
    "            sources = []\n",
    "            for i, doc in enumerate(response.get(\"source_documents\", []) or [], 1):\n",
    "                md = doc.metadata or {}\n",
    "                parts = [f\"[{i}] {md.get('category', 'unknown')}\"]\n",
    "                if md.get(\"chapter\") is not None:\n",
    "                    parts.append(f\"Chapter {md.get('chapter')}\")\n",
    "                if md.get(\"lecture_number\") is not None:\n",
    "                    parts.append(f\"Lecture {md.get('lecture_number')}\")\n",
    "                else:\n",
    "                    # show range if present\n",
    "                    lmin, lmax = md.get(\"lecture_min\"), md.get(\"lecture_max\")\n",
    "                    if isinstance(lmin, int) or isinstance(lmax, int):\n",
    "                        parts.append(f\"Lectures {lmin}–{lmax}\")\n",
    "                page = md.get(\"page\") or md.get(\"page_or_slide\")\n",
    "                if page is not None:\n",
    "                    parts.append(f\"p.{page}\")\n",
    "                parts.append(md.get(\"filename\", \"unknown file\"))\n",
    "                sources.append(\" | \".join(parts))\n",
    "\n",
    "            return (\n",
    "                f\"Answer: {answer}\\n\\n\"\n",
    "                \"Sources:\\n\" + (\"\\n\".join(sources) if sources else \"(none)\")\n",
    "            )\n",
    "\n",
    "        except Exception as e:\n",
    "            return f\"Error: {e!r}\"\n",
    "        finally:\n",
    "            # Always restore retriever kwargs so filters don't leak across tool calls\n",
    "            retr.search_kwargs.clear()\n",
    "            retr.search_kwargs.update(orig_kwargs)\n",
    "            \n"
   ]
  },
  {
   "cell_type": "code",
   "execution_count": 387,
   "id": "f154fcad",
   "metadata": {},
   "outputs": [
    {
     "name": "stdout",
     "output_type": "stream",
     "text": [
      "\n",
      "Query: Tell me about the Fourier series lectures\n",
      "================================================================================\n",
      "Answer: The Fourier series lectures cover various topics related to Fourier series, including an introduction, preliminaries, orthogonality of complex exponential functions, orthogonality of sinusoidal functions, exponential form of the Fourier series, trigonometric continuous-time Fourier series, the trigonometric Fourier series for even and odd functions, exponential and trigonometric forms, and Parseval's Theorem. Additionally, there are lectures on calculating the Fourier series with examples, as well as discussions on Fourier series and LTI systems, including topics such as impulse response, transfer function, filters, and examples.\n",
      "\n",
      "Sources:\n",
      "[1] chapters | Chapter 2 | Lecture 9 | unknown file\n",
      "[2] chapters | Chapter 2 | Lecture 9 | unknown file\n",
      "[3] chapters | Chapter 2 | Lecture 9 | unknown file\n",
      "[4] chapters | Chapter 2 | Lecture 9 | unknown file\n",
      "[5] chapters | Chapter 2 | Lecture 9 | unknown file\n",
      "================================================================================\n",
      "\n",
      "Query: Where can I find practice problems for transforms?\n",
      "================================================================================\n",
      "Answer: The Fourier series lectures cover various topics related to Fourier series, including an introduction, preliminaries, orthogonality of complex exponential functions, orthogonality of sinusoidal functions, exponential form of the Fourier series, trigonometric continuous-time Fourier series, the trigonometric Fourier series for even and odd functions, exponential and trigonometric forms, and Parseval's Theorem. Additionally, there are lectures on calculating the Fourier series with examples, as well as discussions on Fourier series and LTI systems, including topics such as impulse response, transfer function, filters, and examples.\n",
      "\n",
      "Sources:\n",
      "[1] chapters | Chapter 2 | Lecture 9 | unknown file\n",
      "[2] chapters | Chapter 2 | Lecture 9 | unknown file\n",
      "[3] chapters | Chapter 2 | Lecture 9 | unknown file\n",
      "[4] chapters | Chapter 2 | Lecture 9 | unknown file\n",
      "[5] chapters | Chapter 2 | Lecture 9 | unknown file\n",
      "================================================================================\n",
      "\n",
      "Query: Where can I find practice problems for transforms?\n",
      "================================================================================\n",
      "Answer: I don't know.\n",
      "\n",
      "Sources:\n",
      "(none)\n",
      "================================================================================\n",
      "\n",
      "Query: What's the grading policy according to the syllabus?\n",
      "================================================================================\n",
      "Answer: I don't know.\n",
      "\n",
      "Sources:\n",
      "(none)\n",
      "================================================================================\n",
      "\n",
      "Query: What's the grading policy according to the syllabus?\n",
      "================================================================================\n",
      "Answer: The grading policy according to the syllabus is as follows:\n",
      "- Students caught cheating on an exam will receive a grade of zero on the exam in the first cheating attempt and a warning.\n",
      "- For a second cheating offense in the same course, the student will receive an F grade in the course and a second warning.\n",
      "- A grade of zero on an exam resulting from cheating must be counted in the student’s course grade and cannot be dropped when computing the final grade.\n",
      "\n",
      "Sources:\n",
      "[1] syllabus | p.3 | unknown file\n",
      "[2] syllabus | p.3 | unknown file\n",
      "[3] syllabus | p.3 | unknown file\n",
      "[4] syllabus | p.3 | unknown file\n",
      "[5] syllabus | p.3 | unknown file\n",
      "================================================================================\n",
      "Answer: The grading policy according to the syllabus is as follows:\n",
      "- Students caught cheating on an exam will receive a grade of zero on the exam in the first cheating attempt and a warning.\n",
      "- For a second cheating offense in the same course, the student will receive an F grade in the course and a second warning.\n",
      "- A grade of zero on an exam resulting from cheating must be counted in the student’s course grade and cannot be dropped when computing the final grade.\n",
      "\n",
      "Sources:\n",
      "[1] syllabus | p.3 | unknown file\n",
      "[2] syllabus | p.3 | unknown file\n",
      "[3] syllabus | p.3 | unknown file\n",
      "[4] syllabus | p.3 | unknown file\n",
      "[5] syllabus | p.3 | unknown file\n",
      "================================================================================\n"
     ]
    }
   ],
   "source": [
    "# Create an instance of the RAG search tool\n",
    "rag_tool = RAGSearchTool()\n",
    "\n",
    "# Example queries\n",
    "queries = [\n",
    "    \"Tell me about the Fourier series lectures\",\n",
    "    \"Where can I find practice problems for transforms?\",\n",
    "    \"What's the grading policy according to the syllabus?\",\n",
    "]\n",
    "\n",
    "# Test the tool\n",
    "for query in queries:\n",
    "    print(f\"\\nQuery: {query}\")\n",
    "    print(\"=\" * 80)\n",
    "    result = rag_tool._run(query=query)\n",
    "    print(result)\n",
    "    print(\"=\" * 80)"
   ]
  },
  {
   "cell_type": "markdown",
   "id": "a0640e38",
   "metadata": {},
   "source": [
    "### Tryout"
   ]
  },
  {
   "cell_type": "code",
   "execution_count": null,
   "id": "0fc2abb5",
   "metadata": {},
   "outputs": [],
   "source": [
    "from langchain.agents import create_tool_calling_agent, AgentExecutor\n",
    "from langchain_core.prompts import ChatPromptTemplate, MessagesPlaceholder\n",
    "from langchain_openai import ChatOpenAI\n",
    "\n",
    "TOOLS = [probe_topic]\n",
    "\n",
    "SYSTEM_PROMPT = (\n",
    "    \"You are a Signals & Systems tutoring planner.\\n\"\n",
    "    \"Workflow (max 2 tool calls):\\n\"\n",
    "    \"1) Call tool `probe_topic` ONCE with intent='material'. \"\n",
    "    \"   Extract the topic from the user input.\\n\"\n",
    "    \"\"\"\n",
    "    you will be provided with the sources of the lectures and where to scrape, you are to search using the rag in the provided lecture sources, and retrieve all the information related to the course content \n",
    "    then you need to summarize your results (what is being discussed) in no more than 250 words. \n",
    "    \"\"\"\n",
    ")\n",
    "\n",
    "prompt = ChatPromptTemplate.from_messages([\n",
    "    (\"system\", SYSTEM_PROMPT),\n",
    "    (\"human\", \"{input}\"),\n",
    "    MessagesPlaceholder(\"agent_scratchpad\"),\n",
    "])\n",
    "\n",
    "llm = ChatOpenAI(model=\"gpt-4o-mini\", temperature=0)\n",
    "\n",
    "content_agent = create_tool_calling_agent(llm, TOOLS, prompt)\n",
    "planner = AgentExecutor(\n",
    "    agent=content_agent,\n",
    "    tools=TOOLS,\n",
    "    max_iterations=3,          # presence + resources + final reply\n",
    "    handle_parsing_errors=True,\n",
    "    verbose=True,\n",
    ")\n",
    "\n",
    "tool_node = ToolNode(TOOLS)\n",
    "\n",
    "def should_continue(state: GraphState) -> str:\n",
    "    last = (state.get(\"messages\") or [])[-1]\n",
    "    if isinstance(last, AIMessage) and last.tool_calls:\n",
    "        return \"tools\"\n",
    "    return \"summarize\"\n"
   ]
  },
  {
   "cell_type": "code",
   "execution_count": 143,
   "id": "d9384ea2",
   "metadata": {},
   "outputs": [],
   "source": [
    "def educated_course_material_search(\n",
    "    query: str,\n",
    "    course_path: Optional[str] = None,\n",
    "    chain_type: str = \"map_reduce\",\n",
    "    category: Optional[str] = None,\n",
    "    chapter: Optional[int] = None,\n",
    "    lecture_number: Optional[int] = None,\n",
    "    k: int = 5,\n",
    ") -> str:\n",
    "    \"\"\"\n",
    "    Educated RAG over the course corpus with optional metadata filters.\n",
    "    Returns a formatted string (answer + sources).\n",
    "    \"\"\"\n",
    "    return rag_tool._run(\n",
    "        query=query,\n",
    "        course_path=course_path,\n",
    "        chain_type=chain_type,\n",
    "        category=category,\n",
    "        chapter=chapter,\n",
    "        lecture_number=lecture_number,\n",
    "        k=k,\n",
    "    )"
   ]
  },
  {
   "cell_type": "code",
   "execution_count": 389,
   "id": "738b57ba",
   "metadata": {},
   "outputs": [
    {
     "data": {
      "text/plain": [
       "'Answer: Lectures 10, 11, and 12 discuss the Fourier Transform (FT).\\n\\nSources:\\n[1] syllabus | p.3 | unknown file\\n[2] syllabus | p.3 | unknown file\\n[3] syllabus | unknown file\\n[4] syllabus | unknown file\\n[5] syllabus | unknown file'"
      ]
     },
     "execution_count": 389,
     "metadata": {},
     "output_type": "execute_result"
    }
   ],
   "source": [
    "rag_tool._run(query=\"which lectures discuss fourier transform\", category=\"syllabus\", k=5)"
   ]
  },
  {
   "cell_type": "markdown",
   "id": "2fb7a215",
   "metadata": {},
   "source": [
    "## Agent 1: Relevance Checker"
   ]
  },
  {
   "cell_type": "code",
   "execution_count": null,
   "id": "d1b5ba91",
   "metadata": {},
   "outputs": [],
   "source": [
    "# ---- PROBE TOPIC TOOL (presence | material | exercises | tests | resources) ----\n",
    "from typing import Literal, Dict, Any, List, Optional\n",
    "from pydantic import BaseModel, Field\n",
    "from langchain_core.tools import StructuredTool\n",
    "import json, re\n",
    "\n",
    "class ProbeArgs(BaseModel):\n",
    "    topic: str\n",
    "    intent: Literal[\"presence\", \"material\", \"exercises\", \"tests\", \"resources\"] = \"presence\"\n",
    "    lectures: Optional[List[int]] = Field(default=None, description=\"Lecture hints; for material we may use the first.\")\n",
    "    k: int = Field(default=15, ge=1, le=50)\n",
    "\n",
    "\n",
    "class ListingsOut(BaseModel):\n",
    "    text: str = Field(..., description=\"Up to k terse lines; agent can display as sources.\")\n",
    "\n",
    "def _probe_topic_fn(topic: str,\n",
    "                    intent: str = \"presence\",\n",
    "                    lectures: Optional[List[int]] = None,\n",
    "                    k: int = 15) -> Dict[str, Any]:\n",
    "\n",
    "    # ---- PRESENCE (syllabus only) ----\n",
    "    if intent == \"presence\":\n",
    "        prompt = f\"\"\"\n",
    "You are checking the syllabus for: \"{topic}\".\n",
    "\n",
    "Respond with STRICT JSON ONLY:\n",
    "{{\n",
    "  \"covered\": <true|false>,\n",
    "  \"note\": \"<=120 chars brief reason or closest phrasing>\"\n",
    "}}\n",
    "(No sources, no extra keys.)\n",
    "\"\"\".strip()\n",
    "        text = str(rag_tool._run(query=prompt, category=\"syllabus\", k=5))\n",
    "        return {\"text\": text}\n",
    "\n",
    "# resources (lectures from syllabus) \n",
    "# inside _probe_topic_fn(...)\n",
    "\n",
    "    if intent == \"resources\":\n",
    "    # syllabus only\n",
    "        prompt = f\"\"\"\n",
    "    based on the syllabus, which lectures discuss \"{topic}\".\n",
    "\n",
    "    OUTPUT EXACTLY TWO LINES (no extra text, no quotes, no sources):\n",
    "    LECTURES: <comma-separated lecture numbers as written in the syllabus\n",
    "    NOTE: <<=120 chars brief reason or closest phrasing>\n",
    "    \"\"\".strip()\n",
    "\n",
    "        text = str(rag_tool._run(query=prompt, category=\"syllabus\", k=5))\n",
    "        return {\"text\": text}\n",
    "\n",
    "\n",
    "    # retrieval intent, to decide the purpose\n",
    "    scope_by_intent = {\n",
    "        \"material\": \"chapters\",\n",
    "        \"exercises\": \"assignments\",\n",
    "        \"tests\": \"exams\",\n",
    "    }\n",
    "    scope = scope_by_intent[intent]\n",
    "    lec = None\n",
    "    if lectures and len(lectures) > 0:\n",
    "        try: lec = int(lectures[0])\n",
    "        except: lec = None\n",
    "\n",
    "    header = f\"TOPIC: {topic}\\nSCOPE: {scope.upper()}\\nFORMAT: Up to {k} terse lines.\\n\" \\\n",
    "             f\"Each line: - Lecture=<N or ?> | Chapter=<N or ?> | <filename> | page=<n> | relpath=<p> | snippet: <≤120 chars>\"\n",
    "    guide = \"If a lecture hint is provided, prefer that lecture; otherwise choose best matches.\"\n",
    "    prompt = f\"{header}\\n{guide}\"\n",
    "\n",
    "    text = rag_tool._run(query=prompt, category=scope, lecture_number=lec, k=k)\n",
    "    return ListingsOut(text=str(text)).model_dump()\n",
    "\n",
    "probe_topic = StructuredTool.from_function(\n",
    "    name=\"probe_topic\",\n",
    "    description=(\"Educated probe over course corpora.\\n\"\n",
    "                 \"Intents:\\n\"\n",
    "                 \"- presence  : syllabus-only coverage → {covered, note} (no sources)\\n\"\n",
    "                 \"- resources : syllabus-only lecture mapping → {covered, lectures[], note} (no sources)\\n\"\n",
    "                 \"- material  : chapters-only listings (up to k lines)\\n\"\n",
    "                 \"- exercises : assignments-only listings (up to k lines)\\n\"\n",
    "                 \"- tests     : exams-only listings (up to k lines)\"),\n",
    "    func=_probe_topic_fn,\n",
    "    args_schema=ProbeArgs,\n",
    ")\n"
   ]
  },
  {
   "cell_type": "code",
   "execution_count": 397,
   "id": "e675b333",
   "metadata": {},
   "outputs": [],
   "source": [
    "from langchain.agents import create_tool_calling_agent, AgentExecutor\n",
    "from langchain_core.prompts import ChatPromptTemplate\n",
    "from langchain_openai import ChatOpenAI\n",
    "\n",
    "TOOLS = [probe_topic]  # single tool\n",
    "\n",
    "SYSTEM_PROMPT = (\n",
    "    \"You are a Signals & Systems assistant that check if the topics are relevant to the course.\\n\"\n",
    "    \"Workflow:\\n\"\n",
    "    \"1) Call tool `probe_topic` once with intent='presence' and scope='syllabus'. The topic must be extracted from the user\\n\"\n",
    "    \"2) If the SUMMARY suggests Covered , call `probe_topic` again with intent='sources' \"\n",
    "    \"   and scope='syllabus'.\\n\"\n",
    "    \"3) Then STOP using tools. Reply briefly with:\\n\"\n",
    "    \"   - Found/Not found\\n\"\n",
    "    \"   - If found: list lecture numbers \\n\"\n",
    "    \"Never call the tool more than twice.\"\n",
    ")\n",
    "\n",
    "prompt = ChatPromptTemplate.from_messages([\n",
    "    (\"system\", SYSTEM_PROMPT),\n",
    "    (\"human\", \"{input}\"),\n",
    "    (\"placeholder\", \"{agent_scratchpad}\"),\n",
    "])\n",
    "\n",
    "llm = ChatOpenAI(model=\"gpt-4o-mini\", temperature=0)\n",
    "agent = create_tool_calling_agent(llm, TOOLS, prompt)\n",
    "executor = AgentExecutor(\n",
    "    agent=agent,\n",
    "    tools=TOOLS,\n",
    "    max_iterations=3,\n",
    "    handle_parsing_errors=True,\n",
    "    verbose=True,\n",
    ")\n"
   ]
  },
  {
   "cell_type": "code",
   "execution_count": 398,
   "id": "9045508d",
   "metadata": {},
   "outputs": [
    {
     "name": "stdout",
     "output_type": "stream",
     "text": [
      "\n",
      "\n",
      "\u001b[1m> Entering new AgentExecutor chain...\u001b[0m\n",
      "\u001b[32;1m\u001b[1;3m\n",
      "Invoking: `probe_topic` with `{'topic': 'Fourier transform basics (definition, relation to periodic signals)', 'intent': 'presence', 'scope': 'syllabus'}`\n",
      "\n",
      "\n",
      "\u001b[0m\u001b[32;1m\u001b[1;3m\n",
      "Invoking: `probe_topic` with `{'topic': 'Fourier transform basics (definition, relation to periodic signals)', 'intent': 'presence', 'scope': 'syllabus'}`\n",
      "\n",
      "\n",
      "\u001b[0m\u001b[36;1m\u001b[1;3m{'text': 'Answer: {\\n  \"covered\": true,\\n  \"note\": \"FT of periodic signals included in syllabus\"\\n}\\n\\nSources:\\n[1] syllabus | p.3 | unknown file\\n[2] syllabus | p.3 | unknown file\\n[3] syllabus | p.1 | unknown file\\n[4] syllabus | p.1 | unknown file\\n[5] syllabus | p.1 | unknown file'}\u001b[0m\u001b[36;1m\u001b[1;3m{'text': 'Answer: {\\n  \"covered\": true,\\n  \"note\": \"FT of periodic signals included in syllabus\"\\n}\\n\\nSources:\\n[1] syllabus | p.3 | unknown file\\n[2] syllabus | p.3 | unknown file\\n[3] syllabus | p.1 | unknown file\\n[4] syllabus | p.1 | unknown file\\n[5] syllabus | p.1 | unknown file'}\u001b[0m\u001b[32;1m\u001b[1;3m\n",
      "Invoking: `probe_topic` with `{'topic': 'Fourier transform basics (definition, relation to periodic signals)', 'intent': 'resources', 'scope': 'syllabus'}`\n",
      "\n",
      "\n",
      "\u001b[0m\u001b[32;1m\u001b[1;3m\n",
      "Invoking: `probe_topic` with `{'topic': 'Fourier transform basics (definition, relation to periodic signals)', 'intent': 'resources', 'scope': 'syllabus'}`\n",
      "\n",
      "\n",
      "\u001b[0m\u001b[36;1m\u001b[1;3m{'text': 'Answer: LECTURES: 10, 11, 12  \\nNOTE: Cover Fourier transform basics, including definition and relation to periodic signals.\\n\\nSources:\\n[1] syllabus | p.3 | unknown file\\n[2] syllabus | p.3 | unknown file\\n[3] syllabus | p.1 | unknown file\\n[4] syllabus | p.1 | unknown file\\n[5] syllabus | p.1 | unknown file'}\u001b[0m\u001b[36;1m\u001b[1;3m{'text': 'Answer: LECTURES: 10, 11, 12  \\nNOTE: Cover Fourier transform basics, including definition and relation to periodic signals.\\n\\nSources:\\n[1] syllabus | p.3 | unknown file\\n[2] syllabus | p.3 | unknown file\\n[3] syllabus | p.1 | unknown file\\n[4] syllabus | p.1 | unknown file\\n[5] syllabus | p.1 | unknown file'}\u001b[0m\u001b[32;1m\u001b[1;3mFound: \n",
      "- Lecture numbers: 10, 11, 12\u001b[0m\n",
      "\n",
      "\u001b[1m> Finished chain.\u001b[0m\n",
      "\n",
      "=== FINAL ===\n",
      "\n",
      "Found: \n",
      "- Lecture numbers: 10, 11, 12\n",
      "\u001b[32;1m\u001b[1;3mFound: \n",
      "- Lecture numbers: 10, 11, 12\u001b[0m\n",
      "\n",
      "\u001b[1m> Finished chain.\u001b[0m\n",
      "\n",
      "=== FINAL ===\n",
      "\n",
      "Found: \n",
      "- Lecture numbers: 10, 11, 12\n"
     ]
    }
   ],
   "source": [
    "question = \"i want to be tutored on Fourier transform basics (definition, relation to periodic signals).\"\n",
    "result = executor.invoke({\"input\": question})\n",
    "\n",
    "print(\"\\n=== FINAL ===\\n\")\n",
    "print(result[\"output\"])\n"
   ]
  },
  {
   "cell_type": "markdown",
   "id": "4fc952b3",
   "metadata": {},
   "source": [
    "## Agent 2: Content Summarizer "
   ]
  },
  {
   "cell_type": "code",
   "execution_count": 402,
   "id": "f5595844",
   "metadata": {},
   "outputs": [],
   "source": [
    "SYSTEM_PROMPT = \"\"\"\n",
    "You are a Signals & Systems tutoring planner.\n",
    "\n",
    "GOAL\n",
    "- Given a user topic, retrieve the relevant lecture content and produce a concise summary (≤500 words).\n",
    "\n",
    "TOOL USE (max 1 tool call)\n",
    "- Call tool `probe_topic` ONCE with intent=\"material\".\n",
    "- Extract the topic from the user input.\n",
    "- If the user hints specific lectures (e.g., “only lecture 1”, “lectures 2–4”), pass those via lectures=[...].\n",
    "- Do not call any other intents. Do not call the tool more than once.\n",
    "\n",
    "SCOPE & SOURCES\n",
    "- Use ONLY the lecture sources returned by the tool. Treat them as the authoritative corpus for this answer.\n",
    "- Do not search outside those sources.\n",
    "\n",
    "SUMMARIZATION RULES (≤500 words)\n",
    "- Summarize what the lectures discuss about the topic (core ideas, definitions, key properties, typical examples).\n",
    "- Focus on course-relevant content; avoid general textbook exposition that isn’t present in the sources.\n",
    "- Be neutral, precise, and free of speculation. Do not fabricate details.\n",
    "\n",
    "OUTPUT FORMAT\n",
    "- First line: “Summary (≤500 words):”\n",
    "- Then a single concise paragraph (no bullets, no citations, no file/page names).\n",
    "\n",
    "FAILURE BEHAVIOR\n",
    "- If no relevant material is returned, respond: “Summary (≤500 words): No relevant lecture material found for this topic in the provided sources.” Add one short sentence suggesting the closest adjacent concept if evident from the tool output.\n",
    "\n",
    "CONSTRAINTS\n",
    "- No citations or filenames in the output.\n",
    "- No tool calls after the first one.\n",
    "\"\"\".strip()\n"
   ]
  },
  {
   "cell_type": "code",
   "execution_count": null,
   "id": "a3ef9e70",
   "metadata": {},
   "outputs": [],
   "source": [
    "from langchain.agents import create_tool_calling_agent, AgentExecutor\n",
    "from langchain_core.prompts import ChatPromptTemplate, MessagesPlaceholder\n",
    "from langchain_openai import ChatOpenAI\n",
    "\n",
    "TOOLS = [probe_topic]\n",
    "\n",
    "\n",
    "\n",
    "prompt = ChatPromptTemplate.from_messages([\n",
    "    (\"system\", SYSTEM_PROMPT),\n",
    "    (\"human\", \"{input}\"),\n",
    "    MessagesPlaceholder(\"agent_scratchpad\"),\n",
    "])\n",
    "\n",
    "llm = ChatOpenAI(model=\"gpt-4o-mini\", temperature=0)\n",
    "\n",
    "summarizer_agent = create_tool_calling_agent(llm, TOOLS, prompt)\n",
    "planner = AgentExecutor(\n",
    "    agent=summarizer_agent,\n",
    "    tools=TOOLS,\n",
    "    max_iterations=3,          # presence + resources + final reply\n",
    "    handle_parsing_errors=True,\n",
    "    verbose=True,\n",
    ")"
   ]
  },
  {
   "cell_type": "code",
   "execution_count": 408,
   "id": "2c2b9f0a",
   "metadata": {},
   "outputs": [
    {
     "name": "stdout",
     "output_type": "stream",
     "text": [
      "\n",
      "\n",
      "\u001b[1m> Entering new AgentExecutor chain...\u001b[0m\n",
      "\u001b[32;1m\u001b[1;3m\n",
      "Invoking: `probe_topic` with `{'topic': 'fourier transform', 'intent': 'material', 'lectures': [10, 11, 12]}`\n",
      "\n",
      "\n",
      "\u001b[0m\u001b[36;1m\u001b[1;3m{'text': 'Answer: - Lecture=10 | Chapter=3 | signals_and_systems/chapter3 | page=46 | relpath=signals_and_systems/chapter3 | snippet: Fourier Transform of Real Signals, Fourier Transform of the unit impulse\\n- Lecture=11 | Chapter=3 | signals_and_systems/chapter3 | page=46 | relpath=signals_and_systems/chapter3 | snippet: Linearity of the Fourier Transform, Time Scaling, Frequency Scaling, Duality\\n- Lecture=12 | Chapter=3 | signals_and_systems/chapter3 | page=46 | relpath=signals_and_systems/chapter3 | snippet: Multiplication-Convolution Duality, Frequency Response of LTI systems\\n\\nSources:\\n[1] chapters | Chapter 3 | Lectures 11–12 | p.7 | unknown file\\n[2] chapters | Chapter 3 | Lectures 11–12 | p.7 | unknown file\\n[3] chapters | Chapter 3 | Lectures 11–12 | p.7 | unknown file\\n[4] chapters | Chapter 3 | Lectures 11–12 | p.7 | unknown file\\n[5] chapters | Chapter 3 | Lectures 11–12 | p.7 | unknown file\\n[6] chapters | Chapter 3 | Lectures 11–12 | p.7 | unknown file\\n[7] chapters | Chapter 3 | Lectures 11–12 | p.7 | unknown file\\n[8] chapters | Chapter 3 | Lectures 11–12 | p.7 | unknown file\\n[9] chapters | Chapter 3 | Lectures 11–12 | p.7 | unknown file\\n[10] chapters | Chapter 3 | Lectures 11–12 | p.7 | unknown file\\n[11] chapters | Chapter 3 | Lectures 11–12 | p.7 | unknown file\\n[12] chapters | Chapter 3 | Lectures 11–12 | p.7 | unknown file\\n[13] chapters | Chapter 3 | Lectures 11–12 | p.7 | unknown file\\n[14] chapters | Chapter 3 | Lectures 11–12 | p.7 | unknown file\\n[15] chapters | Chapter 3 | Lectures 11–12 | p.7 | unknown file'}\u001b[0m\u001b[32;1m\u001b[1;3mSummary (≤500 words): The lectures on Fourier Transform cover several key concepts essential for understanding this fundamental tool in signals and systems. Lecture 10 introduces the Fourier Transform of real signals, emphasizing its application to the unit impulse function, which serves as a foundational element in signal processing. Lecture 11 discusses the properties of the Fourier Transform, including linearity, time scaling, and frequency scaling, which are crucial for manipulating signals in the frequency domain. The concept of duality is also introduced, highlighting the relationship between time and frequency representations. Lecture 12 expands on the implications of the Fourier Transform in the context of Linear Time-Invariant (LTI) systems, particularly focusing on the multiplication-convolution duality, which illustrates how convolution in the time domain corresponds to multiplication in the frequency domain. Additionally, the frequency response of LTI systems is explored, providing insights into how systems respond to different frequency components of input signals. Together, these lectures provide a comprehensive overview of the Fourier Transform's theoretical underpinnings and practical applications in analyzing and processing signals.\u001b[0m\n",
      "\n",
      "\u001b[1m> Finished chain.\u001b[0m\n",
      "\n",
      "=== FINAL ===\n",
      "\n",
      "Summary (≤500 words): The lectures on Fourier Transform cover several key concepts essential for understanding this fundamental tool in signals and systems. Lecture 10 introduces the Fourier Transform of real signals, emphasizing its application to the unit impulse function, which serves as a foundational element in signal processing. Lecture 11 discusses the properties of the Fourier Transform, including linearity, time scaling, and frequency scaling, which are crucial for manipulating signals in the frequency domain. The concept of duality is also introduced, highlighting the relationship between time and frequency representations. Lecture 12 expands on the implications of the Fourier Transform in the context of Linear Time-Invariant (LTI) systems, particularly focusing on the multiplication-convolution duality, which illustrates how convolution in the time domain corresponds to multiplication in the frequency domain. Additionally, the frequency response of LTI systems is explored, providing insights into how systems respond to different frequency components of input signals. Together, these lectures provide a comprehensive overview of the Fourier Transform's theoretical underpinnings and practical applications in analyzing and processing signals.\n"
     ]
    }
   ],
   "source": [
    "question = \"based on lectures 10, 11, and 12. summarize the key concepts related to fourier transform\"\n",
    "result = planner.invoke({\"input\": question})\n",
    "\n",
    "print(\"\\n=== FINAL ===\\n\")\n",
    "print(result[\"output\"])"
   ]
  },
  {
   "cell_type": "markdown",
   "id": "40fa3013",
   "metadata": {},
   "source": [
    "## AGENT 3: Session Planner"
   ]
  },
  {
   "cell_type": "code",
   "execution_count": null,
   "id": "e698d161",
   "metadata": {},
   "outputs": [],
   "source": [
    "# --- planning schema (simple, bullet-first) ---\n",
    "from pydantic import BaseModel, Field\n",
    "from typing import List, Optional\n",
    "\n",
    "class SessionPlan(BaseModel):\n",
    "    topic: str\n",
    "    duration_minutes: int\n",
    "    lectures: List[int] = []\n",
    "    objectives: List[str]\n",
    "    outline: List[str]\n",
    "    practice: List[str] = []\n",
    "    notes: Optional[str] = \"\"\n",
    "\n",
    "from langchain.agents import create_tool_calling_agent, AgentExecutor\n",
    "from langchain_core.prompts import ChatPromptTemplate, MessagesPlaceholder\n",
    "from langchain_openai import ChatOpenAI\n",
    "\n",
    "# assumes your StructuredTool `probe_topic` is already defined (with intent=\"material\")\n",
    "TOOLS = [probe_topic]\n",
    "\n",
    "SYSTEM_PROMPT = \"\"\"\n",
    "You are a Signals & Systems tutoring planner.\n",
    "\n",
    "Goal:\n",
    "- Given a user topic, retrieve relevant lecture material and output a compact tutoring plan as JSON (SessionPlan).\n",
    "\n",
    "Tool use (exactly 1 call):\n",
    "- Call tool `probe_topic` ONCE with intent=\"material\".\n",
    "- If the user hints specific lectures (e.g., \"only lecture 1\" / \"lectures 2-3\"), pass lectures=[...].\n",
    "- Do not call any other intents. Do not call tools more than once.\n",
    "\n",
    "How to plan:\n",
    "- Read ONLY the tool’s returned text (listings) as your evidence.\n",
    "- Derive key teaching points present in the sources (don’t invent).\n",
    "- Build a 60-minute plan by default unless the user specifies duration.\n",
    "\n",
    "Output:\n",
    "- Respond ONLY with a valid JSON matching the SessionPlan schema (no extra keys, no prose).\n",
    "- Keep each bullet short (≤14 words).\n",
    "\"\"\"\n",
    "\n",
    "prompt = ChatPromptTemplate.from_messages([\n",
    "    (\"system\", SYSTEM_PROMPT),\n",
    "    (\"human\", \"Topic: {topic}\\nDuration: {minutes}\\nLecture hint (optional): {lecture_hint}\"),\n",
    "    MessagesPlaceholder(\"agent_scratchpad\"),\n",
    "])\n",
    "\n",
    "llm = ChatOpenAI(model=\"gpt-4o-mini\", temperature=0)\n",
    "planner_agent = create_tool_calling_agent(llm, TOOLS, prompt)\n",
    "planner = AgentExecutor(\n",
    "    agent=planner_agent,\n",
    "    tools=TOOLS,\n",
    "    max_iterations=2,           # 1 tool call + final\n",
    "    handle_parsing_errors=True,\n",
    "    verbose=True,\n",
    ")\n",
    "\n"
   ]
  },
  {
   "cell_type": "code",
   "execution_count": null,
   "id": "26378450",
   "metadata": {},
   "outputs": [
    {
     "name": "stdout",
     "output_type": "stream",
     "text": [
      "\n",
      "\n",
      "\u001b[1m> Entering new AgentExecutor chain...\u001b[0m\n",
      "\u001b[32;1m\u001b[1;3m\n",
      "Invoking: `probe_topic` with `{'topic': 'Fourier transform basics', 'intent': 'material', 'lectures': [10, 11, 12]}`\n",
      "\n",
      "\n",
      "\u001b[0m\u001b[36;1m\u001b[1;3m{'text': 'Answer: - Lecture=10 | Chapter=3 | ELE 430: Signals and Systems | page=68 | relpath=Chapter3/FourierTransform | snippet: Introduction to Fourier Transform, Real Signals, Unit Impulse\\n- Lecture=11 | Chapter=3 | ELE 430: Signals and Systems | page=68 | relpath=Chapter3/FourierTransform | snippet: Linearity, Time and Frequency Scaling, Duality, Parseval’s Theorem\\n- Lecture=12 | Chapter=3 | ELE 430: Signals and Systems | page=68 | relpath=Chapter3/FourierTransform | snippet: Multiplication-Convolution Duality, Frequency Response of LTI systems\\n\\nSources:\\n[1] chapters | Chapter 3 | Lectures 11–12 | p.18 | unknown file\\n[2] chapters | Chapter 3 | Lectures 11–12 | p.18 | unknown file\\n[3] chapters | Chapter 3 | Lectures 11–12 | p.18 | unknown file\\n[4] chapters | Chapter 3 | Lectures 11–12 | p.18 | unknown file\\n[5] chapters | Chapter 3 | Lectures 11–12 | p.18 | unknown file\\n[6] chapters | Chapter 3 | Lectures 11–12 | p.18 | unknown file\\n[7] chapters | Chapter 3 | Lectures 11–12 | p.18 | unknown file\\n[8] chapters | Chapter 3 | Lectures 11–12 | p.18 | unknown file\\n[9] chapters | Chapter 3 | Lectures 11–12 | p.18 | unknown file\\n[10] chapters | Chapter 3 | Lectures 11–12 | p.18 | unknown file\\n[11] chapters | Chapter 3 | Lectures 11–12 | p.18 | unknown file\\n[12] chapters | Chapter 3 | Lectures 11–12 | p.18 | unknown file\\n[13] chapters | Chapter 3 | Lectures 11–12 | p.18 | unknown file\\n[14] chapters | Chapter 3 | Lectures 11–12 | p.18 | unknown file\\n[15] chapters | Chapter 3 | Lectures 11–12 | p.18 | unknown file'}\u001b[0m\u001b[32;1m\u001b[1;3m{\n",
      "  \"duration\": 60,\n",
      "  \"topics\": [\n",
      "    \"Introduction to Fourier Transform\",\n",
      "    \"Understanding Real Signals\",\n",
      "    \"Unit Impulse Function\",\n",
      "    \"Linearity of Fourier Transform\",\n",
      "    \"Time and Frequency Scaling\",\n",
      "    \"Duality in Fourier Transform\",\n",
      "    \"Parseval’s Theorem\",\n",
      "    \"Multiplication-Convolution Duality\",\n",
      "    \"Frequency Response of LTI Systems\"\n",
      "  ],\n",
      "  \"activities\": [\n",
      "    \"Discuss Fourier Transform fundamentals\",\n",
      "    \"Explore real signals and their representation\",\n",
      "    \"Introduce unit impulse and its significance\",\n",
      "    \"Explain linearity and its implications\",\n",
      "    \"Demonstrate time and frequency scaling\",\n",
      "    \"Illustrate duality concept with examples\",\n",
      "    \"Review Parseval’s Theorem and applications\",\n",
      "    \"Discuss multiplication-convolution duality\",\n",
      "    \"Analyze frequency response of LTI systems\"\n",
      "  ]\n",
      "}\u001b[0m\n",
      "\n",
      "\u001b[1m> Finished chain.\u001b[0m\n",
      "{\n",
      "  \"duration\": 60,\n",
      "  \"topics\": [\n",
      "    \"Introduction to Fourier Transform\",\n",
      "    \"Understanding Real Signals\",\n",
      "    \"Unit Impulse Function\",\n",
      "    \"Linearity of Fourier Transform\",\n",
      "    \"Time and Frequency Scaling\",\n",
      "    \"Duality in Fourier Transform\",\n",
      "    \"Parseval’s Theorem\",\n",
      "    \"Multiplication-Convolution Duality\",\n",
      "    \"Frequency Response of LTI Systems\"\n",
      "  ],\n",
      "  \"activities\": [\n",
      "    \"Discuss Fourier Transform fundamentals\",\n",
      "    \"Explore real signals and their representation\",\n",
      "    \"Introduce unit impulse and its significance\",\n",
      "    \"Explain linearity and its implications\",\n",
      "    \"Demonstrate time and frequency scaling\",\n",
      "    \"Illustrate duality concept with examples\",\n",
      "    \"Review Parseval’s Theorem and applications\",\n",
      "    \"Discuss multiplication-convolution duality\",\n",
      "    \"Analyze frequency response of LTI systems\"\n",
      "  ]\n",
      "}\n"
     ]
    }
   ],
   "source": [
    "# run\n",
    "res = planner.invoke({\"topic\": \"Fourier transform basics\", \"minutes\": 60, \"lecture_hint\": \"10, 11, 12\"})\n",
    "print(res[\"output\"])  # JSON for SessionPlan\n"
   ]
  },
  {
   "cell_type": "markdown",
   "id": "409d664b",
   "metadata": {},
   "source": [
    "## working with  (the relevance checker) "
   ]
  },
  {
   "cell_type": "markdown",
   "id": "e29a0a85",
   "metadata": {},
   "source": [
    "Although i did create a full scaled agent using the langchain create_tool_calling_agent function after too many failure tryouts, using this function, i was capable of setting up the prompts properly and successfully generate a meaningfull tool structure, thats why i am currently intersted on trying to add more flexibility by invoking the agent and the tool in two seperate nodes in the relevance subgraph."
   ]
  },
  {
   "cell_type": "code",
   "execution_count": 10,
   "id": "e8dc4933",
   "metadata": {},
   "outputs": [],
   "source": [
    "from typing import Literal, Dict, Any, List, Optional\n",
    "from pydantic import BaseModel, Field\n",
    "from langchain_core.tools import StructuredTool\n",
    "import json, re\n",
    "\n",
    "class ProbeArgs(BaseModel):\n",
    "    topic: str\n",
    "    intent: Literal[\"presence\", \"material\", \"exercises\", \"tests\", \"resources\"] = \"presence\"\n",
    "    lectures: Optional[List[int]] = Field(default=None, description=\"Lecture hints; for material we may use the first.\")\n",
    "    k: int = Field(default=15, ge=1, le=50)\n",
    "\n",
    "class ListingsOut(BaseModel):\n",
    "    text: str = Field(..., description=\"Up to k terse lines; agent can display as sources.\")\n",
    "\n",
    "\n",
    "def _probe_topic_fn(topic: str,\n",
    "                    intent: str = \"presence\",\n",
    "                    lectures: Optional[List[int]] = None,\n",
    "                    k: int = 15) -> Dict[str, Any]:\n",
    "\n",
    "    # ---- PRESENCE (syllabus only) ----\n",
    "    if intent == \"presence\":\n",
    "        prompt = f\"\"\"\n",
    "        \n",
    "You are checking the syllabus for: \"{topic}\".\n",
    "if the topic is mentioned in the syllabus, it is covered, else it is not covered.\n",
    "Respond with STRICT JSON ONLY:\n",
    "{{\n",
    "  \"covered\": <true|false>,\n",
    "  \"note\": \"<=120 chars brief reason or closest phrasing>\"\n",
    "}}\n",
    "\n",
    "(No sources, no extra keys.)\n",
    "\"\"\".strip()\n",
    "\n",
    "        text = str(rag_tool._run(query=prompt, category=\"syllabus\", k=5))\n",
    "        return {\"text\": text}\n",
    "\n",
    "\n",
    "    if intent == \"resources\":\n",
    "        prompt = f\"\"\"\n",
    "    based on the syllabus, which lectures discuss \"{topic}\".\n",
    "\n",
    "    OUTPUT EXACTLY TWO LINES (no extra text, no quotes, no sources):\n",
    "    LECTURES: <comma-separated lecture numbers as written in the syllabus\n",
    "    NOTE: <<=120 chars brief reason or closest phrasing>\n",
    "    \"\"\".strip()\n",
    "\n",
    "        text = str(rag_tool._run(query=prompt, category=\"syllabus\", k=5))\n",
    "        return {\"text\": text}\n",
    "\n",
    "\n",
    "    scope_by_intent = {\n",
    "        \"material\": \"chapters\",\n",
    "        \"exercises\": \"assignments\",\n",
    "        \"tests\": \"exams\",\n",
    "    }\n",
    "    scope = scope_by_intent[intent]\n",
    "    lec = None\n",
    "    if lectures and len(lectures) > 0:\n",
    "        try: lec = int(lectures[0])\n",
    "        except: lec = None\n",
    "\n",
    "    header = f\"TOPIC: {topic}\\nSCOPE: {scope.upper()}\\nFORMAT: Up to {k} terse lines.\\n\" \\\n",
    "             f\"Each line: - Lecture=<N or ?> | Chapter=<N or ?> | <filename> | page=<n> | relpath=<p> | snippet: <≤120 chars>\"\n",
    "    guide = \"If a lecture hint is provided, prefer that lecture; otherwise choose best matches.\"\n",
    "    prompt = f\"{header}\\n{guide}\"\n",
    "\n",
    "    text = rag_tool._run(query=prompt, category=scope, lecture_number=lec, k=k)\n",
    "    return ListingsOut(text=str(text)).model_dump()\n",
    "\n",
    "probe_topic = StructuredTool.from_function(\n",
    "    name=\"probe_topic\",\n",
    "    description=(\"Educated probe over course corpora.\\n\"\n",
    "                 \"Intents:\\n\"\n",
    "                 \"- presence  : syllabus-only coverage → {covered, note} (no sources)\\n\"\n",
    "                 \"- resources : syllabus-only lecture mapping → {covered, lectures[], note} (no sources)\\n\"\n",
    "                 \"- material  : chapters-only listings (up to k lines)\\n\"\n",
    "                 \"- exercises : assignments-only listings (up to k lines)\\n\"\n",
    "                 \"- tests     : exams-only listings (up to k lines)\"),\n",
    "    func=_probe_topic_fn,\n",
    "    args_schema=ProbeArgs,\n",
    ")\n"
   ]
  },
  {
   "cell_type": "code",
   "execution_count": 11,
   "id": "4eee6e67",
   "metadata": {},
   "outputs": [],
   "source": [
    "from langgraph.graph import StateGraph, END\n",
    "from typing import TypedDict, Annotated\n",
    "import operator\n",
    "from langchain_core.messages import AnyMessage, SystemMessage, HumanMessage, ToolMessage\n",
    "from langchain_openai import ChatOpenAI\n"
   ]
  },
  {
   "cell_type": "code",
   "execution_count": 12,
   "id": "c22a6ff1",
   "metadata": {},
   "outputs": [],
   "source": [
    "TOOLS=[probe_topic]"
   ]
  },
  {
   "cell_type": "markdown",
   "id": "7b20ab58",
   "metadata": {},
   "source": [
    "## LangGraph tutorial agent class \n",
    "ref: https://learn.deeplearning.ai/courses/ai-agents-in-langgraph/lesson/l7rgk/langgraph-components"
   ]
  },
  {
   "cell_type": "code",
   "execution_count": 13,
   "id": "c65060d0",
   "metadata": {},
   "outputs": [],
   "source": [
    "class AgentState(TypedDict):\n",
    "    messages: Annotated[list[AnyMessage], operator.add]"
   ]
  },
  {
   "cell_type": "code",
   "execution_count": 14,
   "id": "eacca0b9",
   "metadata": {},
   "outputs": [],
   "source": [
    "from typing import Annotated, TypedDict\n",
    "import operator, json\n",
    "from langgraph.graph import StateGraph, END\n",
    "from langchain_core.messages import AnyMessage, SystemMessage, ToolMessage, HumanMessage, AIMessage\n",
    "\n",
    "class AgentState(TypedDict):\n",
    "    messages: Annotated[list[AnyMessage], operator.add]\n",
    "\n",
    "class Agent:\n",
    "    def __init__(self, model, tools, system: str = \"\" ,debug: bool = True):\n",
    "        # normalize tools if someone passed [TOOLS]\n",
    "        if len(tools) == 1 and isinstance(tools[0], (list, tuple)):\n",
    "            tools = list(tools[0])\n",
    "\n",
    "        self.debug = debug\n",
    "        self.system = system.strip()\n",
    "        self.tools = {t.name: t for t in tools}\n",
    "        self.model = model.bind_tools(tools)\n",
    "        self._system_injected = False\n",
    "\n",
    "        g = StateGraph(AgentState)\n",
    "        g.add_node(\"llm\", self.call_openai)\n",
    "        g.add_node(\"action\", self.take_action)\n",
    "        g.add_conditional_edges(\"llm\", self.exists_action, {True: \"action\", False: END})\n",
    "        g.add_edge(\"action\", \"llm\")\n",
    "        g.set_entry_point(\"llm\")\n",
    "        self.graph = g.compile()\n",
    "\n",
    "    # ---------- helpers\n",
    "    def _show_msg(self, m):\n",
    "        if isinstance(m, HumanMessage):\n",
    "            return f\"Human: {m.content}\"\n",
    "        if isinstance(m, SystemMessage):\n",
    "            return f\"System: {m.content[:180]}{'…' if len(m.content)>180 else ''}\"\n",
    "        if isinstance(m, AIMessage):\n",
    "            calls = getattr(m, \"tool_calls\", None)\n",
    "            return f\"AI: {m.content[:180]}{'…' if len(m.content)>180 else ''} | tool_calls={calls}\"\n",
    "        if isinstance(m, ToolMessage):\n",
    "            body = str(m.content)\n",
    "            return f\"ToolResult[{m.name}]: {body[:220]}{'…' if len(body)>220 else ''}\"\n",
    "        return f\"{type(m).__name__}\"\n",
    "\n",
    "    def exists_action(self, state: AgentState):\n",
    "        last = state[\"messages\"][-1]\n",
    "        want_tools = isinstance(last, AIMessage) and bool(getattr(last, \"tool_calls\", None))\n",
    "        if self.debug:\n",
    "            print(\"\\n[exists_action] last:\", self._show_msg(last))\n",
    "            print(\"[exists_action] ->\", \"action\" if want_tools else \"END\")\n",
    "        return want_tools\n",
    "\n",
    "    def call_openai(self, state: AgentState):\n",
    "        msgs = state[\"messages\"]\n",
    "\n",
    "        to_add = []\n",
    "        # Inject system once AND persist it in the state\n",
    "        if self.system and not self._system_injected:\n",
    "            to_add.append(SystemMessage(content=self.system))\n",
    "            self._system_injected = True\n",
    "\n",
    "        # Compose input to the model = previous + (maybe) system\n",
    "        model_input = msgs + to_add\n",
    "\n",
    "        ai = self.model.invoke(model_input)\n",
    "\n",
    "        # IMPORTANT: return BOTH the system (once) AND the AI message\n",
    "        # so the system policy stays in the state for future turns\n",
    "        to_add.append(ai)\n",
    "        return {\"messages\": to_add}\n",
    "\n",
    "\n",
    "    def take_action(self, state: AgentState):\n",
    "        tool_calls = state[\"messages\"][-1].tool_calls\n",
    "        results = []\n",
    "        for t in tool_calls:\n",
    "            name, args, tid = t[\"name\"], t.get(\"args\", {}), t[\"id\"]\n",
    "            if self.debug:\n",
    "                print(f\"\\n[take_action] Calling tool: {name} args={args}\")\n",
    "            try:\n",
    "                tool = self.tools.get(name)\n",
    "                if not tool:\n",
    "                    result = \"bad tool name, retry\"\n",
    "                else:\n",
    "                    result = tool.invoke(args)  # run StructuredTool\n",
    "            except Exception as e:\n",
    "                print(f\"[take_action][ERROR] {name}: {e}\")\n",
    "                result = f\"tool error: {e}\"\n",
    "            # Always record the raw tool result\n",
    "            tm = ToolMessage(tool_call_id=tid, name=name, content=str(result))\n",
    "            results.append(tm)\n",
    "            if self.debug:\n",
    "                print(\"[take_action] Tool result:\", self._show_msg(tm))\n",
    "        print(\"[take_action] Back to model\")\n",
    "        return {\"messages\": results}"
   ]
  },
  {
   "cell_type": "code",
   "execution_count": 15,
   "id": "8cc0a401",
   "metadata": {},
   "outputs": [
    {
     "ename": "OpenAIError",
     "evalue": "The api_key client option must be set either by passing api_key to the client or by setting the OPENAI_API_KEY environment variable",
     "output_type": "error",
     "traceback": [
      "\u001b[1;31m---------------------------------------------------------------------------\u001b[0m",
      "\u001b[1;31mOpenAIError\u001b[0m                               Traceback (most recent call last)",
      "Cell \u001b[1;32mIn[15], line 13\u001b[0m\n\u001b[0;32m      1\u001b[0m prompt \u001b[38;5;241m=\u001b[39m (\n\u001b[0;32m      2\u001b[0m     \u001b[38;5;124m\"\u001b[39m\u001b[38;5;124mYou are a Signals & Systems assistant that check if the topics are relevant to the course.\u001b[39m\u001b[38;5;130;01m\\n\u001b[39;00m\u001b[38;5;124m\"\u001b[39m\n\u001b[0;32m      3\u001b[0m     \u001b[38;5;124m\"\u001b[39m\u001b[38;5;124mWorkflow:\u001b[39m\u001b[38;5;130;01m\\n\u001b[39;00m\u001b[38;5;124m\"\u001b[39m\n\u001b[1;32m   (...)\u001b[0m\n\u001b[0;32m     10\u001b[0m     \u001b[38;5;124m\"\u001b[39m\u001b[38;5;124mNever call the tool more than twice.\u001b[39m\u001b[38;5;124m\"\u001b[39m\n\u001b[0;32m     11\u001b[0m )\u001b[38;5;241m.\u001b[39mstrip()\n\u001b[1;32m---> 13\u001b[0m model \u001b[38;5;241m=\u001b[39m \u001b[43mChatOpenAI\u001b[49m\u001b[43m(\u001b[49m\u001b[43mmodel\u001b[49m\u001b[38;5;241;43m=\u001b[39;49m\u001b[38;5;124;43m\"\u001b[39;49m\u001b[38;5;124;43mgpt-4o-mini\u001b[39;49m\u001b[38;5;124;43m\"\u001b[39;49m\u001b[43m)\u001b[49m  \u001b[38;5;66;03m#reduce inference cost\u001b[39;00m\n\u001b[0;32m     14\u001b[0m abot \u001b[38;5;241m=\u001b[39m Agent(model, TOOLS, system\u001b[38;5;241m=\u001b[39mprompt, debug\u001b[38;5;241m=\u001b[39m\u001b[38;5;28;01mTrue\u001b[39;00m)\n",
      "File \u001b[1;32mc:\\Users\\User\\anaconda3\\envs\\PT\\Lib\\site-packages\\langchain_core\\load\\serializable.py:130\u001b[0m, in \u001b[0;36mSerializable.__init__\u001b[1;34m(self, *args, **kwargs)\u001b[0m\n\u001b[0;32m    128\u001b[0m \u001b[38;5;28;01mdef\u001b[39;00m\u001b[38;5;250m \u001b[39m\u001b[38;5;21m__init__\u001b[39m(\u001b[38;5;28mself\u001b[39m, \u001b[38;5;241m*\u001b[39margs: Any, \u001b[38;5;241m*\u001b[39m\u001b[38;5;241m*\u001b[39mkwargs: Any) \u001b[38;5;241m-\u001b[39m\u001b[38;5;241m>\u001b[39m \u001b[38;5;28;01mNone\u001b[39;00m:\n\u001b[0;32m    129\u001b[0m \u001b[38;5;250m    \u001b[39m\u001b[38;5;124;03m\"\"\"\"\"\"\u001b[39;00m  \u001b[38;5;66;03m# noqa: D419\u001b[39;00m\n\u001b[1;32m--> 130\u001b[0m     \u001b[38;5;28;43msuper\u001b[39;49m\u001b[43m(\u001b[49m\u001b[43m)\u001b[49m\u001b[38;5;241;43m.\u001b[39;49m\u001b[38;5;21;43m__init__\u001b[39;49m\u001b[43m(\u001b[49m\u001b[38;5;241;43m*\u001b[39;49m\u001b[43margs\u001b[49m\u001b[43m,\u001b[49m\u001b[43m \u001b[49m\u001b[38;5;241;43m*\u001b[39;49m\u001b[38;5;241;43m*\u001b[39;49m\u001b[43mkwargs\u001b[49m\u001b[43m)\u001b[49m\n",
      "    \u001b[1;31m[... skipping hidden 1 frame]\u001b[0m\n",
      "File \u001b[1;32mc:\\Users\\User\\anaconda3\\envs\\PT\\Lib\\site-packages\\langchain_openai\\chat_models\\base.py:744\u001b[0m, in \u001b[0;36mBaseChatOpenAI.validate_environment\u001b[1;34m(self)\u001b[0m\n\u001b[0;32m    737\u001b[0m         \u001b[38;5;28mself\u001b[39m\u001b[38;5;241m.\u001b[39mhttp_client \u001b[38;5;241m=\u001b[39m httpx\u001b[38;5;241m.\u001b[39mClient(\n\u001b[0;32m    738\u001b[0m             proxy\u001b[38;5;241m=\u001b[39m\u001b[38;5;28mself\u001b[39m\u001b[38;5;241m.\u001b[39mopenai_proxy, verify\u001b[38;5;241m=\u001b[39mglobal_ssl_context\n\u001b[0;32m    739\u001b[0m         )\n\u001b[0;32m    740\u001b[0m     sync_specific \u001b[38;5;241m=\u001b[39m {\n\u001b[0;32m    741\u001b[0m         \u001b[38;5;124m\"\u001b[39m\u001b[38;5;124mhttp_client\u001b[39m\u001b[38;5;124m\"\u001b[39m: \u001b[38;5;28mself\u001b[39m\u001b[38;5;241m.\u001b[39mhttp_client\n\u001b[0;32m    742\u001b[0m         \u001b[38;5;129;01mor\u001b[39;00m _get_default_httpx_client(\u001b[38;5;28mself\u001b[39m\u001b[38;5;241m.\u001b[39mopenai_api_base, \u001b[38;5;28mself\u001b[39m\u001b[38;5;241m.\u001b[39mrequest_timeout)\n\u001b[0;32m    743\u001b[0m     }\n\u001b[1;32m--> 744\u001b[0m     \u001b[38;5;28mself\u001b[39m\u001b[38;5;241m.\u001b[39mroot_client \u001b[38;5;241m=\u001b[39m \u001b[43mopenai\u001b[49m\u001b[38;5;241;43m.\u001b[39;49m\u001b[43mOpenAI\u001b[49m\u001b[43m(\u001b[49m\u001b[38;5;241;43m*\u001b[39;49m\u001b[38;5;241;43m*\u001b[39;49m\u001b[43mclient_params\u001b[49m\u001b[43m,\u001b[49m\u001b[43m \u001b[49m\u001b[38;5;241;43m*\u001b[39;49m\u001b[38;5;241;43m*\u001b[39;49m\u001b[43msync_specific\u001b[49m\u001b[43m)\u001b[49m  \u001b[38;5;66;03m# type: ignore[arg-type]\u001b[39;00m\n\u001b[0;32m    745\u001b[0m     \u001b[38;5;28mself\u001b[39m\u001b[38;5;241m.\u001b[39mclient \u001b[38;5;241m=\u001b[39m \u001b[38;5;28mself\u001b[39m\u001b[38;5;241m.\u001b[39mroot_client\u001b[38;5;241m.\u001b[39mchat\u001b[38;5;241m.\u001b[39mcompletions\n\u001b[0;32m    746\u001b[0m \u001b[38;5;28;01mif\u001b[39;00m \u001b[38;5;129;01mnot\u001b[39;00m \u001b[38;5;28mself\u001b[39m\u001b[38;5;241m.\u001b[39masync_client:\n",
      "File \u001b[1;32mc:\\Users\\User\\anaconda3\\envs\\PT\\Lib\\site-packages\\openai\\_client.py:130\u001b[0m, in \u001b[0;36mOpenAI.__init__\u001b[1;34m(self, api_key, organization, project, webhook_secret, base_url, websocket_base_url, timeout, max_retries, default_headers, default_query, http_client, _strict_response_validation)\u001b[0m\n\u001b[0;32m    128\u001b[0m     api_key \u001b[38;5;241m=\u001b[39m os\u001b[38;5;241m.\u001b[39menviron\u001b[38;5;241m.\u001b[39mget(\u001b[38;5;124m\"\u001b[39m\u001b[38;5;124mOPENAI_API_KEY\u001b[39m\u001b[38;5;124m\"\u001b[39m)\n\u001b[0;32m    129\u001b[0m \u001b[38;5;28;01mif\u001b[39;00m api_key \u001b[38;5;129;01mis\u001b[39;00m \u001b[38;5;28;01mNone\u001b[39;00m:\n\u001b[1;32m--> 130\u001b[0m     \u001b[38;5;28;01mraise\u001b[39;00m OpenAIError(\n\u001b[0;32m    131\u001b[0m         \u001b[38;5;124m\"\u001b[39m\u001b[38;5;124mThe api_key client option must be set either by passing api_key to the client or by setting the OPENAI_API_KEY environment variable\u001b[39m\u001b[38;5;124m\"\u001b[39m\n\u001b[0;32m    132\u001b[0m     )\n\u001b[0;32m    133\u001b[0m \u001b[38;5;28mself\u001b[39m\u001b[38;5;241m.\u001b[39mapi_key \u001b[38;5;241m=\u001b[39m api_key\n\u001b[0;32m    135\u001b[0m \u001b[38;5;28;01mif\u001b[39;00m organization \u001b[38;5;129;01mis\u001b[39;00m \u001b[38;5;28;01mNone\u001b[39;00m:\n",
      "\u001b[1;31mOpenAIError\u001b[0m: The api_key client option must be set either by passing api_key to the client or by setting the OPENAI_API_KEY environment variable"
     ]
    }
   ],
   "source": [
    "prompt = (\n",
    "    \"You are a Signals & Systems assistant that check if the topics are relevant to the course.\\n\"\n",
    "    \"Workflow:\\n\"\n",
    "    \"1) Call tool `probe_topic` once with intent='presence' and scope='syllabus'. The topic must be extracted from the user\\n\"\n",
    "    \"2) If the SUMMARY suggests Covered , call `probe_topic` again with intent='sources' \"\n",
    "    \"   and scope='syllabus'.\\n\"\n",
    "    \"3) Then STOP using tools. Reply briefly with:\\n\"\n",
    "    \"   - Found/Not found\\n\"\n",
    "    \"   - If found: list lecture numbers \\n\"\n",
    "    \"Never call the tool more than twice.\"\n",
    ").strip()\n",
    "\n",
    "model = ChatOpenAI(model=\"gpt-4o-mini\")  #reduce inference cost\n",
    "abot = Agent(model, TOOLS, system=prompt, debug=True)"
   ]
  },
  {
   "cell_type": "code",
   "execution_count": null,
   "id": "6f87c89c",
   "metadata": {},
   "outputs": [
    {
     "data": {
      "image/png": "[encoded data removed]",
      "text/plain": [
       "<IPython.core.display.Image object>"
      ]
     },
     "metadata": {},
     "output_type": "display_data"
    }
   ],
   "source": [
    "from IPython.display import Image, display\n",
    "display(Image(abot.graph.get_graph().draw_mermaid_png()))\n"
   ]
  },
  {
   "cell_type": "code",
   "execution_count": null,
   "id": "42c2d7e8",
   "metadata": {},
   "outputs": [],
   "source": [
    "messages = [HumanMessage(content=\"i want to be tutored on fourier series.\")]\n",
    "result = abot.graph.invoke({\"messages\": messages},config={\"recursion_limit\": 6})"
   ]
  },
  {
   "cell_type": "code",
   "execution_count": 535,
   "id": "72f0825e",
   "metadata": {},
   "outputs": [
    {
     "data": {
      "text/plain": [
       "{'messages': [HumanMessage(content='i want to be tutored on fourier series.', additional_kwargs={}, response_metadata={}),\n",
       "  SystemMessage(content=\"You are a Signals & Systems assistant that check if the topics are relevant to the course.\\nWorkflow:\\n1) Call tool `probe_topic` once with intent='presence' and scope='syllabus'. The topic must be extracted from the user\\n2) If the SUMMARY suggests Covered , call `probe_topic` again with intent='sources'    and scope='syllabus'.\\n3) Then STOP using tools. Reply briefly with:\\n   - Found/Not found\\n   - If found: list lecture numbers \\nNever call the tool more than twice.\", additional_kwargs={}, response_metadata={}),\n",
       "  AIMessage(content='', additional_kwargs={'tool_calls': [{'id': 'call_aDXPT4ZYwLrJRB6JfS19cBV3', 'function': {'arguments': '{\"topic\":\"fourier series\",\"intent\":\"presence\"}', 'name': 'probe_topic'}, 'type': 'function'}], 'refusal': None}, response_metadata={'token_usage': {'completion_tokens': 21, 'prompt_tokens': 322, 'total_tokens': 343, 'completion_tokens_details': {'accepted_prediction_tokens': 0, 'audio_tokens': 0, 'reasoning_tokens': 0, 'rejected_prediction_tokens': 0}, 'prompt_tokens_details': {'audio_tokens': 0, 'cached_tokens': 0}}, 'model_name': 'gpt-4o-mini-2024-07-18', 'system_fingerprint': 'fp_560af6e559', 'id': 'chatcmpl-C5WkfBfrym9YCAQzm64JLl5jWsFMC', 'service_tier': 'default', 'finish_reason': 'tool_calls', 'logprobs': None}, id='run--d3fb1715-d703-49a1-9cea-c11fd96a8541-0', tool_calls=[{'name': 'probe_topic', 'args': {'topic': 'fourier series', 'intent': 'presence'}, 'id': 'call_aDXPT4ZYwLrJRB6JfS19cBV3', 'type': 'tool_call'}], usage_metadata={'input_tokens': 322, 'output_tokens': 21, 'total_tokens': 343, 'input_token_details': {'audio': 0, 'cache_read': 0}, 'output_token_details': {'audio': 0, 'reasoning': 0}}),\n",
       "  ToolMessage(content='{\\'text\\': \\'Answer: {\\\\n  \"covered\": true,\\\\n  \"note\": \"Fourier Series (FS) is covered in lectures 7, 8, 9 with topics like Orthogonality, Exponential and Trigonometric forms, Parseval\\\\\\'s theorem, FS coefficients evaluation, applications to CT signals, FS and LTI systems, processing in the frequency domain.\"\\\\n}\\\\n\\\\nSources:\\\\n[1] syllabus | p.3 | unknown file\\\\n[2] syllabus | p.3 | unknown file\\\\n[3] syllabus | p.1 | unknown file\\\\n[4] syllabus | p.1 | unknown file\\\\n[5] syllabus | p.2 | unknown file\\'}', name='probe_topic', tool_call_id='call_aDXPT4ZYwLrJRB6JfS19cBV3'),\n",
       "  AIMessage(content='Found: Fourier series is covered in the course. \\n\\nLecture numbers: 7, 8, 9.', additional_kwargs={'refusal': None}, response_metadata={'token_usage': {'completion_tokens': 24, 'prompt_tokens': 498, 'total_tokens': 522, 'completion_tokens_details': {'accepted_prediction_tokens': 0, 'audio_tokens': 0, 'reasoning_tokens': 0, 'rejected_prediction_tokens': 0}, 'prompt_tokens_details': {'audio_tokens': 0, 'cached_tokens': 0}}, 'model_name': 'gpt-4o-mini-2024-07-18', 'system_fingerprint': 'fp_560af6e559', 'id': 'chatcmpl-C5WkokTojTFeQGPsRumKnH9RUWbDO', 'service_tier': 'default', 'finish_reason': 'stop', 'logprobs': None}, id='run--4660279e-502d-4e64-85ea-e644a16a8781-0', usage_metadata={'input_tokens': 498, 'output_tokens': 24, 'total_tokens': 522, 'input_token_details': {'audio': 0, 'cache_read': 0}, 'output_token_details': {'audio': 0, 'reasoning': 0}})]}"
      ]
     },
     "execution_count": 535,
     "metadata": {},
     "output_type": "execute_result"
    }
   ],
   "source": [
    "result"
   ]
  },
  {
   "cell_type": "code",
   "execution_count": 521,
   "id": "dead84f2",
   "metadata": {},
   "outputs": [
    {
     "data": {
      "text/plain": [
       "'Found: Fourier series is covered in lectures 7, 8, and 9.'"
      ]
     },
     "execution_count": 521,
     "metadata": {},
     "output_type": "execute_result"
    }
   ],
   "source": [
    "result['messages'][-1].content"
   ]
  },
  {
   "cell_type": "markdown",
   "id": "9d4544e3",
   "metadata": {},
   "source": [
    "Note that for the above, we were using the map_refine cahin type, however the deployed rag tool is using the stuff chain type"
   ]
  },
  {
   "cell_type": "markdown",
   "id": "bbc5f680",
   "metadata": {},
   "source": [
    "## Trying the MCP tool and optimizing the RAG class"
   ]
  },
  {
   "cell_type": "markdown",
   "id": "179c25d7",
   "metadata": {},
   "source": [
    "in this approach, I optimized the built up of the above class by adding a method to load the vector db in case it is present"
   ]
  },
  {
   "cell_type": "code",
   "execution_count": 1,
   "id": "b7c0916a",
   "metadata": {},
   "outputs": [],
   "source": [
    "import os, sys\n",
    "import openai\n",
    "\n",
    "sys.path.append('../..')\n",
    "from dotenv import load_dotenv, find_dotenv\n",
    "_=load_dotenv(find_dotenv()) # read local .env file"
   ]
  },
  {
   "cell_type": "code",
   "execution_count": 5,
   "id": "3af6b954",
   "metadata": {},
   "outputs": [],
   "source": [
    "from pathlib import Path\n",
    "from typing import Any, Optional, Type, Annotated\n",
    "import threading\n",
    "from pydantic import BaseModel, Field, PrivateAttr\n",
    "from langchain.tools import BaseTool\n",
    "from langchain_openai import ChatOpenAI, OpenAIEmbeddings\n",
    "from langchain_community.vectorstores import Chroma\n",
    "from langchain_community.document_loaders import DirectoryLoader, PyMuPDFLoader\n",
    "from langchain_text_splitters import RecursiveCharacterTextSplitter\n",
    "from langchain.chains.query_constructor.schema import AttributeInfo\n",
    "\n",
    "class RAGSearchInput(BaseModel):\n",
    "    \"\"\"Input schema for the RAG search tool\"\"\"\n",
    "    query: str = Field(..., description=\"The query to search for in the course materials\")\n",
    "    course_path: Optional[str] = Field(default=None, description=\"Path to the course materials\")\n",
    "    chain_type: Optional[str] = Field(default=\"map_reduce\", description=\"Chain type for the QA system\")\n",
    "\n",
    "class RAGSearchTool(BaseTool):\n",
    "    name: Annotated[str, Field(description=\"Name of the tool\")] = \"educated_course_material_search\"\n",
    "    description: Annotated[str, Field(description=\"Description of the tool\")] = \"\"\"\n",
    "    Search through course materials using an educated RAG approach.\n",
    "    Uses metadata filtering and conversational capabilities to provide relevant information.\n",
    "    \"\"\"\n",
    "    args_schema: Type[BaseModel] = RAGSearchInput,\n",
    "    default_course_path: Path = Field(\n",
    "        default_factory=lambda: Path(\"../../Courses/signals and systems\")\n",
    "    )\n",
    "    persist_directory: Path = Field(\n",
    "        default_factory=lambda: Path(\"../docs/chroma\")\n",
    "    )\n",
    "    collection_name: str = \"course_materials\"\n",
    "\n",
    "\n",
    "\n",
    "    def __init__(\n",
    "        self,\n",
    "        default_course_path: Optional[Path] = None,\n",
    "        persist_directory: Optional[Path] = None,\n",
    "        collection_name: str = \"course_materials\",\n",
    "    ):\n",
    "        super().__init__()\n",
    "        self.default_course_path = default_course_path or Path(\"../../Courses/signals and systems\")\n",
    "        self.persist_directory = Path(persist_directory or \"../docs/chroma\").resolve()\n",
    "        self.collection_name = collection_name\n",
    "\n",
    "        self._qa_chain = None\n",
    "        self._metadata_field_info = None\n",
    "        self._vectordb = None\n",
    "        self._embeddings = OpenAIEmbeddings()\n",
    "        self._init_lock = threading.Lock()  # guard against concurrent init\n",
    "\n",
    "    def _load_or_build_vectordb(self):\n",
    "        db_file = self.persist_directory / \"chroma.sqlite3\"\n",
    "        if db_file.exists():\n",
    "            # Fast path: just load the persisted collection\n",
    "            self._vectordb = Chroma(\n",
    "                persist_directory=str(self.persist_directory),\n",
    "                collection_name=self.collection_name,\n",
    "                embedding_function=self._embeddings,\n",
    "            )\n",
    "            return  \n",
    "\n",
    "        loader = DirectoryLoader(\n",
    "            str(self.default_course_path),\n",
    "            glob=\"**/*.pdf\",\n",
    "            loader_cls=PyMuPDFLoader,\n",
    "        )\n",
    "        raw_docs = loader.load()\n",
    "\n",
    "\n",
    "        splitter = RecursiveCharacterTextSplitter(chunk_size=1500, chunk_overlap=250)\n",
    "        split_docs = splitter.split_documents(raw_docs)\n",
    "\n",
    "        self.persist_directory.mkdir(parents=True, exist_ok=True)\n",
    "        self._vectordb = Chroma.from_documents(\n",
    "            documents=split_docs,\n",
    "            embedding=self._embeddings,\n",
    "            collection_name=self.collection_name,\n",
    "            persist_directory=str(self.persist_directory),\n",
    "        )\n",
    "\n",
    "    def _initialize_components(self):\n",
    "        \"\"\"Initialize the RAG components if not already initialized.\"\"\"\n",
    "        if self._qa_chain is not None:\n",
    "            return\n",
    "\n",
    "        with self._init_lock:\n",
    "            if self._qa_chain is not None:\n",
    "                return  # double-checked\n",
    "\n",
    "            # 1) Ensure vector DB exists (load if present, else build then persist)\n",
    "            self._load_or_build_vectordb()\n",
    "\n",
    "            # 2) Define metadata fields (unchanged)\n",
    "            self._metadata_field_info = [\n",
    "                AttributeInfo(name=\"category\", type=\"string\", description=\"Type of document: chapters | syllabus | assignments | exams\"),\n",
    "                AttributeInfo(name=\"chapter\", type=\"integer\", description=\"Chapter number\"),\n",
    "                AttributeInfo(name=\"lecture_number\", type=\"integer\", description=\"Specific lecture number\"),\n",
    "                AttributeInfo(name=\"lecture_min\", type=\"integer\", description=\"First lecture number in range\"),\n",
    "                AttributeInfo(name=\"lecture_max\", type=\"integer\", description=\"Last lecture number in range\"),\n",
    "                AttributeInfo(name=\"assignment_number\", type=\"integer\", description=\"Assignment number\"),\n",
    "                AttributeInfo(name=\"is_solution\", type=\"boolean\", description=\"Whether document is a solution\"),\n",
    "                AttributeInfo(name=\"exam_number\", type=\"integer\", description=\"Exam number\"),\n",
    "                AttributeInfo(name=\"term_year\", type=\"integer\", description=\"Academic year\"),\n",
    "            ]\n",
    "\n",
    "            # 3) Create the QA chain (unchanged)\n",
    "            llm = ChatOpenAI(temperature=0)\n",
    "            self._qa_chain = educated_retriever(\n",
    "                llm=llm,\n",
    "                metadata_field_info=self._metadata_field_info,\n",
    "                document_content=\"Course materials for Signals and Systems\",\n",
    "                vectordb=self._vectordb,\n",
    "                chain_type=\"map_reduce\",\n",
    "            )\n",
    "            \n",
    "    def _run(\n",
    "        self,\n",
    "        query: str,\n",
    "        course_path: Optional[str] = None,\n",
    "        chain_type: Optional[str] = None,          # kept for compatibility; ignored unless you want to rebuild\n",
    "        category: Optional[str] = None,\n",
    "        chapter: Optional[int] = None,\n",
    "        lecture_number: Optional[int] = None,\n",
    "        k: int = 5,\n",
    "    ) -> str:\n",
    "        \"\"\"Execute the RAG search (optionally constrained by metadata filters).\"\"\"\n",
    "\n",
    "        # Allow switching course on the fly\n",
    "        if course_path:\n",
    "            self.default_course_path = Path(course_path)\n",
    "            self._qa_chain = None  # Force re-init for new corpus\n",
    "\n",
    "        # Make sure components exist\n",
    "        self._initialize_components()\n",
    "\n",
    "        # Build a HARD filter (ANDed with SQR’s inferred filter)\n",
    "        # Keep it Chroma-friendly: primitives + {$lte,$gte} for ranges\n",
    "        flt = {}\n",
    "        if category:\n",
    "            flt[\"category\"] = category\n",
    "        if chapter is not None:\n",
    "            flt[\"chapter\"] = chapter\n",
    "        # If a single lecture number is requested, match exact or within [lecture_min, lecture_max]\n",
    "        if lecture_number is not None:\n",
    "            # Use an $or across exact number OR range gate (Chroma supports $and/$or/$lte/$gte)\n",
    "            lecture_gate = {\n",
    "                \"$or\": [\n",
    "                    {\"lecture_number\": lecture_number},\n",
    "                    {\"$and\": [\n",
    "                        {\"lecture_min\": {\"$lte\": lecture_number}},\n",
    "                        {\"lecture_max\": {\"$gte\": lecture_number}},\n",
    "                    ]}\n",
    "                ]\n",
    "            }\n",
    "            # Merge $or with any existing filter via $and (if needed)\n",
    "            if flt:\n",
    "                flt = {\"$and\": [flt, lecture_gate]}\n",
    "            else:\n",
    "                flt = lecture_gate\n",
    "\n",
    "        # Stash current search kwargs, then apply ours temporarily\n",
    "        retr = self._qa_chain.retriever\n",
    "        orig_kwargs = dict(getattr(retr, \"search_kwargs\", {}) or {})\n",
    "        try:\n",
    "            new_kwargs = {\"k\": k}\n",
    "            if flt:\n",
    "                new_kwargs[\"filter\"] = flt\n",
    "            # Update (temporary)\n",
    "            retr.search_kwargs.update(new_kwargs)\n",
    "\n",
    "            # Run QA\n",
    "            response = self._qa_chain({\"question\": query, \"chat_history\": []})\n",
    "\n",
    "            # Format response\n",
    "            answer = (response.get(\"answer\") or \"\").strip()\n",
    "            sources = []\n",
    "            for i, doc in enumerate(response.get(\"source_documents\", []) or [], 1):\n",
    "                md = doc.metadata or {}\n",
    "                parts = [f\"[{i}] {md.get('category', 'unknown')}\"]\n",
    "                if md.get(\"chapter\") is not None:\n",
    "                    parts.append(f\"Chapter {md.get('chapter')}\")\n",
    "                if md.get(\"lecture_number\") is not None:\n",
    "                    parts.append(f\"Lecture {md.get('lecture_number')}\")\n",
    "                else:\n",
    "                    # show range if present\n",
    "                    lmin, lmax = md.get(\"lecture_min\"), md.get(\"lecture_max\")\n",
    "                    if isinstance(lmin, int) or isinstance(lmax, int):\n",
    "                        parts.append(f\"Lectures {lmin}–{lmax}\")\n",
    "                page = md.get(\"page\") or md.get(\"page_or_slide\")\n",
    "                if page is not None:\n",
    "                    parts.append(f\"p.{page}\")\n",
    "                parts.append(md.get(\"filename\", \"unknown file\"))\n",
    "                sources.append(\" | \".join(parts))\n",
    "\n",
    "            return (\n",
    "                f\"Answer: {answer}\\n\\n\"\n",
    "                \"Sources:\\n\" + (\"\\n\".join(sources) if sources else \"(none)\")\n",
    "            )\n",
    "\n",
    "        except Exception as e:\n",
    "            return f\"Error: {e!r}\"\n",
    "        finally:\n",
    "            # Always restore retriever kwargs so filters don't leak across tool calls\n",
    "            retr.search_kwargs.clear()\n",
    "            retr.search_kwargs.update(orig_kwargs)\n",
    "\n"
   ]
  },
  {
   "cell_type": "code",
   "execution_count": 6,
   "id": "e6f86702",
   "metadata": {},
   "outputs": [],
   "source": [
    "rag_tool =  RAGSearchTool(\n",
    "    default_course_path=Path(\"../../Courses/signals and systems\"),\n",
    "    persist_directory=Path(\"../../Rag/docs/chroma\"),\n",
    "    collection_name=\"ele430_signals\",\n",
    ")"
   ]
  },
  {
   "cell_type": "code",
   "execution_count": 7,
   "id": "073306ed",
   "metadata": {},
   "outputs": [],
   "source": [
    "from typing import Literal, Dict, Any, List, Optional\n",
    "from pydantic import BaseModel, Field\n",
    "from langchain_core.tools import StructuredTool\n",
    "import json, re\n",
    "\n",
    "class ProbeArgs(BaseModel):\n",
    "    topic: str\n",
    "    intent: Literal[\"presence\", \"material\", \"exercises\", \"tests\", \"resources\"] = \"presence\"\n",
    "    lectures: Optional[List[int]] = Field(default=None, description=\"Lecture hints; for material we may use the first.\")\n",
    "    k: int = Field(default=15, ge=1, le=50)\n",
    "\n",
    "\n",
    "class ListingsOut(BaseModel):\n",
    "    text: str = Field(..., description=\"Up to k terse lines; agent can display as sources.\")\n",
    "\n",
    "\n",
    "def _probe_topic_fn(topic: str,\n",
    "                    intent: str = \"presence\",\n",
    "                    lectures: Optional[List[int]] = None,\n",
    "                    k: int = 15) -> Dict[str, Any]:\n",
    "\n",
    "    # ---- PRESENCE (syllabus only) ----\n",
    "    if intent == \"presence\":\n",
    "        prompt = f\"\"\"\n",
    "        \n",
    "You are checking the syllabus for: \"{topic}\".\n",
    "if the topic is mentioned in the syllabus, it is covered, else it is not covered.\n",
    "Respond with STRICT JSON ONLY:\n",
    "{{\n",
    "  \"covered\": <true|false>,\n",
    "  \"note\": \"<=120 chars brief reason or closest phrasing>\"\n",
    "}}\n",
    "\n",
    "(No sources, no extra keys.)\n",
    "\"\"\".strip()\n",
    "        text = str(rag_tool._run(query=prompt, category=\"syllabus\", k=5))\n",
    "        return {\"text\": text}\n",
    "\n",
    "    # ---- RESOURCES (lectures from syllabus) ----\n",
    "# inside _probe_topic_fn(...)\n",
    "\n",
    "    if intent == \"resources\":\n",
    "        # Syllabus-only; agent will parse this tiny, regular format.\n",
    "        prompt = f\"\"\"\n",
    "    based on the syllabus, which lectures discuss \"{topic}\".\n",
    "\n",
    "    OUTPUT EXACTLY TWO LINES (no extra text, no quotes, no sources):\n",
    "    LECTURES: <comma-separated lecture numbers as written in the syllabus\n",
    "    NOTE: <<=120 chars brief reason or closest phrasing>\n",
    "    \"\"\".strip()\n",
    "\n",
    "        text = str(rag_tool._run(query=prompt, category=\"syllabus\", k=5))\n",
    "        return {\"text\": text}\n",
    "\n",
    "\n",
    "    scope_by_intent = {\n",
    "        \"material\": \"chapters\",\n",
    "        \"exercises\": \"assignments\",\n",
    "        \"tests\": \"exams\",\n",
    "    }\n",
    "    scope = scope_by_intent[intent]\n",
    "    lec = None\n",
    "    if lectures and len(lectures) > 0:\n",
    "        try: lec = int(lectures[0])\n",
    "        except: lec = None\n",
    "\n",
    "    header = f\"TOPIC: {topic}\\nSCOPE: {scope.upper()}\\nFORMAT: Up to {k} terse lines.\\n\" \\\n",
    "             f\"Each line: - Lecture=<N or ?> | Chapter=<N or ?> | <filename> | page=<n> | relpath=<p> | snippet: <≤120 chars>\"\n",
    "    guide = \"If a lecture hint is provided, prefer that lecture; otherwise choose best matches.\"\n",
    "    prompt = f\"{header}\\n{guide}\"\n",
    "\n",
    "    text = rag_tool._run(query=prompt, category=scope, lecture_number=lec, k=k)\n",
    "    return ListingsOut(text=str(text)).model_dump()\n",
    "\n",
    "probe_topic = StructuredTool.from_function(\n",
    "    name=\"probe_topic\",\n",
    "    description=(\"Educated probe over course corpora.\\n\"\n",
    "                 \"Intents:\\n\"\n",
    "                 \"- presence  : syllabus-only coverage, {covered, note} (no sources)\\n\"\n",
    "                 \"- resources : syllabus-only lecture mapping, {covered, lectures[], note} (no sources)\\n\"\n",
    "                 \"- material  : chapters-only listings (up to k lines)\\n\"\n",
    "                 \"- exercises : assignments-only listings (up to k lines)\\n\"\n",
    "                 \"- tests     : exams-only listings (up to k lines)\"),\n",
    "    func=_probe_topic_fn,\n",
    "    args_schema=ProbeArgs,\n",
    ")\n"
   ]
  },
  {
   "cell_type": "code",
   "execution_count": 2,
   "id": "14112f70",
   "metadata": {},
   "outputs": [],
   "source": [
    "from langgraph.graph import StateGraph, END\n",
    "from typing import TypedDict, Annotated\n",
    "import operator\n",
    "from langchain_core.messages import AnyMessage, SystemMessage, HumanMessage, ToolMessage\n",
    "from langchain_openai import ChatOpenAI\n"
   ]
  },
  {
   "cell_type": "code",
   "execution_count": 4,
   "id": "4a47fc41",
   "metadata": {},
   "outputs": [
    {
     "data": {
      "text/plain": [
       "{'probe_topic': StructuredTool(name='probe_topic', description='Educated probe over course corpora. Intents: presence (syllabus), resources (syllabus), material (chapters), exercises (assignments), tests (exams).', args_schema={'properties': {'topic': {'title': 'Topic', 'type': 'string'}, 'intent': {'default': 'presence', 'enum': ['presence', 'material', 'exercises', 'tests', 'resources'], 'title': 'Intent', 'type': 'string'}, 'lectures': {'anyOf': [{'items': {'type': 'integer'}, 'type': 'array'}, {'type': 'null'}], 'default': None, 'title': 'Lectures'}, 'k': {'default': 15, 'title': 'K', 'type': 'integer'}}, 'required': ['topic'], 'title': 'mcp_probe_topicArguments', 'type': 'object'}, response_format='content_and_artifact', coroutine=<function convert_mcp_tool_to_langchain_tool.<locals>.call_tool at 0x0000019A477120C0>),\n",
       " 'draf_email': StructuredTool(name='draf_email', description=\"\\n        Creates a draft email in the user's Gmail account.\\n        Requires the recipient's email address (`to`), the email content (`body`),\\n        and an optional `subject`. This tool only creates a draft; it does not send the email.\\n    \", args_schema={'properties': {'to': {'title': 'To', 'type': 'string'}, 'body': {'title': 'Body', 'type': 'string'}, 'subject': {'default': 'Tutoring Session', 'title': 'Subject', 'type': 'string'}}, 'required': ['to', 'body'], 'title': 'gmail_create_draftArguments', 'type': 'object'}, response_format='content_and_artifact', coroutine=<function convert_mcp_tool_to_langchain_tool.<locals>.call_tool at 0x0000019A47711EE0>),\n",
       " 'scrape_calendar': StructuredTool(name='scrape_calendar', description=\"Lists up to 10 upcoming events from the user's primary Google Calendar. Returns a list of events, each containing its summary (title), start time, and event ID.\", args_schema={'properties': {}, 'title': 'scrape_calendarArguments', 'type': 'object'}, response_format='content_and_artifact', coroutine=<function convert_mcp_tool_to_langchain_tool.<locals>.call_tool at 0x0000019A477125C0>),\n",
       " 'update_calendar': StructuredTool(name='update_calendar', description=\"\\n    Updates an existing event in the user's primary Google Calendar.\\n    Requires the `eventId`. Optional fields include `summary`, `description`,\\n    `start_time`, `end_time` (in ISO format), and a list of `attendees` emails.\\n    \", args_schema={'properties': {'eventId': {'title': 'Eventid', 'type': 'string'}, 'summary': {'anyOf': [{'type': 'string'}, {'type': 'null'}], 'default': None, 'title': 'Summary'}, 'description': {'anyOf': [{'type': 'string'}, {'type': 'null'}], 'default': None, 'title': 'Description'}, 'start_time': {'anyOf': [{'type': 'string'}, {'type': 'null'}], 'default': None, 'title': 'Start Time'}, 'end_time': {'anyOf': [{'type': 'string'}, {'type': 'null'}], 'default': None, 'title': 'End Time'}, 'attendees': {'default': None, 'items': {'type': 'string'}, 'title': 'Attendees', 'type': 'array'}}, 'required': ['eventId'], 'title': 'update_calendarArguments', 'type': 'object'}, response_format='content_and_artifact', coroutine=<function convert_mcp_tool_to_langchain_tool.<locals>.call_tool at 0x0000019A47712160>),\n",
       " 'cancel_event': StructuredTool(name='cancel_event', description=\"Cancels or deletes an event from the user's primary Google Calendar. Requires the `eventId` of the event to be cancelled.\", args_schema={'properties': {'eventId': {'title': 'eventId', 'type': 'string'}}, 'required': ['eventId'], 'title': 'delete_from_calendarArguments', 'type': 'object'}, response_format='content_and_artifact', coroutine=<function convert_mcp_tool_to_langchain_tool.<locals>.call_tool at 0x0000019A47712340>),\n",
       " 'create_calendar_event': StructuredTool(name='create_calendar_event', description=\"Creates a new event in the user's primary Google Calendar. Requires a `summary` (the event title), a `start_time`, and an `end_time`. Times must be in ISO format (e.g., '2025-08-22T19:00:00'). Optionally accepts a `description` for the event details.\", args_schema={'properties': {'summary': {'title': 'Summary', 'type': 'string'}, 'start_time': {'title': 'Start Time', 'type': 'string'}, 'end_time': {'title': 'End Time', 'type': 'string'}, 'description': {'anyOf': [{'type': 'string'}, {'type': 'null'}], 'default': None, 'title': 'Description'}}, 'required': ['summary', 'start_time', 'end_time'], 'title': 'create_calendar_eventArguments', 'type': 'object'}, response_format='content_and_artifact', coroutine=<function convert_mcp_tool_to_langchain_tool.<locals>.call_tool at 0x0000019A477123E0>)}"
      ]
     },
     "execution_count": 4,
     "metadata": {},
     "output_type": "execute_result"
    }
   ],
   "source": [
    "from mcp import ClientSession\n",
    "from mcp.client.sse import sse_client\n",
    "from langchain_mcp_adapters.tools import load_mcp_tools\n",
    "\n",
    "sse_cm = sse_client(\"http://127.0.0.1:8787/sse\")\n",
    "read_stream, write_stream = await sse_cm.__aenter__()\n",
    "session_cm = ClientSession(read_stream, write_stream)\n",
    "session = await session_cm.__aenter__()\n",
    "await session.initialize()\n",
    "\n",
    "# load MCP tools in to langchain Structured tools\n",
    "tools = await load_mcp_tools(session=session)\n",
    "tool_map = {tool.name: tool for tool in tools}\n",
    "tool_map"
   ]
  },
  {
   "cell_type": "code",
   "execution_count": 5,
   "id": "d3ddef54",
   "metadata": {},
   "outputs": [],
   "source": [
    "# TOOLS=[probe_topic]\n",
    "TOOLS=[tool_map['probe_topic']] # trying the server after trying the enhanced rag class"
   ]
  },
  {
   "cell_type": "code",
   "execution_count": 10,
   "id": "3971ce4f",
   "metadata": {},
   "outputs": [],
   "source": [
    "class AgentState(TypedDict):\n",
    "    messages: Annotated[list[AnyMessage], operator.add]"
   ]
  },
  {
   "cell_type": "code",
   "execution_count": 11,
   "id": "b2225dc7",
   "metadata": {},
   "outputs": [],
   "source": [
    "from typing import Annotated, TypedDict\n",
    "import operator, json\n",
    "from langgraph.graph import StateGraph, END\n",
    "from langchain_core.messages import AnyMessage, SystemMessage, ToolMessage, HumanMessage, AIMessage\n",
    "import asyncio\n",
    "\n",
    "class AgentState(TypedDict):\n",
    "    messages: Annotated[list[AnyMessage], operator.add]\n",
    "\n",
    "class Agent:\n",
    "    def __init__(self, model, tools, system: str = \"\" ,debug: bool = True):\n",
    "        # normalize tools if someone passed [TOOLS]\n",
    "        if len(tools) == 1 and isinstance(tools[0], (list, tuple)):\n",
    "            tools = list(tools[0])\n",
    "\n",
    "        self.debug = debug\n",
    "        self.system = system.strip()\n",
    "        self.tools = {t.name: t for t in tools}\n",
    "        self.model = model.bind_tools(tools)\n",
    "        self._system_injected = False\n",
    "        self.messages_key = \"messages\"\n",
    "        \n",
    "        g = StateGraph(AgentState)\n",
    "        g.add_node(\"llm\", self.call_openai)\n",
    "        g.add_node(\"action\", self.take_action)\n",
    "        g.add_conditional_edges(\"llm\", self.exists_action, {True: \"action\", False: END})\n",
    "        g.add_edge(\"action\", \"llm\")\n",
    "        g.set_entry_point(\"llm\")\n",
    "        self.graph = g.compile()\n",
    "\n",
    "    def _get_msgs(self, state):\n",
    "        return state.get(self.messages_key, [])\n",
    "\n",
    "    def _set_msgs(self, state, new_msgs):\n",
    "        return {self.messages_key: new_msgs}\n",
    "\n",
    "    # ---------- helpers\n",
    "    def _show_msg(self, m):\n",
    "        if isinstance(m, HumanMessage):\n",
    "            return f\"Human: {m.content}\"\n",
    "        if isinstance(m, SystemMessage):\n",
    "            return f\"System: {m.content[:180]}{'…' if len(m.content)>180 else ''}\"\n",
    "        if isinstance(m, AIMessage):\n",
    "            calls = getattr(m, \"tool_calls\", None)\n",
    "            return f\"AI: {m.content[:180]}{'…' if len(m.content)>180 else ''} | tool_calls={calls}\"\n",
    "        if isinstance(m, ToolMessage):\n",
    "            body = str(m.content)\n",
    "            return f\"ToolResult[{m.name}]: {body[:220]}{'…' if len(body)>220 else ''}\"\n",
    "        return f\"{type(m).__name__}\"\n",
    "\n",
    "    def exists_action(self, state: AgentState):\n",
    "        last = state[\"messages\"][-1]\n",
    "        want_tools = isinstance(last, AIMessage) and bool(getattr(last, \"tool_calls\", None))\n",
    "        return want_tools\n",
    "    \n",
    "    async def call_openai(self, state: AgentState):\n",
    "        msgs = state[\"messages\"]\n",
    "\n",
    "        to_add = []\n",
    "        # inject system once (delta)\n",
    "        if self.system and not self._system_injected:\n",
    "            to_add.append(SystemMessage(content=self.system))\n",
    "            self._system_injected = True\n",
    "\n",
    "        model_input = msgs + to_add\n",
    "\n",
    "        if self.debug:\n",
    "            print(\"\\n[call_openai] ---- MESSAGES TO LLM ----\")\n",
    "            for m in model_input:\n",
    "                print(\" \", self._show_msg(m))\n",
    "\n",
    "        ai = await self.model.ainvoke(model_input)\n",
    "\n",
    "\n",
    "        # IMPORTANT: return **only** the delta so the reducer appends it\n",
    "        return {\"messages\": to_add + [ai]}\n",
    "\n",
    "\n",
    "\n",
    "    async def take_action(self, state: AgentState):\n",
    "        last = state[\"messages\"][-1]\n",
    "        tool_calls = (getattr(last, \"tool_calls\", None) or [])[:1]\n",
    "\n",
    "        results = []\n",
    "        for tc in tool_calls:\n",
    "            name, args, tid = tc[\"name\"], tc.get(\"args\", {}), tc[\"id\"]\n",
    "            tool = self.tools.get(name)\n",
    "            if not tool:\n",
    "                result = \"bad tool name, retry\"\n",
    "            else:\n",
    "                # support both Runnable tools and core spec tools\n",
    "                if hasattr(tool, \"ainvoke\"):\n",
    "                    result = await tool.ainvoke(args)\n",
    "                elif hasattr(tool, \"invoke\"):\n",
    "                    import asyncio\n",
    "                    result = await asyncio.to_thread(tool.invoke, args)\n",
    "                else:\n",
    "                    # langchain_core.tools.StructuredTool (spec) -> use .func\n",
    "                    result = await asyncio.to_thread(tool.func, **(args or {}))\n",
    "\n",
    "            tm = ToolMessage(tool_call_id=tid, name=name, content=str(result))\n",
    "            results.append(tm)\n",
    "\n",
    "        print(\"[take_action] Back to model\")\n",
    "        # ONLY append the tool results (delta)\n",
    "        return {\"messages\": results}"
   ]
  },
  {
   "cell_type": "markdown",
   "id": "f162ba0f",
   "metadata": {},
   "source": [
    "## SubGraph 1: Relevance Checker with the RAG MCP tool"
   ]
  },
  {
   "cell_type": "markdown",
   "id": "f19f77dc",
   "metadata": {},
   "source": [
    "The above examples where tests, thats why i asked chatgpt to introduce a debugging mechanism, note that i did check that the functionalities where the same and note changed, now we want to build our own subgraphs, thats why i will return to the original method for that purpose."
   ]
  },
  {
   "cell_type": "code",
   "execution_count": 12,
   "id": "bd22937e",
   "metadata": {},
   "outputs": [],
   "source": [
    "import asyncio\n",
    "class Agent:\n",
    "\n",
    "    def __init__(self, model, tools, system=\"\"):\n",
    "        self.system = system\n",
    "        graph = StateGraph(AgentState)\n",
    "        graph.add_node(\"llm\", self.call_openai)\n",
    "        graph.add_node(\"action\", self.take_action)\n",
    "        graph.add_conditional_edges(\n",
    "            \"llm\",\n",
    "            self.exists_action,\n",
    "            {True: \"action\", False: END}\n",
    "        )\n",
    "        graph.add_edge(\"action\", \"llm\")\n",
    "        graph.set_entry_point(\"llm\")\n",
    "        self.graph = graph.compile()\n",
    "        self.tools = {t.name: t for t in tools}\n",
    "        self.model = model.bind_tools(tools)\n",
    "\n",
    "    def exists_action(self, state: AgentState):\n",
    "        result = state['messages'][-1]\n",
    "        want_tools = isinstance(result, AIMessage) and bool(getattr(result, \"tool_calls\", None))\n",
    "        return  want_tools\n",
    "\n",
    "    async def call_openai(self, state: AgentState):\n",
    "        messages = state['messages']\n",
    "        if self.system:\n",
    "            messages = [SystemMessage(content=self.system)] + messages\n",
    "        message = await self.model.ainvoke(messages) # aynchronous invoke\n",
    "        return {'messages': [message]}\n",
    "\n",
    "    async def take_action(self, state: AgentState):\n",
    "        tool_calls = state['messages'][-1].tool_calls\n",
    "        results = []\n",
    "        for t in tool_calls:\n",
    "            print(f\"Calling: {t}\")\n",
    "            if not t['name'] in self.tools:      # check for bad tool name from LLM\n",
    "                print(\"\\n ....bad tool name....\")\n",
    "                result = \"bad tool name, retry\"  # instruct LLM to retry if bad\n",
    "            else:\n",
    "                 result = await self.tools[t['name']].ainvoke(t['args']) # aynchronous invoke\n",
    "            results.append(ToolMessage(tool_call_id=t['id'], name=t['name'], content=str(result)))\n",
    "        print(\"Back to the model!\")\n",
    "        return {'messages': results}"
   ]
  },
  {
   "cell_type": "markdown",
   "id": "e03803f4",
   "metadata": {},
   "source": [
    "To make the above method compatible with the mcp tool, i added the aync and await keywords. Note that you also need to use ainvoke (took me 1 hour to fix the errors related to it)"
   ]
  },
  {
   "cell_type": "code",
   "execution_count": 7,
   "id": "9ccb1203",
   "metadata": {},
   "outputs": [],
   "source": [
    "relevancer={}"
   ]
  },
  {
   "cell_type": "markdown",
   "id": "00a702c1",
   "metadata": {},
   "source": [
    "#### Prompts"
   ]
  },
  {
   "cell_type": "markdown",
   "id": "6563d3e2",
   "metadata": {},
   "source": [
    "For the sake of documentation, i decided to add my prompts and their adjustments. note that to reach prompt 1, it took me many trials but did not think of documenting them."
   ]
  },
  {
   "cell_type": "code",
   "execution_count": 32,
   "id": "a8700f10",
   "metadata": {},
   "outputs": [],
   "source": [
    "# did not add an output schema for the model to follow\n",
    "prompt_1=(\n",
    "\"\"\"\n",
    "\"You are a Signals & Systems assistant that check if the topic present in the user query is relevant to the course.\\n\"\n",
    "    \"Workflow:\\n\"\n",
    "    \"1) Call tool probe_topic once with intent='presence' and scope='syllabus'. The topic must be extracted from the user\\n\"\n",
    "    \"2) If the summary suggests Covered , call probe_topic again with intent='resources' \"\n",
    "    \"   and scope='syllabus'.\\n\"\n",
    "    \"3) Then STOP using tools. Reply briefly with:\\n\"\n",
    "    \"   - topic: string stating what was the topic the user was asking about\\n\"\n",
    "    \"   - is_relevant: boolean that is set to true if the topic is found\\n\"\n",
    "    \"   - If found: list lecture numbers in a list called list \\n\"\n",
    "    \"Never call the tool more than twice.\"\n",
    "\"\"\")"
   ]
  },
  {
   "cell_type": "code",
   "execution_count": 33,
   "id": "2335e482",
   "metadata": {},
   "outputs": [],
   "source": [
    "# forget to state the purpose of the intent param\n",
    "prompt_2 = (\n",
    "    \"You are a Signals & Systems assistant that check if the topic present in the user query is relevant to the course.\\n\"\n",
    "    \"Workflow:\\n\"\n",
    "    \"1) Call tool probe_topic once with intent='presence' and scope='syllabus'. The topic must be extracted from the user\\n\"\n",
    "    \"2) If the summary suggests Covered , call probe_topic again with intent='resources' \"\n",
    "    \"   and scope='syllabus'.\\n\"\n",
    "    \"3) Then STOP using tools. Reply briefly with:\\n\"\n",
    "    \"   - topic: string stating what was the topic the user was asking about\\n\"\n",
    "    \"   - is_relevant: boolean that is set to true if the topic is found\\n\"\n",
    "    \"   - If found: list lecture numbers in a list called list \\n\"\n",
    "    \"Never call the tool more than twice.\\n\"\n",
    "    \"\"\" Return ONE valid JSON object ONLY, no prose.\n",
    "        Required JSON shape:\n",
    "        {\n",
    "        \"intent\": string,              // natural question or tutoring request\n",
    "        \"topic\": string,               // the topic the user is asking about\n",
    "        \"is_relevant\": boolean,        // true iff the topic is found\n",
    "        \"list\": number[]               // lecture numbers where the topic appears; [] if none/not found\n",
    "        }\n",
    "    \"\"\")"
   ]
  },
  {
   "cell_type": "code",
   "execution_count": 34,
   "id": "458d34f3",
   "metadata": {},
   "outputs": [],
   "source": [
    "prompt_3 = (\n",
    "    \"You are a Signals & Systems assistant that check if the topic present in the user query is relevant to the course.\\n\"\n",
    "    \"Workflow:\\n\"\n",
    "    \"1) Call tool probe_topic once with intent='presence' and scope='syllabus'. The topic must be extracted from the user\\n\"\n",
    "    \"2) If the summary suggests Covered , call probe_topic again with intent='resources' \"\n",
    "    \"   and scope='syllabus'.\\n\"\n",
    "    \"3) Then STOP using tools. Reply briefly with:\\n\"\n",
    "    \"   - topic: string stating what was the topic the user was asking about\\n\"\n",
    "    \"   - is_relevant: boolean that is set to true if the topic is found\\n\"\n",
    "    \"   - If found: list lecture numbers in a list called list \\n\"\n",
    "    \"   - intent: the purpose of the user query, (to be tutored or to ask a question)\"\n",
    "    \"Never call the tool more than twice.\\n\"\n",
    "    \"\"\" Return ONE valid JSON object ONLY, no prose.\n",
    "        Required JSON shape:\n",
    "        {\n",
    "        \"intent\": string,              // natural question or tutoring request\n",
    "        \"topic\": string,               // the topic the user is asking about\n",
    "        \"is_relevant\": boolean,        // true iff the topic is found\n",
    "        \"list\": number[]               // lecture numbers where the topic appears; [] if none/not found\n",
    "        }\n",
    "    \"\"\"\n",
    ")"
   ]
  },
  {
   "cell_type": "markdown",
   "id": "d94f5f4d",
   "metadata": {},
   "source": [
    "### the Relevancer Graph"
   ]
  },
  {
   "cell_type": "markdown",
   "id": "6344c5bb",
   "metadata": {},
   "source": [
    "for the final prompt, i have changed the name of the intent keyword that is expected to be return to purpose so that the model is not confused with the intent output key and the intent tool key that is to be configured in the agentic rag tool."
   ]
  },
  {
   "cell_type": "code",
   "execution_count": 8,
   "id": "9a44aa86",
   "metadata": {},
   "outputs": [],
   "source": [
    "TOOLS=[tool_map['probe_topic']] # trying the server after trying the enhanced rag class\n",
    "prompt = (\n",
    "    \"You are a Signals & Systems assistant that check if the topic present in the user query is relevant to the course.\\n\"\n",
    "    \"Workflow:\\n\"\n",
    "    \"1) Call tool probe_topic once with intent='presence' and scope='syllabus'. The topic must be extracted from the user\\n\"\n",
    "    \"2) If the summary suggests Covered , call probe_topic again with intent='resources' \"\n",
    "    \"   and scope='syllabus'.\\n\"\n",
    "    \"3) Then STOP using tools. Reply briefly with:\\n\"\n",
    "    \"   - topic: string stating what was the topic the user was asking about\\n\"\n",
    "    \"   - is_relevant: boolean that is set to true if the topic is found\\n\"\n",
    "    \"   - If found: list lecture numbers in a list called list\\n\"\n",
    "    \"   - purpose: string representing the user purpose, can be either one of two, either \\\"tutoring\\\" or \\\"general question\\\", depending on the query\\n\"\n",
    "    \"Never call the tool more than twice.\\n\"\n",
    "    \"\"\" Return ONE valid JSON object ONLY, no prose.\n",
    "        Required JSON shape:\n",
    "        {\n",
    "        \"purpose\": string,              // natural question or tutoring request\n",
    "        \"topic\": string,               // the topic the user is asking about\n",
    "        \"is_relevant\": boolean,        // true iff the topic is found\n",
    "        \"list\": number[]               // lecture numbers where the topic appears; [] if none/not found\n",
    "        }\n",
    "    \"\"\"\n",
    ").strip()\n",
    "\n",
    "model = ChatOpenAI(model=\"gpt-4o-mini\")  #reduce inference cost\n",
    "referncer_agent = Agent(model, TOOLS, system=prompt)"
   ]
  },
  {
   "cell_type": "code",
   "execution_count": null,
   "id": "f5b25ca7",
   "metadata": {},
   "outputs": [
    {
     "data": {
      "image/png": "[encoded data removed]",
      "text/plain": [
       "<IPython.core.display.Image object>"
      ]
     },
     "metadata": {},
     "output_type": "display_data"
    }
   ],
   "source": [
    "from IPython.display import Image, display\n",
    "display(Image(referncer_agent.graph.get_graph().draw_mermaid_png()))\n"
   ]
  },
  {
   "cell_type": "code",
   "execution_count": 6,
   "id": "c483e3dc",
   "metadata": {},
   "outputs": [],
   "source": [
    "from typing import Any, Dict,List\n",
    "\n",
    "from langchain_core.messages import HumanMessage\n",
    "\n",
    "async def run_single_graph_test(graph, query: str):\n",
    "    payload = {\"messages\": [HumanMessage(content=query)]}\n",
    "    print(f\"--- Invoking graph with query: '{query}'\")\n",
    "    out = await graph.ainvoke(payload)\n",
    "    print(f\"--- Graph invocation complete.\")\n",
    "    return out"
   ]
  },
  {
   "cell_type": "code",
   "execution_count": null,
   "id": "f2926e8f",
   "metadata": {},
   "outputs": [
    {
     "ename": "NameError",
     "evalue": "name 'run_single_graph_test' is not defined",
     "output_type": "error",
     "traceback": [
      "\u001b[1;31m---------------------------------------------------------------------------\u001b[0m\n",
      "\u001b[1;31mNameError\u001b[0m                                 Traceback (most recent call last)\n",
      "Cell \u001b[1;32mIn[9], line 3\u001b[0m\n",
      "\u001b[0;32m      1\u001b[0m \u001b[38;5;66;03m# messages = [HumanMessage(content=\"i want to be tutored on fourier series.\")]\u001b[39;00m\n",
      "\u001b[0;32m      2\u001b[0m \u001b[38;5;66;03m# result = abot.graph.invoke({\"messages\": messages},config={\"recursion_limit\": 6})\u001b[39;00m\n",
      "\u001b[1;32m----> 3\u001b[0m response \u001b[38;5;241m=\u001b[39m \u001b[38;5;28;01mawait\u001b[39;00m \u001b[43mrun_single_graph_test\u001b[49m(abot\u001b[38;5;241m.\u001b[39mgraph, \u001b[38;5;124m\"\u001b[39m\u001b[38;5;124mi want to be tutored on fourier series.\u001b[39m\u001b[38;5;124m\"\u001b[39m)\n",
      "\n",
      "\u001b[1;31mNameError\u001b[0m: name 'run_single_graph_test' is not defined"
     ]
    }
   ],
   "source": [
    "# messages = [HumanMessage(content=\"i want to be tutored on fourier series.\")]\n",
    "# result = abot.graph.invoke({\"messages\": messages},config={\"recursion_limit\": 6})\n",
    "response = await run_single_graph_test(abot.graph, \"i want to be tutored on fourier series.\")"
   ]
  },
  {
   "cell_type": "code",
   "execution_count": 56,
   "id": "79913413",
   "metadata": {},
   "outputs": [
    {
     "name": "stdout",
     "output_type": "stream",
     "text": [
      "{\n",
      "  \"purpose\": \"tutoring\",\n",
      "  \"topic\": \"fourier series\",\n",
      "  \"is_relevant\": true,\n",
      "  \"list\": [5, 6, 7]\n",
      "}\n"
     ]
    }
   ],
   "source": [
    "print(response['messages'][-1].content)"
   ]
  },
  {
   "cell_type": "code",
   "execution_count": 61,
   "id": "e15f8b91",
   "metadata": {},
   "outputs": [
    {
     "data": {
      "text/plain": [
       "dict"
      ]
     },
     "execution_count": 61,
     "metadata": {},
     "output_type": "execute_result"
    }
   ],
   "source": [
    "type(response)"
   ]
  },
  {
   "cell_type": "code",
   "execution_count": 57,
   "id": "9bba953b",
   "metadata": {},
   "outputs": [
    {
     "data": {
      "text/plain": [
       "str"
      ]
     },
     "execution_count": 57,
     "metadata": {},
     "output_type": "execute_result"
    }
   ],
   "source": [
    "type(response['messages'][-1].content)"
   ]
  },
  {
   "cell_type": "code",
   "execution_count": 7,
   "id": "07041f48",
   "metadata": {},
   "outputs": [],
   "source": [
    "import json"
   ]
  },
  {
   "cell_type": "code",
   "execution_count": 59,
   "id": "d52ce2d1",
   "metadata": {},
   "outputs": [],
   "source": [
    "res=json.loads(response['messages'][-1].content)"
   ]
  },
  {
   "cell_type": "code",
   "execution_count": 60,
   "id": "183eaa99",
   "metadata": {},
   "outputs": [
    {
     "data": {
      "text/plain": [
       "(dict,\n",
       " {'purpose': 'tutoring',\n",
       "  'topic': 'fourier series',\n",
       "  'is_relevant': True,\n",
       "  'list': [5, 6, 7]})"
      ]
     },
     "execution_count": 60,
     "metadata": {},
     "output_type": "execute_result"
    }
   ],
   "source": [
    "type(res), res"
   ]
  },
  {
   "cell_type": "code",
   "execution_count": 79,
   "id": "c6caabfd",
   "metadata": {},
   "outputs": [
    {
     "data": {
      "text/plain": [
       "(list, int)"
      ]
     },
     "execution_count": 79,
     "metadata": {},
     "output_type": "execute_result"
    }
   ],
   "source": [
    "type(res['list']), type(res['list'][0])"
   ]
  },
  {
   "cell_type": "code",
   "execution_count": 13,
   "id": "3fba5761",
   "metadata": {},
   "outputs": [],
   "source": [
    "class RelevancerStateModel(AgentState):\n",
    "    purpose: str\n",
    "    topic: str\n",
    "    is_relevant: bool\n",
    "    lectures: List[int]"
   ]
  },
  {
   "cell_type": "code",
   "execution_count": 18,
   "id": "3a651873",
   "metadata": {},
   "outputs": [],
   "source": [
    "def referencer_output(state: AgentState):\n",
    "    res=json.loads(state['messages'][-1].content)\n",
    "    purpose= res['purpose']\n",
    "    topic= res['topic']\n",
    "    is_relevant =res['is_relevant']\n",
    "    lectures= res['lecture_list']"
   ]
  },
  {
   "cell_type": "markdown",
   "id": "2e24cb62",
   "metadata": {},
   "source": [
    "### Sub Graph 1, the Relevancer"
   ]
  },
  {
   "cell_type": "code",
   "execution_count": 15,
   "id": "21ab931c",
   "metadata": {},
   "outputs": [
    {
     "data": {
      "text/plain": [
       "<langgraph.graph.state.StateGraph at 0x164341f9370>"
      ]
     },
     "execution_count": 15,
     "metadata": {},
     "output_type": "execute_result"
    }
   ],
   "source": [
    "from langgraph.graph import StateGraph, START, END\n",
    "relevancer_builder = StateGraph(AgentState,output_schema=RelevancerStateModel)\n",
    "relevancer_builder.add_node(\"check_relevance\", referncer_agent.graph)\n",
    "relevancer_builder.add_node(\"output_state\",referencer_output )\n",
    "relevancer_builder.add_edge(START, \"check_relevance\")\n",
    "relevancer_builder.add_edge(\"check_relevance\", \"output_state\")\n",
    "relevancer_builder.add_edge(\"output_state\", END)"
   ]
  },
  {
   "cell_type": "code",
   "execution_count": 87,
   "id": "fdf8bf17",
   "metadata": {},
   "outputs": [
    {
     "name": "stdout",
     "output_type": "stream",
     "text": [
      "--- Invoking graph with query: 'i want to be tutored on fourier series.'\n",
      "Calling: {'name': 'probe_topic', 'args': {'topic': 'fourier series', 'intent': 'presence', 'scope': 'syllabus'}, 'id': 'call_h8fMeMbpcGO9fHIizqu7l1eu', 'type': 'tool_call'}\n",
      "Back to the model!\n",
      "Calling: {'name': 'probe_topic', 'args': {'topic': 'fourier series', 'intent': 'resources', 'scope': 'syllabus'}, 'id': 'call_RYBgBCTsEogHef0W4tUIbR0f', 'type': 'tool_call'}\n",
      "Back to the model!\n",
      "--- Graph invocation complete.\n"
     ]
    }
   ],
   "source": [
    "response = await run_single_graph_test(relevancer_builder.compile(), \"i want to be tutored on fourier series.\")"
   ]
  },
  {
   "cell_type": "markdown",
   "id": "89c22891",
   "metadata": {},
   "source": [
    "**note:** even though i am not mentioning every detail of the error debugging process since many errors are solved instantly by refering to the documentation, i want to note the following, when i intended to wrap my outputs in the output schema model.\n",
    "\n",
    "I followed the following approach:\n",
    "\n",
    "```\n",
    "def referencer_output(state: AgentState):\n",
    "    response=state.get(\"messages\")\n",
    "    res=json.loads(response['messages'][-1].content)\n",
    "    purpose= res['purose']\n",
    "    topic= res['topic']\n",
    "    is_relevant =res['is_relevant']\n",
    "    lectures= res['list']\n",
    "```\n",
    "\n",
    "i got the following error:list indices must be integers or slices, not str. That is because the resposne below is the state it self, the silliest mistake ever that shows you the importance of the documentation. to fix the error, just remover the first line in the method :)\n",
    "\n",
    "\n"
   ]
  },
  {
   "cell_type": "markdown",
   "id": "bf261e14",
   "metadata": {},
   "source": [
    "#### irrelvant question tryout"
   ]
  },
  {
   "cell_type": "code",
   "execution_count": 88,
   "id": "956f4b01",
   "metadata": {},
   "outputs": [
    {
     "name": "stdout",
     "output_type": "stream",
     "text": [
      "--- Invoking graph with query: 'hi, how are you'\n",
      "--- Graph invocation complete.\n"
     ]
    }
   ],
   "source": [
    "response = await run_single_graph_test(relevancer_builder.compile(), \"hi, how are you\")"
   ]
  },
  {
   "cell_type": "code",
   "execution_count": 89,
   "id": "cef4f60e",
   "metadata": {},
   "outputs": [
    {
     "data": {
      "text/plain": [
       "'{\\n  \"purpose\": \"general question\",\\n  \"topic\": \"\",\\n  \"is_relevant\": false,\\n  \"list\": []\\n}'"
      ]
     },
     "execution_count": 89,
     "metadata": {},
     "output_type": "execute_result"
    }
   ],
   "source": [
    "response['messages'][-1].content"
   ]
  },
  {
   "cell_type": "code",
   "execution_count": 20,
   "id": "88e3112f",
   "metadata": {},
   "outputs": [
    {
     "name": "stdout",
     "output_type": "stream",
     "text": [
      "--- Invoking graph with query: 'i want to be tutored on z-transform'\n",
      "Calling: {'name': 'probe_topic', 'args': {'topic': 'Z-transform', 'intent': 'presence', 'scope': 'syllabus'}, 'id': 'call_ra0b1kDIO62OaxdMTGy40VzY', 'type': 'tool_call'}\n",
      "Back to the model!\n",
      "Calling: {'name': 'probe_topic', 'args': {'topic': 'Z-transform', 'intent': 'resources', 'scope': 'syllabus'}, 'id': 'call_vIgOicfRSWLRKRwpFEG3OKEN', 'type': 'tool_call'}\n",
      "Back to the model!\n",
      "--- Graph invocation complete.\n"
     ]
    }
   ],
   "source": [
    "response = await run_single_graph_test(relevancer_builder, \"i want to be tutored on z-transform\")"
   ]
  },
  {
   "cell_type": "code",
   "execution_count": 21,
   "id": "c4c53ed2",
   "metadata": {},
   "outputs": [
    {
     "name": "stdout",
     "output_type": "stream",
     "text": [
      "{\n",
      "  \"message\": \"Great! We can certainly focus on Z-transform in your tutoring sessions. It's covered in multiple lectures.\",\n",
      "  \"purpose\": \"plan_session\",\n",
      "  \"topic\": \"Z-transform\",\n",
      "  \"is_relevant\": true,\n",
      "  \"lecture_list\": [2, 5],\n",
      "  \"tool_calls_issued\": 2\n",
      "}\n"
     ]
    }
   ],
   "source": [
    "print(response['messages'][-1].content)"
   ]
  },
  {
   "cell_type": "markdown",
   "id": "0bdc1698",
   "metadata": {},
   "source": [
    "#####################"
   ]
  },
  {
   "cell_type": "code",
   "execution_count": 131,
   "id": "85005829",
   "metadata": {},
   "outputs": [
    {
     "name": "stdout",
     "output_type": "stream",
     "text": [
      "--- Invoking graph with query: 'hi, who is the lebanese president'\n",
      "--- Graph invocation complete.\n"
     ]
    },
    {
     "data": {
      "text/plain": [
       "'{\\n  \"message\": \"I am only a signal and systems assistant.\",\\n  \"purpose\": \"out of context\",\\n  \"topic\": \"greeting\",\\n  \"is_relevant\": false,\\n  \"list\": []\\n}'"
      ]
     },
     "execution_count": 131,
     "metadata": {},
     "output_type": "execute_result"
    }
   ],
   "source": [
    "response = await run_single_graph_test(referncer_agent.graph, \"hi, who is the lebanese president\")\n",
    "response['messages'][-1].content"
   ]
  },
  {
   "cell_type": "code",
   "execution_count": 132,
   "id": "6623b2d6",
   "metadata": {},
   "outputs": [
    {
     "data": {
      "text/plain": [
       "str"
      ]
     },
     "execution_count": 132,
     "metadata": {},
     "output_type": "execute_result"
    }
   ],
   "source": [
    "type(response['messages'][-1].content)"
   ]
  },
  {
   "cell_type": "code",
   "execution_count": 134,
   "id": "06d5ea2f",
   "metadata": {},
   "outputs": [
    {
     "name": "stdout",
     "output_type": "stream",
     "text": [
      "{'messages': [HumanMessage(content='hi, who is the lebanese president', additional_kwargs={}, response_metadata={}), AIMessage(content='{\\n  \"message\": \"I am only a signal and systems assistant.\",\\n  \"purpose\": \"out of context\",\\n  \"topic\": \"greeting\",\\n  \"is_relevant\": false,\\n  \"list\": []\\n}', additional_kwargs={'refusal': None}, response_metadata={'token_usage': {'completion_tokens': 47, 'prompt_tokens': 547, 'total_tokens': 594, 'completion_tokens_details': {'accepted_prediction_tokens': 0, 'audio_tokens': 0, 'reasoning_tokens': 0, 'rejected_prediction_tokens': 0}, 'prompt_tokens_details': {'audio_tokens': 0, 'cached_tokens': 0}}, 'model_name': 'gpt-4o-mini-2024-07-18', 'system_fingerprint': 'fp_560af6e559', 'id': 'chatcmpl-C6GviYNrLPU6ks2LtAcZWspZq6kOa', 'service_tier': 'default', 'finish_reason': 'stop', 'logprobs': None}, id='run--ee7e1f1c-dcce-4398-8ae1-ea5f37b0dc49-0', usage_metadata={'input_tokens': 547, 'output_tokens': 47, 'total_tokens': 594, 'input_token_details': {'audio': 0, 'cache_read': 0}, 'output_token_details': {'audio': 0, 'reasoning': 0}})]}\n"
     ]
    }
   ],
   "source": [
    "print(response)"
   ]
  },
  {
   "cell_type": "markdown",
   "id": "0a71c184",
   "metadata": {},
   "source": [
    "### Further Prompt Finetunnig, to the next level"
   ]
  },
  {
   "cell_type": "markdown",
   "id": "5f57809b",
   "metadata": {},
   "source": [
    "Now, i will introduce memory to my relevancer and increase the keys of the relevancer state."
   ]
  },
  {
   "cell_type": "code",
   "execution_count": 56,
   "id": "d9f5dc24",
   "metadata": {},
   "outputs": [],
   "source": [
    "import sqlite3\n",
    "from langgraph.checkpoint.sqlite import SqliteSaver"
   ]
  },
  {
   "cell_type": "code",
   "execution_count": 57,
   "id": "7b425f64",
   "metadata": {},
   "outputs": [],
   "source": [
    "# db_path = '../db/checkpoints.db'\n",
    "# conn = sqlite3.connect(db_path, check_same_thread=False) # we can use multiple threads\n",
    "# print(conn)\n",
    "# memory = SqliteSaver(conn)\n",
    "\n",
    "\n",
    "# from langgraph.checkpoint.sqlite.aio import AsyncSqliteSaver\n",
    "# db_path = '../db/checkpoints.db'\n",
    "# conn = sqlite3.connect(db_path, check_same_thread=False) # we can use multiple threads\n",
    "# print(conn)\n",
    "# memory = AsyncSqliteSaver(conn)"
   ]
  },
  {
   "cell_type": "code",
   "execution_count": 41,
   "id": "9e69cac5",
   "metadata": {},
   "outputs": [],
   "source": [
    "# # short term memory\n",
    "from langgraph.checkpoint.memory import MemorySaver\n",
    "memory = MemorySaver()"
   ]
  },
  {
   "cell_type": "code",
   "execution_count": 42,
   "id": "37370b39",
   "metadata": {},
   "outputs": [],
   "source": [
    "from langgraph.graph.message import add_messages\n",
    "import asyncio\n",
    "class AgentState(TypedDict):\n",
    "    messages: Annotated[list[AnyMessage], add_messages]\n",
    "class Agent:\n",
    "\n",
    "    def __init__(self, model, tools, system=\"\", checkpointer=None):\n",
    "        self.system = system\n",
    "        graph = StateGraph(AgentState)\n",
    "        graph.add_node(\"llm\", self.call_openai)\n",
    "        graph.add_node(\"action\", self.take_action)\n",
    "        graph.add_conditional_edges(\n",
    "            \"llm\",\n",
    "            self.exists_action,\n",
    "            {True: \"action\", False: END}\n",
    "        )\n",
    "        graph.add_edge(\"action\", \"llm\")\n",
    "        graph.set_entry_point(\"llm\")\n",
    "        self.graph = graph.compile(\n",
    "            checkpointer=checkpointer,\n",
    "            # interrupt_before=[\"action\"]\n",
    "        )\n",
    "        self.tools = {t.name: t for t in tools}\n",
    "        self.model = model.bind_tools(tools)\n",
    "\n",
    "    def exists_action(self, state: AgentState):\n",
    "        result = state['messages'][-1]\n",
    "        want_tools = isinstance(result, AIMessage) and bool(getattr(result, \"tool_calls\", None))\n",
    "        return  want_tools\n",
    "\n",
    "    async def call_openai(self, state: AgentState):\n",
    "        messages = state['messages']\n",
    "        if self.system:\n",
    "            messages = [SystemMessage(content=self.system)] + messages\n",
    "        message = await self.model.ainvoke(messages) # aynchronous invoke\n",
    "        return {'messages': [message]}\n",
    "\n",
    "    async def take_action(self, state: AgentState):\n",
    "        tool_calls = state['messages'][-1].tool_calls\n",
    "        results = []\n",
    "        for t in tool_calls:\n",
    "            print(f\"Calling: {t}\")\n",
    "            if not t['name'] in self.tools:      # check for bad tool name from LLM\n",
    "                print(\"\\n ....bad tool name....\")\n",
    "                result = \"bad tool name, retry\"  # instruct LLM to retry if bad\n",
    "            else:\n",
    "                 result = await self.tools[t['name']].ainvoke(t['args']) # aynchronous invoke\n",
    "            results.append(ToolMessage(tool_call_id=t['id'], name=t['name'], content=str(result)))\n",
    "        print(\"Back to the model!\")\n",
    "        return {'messages': results}"
   ]
  },
  {
   "cell_type": "code",
   "execution_count": null,
   "id": "95684426",
   "metadata": {},
   "outputs": [],
   "source": [
    "TOOLS=[tool_map['probe_topic']] # trying the server after trying the enhanced rag class\n",
    "prompt = (\n",
    "    \"You are a Signals & Systems tutoring assistant that check if the topic present in the user query is relevant to the course.\\n\"\n",
    "    \"If the user is greeting you, greet him back and ask him how could you help him, set the topic to greeting, irrelevant to true, and the purpose to out of context\\n\"\n",
    "    \"If the question is irrelevant to the signals and systems engineering topic, respond to the user by stating that you are only a signal and systems assistant. \\n\"\n",
    "    \"In case the question was relevant to the signals and systems engineering topic, follow the following workflow. \\n\"\n",
    "    \"If the query is relevant to the Signals and Systems course (i.e., \\\"is_relevant\\\": true and \\\"purpose\\\" is \\\"tutoring\\\" or \\\"topic general question\\\"), you MUST ask the user for their email address so you can draft the study plan/resources and a meeting link for the tutor to send. Put this ask in the \\\"email\\\" field. If the user already provided an email in the same turn, acknowledge it and do not ask again.\\n\"\n",
    "    \"Workflow:\\n\"\n",
    "    \"1) Call tool probe_topic once with intent='presence' and scope='syllabus'. The topic must be extracted from the user\\n\"\n",
    "    \"2) If the summary suggests Covered , call probe_topic again with intent='resources' \"\n",
    "    \"   and scope='syllabus'.\\n\"\n",
    "    \"3) Then STOP using tools. Reply briefly with:\\n\"\n",
    "    \"   - topic: string stating what was the topic the user was asking about\\n\"\n",
    "    \"   - is_relevant: boolean that is set to true if the topic is found\\n\"\n",
    "    \"   - If found: list lecture numbers in a list called list\\n\"\n",
    "    \"   - purpose: string representing the user purpose, can be either one of three, either \\\"tutoring\\\" or \\\"topic general question\\\" or \\\"out of context\\\", depending on the query. note that every question outside the scope of the signal and systems engineering topic is considered \\\"out of context\\\", not \\\"general question\\\". \\\"general question\\\" catergory represent the questions related to the signals and systems topic.\\n\"\n",
    "    \"   - message: one short sentence. If is_relevant is true AND purpose ∈ {\\\"tutoring\\\",\\\"topic general question\\\"}, ask for the user's email to send the plan/resources and a meeting link (e.g., \\\"What’s your email so that I may draft the tutoring session plan to be sent by the tutor with the metting link?\\\"). Otherwise do NOT ask for email.\\n\"\n",
    "    \"   - email: string; the user's email if they provided one in this turn; otherwise \"\" (empty string). Lowercase and trim whitespace.\"\n",
    "        \"Never call the tool more than twice.\\n\"\n",
    "    \"\"\" Return ONE valid JSON object ONLY, no prose.\n",
    "        Required JSON shape:\n",
    "        {\n",
    "        \"message\": string,              // your response to the user query\n",
    "        \"purpose\": string,              // natural question or tutoring request\n",
    "        \"topic\": string,               // the topic the user is asking about\n",
    "        \"is_relevant\": boolean,        // true iff the topic is found\n",
    "        \"list\": number[]               // lecture numbers where the topic appears; [] if none/not found\n",
    "        \"email\": string             // user's email if provided; otherwise \"\"\n",
    "        }\n",
    "        Include ALL keys exactly as named: \"message\", \"purpose\", \"topic\", \"is_relevant\", \"list\", \"email\". Do not add extra keys. Do not guess an email; if none was given, set \"email\": \"\".\n",
    "        When extracting an email, only accept strings that contain exactly one \"@\" and at least one \".\" after it. If invalid, set \"email\": \"\" and ask again in \"message\".\n",
    "    \"\"\"\n",
    ").strip()\n"
   ]
  },
  {
   "cell_type": "code",
   "execution_count": 10,
   "id": "ec9a873b",
   "metadata": {},
   "outputs": [],
   "source": [
    "class RelevancerStateModel(AgentState):\n",
    "    purpose: str\n",
    "    topic: str\n",
    "    is_relevant: bool\n",
    "    lectures: List[int]\n",
    "def referencer_output(state: AgentState):\n",
    "    res=json.loads(state['messages'][-1].content)\n",
    "    purpose= res['purpose']  # not critical\n",
    "    topic= res['topic']\n",
    "    is_relevant =res['is_relevant']\n",
    "    lectures= res['list']\n",
    "    return {\n",
    "        \n",
    "    }\n"
   ]
  },
  {
   "cell_type": "code",
   "execution_count": 11,
   "id": "c6286bc3",
   "metadata": {},
   "outputs": [],
   "source": [
    "model = ChatOpenAI(model=\"gpt-4o-mini\")  #reduce inference cost\n",
    "referncer_agent = Agent(model, TOOLS, system=prompt, )\n",
    "\n",
    "from langgraph.graph import StateGraph, START, END\n",
    "relevancer_builder = StateGraph(AgentState,output_schema=RelevancerStateModel)\n",
    "relevancer_builder.add_node(\"check_relevance\", referncer_agent.graph)\n",
    "relevancer_builder.add_node(\"output_state\",referencer_output )\n",
    "relevancer_builder.add_edge(START, \"check_relevance\")\n",
    "relevancer_builder.add_edge(\"check_relevance\", \"output_state\")\n",
    "relevancer_builder.add_edge(\"output_state\", END)\n",
    "relevancer_builder=relevancer_builder.compile()"
   ]
  },
  {
   "cell_type": "code",
   "execution_count": 71,
   "id": "5c1629fa",
   "metadata": {},
   "outputs": [],
   "source": [
    "messages = [HumanMessage(content=\"hello\")]\n",
    "thread = {\"configurable\": {\"thread_id\": \"1\"}}\n",
    "# for event in referncer_agent.graph.astream({\"messages\": messages}, thread):\n",
    "#     for v in event.values():\n",
    "#         print(v)\n",
    "result = await referncer_agent.graph.ainvoke({\"messages\": messages}, thread)\n"
   ]
  },
  {
   "cell_type": "code",
   "execution_count": 74,
   "id": "dc577c3c",
   "metadata": {},
   "outputs": [
    {
     "data": {
      "text/plain": [
       "'{\\n  \"message\": \"Hello! How can I help you today?\",\\n  \"purpose\": \"out of context\",\\n  \"topic\": \"greeting\",\\n  \"is_relevant\": true,\\n  \"list\": [],\\n  \"email\": \"\"\\n}'"
      ]
     },
     "execution_count": 74,
     "metadata": {},
     "output_type": "execute_result"
    }
   ],
   "source": [
    "result['messages'][-1].content"
   ]
  },
  {
   "cell_type": "code",
   "execution_count": 75,
   "id": "a98773b1",
   "metadata": {},
   "outputs": [
    {
     "name": "stdout",
     "output_type": "stream",
     "text": [
      "Calling: {'name': 'probe_topic', 'args': {'topic': 'fourier transform', 'intent': 'presence', 'scope': 'syllabus'}, 'id': 'call_fKHaGdj7a5M2a7B2ewfLrQWb', 'type': 'tool_call'}\n",
      "Back to the model!\n",
      "Calling: {'name': 'probe_topic', 'args': {'topic': 'fourier transform', 'intent': 'resources', 'scope': 'syllabus'}, 'id': 'call_uFE0z462oa0nHZLM1QBF9n48', 'type': 'tool_call'}\n",
      "Back to the model!\n"
     ]
    }
   ],
   "source": [
    "result = await referncer_agent.graph.ainvoke({\"messages\": \"i want to be tutored on fourier transform\"}, thread)\n"
   ]
  },
  {
   "cell_type": "code",
   "execution_count": 76,
   "id": "1c210c15",
   "metadata": {},
   "outputs": [
    {
     "data": {
      "text/plain": [
       "'{\\n  \"message\": \"The topic \\'Fourier Transform\\' is covered in lectures 5, 6, 7, and 8. What’s your email so I can send the plan and a meeting link?\",\\n  \"purpose\": \"tutoring\",\\n  \"topic\": \"fourier transform\",\\n  \"is_relevant\": true,\\n  \"list\": [5, 6, 7, 8],\\n  \"email\": \"\"\\n}'"
      ]
     },
     "execution_count": 76,
     "metadata": {},
     "output_type": "execute_result"
    }
   ],
   "source": [
    "result['messages'][-1].content"
   ]
  },
  {
   "cell_type": "code",
   "execution_count": 77,
   "id": "3fc69c92",
   "metadata": {},
   "outputs": [
    {
     "data": {
      "text/plain": [
       "'{\\n  \"message\": \"Please provide a valid email address that contains an \\'@\\' and a \\'.\\' so I can send the plan and a meeting link.\",\\n  \"purpose\": \"tutoring\",\\n  \"topic\": \"fourier transform\",\\n  \"is_relevant\": true,\\n  \"list\": [5, 6, 7, 8],\\n  \"email\": \"\"\\n}'"
      ]
     },
     "execution_count": 77,
     "metadata": {},
     "output_type": "execute_result"
    }
   ],
   "source": [
    "result = await referncer_agent.graph.ainvoke({\"messages\": \"ali yassine\"}, thread)\n",
    "result['messages'][-1].content"
   ]
  },
  {
   "cell_type": "code",
   "execution_count": 78,
   "id": "e594c671",
   "metadata": {},
   "outputs": [
    {
     "data": {
      "text/plain": [
       "'{\\n  \"message\": \"Great! I\\'ll send you the study plan and a meeting link at ay8151863@gmail.com.\",\\n  \"purpose\": \"tutoring\",\\n  \"topic\": \"fourier transform\",\\n  \"is_relevant\": true,\\n  \"list\": [5, 6, 7, 8],\\n  \"email\": \"ay8151863@gmail.com\"\\n}'"
      ]
     },
     "execution_count": 78,
     "metadata": {},
     "output_type": "execute_result"
    }
   ],
   "source": [
    "result = await referncer_agent.graph.ainvoke({\"messages\": \"ay8151863@gmail.com\"}, thread)\n",
    "result['messages'][-1].content"
   ]
  },
  {
   "cell_type": "markdown",
   "id": "60aab0b1",
   "metadata": {},
   "source": [
    "### trying with the sub graph as whole"
   ]
  },
  {
   "cell_type": "markdown",
   "id": "b361071a",
   "metadata": {},
   "source": [
    "#### test 1"
   ]
  },
  {
   "cell_type": "code",
   "execution_count": 85,
   "id": "c49a46fd",
   "metadata": {},
   "outputs": [
    {
     "name": "stdout",
     "output_type": "stream",
     "text": [
      "Calling: {'name': 'probe_topic', 'args': {'topic': 'fourier transform', 'intent': 'presence', 'scope': 'syllabus'}, 'id': 'call_aSplKBbtIzAzbzpH0BjbXNSX', 'type': 'tool_call'}\n",
      "Back to the model!\n",
      "Calling: {'name': 'probe_topic', 'args': {'topic': 'fourier transform', 'intent': 'resources', 'scope': 'syllabus'}, 'id': 'call_EvnE7oAwjwIXvBXiGVLfMAZD', 'type': 'tool_call'}\n",
      "Back to the model!\n"
     ]
    }
   ],
   "source": [
    "result = await relevancer_builder.ainvoke({\"messages\": \"i want to be tutored on fourier transform, this is my email: ay8151863@gmail.com\"}, thread)"
   ]
  },
  {
   "cell_type": "markdown",
   "id": "9b7f3b34",
   "metadata": {},
   "source": [
    "#### test 2"
   ]
  },
  {
   "cell_type": "markdown",
   "id": "de5fb93e",
   "metadata": {},
   "source": [
    "while working on the above snippet, got the following error:  '_GeneratorContextManager' object has no attribute 'get_next_version'. \n",
    "\n",
    "to fix it: i refered to the following ref: https://community.deeplearning.ai/t/lesson-4-persistence-and-streaming-attributeerror-generatorcontextmanager-object-has-no-attribute-get-next-version/697391"
   ]
  },
  {
   "cell_type": "markdown",
   "id": "6f1c3b4d",
   "metadata": {},
   "source": [
    "## Session Planner with the MCP tool"
   ]
  },
  {
   "cell_type": "markdown",
   "id": "f94db1e4",
   "metadata": {},
   "source": [
    "checking the efficiency of our previously builted prompt in action"
   ]
  },
  {
   "cell_type": "code",
   "execution_count": 50,
   "id": "f67fd76a",
   "metadata": {},
   "outputs": [],
   "source": [
    "TOOLS=[tool_map['probe_topic']] # trying the server after trying the enhanced rag class\n",
    "prompt = r\"\"\"\n",
    "You are a Signals & Systems tutoring planner.\n",
    "\n",
    "### GOAL\n",
    "- Given a user topic (and optional lecture hints or duration hints), retrieve the relevant lecture material and output a compact tutoring plan as JSON (\"SessionPlan\").\n",
    "\n",
    "### TOOL USE (exactly one call)\n",
    "- Call tool probe_topic *once* with:\n",
    "  - intent=\"material\"\n",
    "  - topic=<extracted topic>\n",
    "  - scope is handled internally by the tool (maps \"material\" → \"chapters\"); do *not* set it yourself.\n",
    "  - If the user explicitly mentions specific lectures (e.g., \"only lecture 1\", \"lectures 2-3\"), pass lectures=[<numbers>].\n",
    "  - You may leave k at its default unless the user requests otherwise.\n",
    "- Do *not* call any other intent. Do *not* call tools more than once.\n",
    "\n",
    "### WHAT THE TOOL RETURNS (read-only evidence)\n",
    "- The tool returns an object with a \"text\" field (string).\n",
    "- The \"text\" consists of up to k terse lines, each line following:\n",
    "  Lecture=<N or ?> | Chapter=<N or ?> | <filename> | page=<n> | relpath=<p> | snippet: <≤120 chars>\n",
    "- Use *only* this \"text\" content as evidence for concepts and references. Do *not* invent information not present in it.\n",
    "\n",
    "### PLANNING RULES (strict; no hallucinations)\n",
    "- Extract key teaching points **from the snippet parts** and file/section cues in the listings.\n",
    "- *Duration:*\n",
    "  - Default is *\"45 minutes per lecture\"* included (returned by tool or explicitly hinted by the user).\n",
    "  - If the user specifies a *per-lecture duration* (e.g., \"60 minutes per lecture\"), use that instead of 45.\n",
    "  - If the user specifies a *total duration* (e.g., \"90 minutes total\"), divide evenly across the included lectures and adjust agenda blocks so totals match.\n",
    "- *Agenda construction:*\n",
    "  - The \"Agenda\" must cover the *full* computed \"Duration\".\n",
    "  - Use contiguous minute ranges (e.g., \"0-5\", \"5-15\", \"15-30\", ...), with 4–6 blocks total.\n",
    "  - For 45 minutes per lecture, a good default is:\n",
    "    - \"0-5\" (orientation),\n",
    "    - \"5-15\" (core concepts),\n",
    "    - \"15-30\" (worked example),\n",
    "    - \"30-45\" (guided practice & recap).\n",
    "  - If duration differs, proportionally adapt the block lengths; ensure no gaps or overlaps.\n",
    "- *Multiple lectures:*\n",
    "  - Aggregate materials across the selected lectures into *one* coherent SessionPlan.\n",
    "  - \"Objectives\" and \"Key Concepts (from materials)\" should reflect the union of covered points (deduplicate; keep ~3–6 bullets each).\n",
    "  - \"References (lectures)\" must reflect the tool output. Prefer the original listing lines, or derive a clear line that preserves *Lecture/Chapter/filename/page*. Sort by lecture number when numeric.\n",
    "- *User lecture hints vs. tool results:*\n",
    "  - If the user says \"only lecture X\", restrict to X even if the tool mentions others.\n",
    "\n",
    "### EDGE CASES\n",
    "- If the tool’s \"text\" is empty or contains no usable lines, output a minimal placeholder plan:\n",
    "  - \"Duration\": \"0 minutes\"\n",
    "  - Empty arrays for \"Objectives\", \"Key Concepts (from materials)\", \"Agenda\", \"Active Practice\", \"References (lectures)\"\n",
    "  - \"Title\" should still be the topic.\n",
    "\n",
    "### OUTPUT CONTRACT (one JSON object only; no prose)\n",
    "Respond *only* with a valid JSON object using these exact keys (strings). No extra keys, no explanations.\n",
    "\n",
    "{\n",
    "  \"Title\": \"<topic>\",\n",
    "  \"Duration\": \"<N> minutes\",\n",
    "  \"Objectives\": [\n",
    "    \"<bullet>\",\n",
    "    \"<bullet>\"\n",
    "  ],\n",
    "  \"Key Concepts (from materials)\": [\n",
    "    \"<bullet>\",\n",
    "    \"<bullet>\"\n",
    "  ],\n",
    "  \"Agenda\": [\n",
    "    \"0-5: <bullet>\",\n",
    "    \"5-15: <bullet>\",\n",
    "    \"15-30: <bullet>\",\n",
    "    \"30-45: <bullet>\"\n",
    "  ],\n",
    "  \"Active Practice\": [\n",
    "    \"<bullet>\",\n",
    "    \"<bullet>\"\n",
    "  ],\n",
    "  \"References (lectures)\": [\n",
    "    \"<lecture ref from tool output>\",\n",
    "    \"<lecture ref from tool output>\"\n",
    "  ]\n",
    "}\n",
    "\n",
    "### VALIDATION CHECKS BEFORE YOU ANSWER\n",
    "- Keys are *exactly* as above.\n",
    "- The \"Duration\" string equals the total minutes implied by the \"Agenda\".\n",
    "- \"Agenda\" blocks are contiguous, strictly increasing, and fully cover the \"Duration\".\n",
    "- All \"Key Concepts\" and \"References (lectures)\" are supported by the tool’s \"text\".\n",
    "- You made *exactly one* probe_topic call with intent=\"material\".\n",
    "\"\"\".strip()\n",
    "\n",
    "model = ChatOpenAI(model=\"gpt-4o-mini\")  #reduce inference cost\n",
    "planner_agent = Agent(model, TOOLS, system=prompt)"
   ]
  },
  {
   "cell_type": "code",
   "execution_count": 51,
   "id": "b87e4312",
   "metadata": {},
   "outputs": [],
   "source": [
    "query=\"\"\"\n",
    "{\n",
    "  \"message\": \"Great! The Z transform is covered in your syllabus. Would you like me to help explain the concept or work on some exercises?\",\n",
    "  \"purpose\": \"explain_concept\",\n",
    "  \"topic\": \"Z transform\",\n",
    "  \"is_relevant\": true,\n",
    "  \"lecture_list\": [2, 7],\n",
    "  \"tool_calls_issued\": 2\n",
    "}\n",
    "\"\"\""
   ]
  },
  {
   "cell_type": "code",
   "execution_count": 52,
   "id": "64ad4e35",
   "metadata": {},
   "outputs": [
    {
     "name": "stdout",
     "output_type": "stream",
     "text": [
      "--- Invoking graph with query: '\n",
      "{\n",
      "  \"message\": \"Great! The Z transform is covered in your syllabus. Would you like me to help explain the concept or work on some exercises?\",\n",
      "  \"purpose\": \"explain_concept\",\n",
      "  \"topic\": \"Z transform\",\n",
      "  \"is_relevant\": true,\n",
      "  \"lecture_list\": [2, 7],\n",
      "  \"tool_calls_issued\": 2\n",
      "}\n",
      "'\n",
      "\n",
      "[call_openai] ---- MESSAGES TO LLM ----\n",
      "  Human: \n",
      "{\n",
      "  \"message\": \"Great! The Z transform is covered in your syllabus. Would you like me to help explain the concept or work on some exercises?\",\n",
      "  \"purpose\": \"explain_concept\",\n",
      "  \"topic\": \"Z transform\",\n",
      "  \"is_relevant\": true,\n",
      "  \"lecture_list\": [2, 7],\n",
      "  \"tool_calls_issued\": 2\n",
      "}\n",
      "\n",
      "  System: You are a Signals & Systems tutoring planner.\n",
      "\n",
      "### GOAL\n",
      "- Given a user topic (and optional lecture hints or duration hints), retrieve the relevant lecture material and output a com…\n",
      "[take_action] Back to model\n",
      "\n",
      "[call_openai] ---- MESSAGES TO LLM ----\n",
      "  Human: \n",
      "{\n",
      "  \"message\": \"Great! The Z transform is covered in your syllabus. Would you like me to help explain the concept or work on some exercises?\",\n",
      "  \"purpose\": \"explain_concept\",\n",
      "  \"topic\": \"Z transform\",\n",
      "  \"is_relevant\": true,\n",
      "  \"lecture_list\": [2, 7],\n",
      "  \"tool_calls_issued\": 2\n",
      "}\n",
      "\n",
      "  System: You are a Signals & Systems tutoring planner.\n",
      "\n",
      "### GOAL\n",
      "- Given a user topic (and optional lecture hints or duration hints), retrieve the relevant lecture material and output a com…\n",
      "  AI:  | tool_calls=[{'name': 'probe_topic', 'args': {'topic': 'Z transform', 'intent': 'material', 'lectures': [2, 7]}, 'id': 'call_HpoQeXQxV9ezaPh6cXw24yN4', 'type': 'tool_call'}]\n",
      "  ToolResult[probe_topic]: {\n",
      "  \"text\": \"Answer: I'm sorry, but I don't have access to specific lecture notes or chapter details related to the Z transform.\\n\\nSources:\\n(none)\"\n",
      "}\n",
      "--- Graph invocation complete.\n"
     ]
    },
    {
     "data": {
      "text/plain": [
       "'{\\n  \"Title\": \"Z transform\",\\n  \"Duration\": \"0 minutes\",\\n  \"Objectives\": [],\\n  \"Key Concepts (from materials)\": [],\\n  \"Agenda\": [],\\n  \"Active Practice\": [],\\n  \"References (lectures)\": []\\n}'"
      ]
     },
     "execution_count": 52,
     "metadata": {},
     "output_type": "execute_result"
    }
   ],
   "source": [
    "response = await run_single_graph_test(planner_agent.graph, query)\n",
    "response['messages'][-1].content"
   ]
  },
  {
   "cell_type": "code",
   "execution_count": 53,
   "id": "b3c8d378",
   "metadata": {},
   "outputs": [
    {
     "name": "stdout",
     "output_type": "stream",
     "text": [
      "{\n",
      "  \"Title\": \"Z transform\",\n",
      "  \"Duration\": \"0 minutes\",\n",
      "  \"Objectives\": [],\n",
      "  \"Key Concepts (from materials)\": [],\n",
      "  \"Agenda\": [],\n",
      "  \"Active Practice\": [],\n",
      "  \"References (lectures)\": []\n",
      "}\n"
     ]
    }
   ],
   "source": [
    "print(response['messages'][-1].content)"
   ]
  },
  {
   "cell_type": "code",
   "execution_count": 106,
   "id": "766bbd36",
   "metadata": {},
   "outputs": [
    {
     "data": {
      "text/plain": [
       "str"
      ]
     },
     "execution_count": 106,
     "metadata": {},
     "output_type": "execute_result"
    }
   ],
   "source": [
    "type(response['messages'][-1].content)"
   ]
  },
  {
   "cell_type": "code",
   "execution_count": 31,
   "id": "b4ea1beb",
   "metadata": {},
   "outputs": [],
   "source": [
    "class PlannerStateModel(AgentState):\n",
    "    plan: str\n",
    "def planner_output(state: AgentState):\n",
    "    res=json.loads(state['messages'][-1].content)\n",
    "    plan= res['plan']  # not critical\n",
    "    return {\"answer\": plan}\n"
   ]
  },
  {
   "cell_type": "code",
   "execution_count": 32,
   "id": "897b8b68",
   "metadata": {},
   "outputs": [],
   "source": [
    "from langgraph.graph import StateGraph, START, END\n",
    "planner_builder = StateGraph(AgentState,output_schema=PlannerStateModel)\n",
    "planner_builder.add_node(\"planner\", planner_agent.graph)\n",
    "planner_builder.add_node(\"planner_state\",planner_output )\n",
    "planner_builder.add_edge(START, \"planner\")\n",
    "planner_builder.add_edge(\"planner\", \"planner_state\")\n",
    "planner_builder.add_edge(\"planner_state\", END)\n",
    "planner_builder=planner_builder.compile()"
   ]
  },
  {
   "cell_type": "markdown",
   "id": "b53238a5",
   "metadata": {},
   "source": [
    "### Creating the Complete Graph"
   ]
  },
  {
   "cell_type": "code",
   "execution_count": 18,
   "id": "f24e3915",
   "metadata": {},
   "outputs": [],
   "source": [
    "class TutorStateModel(AgentState):\n",
    "    purpose: str\n",
    "    topic: str\n",
    "    email: str\n",
    "    plan: str"
   ]
  },
  {
   "cell_type": "code",
   "execution_count": 19,
   "id": "f8551e58",
   "metadata": {},
   "outputs": [],
   "source": [
    "\n",
    "from langgraph.prebuilt import tools_condition\n",
    "def relevance_router(state: RelevancerStateModel):\n",
    "    res=json.loads(state['messages'][-1].content)\n",
    "    if(res['is_relevant']==False):\n",
    "        return \"end\"\n",
    "    else: \n",
    "        return \"planner\"\n",
    "    \n",
    "entry_builder = StateGraph(TutorStateModel)\n",
    "entry_builder.add_node(\"relevancer\", relevancer_builder)\n",
    "entry_builder.add_node(\"planning_session\", planner_builder)\n",
    "\n",
    "entry_builder.add_edge(START,\"relevancer\")\n",
    "\n",
    "entry_builder.add_conditional_edges(\n",
    "    \"relevancer\", # must be the name of the routing node\n",
    "    relevance_router,\n",
    "    {\"planner\": \"planning_session\", \"end\": END},\n",
    ")\n",
    "entry_builder.add_edge(\"planning_session\", END)\n",
    "graph = entry_builder.compile()"
   ]
  },
  {
   "cell_type": "markdown",
   "id": "d0505e7e",
   "metadata": {},
   "source": [
    "Had some trouble with the conditional edge, lesson learned: do not create a node for the conditional edge funciton, took me 30 mins scrolling in the documentation."
   ]
  },
  {
   "cell_type": "code",
   "execution_count": 20,
   "id": "454ab518",
   "metadata": {},
   "outputs": [
    {
     "data": {
      "image/png": "[encoded data removed]",
      "text/plain": [
       "<IPython.core.display.Image object>"
      ]
     },
     "metadata": {},
     "output_type": "display_data"
    }
   ],
   "source": [
    "from IPython.display import Image, display\n",
    "display(Image(relevancer_builder.get_graph(xray=True).draw_mermaid_png()))"
   ]
  },
  {
   "cell_type": "code",
   "execution_count": 21,
   "id": "a0437a92",
   "metadata": {},
   "outputs": [
    {
     "data": {
      "image/png": "[encoded data removed]",
      "text/plain": [
       "<IPython.core.display.Image object>"
      ]
     },
     "metadata": {},
     "output_type": "display_data"
    }
   ],
   "source": [
    "from IPython.display import Image, display\n",
    "display(Image(planner_builder.get_graph(xray=True).draw_mermaid_png()))"
   ]
  },
  {
   "cell_type": "code",
   "execution_count": 22,
   "id": "2c8702d5",
   "metadata": {},
   "outputs": [
    {
     "data": {
      "image/png": "[encoded data removed]",
      "text/plain": [
       "<IPython.core.display.Image object>"
      ]
     },
     "metadata": {},
     "output_type": "display_data"
    }
   ],
   "source": [
    "from IPython.display import Image, display\n",
    "display(Image(graph.get_graph(xray=True).draw_mermaid_png()))"
   ]
  },
  {
   "cell_type": "code",
   "execution_count": 23,
   "id": "8b31005c",
   "metadata": {},
   "outputs": [
    {
     "name": "stdout",
     "output_type": "stream",
     "text": [
      "--- Invoking graph with query: 'i want to be tutored on fourier series'\n"
     ]
    },
    {
     "ename": "NameError",
     "evalue": "name 'AIMessage' is not defined",
     "output_type": "error",
     "traceback": [
      "\u001b[1;31m---------------------------------------------------------------------------\u001b[0m",
      "\u001b[1;31mNameError\u001b[0m                                 Traceback (most recent call last)",
      "Cell \u001b[1;32mIn[23], line 1\u001b[0m\n\u001b[1;32m----> 1\u001b[0m response \u001b[38;5;241m=\u001b[39m \u001b[38;5;28;01mawait\u001b[39;00m run_single_graph_test(graph, \u001b[38;5;124m\"\u001b[39m\u001b[38;5;124mi want to be tutored on fourier series\u001b[39m\u001b[38;5;124m\"\u001b[39m)\n",
      "Cell \u001b[1;32mIn[7], line 8\u001b[0m, in \u001b[0;36mrun_single_graph_test\u001b[1;34m(graph, query)\u001b[0m\n\u001b[0;32m      6\u001b[0m payload \u001b[38;5;241m=\u001b[39m {\u001b[38;5;124m\"\u001b[39m\u001b[38;5;124mmessages\u001b[39m\u001b[38;5;124m\"\u001b[39m: [HumanMessage(content\u001b[38;5;241m=\u001b[39mquery)]}\n\u001b[0;32m      7\u001b[0m \u001b[38;5;28mprint\u001b[39m(\u001b[38;5;124mf\u001b[39m\u001b[38;5;124m\"\u001b[39m\u001b[38;5;124m--- Invoking graph with query: \u001b[39m\u001b[38;5;124m'\u001b[39m\u001b[38;5;132;01m{\u001b[39;00mquery\u001b[38;5;132;01m}\u001b[39;00m\u001b[38;5;124m'\u001b[39m\u001b[38;5;124m\"\u001b[39m)\n\u001b[1;32m----> 8\u001b[0m out \u001b[38;5;241m=\u001b[39m \u001b[38;5;28;01mawait\u001b[39;00m graph\u001b[38;5;241m.\u001b[39mainvoke(payload)\n\u001b[0;32m      9\u001b[0m \u001b[38;5;28mprint\u001b[39m(\u001b[38;5;124mf\u001b[39m\u001b[38;5;124m\"\u001b[39m\u001b[38;5;124m--- Graph invocation complete.\u001b[39m\u001b[38;5;124m\"\u001b[39m)\n\u001b[0;32m     10\u001b[0m \u001b[38;5;28;01mreturn\u001b[39;00m out\n",
      "File \u001b[1;32mc:\\Users\\User\\anaconda3\\envs\\PT\\Lib\\site-packages\\langgraph\\pregel\\main.py:3101\u001b[0m, in \u001b[0;36mPregel.ainvoke\u001b[1;34m(self, input, config, context, stream_mode, print_mode, output_keys, interrupt_before, interrupt_after, durability, **kwargs)\u001b[0m\n\u001b[0;32m   3098\u001b[0m chunks: \u001b[38;5;28mlist\u001b[39m[\u001b[38;5;28mdict\u001b[39m[\u001b[38;5;28mstr\u001b[39m, Any] \u001b[38;5;241m|\u001b[39m Any] \u001b[38;5;241m=\u001b[39m []\n\u001b[0;32m   3099\u001b[0m interrupts: \u001b[38;5;28mlist\u001b[39m[Interrupt] \u001b[38;5;241m=\u001b[39m []\n\u001b[1;32m-> 3101\u001b[0m \u001b[38;5;28;01masync\u001b[39;00m \u001b[38;5;28;01mfor\u001b[39;00m chunk \u001b[38;5;129;01min\u001b[39;00m \u001b[38;5;28mself\u001b[39m\u001b[38;5;241m.\u001b[39mastream(\n\u001b[0;32m   3102\u001b[0m     \u001b[38;5;28minput\u001b[39m,\n\u001b[0;32m   3103\u001b[0m     config,\n\u001b[0;32m   3104\u001b[0m     context\u001b[38;5;241m=\u001b[39mcontext,\n\u001b[0;32m   3105\u001b[0m     stream_mode\u001b[38;5;241m=\u001b[39m[\u001b[38;5;124m\"\u001b[39m\u001b[38;5;124mupdates\u001b[39m\u001b[38;5;124m\"\u001b[39m, \u001b[38;5;124m\"\u001b[39m\u001b[38;5;124mvalues\u001b[39m\u001b[38;5;124m\"\u001b[39m]\n\u001b[0;32m   3106\u001b[0m     \u001b[38;5;28;01mif\u001b[39;00m stream_mode \u001b[38;5;241m==\u001b[39m \u001b[38;5;124m\"\u001b[39m\u001b[38;5;124mvalues\u001b[39m\u001b[38;5;124m\"\u001b[39m\n\u001b[0;32m   3107\u001b[0m     \u001b[38;5;28;01melse\u001b[39;00m stream_mode,\n\u001b[0;32m   3108\u001b[0m     print_mode\u001b[38;5;241m=\u001b[39mprint_mode,\n\u001b[0;32m   3109\u001b[0m     output_keys\u001b[38;5;241m=\u001b[39moutput_keys,\n\u001b[0;32m   3110\u001b[0m     interrupt_before\u001b[38;5;241m=\u001b[39minterrupt_before,\n\u001b[0;32m   3111\u001b[0m     interrupt_after\u001b[38;5;241m=\u001b[39minterrupt_after,\n\u001b[0;32m   3112\u001b[0m     durability\u001b[38;5;241m=\u001b[39mdurability,\n\u001b[0;32m   3113\u001b[0m     \u001b[38;5;241m*\u001b[39m\u001b[38;5;241m*\u001b[39mkwargs,\n\u001b[0;32m   3114\u001b[0m ):\n\u001b[0;32m   3115\u001b[0m     \u001b[38;5;28;01mif\u001b[39;00m stream_mode \u001b[38;5;241m==\u001b[39m \u001b[38;5;124m\"\u001b[39m\u001b[38;5;124mvalues\u001b[39m\u001b[38;5;124m\"\u001b[39m:\n\u001b[0;32m   3116\u001b[0m         \u001b[38;5;28;01mif\u001b[39;00m \u001b[38;5;28mlen\u001b[39m(chunk) \u001b[38;5;241m==\u001b[39m \u001b[38;5;241m2\u001b[39m:\n",
      "File \u001b[1;32mc:\\Users\\User\\anaconda3\\envs\\PT\\Lib\\site-packages\\langgraph\\pregel\\main.py:2928\u001b[0m, in \u001b[0;36mPregel.astream\u001b[1;34m(self, input, config, context, stream_mode, print_mode, output_keys, interrupt_before, interrupt_after, durability, subgraphs, debug, **kwargs)\u001b[0m\n\u001b[0;32m   2926\u001b[0m \u001b[38;5;28;01mfor\u001b[39;00m task \u001b[38;5;129;01min\u001b[39;00m \u001b[38;5;28;01mawait\u001b[39;00m loop\u001b[38;5;241m.\u001b[39mamatch_cached_writes():\n\u001b[0;32m   2927\u001b[0m     loop\u001b[38;5;241m.\u001b[39moutput_writes(task\u001b[38;5;241m.\u001b[39mid, task\u001b[38;5;241m.\u001b[39mwrites, cached\u001b[38;5;241m=\u001b[39m\u001b[38;5;28;01mTrue\u001b[39;00m)\n\u001b[1;32m-> 2928\u001b[0m \u001b[38;5;28;01masync\u001b[39;00m \u001b[38;5;28;01mfor\u001b[39;00m _ \u001b[38;5;129;01min\u001b[39;00m runner\u001b[38;5;241m.\u001b[39matick(\n\u001b[0;32m   2929\u001b[0m     [t \u001b[38;5;28;01mfor\u001b[39;00m t \u001b[38;5;129;01min\u001b[39;00m loop\u001b[38;5;241m.\u001b[39mtasks\u001b[38;5;241m.\u001b[39mvalues() \u001b[38;5;28;01mif\u001b[39;00m \u001b[38;5;129;01mnot\u001b[39;00m t\u001b[38;5;241m.\u001b[39mwrites],\n\u001b[0;32m   2930\u001b[0m     timeout\u001b[38;5;241m=\u001b[39m\u001b[38;5;28mself\u001b[39m\u001b[38;5;241m.\u001b[39mstep_timeout,\n\u001b[0;32m   2931\u001b[0m     get_waiter\u001b[38;5;241m=\u001b[39mget_waiter,\n\u001b[0;32m   2932\u001b[0m     schedule_task\u001b[38;5;241m=\u001b[39mloop\u001b[38;5;241m.\u001b[39maaccept_push,\n\u001b[0;32m   2933\u001b[0m ):\n\u001b[0;32m   2934\u001b[0m     \u001b[38;5;66;03m# emit output\u001b[39;00m\n\u001b[0;32m   2935\u001b[0m     \u001b[38;5;28;01mfor\u001b[39;00m o \u001b[38;5;129;01min\u001b[39;00m _output(\n\u001b[0;32m   2936\u001b[0m         stream_mode,\n\u001b[0;32m   2937\u001b[0m         print_mode,\n\u001b[1;32m   (...)\u001b[0m\n\u001b[0;32m   2940\u001b[0m         asyncio\u001b[38;5;241m.\u001b[39mQueueEmpty,\n\u001b[0;32m   2941\u001b[0m     ):\n\u001b[0;32m   2942\u001b[0m         \u001b[38;5;28;01myield\u001b[39;00m o\n",
      "File \u001b[1;32mc:\\Users\\User\\anaconda3\\envs\\PT\\Lib\\site-packages\\langgraph\\pregel\\_runner.py:295\u001b[0m, in \u001b[0;36mPregelRunner.atick\u001b[1;34m(self, tasks, reraise, timeout, retry_policy, get_waiter, schedule_task)\u001b[0m\n\u001b[0;32m    293\u001b[0m t \u001b[38;5;241m=\u001b[39m tasks[\u001b[38;5;241m0\u001b[39m]\n\u001b[0;32m    294\u001b[0m \u001b[38;5;28;01mtry\u001b[39;00m:\n\u001b[1;32m--> 295\u001b[0m     \u001b[38;5;28;01mawait\u001b[39;00m arun_with_retry(\n\u001b[0;32m    296\u001b[0m         t,\n\u001b[0;32m    297\u001b[0m         retry_policy,\n\u001b[0;32m    298\u001b[0m         stream\u001b[38;5;241m=\u001b[39m\u001b[38;5;28mself\u001b[39m\u001b[38;5;241m.\u001b[39muse_astream,\n\u001b[0;32m    299\u001b[0m         configurable\u001b[38;5;241m=\u001b[39m{\n\u001b[0;32m    300\u001b[0m             CONFIG_KEY_CALL: partial(\n\u001b[0;32m    301\u001b[0m                 _acall,\n\u001b[0;32m    302\u001b[0m                 weakref\u001b[38;5;241m.\u001b[39mref(t),\n\u001b[0;32m    303\u001b[0m                 stream\u001b[38;5;241m=\u001b[39m\u001b[38;5;28mself\u001b[39m\u001b[38;5;241m.\u001b[39muse_astream,\n\u001b[0;32m    304\u001b[0m                 retry_policy\u001b[38;5;241m=\u001b[39mretry_policy,\n\u001b[0;32m    305\u001b[0m                 futures\u001b[38;5;241m=\u001b[39mweakref\u001b[38;5;241m.\u001b[39mref(futures),\n\u001b[0;32m    306\u001b[0m                 schedule_task\u001b[38;5;241m=\u001b[39mschedule_task,\n\u001b[0;32m    307\u001b[0m                 submit\u001b[38;5;241m=\u001b[39m\u001b[38;5;28mself\u001b[39m\u001b[38;5;241m.\u001b[39msubmit,\n\u001b[0;32m    308\u001b[0m                 loop\u001b[38;5;241m=\u001b[39mloop,\n\u001b[0;32m    309\u001b[0m             ),\n\u001b[0;32m    310\u001b[0m         },\n\u001b[0;32m    311\u001b[0m     )\n\u001b[0;32m    312\u001b[0m     \u001b[38;5;28mself\u001b[39m\u001b[38;5;241m.\u001b[39mcommit(t, \u001b[38;5;28;01mNone\u001b[39;00m)\n\u001b[0;32m    313\u001b[0m \u001b[38;5;28;01mexcept\u001b[39;00m \u001b[38;5;167;01mException\u001b[39;00m \u001b[38;5;28;01mas\u001b[39;00m exc:\n",
      "File \u001b[1;32mc:\\Users\\User\\anaconda3\\envs\\PT\\Lib\\site-packages\\langgraph\\pregel\\_retry.py:137\u001b[0m, in \u001b[0;36marun_with_retry\u001b[1;34m(task, retry_policy, stream, match_cached_writes, configurable)\u001b[0m\n\u001b[0;32m    135\u001b[0m         \u001b[38;5;28;01mbreak\u001b[39;00m\n\u001b[0;32m    136\u001b[0m     \u001b[38;5;28;01melse\u001b[39;00m:\n\u001b[1;32m--> 137\u001b[0m         \u001b[38;5;28;01mreturn\u001b[39;00m \u001b[38;5;28;01mawait\u001b[39;00m task\u001b[38;5;241m.\u001b[39mproc\u001b[38;5;241m.\u001b[39mainvoke(task\u001b[38;5;241m.\u001b[39minput, config)\n\u001b[0;32m    138\u001b[0m \u001b[38;5;28;01mexcept\u001b[39;00m ParentCommand \u001b[38;5;28;01mas\u001b[39;00m exc:\n\u001b[0;32m    139\u001b[0m     ns: \u001b[38;5;28mstr\u001b[39m \u001b[38;5;241m=\u001b[39m config[CONF][CONFIG_KEY_CHECKPOINT_NS]\n",
      "File \u001b[1;32mc:\\Users\\User\\anaconda3\\envs\\PT\\Lib\\site-packages\\langgraph\\_internal\\_runnable.py:706\u001b[0m, in \u001b[0;36mRunnableSeq.ainvoke\u001b[1;34m(self, input, config, **kwargs)\u001b[0m\n\u001b[0;32m    704\u001b[0m     \u001b[38;5;66;03m# run in context\u001b[39;00m\n\u001b[0;32m    705\u001b[0m     \u001b[38;5;28;01mwith\u001b[39;00m set_config_context(config, run) \u001b[38;5;28;01mas\u001b[39;00m context:\n\u001b[1;32m--> 706\u001b[0m         \u001b[38;5;28minput\u001b[39m \u001b[38;5;241m=\u001b[39m \u001b[38;5;28;01mawait\u001b[39;00m asyncio\u001b[38;5;241m.\u001b[39mcreate_task(\n\u001b[0;32m    707\u001b[0m             step\u001b[38;5;241m.\u001b[39mainvoke(\u001b[38;5;28minput\u001b[39m, config, \u001b[38;5;241m*\u001b[39m\u001b[38;5;241m*\u001b[39mkwargs), context\u001b[38;5;241m=\u001b[39mcontext\n\u001b[0;32m    708\u001b[0m         )\n\u001b[0;32m    709\u001b[0m \u001b[38;5;28;01melse\u001b[39;00m:\n\u001b[0;32m    710\u001b[0m     \u001b[38;5;28minput\u001b[39m \u001b[38;5;241m=\u001b[39m \u001b[38;5;28;01mawait\u001b[39;00m step\u001b[38;5;241m.\u001b[39mainvoke(\u001b[38;5;28minput\u001b[39m, config, \u001b[38;5;241m*\u001b[39m\u001b[38;5;241m*\u001b[39mkwargs)\n",
      "File \u001b[1;32mc:\\Users\\User\\anaconda3\\envs\\PT\\Lib\\site-packages\\langgraph\\pregel\\main.py:3101\u001b[0m, in \u001b[0;36mPregel.ainvoke\u001b[1;34m(self, input, config, context, stream_mode, print_mode, output_keys, interrupt_before, interrupt_after, durability, **kwargs)\u001b[0m\n\u001b[0;32m   3098\u001b[0m chunks: \u001b[38;5;28mlist\u001b[39m[\u001b[38;5;28mdict\u001b[39m[\u001b[38;5;28mstr\u001b[39m, Any] \u001b[38;5;241m|\u001b[39m Any] \u001b[38;5;241m=\u001b[39m []\n\u001b[0;32m   3099\u001b[0m interrupts: \u001b[38;5;28mlist\u001b[39m[Interrupt] \u001b[38;5;241m=\u001b[39m []\n\u001b[1;32m-> 3101\u001b[0m \u001b[38;5;28;01masync\u001b[39;00m \u001b[38;5;28;01mfor\u001b[39;00m chunk \u001b[38;5;129;01min\u001b[39;00m \u001b[38;5;28mself\u001b[39m\u001b[38;5;241m.\u001b[39mastream(\n\u001b[0;32m   3102\u001b[0m     \u001b[38;5;28minput\u001b[39m,\n\u001b[0;32m   3103\u001b[0m     config,\n\u001b[0;32m   3104\u001b[0m     context\u001b[38;5;241m=\u001b[39mcontext,\n\u001b[0;32m   3105\u001b[0m     stream_mode\u001b[38;5;241m=\u001b[39m[\u001b[38;5;124m\"\u001b[39m\u001b[38;5;124mupdates\u001b[39m\u001b[38;5;124m\"\u001b[39m, \u001b[38;5;124m\"\u001b[39m\u001b[38;5;124mvalues\u001b[39m\u001b[38;5;124m\"\u001b[39m]\n\u001b[0;32m   3106\u001b[0m     \u001b[38;5;28;01mif\u001b[39;00m stream_mode \u001b[38;5;241m==\u001b[39m \u001b[38;5;124m\"\u001b[39m\u001b[38;5;124mvalues\u001b[39m\u001b[38;5;124m\"\u001b[39m\n\u001b[0;32m   3107\u001b[0m     \u001b[38;5;28;01melse\u001b[39;00m stream_mode,\n\u001b[0;32m   3108\u001b[0m     print_mode\u001b[38;5;241m=\u001b[39mprint_mode,\n\u001b[0;32m   3109\u001b[0m     output_keys\u001b[38;5;241m=\u001b[39moutput_keys,\n\u001b[0;32m   3110\u001b[0m     interrupt_before\u001b[38;5;241m=\u001b[39minterrupt_before,\n\u001b[0;32m   3111\u001b[0m     interrupt_after\u001b[38;5;241m=\u001b[39minterrupt_after,\n\u001b[0;32m   3112\u001b[0m     durability\u001b[38;5;241m=\u001b[39mdurability,\n\u001b[0;32m   3113\u001b[0m     \u001b[38;5;241m*\u001b[39m\u001b[38;5;241m*\u001b[39mkwargs,\n\u001b[0;32m   3114\u001b[0m ):\n\u001b[0;32m   3115\u001b[0m     \u001b[38;5;28;01mif\u001b[39;00m stream_mode \u001b[38;5;241m==\u001b[39m \u001b[38;5;124m\"\u001b[39m\u001b[38;5;124mvalues\u001b[39m\u001b[38;5;124m\"\u001b[39m:\n\u001b[0;32m   3116\u001b[0m         \u001b[38;5;28;01mif\u001b[39;00m \u001b[38;5;28mlen\u001b[39m(chunk) \u001b[38;5;241m==\u001b[39m \u001b[38;5;241m2\u001b[39m:\n",
      "File \u001b[1;32mc:\\Users\\User\\anaconda3\\envs\\PT\\Lib\\site-packages\\langgraph\\pregel\\main.py:2928\u001b[0m, in \u001b[0;36mPregel.astream\u001b[1;34m(self, input, config, context, stream_mode, print_mode, output_keys, interrupt_before, interrupt_after, durability, subgraphs, debug, **kwargs)\u001b[0m\n\u001b[0;32m   2926\u001b[0m \u001b[38;5;28;01mfor\u001b[39;00m task \u001b[38;5;129;01min\u001b[39;00m \u001b[38;5;28;01mawait\u001b[39;00m loop\u001b[38;5;241m.\u001b[39mamatch_cached_writes():\n\u001b[0;32m   2927\u001b[0m     loop\u001b[38;5;241m.\u001b[39moutput_writes(task\u001b[38;5;241m.\u001b[39mid, task\u001b[38;5;241m.\u001b[39mwrites, cached\u001b[38;5;241m=\u001b[39m\u001b[38;5;28;01mTrue\u001b[39;00m)\n\u001b[1;32m-> 2928\u001b[0m \u001b[38;5;28;01masync\u001b[39;00m \u001b[38;5;28;01mfor\u001b[39;00m _ \u001b[38;5;129;01min\u001b[39;00m runner\u001b[38;5;241m.\u001b[39matick(\n\u001b[0;32m   2929\u001b[0m     [t \u001b[38;5;28;01mfor\u001b[39;00m t \u001b[38;5;129;01min\u001b[39;00m loop\u001b[38;5;241m.\u001b[39mtasks\u001b[38;5;241m.\u001b[39mvalues() \u001b[38;5;28;01mif\u001b[39;00m \u001b[38;5;129;01mnot\u001b[39;00m t\u001b[38;5;241m.\u001b[39mwrites],\n\u001b[0;32m   2930\u001b[0m     timeout\u001b[38;5;241m=\u001b[39m\u001b[38;5;28mself\u001b[39m\u001b[38;5;241m.\u001b[39mstep_timeout,\n\u001b[0;32m   2931\u001b[0m     get_waiter\u001b[38;5;241m=\u001b[39mget_waiter,\n\u001b[0;32m   2932\u001b[0m     schedule_task\u001b[38;5;241m=\u001b[39mloop\u001b[38;5;241m.\u001b[39maaccept_push,\n\u001b[0;32m   2933\u001b[0m ):\n\u001b[0;32m   2934\u001b[0m     \u001b[38;5;66;03m# emit output\u001b[39;00m\n\u001b[0;32m   2935\u001b[0m     \u001b[38;5;28;01mfor\u001b[39;00m o \u001b[38;5;129;01min\u001b[39;00m _output(\n\u001b[0;32m   2936\u001b[0m         stream_mode,\n\u001b[0;32m   2937\u001b[0m         print_mode,\n\u001b[1;32m   (...)\u001b[0m\n\u001b[0;32m   2940\u001b[0m         asyncio\u001b[38;5;241m.\u001b[39mQueueEmpty,\n\u001b[0;32m   2941\u001b[0m     ):\n\u001b[0;32m   2942\u001b[0m         \u001b[38;5;28;01myield\u001b[39;00m o\n",
      "File \u001b[1;32mc:\\Users\\User\\anaconda3\\envs\\PT\\Lib\\site-packages\\langgraph\\pregel\\_runner.py:295\u001b[0m, in \u001b[0;36mPregelRunner.atick\u001b[1;34m(self, tasks, reraise, timeout, retry_policy, get_waiter, schedule_task)\u001b[0m\n\u001b[0;32m    293\u001b[0m t \u001b[38;5;241m=\u001b[39m tasks[\u001b[38;5;241m0\u001b[39m]\n\u001b[0;32m    294\u001b[0m \u001b[38;5;28;01mtry\u001b[39;00m:\n\u001b[1;32m--> 295\u001b[0m     \u001b[38;5;28;01mawait\u001b[39;00m arun_with_retry(\n\u001b[0;32m    296\u001b[0m         t,\n\u001b[0;32m    297\u001b[0m         retry_policy,\n\u001b[0;32m    298\u001b[0m         stream\u001b[38;5;241m=\u001b[39m\u001b[38;5;28mself\u001b[39m\u001b[38;5;241m.\u001b[39muse_astream,\n\u001b[0;32m    299\u001b[0m         configurable\u001b[38;5;241m=\u001b[39m{\n\u001b[0;32m    300\u001b[0m             CONFIG_KEY_CALL: partial(\n\u001b[0;32m    301\u001b[0m                 _acall,\n\u001b[0;32m    302\u001b[0m                 weakref\u001b[38;5;241m.\u001b[39mref(t),\n\u001b[0;32m    303\u001b[0m                 stream\u001b[38;5;241m=\u001b[39m\u001b[38;5;28mself\u001b[39m\u001b[38;5;241m.\u001b[39muse_astream,\n\u001b[0;32m    304\u001b[0m                 retry_policy\u001b[38;5;241m=\u001b[39mretry_policy,\n\u001b[0;32m    305\u001b[0m                 futures\u001b[38;5;241m=\u001b[39mweakref\u001b[38;5;241m.\u001b[39mref(futures),\n\u001b[0;32m    306\u001b[0m                 schedule_task\u001b[38;5;241m=\u001b[39mschedule_task,\n\u001b[0;32m    307\u001b[0m                 submit\u001b[38;5;241m=\u001b[39m\u001b[38;5;28mself\u001b[39m\u001b[38;5;241m.\u001b[39msubmit,\n\u001b[0;32m    308\u001b[0m                 loop\u001b[38;5;241m=\u001b[39mloop,\n\u001b[0;32m    309\u001b[0m             ),\n\u001b[0;32m    310\u001b[0m         },\n\u001b[0;32m    311\u001b[0m     )\n\u001b[0;32m    312\u001b[0m     \u001b[38;5;28mself\u001b[39m\u001b[38;5;241m.\u001b[39mcommit(t, \u001b[38;5;28;01mNone\u001b[39;00m)\n\u001b[0;32m    313\u001b[0m \u001b[38;5;28;01mexcept\u001b[39;00m \u001b[38;5;167;01mException\u001b[39;00m \u001b[38;5;28;01mas\u001b[39;00m exc:\n",
      "File \u001b[1;32mc:\\Users\\User\\anaconda3\\envs\\PT\\Lib\\site-packages\\langgraph\\pregel\\_retry.py:137\u001b[0m, in \u001b[0;36marun_with_retry\u001b[1;34m(task, retry_policy, stream, match_cached_writes, configurable)\u001b[0m\n\u001b[0;32m    135\u001b[0m         \u001b[38;5;28;01mbreak\u001b[39;00m\n\u001b[0;32m    136\u001b[0m     \u001b[38;5;28;01melse\u001b[39;00m:\n\u001b[1;32m--> 137\u001b[0m         \u001b[38;5;28;01mreturn\u001b[39;00m \u001b[38;5;28;01mawait\u001b[39;00m task\u001b[38;5;241m.\u001b[39mproc\u001b[38;5;241m.\u001b[39mainvoke(task\u001b[38;5;241m.\u001b[39minput, config)\n\u001b[0;32m    138\u001b[0m \u001b[38;5;28;01mexcept\u001b[39;00m ParentCommand \u001b[38;5;28;01mas\u001b[39;00m exc:\n\u001b[0;32m    139\u001b[0m     ns: \u001b[38;5;28mstr\u001b[39m \u001b[38;5;241m=\u001b[39m config[CONF][CONFIG_KEY_CHECKPOINT_NS]\n",
      "File \u001b[1;32mc:\\Users\\User\\anaconda3\\envs\\PT\\Lib\\site-packages\\langgraph\\_internal\\_runnable.py:706\u001b[0m, in \u001b[0;36mRunnableSeq.ainvoke\u001b[1;34m(self, input, config, **kwargs)\u001b[0m\n\u001b[0;32m    704\u001b[0m     \u001b[38;5;66;03m# run in context\u001b[39;00m\n\u001b[0;32m    705\u001b[0m     \u001b[38;5;28;01mwith\u001b[39;00m set_config_context(config, run) \u001b[38;5;28;01mas\u001b[39;00m context:\n\u001b[1;32m--> 706\u001b[0m         \u001b[38;5;28minput\u001b[39m \u001b[38;5;241m=\u001b[39m \u001b[38;5;28;01mawait\u001b[39;00m asyncio\u001b[38;5;241m.\u001b[39mcreate_task(\n\u001b[0;32m    707\u001b[0m             step\u001b[38;5;241m.\u001b[39mainvoke(\u001b[38;5;28minput\u001b[39m, config, \u001b[38;5;241m*\u001b[39m\u001b[38;5;241m*\u001b[39mkwargs), context\u001b[38;5;241m=\u001b[39mcontext\n\u001b[0;32m    708\u001b[0m         )\n\u001b[0;32m    709\u001b[0m \u001b[38;5;28;01melse\u001b[39;00m:\n\u001b[0;32m    710\u001b[0m     \u001b[38;5;28minput\u001b[39m \u001b[38;5;241m=\u001b[39m \u001b[38;5;28;01mawait\u001b[39;00m step\u001b[38;5;241m.\u001b[39mainvoke(\u001b[38;5;28minput\u001b[39m, config, \u001b[38;5;241m*\u001b[39m\u001b[38;5;241m*\u001b[39mkwargs)\n",
      "File \u001b[1;32mc:\\Users\\User\\anaconda3\\envs\\PT\\Lib\\site-packages\\langgraph\\pregel\\main.py:3101\u001b[0m, in \u001b[0;36mPregel.ainvoke\u001b[1;34m(self, input, config, context, stream_mode, print_mode, output_keys, interrupt_before, interrupt_after, durability, **kwargs)\u001b[0m\n\u001b[0;32m   3098\u001b[0m chunks: \u001b[38;5;28mlist\u001b[39m[\u001b[38;5;28mdict\u001b[39m[\u001b[38;5;28mstr\u001b[39m, Any] \u001b[38;5;241m|\u001b[39m Any] \u001b[38;5;241m=\u001b[39m []\n\u001b[0;32m   3099\u001b[0m interrupts: \u001b[38;5;28mlist\u001b[39m[Interrupt] \u001b[38;5;241m=\u001b[39m []\n\u001b[1;32m-> 3101\u001b[0m \u001b[38;5;28;01masync\u001b[39;00m \u001b[38;5;28;01mfor\u001b[39;00m chunk \u001b[38;5;129;01min\u001b[39;00m \u001b[38;5;28mself\u001b[39m\u001b[38;5;241m.\u001b[39mastream(\n\u001b[0;32m   3102\u001b[0m     \u001b[38;5;28minput\u001b[39m,\n\u001b[0;32m   3103\u001b[0m     config,\n\u001b[0;32m   3104\u001b[0m     context\u001b[38;5;241m=\u001b[39mcontext,\n\u001b[0;32m   3105\u001b[0m     stream_mode\u001b[38;5;241m=\u001b[39m[\u001b[38;5;124m\"\u001b[39m\u001b[38;5;124mupdates\u001b[39m\u001b[38;5;124m\"\u001b[39m, \u001b[38;5;124m\"\u001b[39m\u001b[38;5;124mvalues\u001b[39m\u001b[38;5;124m\"\u001b[39m]\n\u001b[0;32m   3106\u001b[0m     \u001b[38;5;28;01mif\u001b[39;00m stream_mode \u001b[38;5;241m==\u001b[39m \u001b[38;5;124m\"\u001b[39m\u001b[38;5;124mvalues\u001b[39m\u001b[38;5;124m\"\u001b[39m\n\u001b[0;32m   3107\u001b[0m     \u001b[38;5;28;01melse\u001b[39;00m stream_mode,\n\u001b[0;32m   3108\u001b[0m     print_mode\u001b[38;5;241m=\u001b[39mprint_mode,\n\u001b[0;32m   3109\u001b[0m     output_keys\u001b[38;5;241m=\u001b[39moutput_keys,\n\u001b[0;32m   3110\u001b[0m     interrupt_before\u001b[38;5;241m=\u001b[39minterrupt_before,\n\u001b[0;32m   3111\u001b[0m     interrupt_after\u001b[38;5;241m=\u001b[39minterrupt_after,\n\u001b[0;32m   3112\u001b[0m     durability\u001b[38;5;241m=\u001b[39mdurability,\n\u001b[0;32m   3113\u001b[0m     \u001b[38;5;241m*\u001b[39m\u001b[38;5;241m*\u001b[39mkwargs,\n\u001b[0;32m   3114\u001b[0m ):\n\u001b[0;32m   3115\u001b[0m     \u001b[38;5;28;01mif\u001b[39;00m stream_mode \u001b[38;5;241m==\u001b[39m \u001b[38;5;124m\"\u001b[39m\u001b[38;5;124mvalues\u001b[39m\u001b[38;5;124m\"\u001b[39m:\n\u001b[0;32m   3116\u001b[0m         \u001b[38;5;28;01mif\u001b[39;00m \u001b[38;5;28mlen\u001b[39m(chunk) \u001b[38;5;241m==\u001b[39m \u001b[38;5;241m2\u001b[39m:\n",
      "File \u001b[1;32mc:\\Users\\User\\anaconda3\\envs\\PT\\Lib\\site-packages\\langgraph\\pregel\\main.py:2928\u001b[0m, in \u001b[0;36mPregel.astream\u001b[1;34m(self, input, config, context, stream_mode, print_mode, output_keys, interrupt_before, interrupt_after, durability, subgraphs, debug, **kwargs)\u001b[0m\n\u001b[0;32m   2926\u001b[0m \u001b[38;5;28;01mfor\u001b[39;00m task \u001b[38;5;129;01min\u001b[39;00m \u001b[38;5;28;01mawait\u001b[39;00m loop\u001b[38;5;241m.\u001b[39mamatch_cached_writes():\n\u001b[0;32m   2927\u001b[0m     loop\u001b[38;5;241m.\u001b[39moutput_writes(task\u001b[38;5;241m.\u001b[39mid, task\u001b[38;5;241m.\u001b[39mwrites, cached\u001b[38;5;241m=\u001b[39m\u001b[38;5;28;01mTrue\u001b[39;00m)\n\u001b[1;32m-> 2928\u001b[0m \u001b[38;5;28;01masync\u001b[39;00m \u001b[38;5;28;01mfor\u001b[39;00m _ \u001b[38;5;129;01min\u001b[39;00m runner\u001b[38;5;241m.\u001b[39matick(\n\u001b[0;32m   2929\u001b[0m     [t \u001b[38;5;28;01mfor\u001b[39;00m t \u001b[38;5;129;01min\u001b[39;00m loop\u001b[38;5;241m.\u001b[39mtasks\u001b[38;5;241m.\u001b[39mvalues() \u001b[38;5;28;01mif\u001b[39;00m \u001b[38;5;129;01mnot\u001b[39;00m t\u001b[38;5;241m.\u001b[39mwrites],\n\u001b[0;32m   2930\u001b[0m     timeout\u001b[38;5;241m=\u001b[39m\u001b[38;5;28mself\u001b[39m\u001b[38;5;241m.\u001b[39mstep_timeout,\n\u001b[0;32m   2931\u001b[0m     get_waiter\u001b[38;5;241m=\u001b[39mget_waiter,\n\u001b[0;32m   2932\u001b[0m     schedule_task\u001b[38;5;241m=\u001b[39mloop\u001b[38;5;241m.\u001b[39maaccept_push,\n\u001b[0;32m   2933\u001b[0m ):\n\u001b[0;32m   2934\u001b[0m     \u001b[38;5;66;03m# emit output\u001b[39;00m\n\u001b[0;32m   2935\u001b[0m     \u001b[38;5;28;01mfor\u001b[39;00m o \u001b[38;5;129;01min\u001b[39;00m _output(\n\u001b[0;32m   2936\u001b[0m         stream_mode,\n\u001b[0;32m   2937\u001b[0m         print_mode,\n\u001b[1;32m   (...)\u001b[0m\n\u001b[0;32m   2940\u001b[0m         asyncio\u001b[38;5;241m.\u001b[39mQueueEmpty,\n\u001b[0;32m   2941\u001b[0m     ):\n\u001b[0;32m   2942\u001b[0m         \u001b[38;5;28;01myield\u001b[39;00m o\n",
      "File \u001b[1;32mc:\\Users\\User\\anaconda3\\envs\\PT\\Lib\\site-packages\\langgraph\\pregel\\_runner.py:295\u001b[0m, in \u001b[0;36mPregelRunner.atick\u001b[1;34m(self, tasks, reraise, timeout, retry_policy, get_waiter, schedule_task)\u001b[0m\n\u001b[0;32m    293\u001b[0m t \u001b[38;5;241m=\u001b[39m tasks[\u001b[38;5;241m0\u001b[39m]\n\u001b[0;32m    294\u001b[0m \u001b[38;5;28;01mtry\u001b[39;00m:\n\u001b[1;32m--> 295\u001b[0m     \u001b[38;5;28;01mawait\u001b[39;00m arun_with_retry(\n\u001b[0;32m    296\u001b[0m         t,\n\u001b[0;32m    297\u001b[0m         retry_policy,\n\u001b[0;32m    298\u001b[0m         stream\u001b[38;5;241m=\u001b[39m\u001b[38;5;28mself\u001b[39m\u001b[38;5;241m.\u001b[39muse_astream,\n\u001b[0;32m    299\u001b[0m         configurable\u001b[38;5;241m=\u001b[39m{\n\u001b[0;32m    300\u001b[0m             CONFIG_KEY_CALL: partial(\n\u001b[0;32m    301\u001b[0m                 _acall,\n\u001b[0;32m    302\u001b[0m                 weakref\u001b[38;5;241m.\u001b[39mref(t),\n\u001b[0;32m    303\u001b[0m                 stream\u001b[38;5;241m=\u001b[39m\u001b[38;5;28mself\u001b[39m\u001b[38;5;241m.\u001b[39muse_astream,\n\u001b[0;32m    304\u001b[0m                 retry_policy\u001b[38;5;241m=\u001b[39mretry_policy,\n\u001b[0;32m    305\u001b[0m                 futures\u001b[38;5;241m=\u001b[39mweakref\u001b[38;5;241m.\u001b[39mref(futures),\n\u001b[0;32m    306\u001b[0m                 schedule_task\u001b[38;5;241m=\u001b[39mschedule_task,\n\u001b[0;32m    307\u001b[0m                 submit\u001b[38;5;241m=\u001b[39m\u001b[38;5;28mself\u001b[39m\u001b[38;5;241m.\u001b[39msubmit,\n\u001b[0;32m    308\u001b[0m                 loop\u001b[38;5;241m=\u001b[39mloop,\n\u001b[0;32m    309\u001b[0m             ),\n\u001b[0;32m    310\u001b[0m         },\n\u001b[0;32m    311\u001b[0m     )\n\u001b[0;32m    312\u001b[0m     \u001b[38;5;28mself\u001b[39m\u001b[38;5;241m.\u001b[39mcommit(t, \u001b[38;5;28;01mNone\u001b[39;00m)\n\u001b[0;32m    313\u001b[0m \u001b[38;5;28;01mexcept\u001b[39;00m \u001b[38;5;167;01mException\u001b[39;00m \u001b[38;5;28;01mas\u001b[39;00m exc:\n",
      "File \u001b[1;32mc:\\Users\\User\\anaconda3\\envs\\PT\\Lib\\site-packages\\langgraph\\pregel\\_retry.py:137\u001b[0m, in \u001b[0;36marun_with_retry\u001b[1;34m(task, retry_policy, stream, match_cached_writes, configurable)\u001b[0m\n\u001b[0;32m    135\u001b[0m         \u001b[38;5;28;01mbreak\u001b[39;00m\n\u001b[0;32m    136\u001b[0m     \u001b[38;5;28;01melse\u001b[39;00m:\n\u001b[1;32m--> 137\u001b[0m         \u001b[38;5;28;01mreturn\u001b[39;00m \u001b[38;5;28;01mawait\u001b[39;00m task\u001b[38;5;241m.\u001b[39mproc\u001b[38;5;241m.\u001b[39mainvoke(task\u001b[38;5;241m.\u001b[39minput, config)\n\u001b[0;32m    138\u001b[0m \u001b[38;5;28;01mexcept\u001b[39;00m ParentCommand \u001b[38;5;28;01mas\u001b[39;00m exc:\n\u001b[0;32m    139\u001b[0m     ns: \u001b[38;5;28mstr\u001b[39m \u001b[38;5;241m=\u001b[39m config[CONF][CONFIG_KEY_CHECKPOINT_NS]\n",
      "File \u001b[1;32mc:\\Users\\User\\anaconda3\\envs\\PT\\Lib\\site-packages\\langgraph\\_internal\\_runnable.py:712\u001b[0m, in \u001b[0;36mRunnableSeq.ainvoke\u001b[1;34m(self, input, config, **kwargs)\u001b[0m\n\u001b[0;32m    710\u001b[0m                 \u001b[38;5;28minput\u001b[39m \u001b[38;5;241m=\u001b[39m \u001b[38;5;28;01mawait\u001b[39;00m step\u001b[38;5;241m.\u001b[39mainvoke(\u001b[38;5;28minput\u001b[39m, config, \u001b[38;5;241m*\u001b[39m\u001b[38;5;241m*\u001b[39mkwargs)\n\u001b[0;32m    711\u001b[0m         \u001b[38;5;28;01melse\u001b[39;00m:\n\u001b[1;32m--> 712\u001b[0m             \u001b[38;5;28minput\u001b[39m \u001b[38;5;241m=\u001b[39m \u001b[38;5;28;01mawait\u001b[39;00m step\u001b[38;5;241m.\u001b[39mainvoke(\u001b[38;5;28minput\u001b[39m, config)\n\u001b[0;32m    713\u001b[0m \u001b[38;5;66;03m# finish the root run\u001b[39;00m\n\u001b[0;32m    714\u001b[0m \u001b[38;5;28;01mexcept\u001b[39;00m \u001b[38;5;167;01mBaseException\u001b[39;00m \u001b[38;5;28;01mas\u001b[39;00m e:\n",
      "File \u001b[1;32mc:\\Users\\User\\anaconda3\\envs\\PT\\Lib\\site-packages\\langgraph\\_internal\\_runnable.py:474\u001b[0m, in \u001b[0;36mRunnableCallable.ainvoke\u001b[1;34m(self, input, config, **kwargs)\u001b[0m\n\u001b[0;32m    472\u001b[0m         \u001b[38;5;28;01mawait\u001b[39;00m run_manager\u001b[38;5;241m.\u001b[39mon_chain_end(ret)\n\u001b[0;32m    473\u001b[0m \u001b[38;5;28;01melse\u001b[39;00m:\n\u001b[1;32m--> 474\u001b[0m     ret \u001b[38;5;241m=\u001b[39m \u001b[38;5;28;01mawait\u001b[39;00m \u001b[38;5;28mself\u001b[39m\u001b[38;5;241m.\u001b[39mafunc(\u001b[38;5;241m*\u001b[39margs, \u001b[38;5;241m*\u001b[39m\u001b[38;5;241m*\u001b[39mkwargs)\n\u001b[0;32m    475\u001b[0m \u001b[38;5;28;01mif\u001b[39;00m \u001b[38;5;28mself\u001b[39m\u001b[38;5;241m.\u001b[39mrecurse \u001b[38;5;129;01mand\u001b[39;00m \u001b[38;5;28misinstance\u001b[39m(ret, Runnable):\n\u001b[0;32m    476\u001b[0m     \u001b[38;5;28;01mreturn\u001b[39;00m \u001b[38;5;28;01mawait\u001b[39;00m ret\u001b[38;5;241m.\u001b[39mainvoke(\u001b[38;5;28minput\u001b[39m, config)\n",
      "File \u001b[1;32mc:\\Users\\User\\anaconda3\\envs\\PT\\Lib\\site-packages\\langgraph\\graph\\_branch.py:191\u001b[0m, in \u001b[0;36mBranchSpec._aroute\u001b[1;34m(self, input, config, reader, writer)\u001b[0m\n\u001b[0;32m    189\u001b[0m \u001b[38;5;28;01melse\u001b[39;00m:\n\u001b[0;32m    190\u001b[0m     value \u001b[38;5;241m=\u001b[39m \u001b[38;5;28minput\u001b[39m\n\u001b[1;32m--> 191\u001b[0m result \u001b[38;5;241m=\u001b[39m \u001b[38;5;28;01mawait\u001b[39;00m \u001b[38;5;28mself\u001b[39m\u001b[38;5;241m.\u001b[39mpath\u001b[38;5;241m.\u001b[39mainvoke(value, config)\n\u001b[0;32m    192\u001b[0m \u001b[38;5;28;01mreturn\u001b[39;00m \u001b[38;5;28mself\u001b[39m\u001b[38;5;241m.\u001b[39m_finish(writer, \u001b[38;5;28minput\u001b[39m, result, config)\n",
      "File \u001b[1;32mc:\\Users\\User\\anaconda3\\envs\\PT\\Lib\\site-packages\\langgraph\\_internal\\_runnable.py:465\u001b[0m, in \u001b[0;36mRunnableCallable.ainvoke\u001b[1;34m(self, input, config, **kwargs)\u001b[0m\n\u001b[0;32m    463\u001b[0m         run \u001b[38;5;241m=\u001b[39m \u001b[38;5;28;01mNone\u001b[39;00m\n\u001b[0;32m    464\u001b[0m     \u001b[38;5;28;01mwith\u001b[39;00m set_config_context(child_config, run) \u001b[38;5;28;01mas\u001b[39;00m context:\n\u001b[1;32m--> 465\u001b[0m         ret \u001b[38;5;241m=\u001b[39m \u001b[38;5;28;01mawait\u001b[39;00m asyncio\u001b[38;5;241m.\u001b[39mcreate_task(coro, context\u001b[38;5;241m=\u001b[39mcontext)\n\u001b[0;32m    466\u001b[0m \u001b[38;5;28;01melse\u001b[39;00m:\n\u001b[0;32m    467\u001b[0m     ret \u001b[38;5;241m=\u001b[39m \u001b[38;5;28;01mawait\u001b[39;00m coro\n",
      "File \u001b[1;32mc:\\Users\\User\\anaconda3\\envs\\PT\\Lib\\site-packages\\langchain_core\\runnables\\config.py:617\u001b[0m, in \u001b[0;36mrun_in_executor\u001b[1;34m(executor_or_config, func, *args, **kwargs)\u001b[0m\n\u001b[0;32m    613\u001b[0m         \u001b[38;5;28;01mraise\u001b[39;00m \u001b[38;5;167;01mRuntimeError\u001b[39;00m \u001b[38;5;28;01mfrom\u001b[39;00m\u001b[38;5;250m \u001b[39m\u001b[38;5;21;01mexc\u001b[39;00m\n\u001b[0;32m    615\u001b[0m \u001b[38;5;28;01mif\u001b[39;00m executor_or_config \u001b[38;5;129;01mis\u001b[39;00m \u001b[38;5;28;01mNone\u001b[39;00m \u001b[38;5;129;01mor\u001b[39;00m \u001b[38;5;28misinstance\u001b[39m(executor_or_config, \u001b[38;5;28mdict\u001b[39m):\n\u001b[0;32m    616\u001b[0m     \u001b[38;5;66;03m# Use default executor with context copied from current context\u001b[39;00m\n\u001b[1;32m--> 617\u001b[0m     \u001b[38;5;28;01mreturn\u001b[39;00m \u001b[38;5;28;01mawait\u001b[39;00m asyncio\u001b[38;5;241m.\u001b[39mget_running_loop()\u001b[38;5;241m.\u001b[39mrun_in_executor(\n\u001b[0;32m    618\u001b[0m         \u001b[38;5;28;01mNone\u001b[39;00m,\n\u001b[0;32m    619\u001b[0m         cast(\u001b[38;5;124m\"\u001b[39m\u001b[38;5;124mCallable[..., T]\u001b[39m\u001b[38;5;124m\"\u001b[39m, partial(copy_context()\u001b[38;5;241m.\u001b[39mrun, wrapper)),\n\u001b[0;32m    620\u001b[0m     )\n\u001b[0;32m    622\u001b[0m \u001b[38;5;28;01mreturn\u001b[39;00m \u001b[38;5;28;01mawait\u001b[39;00m asyncio\u001b[38;5;241m.\u001b[39mget_running_loop()\u001b[38;5;241m.\u001b[39mrun_in_executor(executor_or_config, wrapper)\n",
      "File \u001b[1;32mc:\\Users\\User\\anaconda3\\envs\\PT\\Lib\\concurrent\\futures\\thread.py:59\u001b[0m, in \u001b[0;36m_WorkItem.run\u001b[1;34m(self)\u001b[0m\n\u001b[0;32m     56\u001b[0m     \u001b[38;5;28;01mreturn\u001b[39;00m\n\u001b[0;32m     58\u001b[0m \u001b[38;5;28;01mtry\u001b[39;00m:\n\u001b[1;32m---> 59\u001b[0m     result \u001b[38;5;241m=\u001b[39m \u001b[38;5;28;43mself\u001b[39;49m\u001b[38;5;241;43m.\u001b[39;49m\u001b[43mfn\u001b[49m\u001b[43m(\u001b[49m\u001b[38;5;241;43m*\u001b[39;49m\u001b[38;5;28;43mself\u001b[39;49m\u001b[38;5;241;43m.\u001b[39;49m\u001b[43margs\u001b[49m\u001b[43m,\u001b[49m\u001b[43m \u001b[49m\u001b[38;5;241;43m*\u001b[39;49m\u001b[38;5;241;43m*\u001b[39;49m\u001b[38;5;28;43mself\u001b[39;49m\u001b[38;5;241;43m.\u001b[39;49m\u001b[43mkwargs\u001b[49m\u001b[43m)\u001b[49m\n\u001b[0;32m     60\u001b[0m \u001b[38;5;28;01mexcept\u001b[39;00m \u001b[38;5;167;01mBaseException\u001b[39;00m \u001b[38;5;28;01mas\u001b[39;00m exc:\n\u001b[0;32m     61\u001b[0m     \u001b[38;5;28mself\u001b[39m\u001b[38;5;241m.\u001b[39mfuture\u001b[38;5;241m.\u001b[39mset_exception(exc)\n",
      "File \u001b[1;32mc:\\Users\\User\\anaconda3\\envs\\PT\\Lib\\site-packages\\langchain_core\\runnables\\config.py:608\u001b[0m, in \u001b[0;36mrun_in_executor.<locals>.wrapper\u001b[1;34m()\u001b[0m\n\u001b[0;32m    606\u001b[0m \u001b[38;5;28;01mdef\u001b[39;00m\u001b[38;5;250m \u001b[39m\u001b[38;5;21mwrapper\u001b[39m() \u001b[38;5;241m-\u001b[39m\u001b[38;5;241m>\u001b[39m T:\n\u001b[0;32m    607\u001b[0m     \u001b[38;5;28;01mtry\u001b[39;00m:\n\u001b[1;32m--> 608\u001b[0m         \u001b[38;5;28;01mreturn\u001b[39;00m \u001b[43mfunc\u001b[49m\u001b[43m(\u001b[49m\u001b[38;5;241;43m*\u001b[39;49m\u001b[43margs\u001b[49m\u001b[43m,\u001b[49m\u001b[43m \u001b[49m\u001b[38;5;241;43m*\u001b[39;49m\u001b[38;5;241;43m*\u001b[39;49m\u001b[43mkwargs\u001b[49m\u001b[43m)\u001b[49m\n\u001b[0;32m    609\u001b[0m     \u001b[38;5;28;01mexcept\u001b[39;00m \u001b[38;5;167;01mStopIteration\u001b[39;00m \u001b[38;5;28;01mas\u001b[39;00m exc:\n\u001b[0;32m    610\u001b[0m         \u001b[38;5;66;03m# StopIteration can't be set on an asyncio.Future\u001b[39;00m\n\u001b[0;32m    611\u001b[0m         \u001b[38;5;66;03m# it raises a TypeError and leaves the Future pending forever\u001b[39;00m\n\u001b[0;32m    612\u001b[0m         \u001b[38;5;66;03m# so we need to convert it to a RuntimeError\u001b[39;00m\n\u001b[0;32m    613\u001b[0m         \u001b[38;5;28;01mraise\u001b[39;00m \u001b[38;5;167;01mRuntimeError\u001b[39;00m \u001b[38;5;28;01mfrom\u001b[39;00m\u001b[38;5;250m \u001b[39m\u001b[38;5;21;01mexc\u001b[39;00m\n",
      "Cell \u001b[1;32mIn[9], line 22\u001b[0m, in \u001b[0;36mAgent.exists_action\u001b[1;34m(self, state)\u001b[0m\n\u001b[0;32m     20\u001b[0m \u001b[38;5;28;01mdef\u001b[39;00m\u001b[38;5;250m \u001b[39m\u001b[38;5;21mexists_action\u001b[39m(\u001b[38;5;28mself\u001b[39m, state: AgentState):\n\u001b[0;32m     21\u001b[0m     result \u001b[38;5;241m=\u001b[39m state[\u001b[38;5;124m'\u001b[39m\u001b[38;5;124mmessages\u001b[39m\u001b[38;5;124m'\u001b[39m][\u001b[38;5;241m-\u001b[39m\u001b[38;5;241m1\u001b[39m]\n\u001b[1;32m---> 22\u001b[0m     want_tools \u001b[38;5;241m=\u001b[39m \u001b[38;5;28misinstance\u001b[39m(result, \u001b[43mAIMessage\u001b[49m) \u001b[38;5;129;01mand\u001b[39;00m \u001b[38;5;28mbool\u001b[39m(\u001b[38;5;28mgetattr\u001b[39m(result, \u001b[38;5;124m\"\u001b[39m\u001b[38;5;124mtool_calls\u001b[39m\u001b[38;5;124m\"\u001b[39m, \u001b[38;5;28;01mNone\u001b[39;00m))\n\u001b[0;32m     23\u001b[0m     \u001b[38;5;28;01mreturn\u001b[39;00m  want_tools\n",
      "\u001b[1;31mNameError\u001b[0m: name 'AIMessage' is not defined",
      "\u001b[0mDuring task with name 'llm' and id 'a977e52a-4796-1d71-2e03-8bb32a18810d'",
      "\u001b[0mDuring task with name 'check_relevance' and id 'a7b64670-784b-7091-19cb-c75439117ef4'",
      "\u001b[0mDuring task with name 'relevancer' and id 'cb2868fa-a3ad-441f-de2f-202290f29d0e'"
     ]
    }
   ],
   "source": [
    "response = await run_single_graph_test(graph, \"i want to be tutored on fourier series\")"
   ]
  },
  {
   "cell_type": "code",
   "execution_count": 203,
   "id": "dc36de8c",
   "metadata": {},
   "outputs": [
    {
     "name": "stdout",
     "output_type": "stream",
     "text": [
      "{\n",
      "  \"plan\": {\n",
      "    \"Title\": \"Fourier Series\",\n",
      "    \"Duration\": 135,\n",
      "    \"Objectives\": [\n",
      "      \"Understand the concept and mathematical formulation of Fourier series.\",\n",
      "      \"Learn how to calculate Fourier coefficients and represent functions as Fourier series.\"\n",
      "    ],\n",
      "    \"Key Concepts (from materials)\": [\n",
      "      \"Periodic functions and their representation using sine and cosine series.\",\n",
      "      \"Convergence of Fourier series and applications in signal processing.\"\n",
      "    ],\n",
      "    \"Agenda\": [\n",
      "      \"0–5: Introduction to Fourier series and key terms.\",\n",
      "      \"5–15: Discussion of periodic functions and their representations.\",\n",
      "      \"15–30: Derivation of Fourier coefficients.\",\n",
      "      \"30–45: Representation of functions as Fourier series.\",\n",
      "      \"45–60: Introduce convergence of Fourier series.\",\n",
      "      \"60–75: Applications of Fourier series in engineering and physics.\",\n",
      "      \"75–90: Working examples and problem-solving.\",\n",
      "      \"90–105: Summary and key takeaways.\",\n",
      "      \"105–135: Active practice and Q&A session.\"\n",
      "    ],\n",
      "    \"Active Practice\": [\n",
      "      \"Solve example problems on computing Fourier coefficients.\",\n",
      "      \"Discuss real-world applications of Fourier series.\"\n",
      "    ],\n",
      "    \"References (lectures)\": [\n",
      "      \"Lecture 5: Introduction to Fourier series\",\n",
      "      \"Lecture 6: Key properties and calculations\",\n",
      "      \"Lecture 7: Applications of Fourier series\"\n",
      "    ]\n",
      "  },\n",
      "  \"email\": \"\"\n",
      "}\n"
     ]
    }
   ],
   "source": [
    "print(response['messages'][-1].content)"
   ]
  },
  {
   "cell_type": "markdown",
   "id": "6ba0b34e",
   "metadata": {},
   "source": [
    "## Concepts Assistant with MCP"
   ]
  },
  {
   "cell_type": "code",
   "execution_count": 24,
   "id": "df321439",
   "metadata": {},
   "outputs": [],
   "source": [
    "prompt_1=(\n",
    "\"\"\"\n",
    "You are a Signals & Systems Course Exercise Generator.\n",
    "\n",
    "Goal:\n",
    "- Given a user topic, retrieve relevant lecture material and output a structured answer.\n",
    "\n",
    "Tool use :\n",
    "- Call tool `probe_topic`  with intent=\"material\".\n",
    "- If the user hints specific lectures (e.g., \"only lecture 1\" / \"lectures 2-3\"), pass lectures=[...] to the tool.\n",
    "- In case of multiple lectures hinted, you should search for the answer in each lecture.\n",
    "- Do not call any other intents. Do not call tools more than once.\n",
    "\n",
    "How to plan:\n",
    "- Read ONLY the tool’s returned text (listings) as your evidence.\n",
    "- Derive key teaching points present in the sources (don’t invent).\n",
    "- Build a 45 minute plan for every lecture, by default unless the user specifies duration.\n",
    "- In case of multiple lectures, overall plan duration is equal to the number of lectures multiplied by 45 mins for each lecture,\n",
    "\n",
    "Output:\n",
    "- Respond with a structured answer that conveys the question\n",
    "\"\"\")"
   ]
  },
  {
   "cell_type": "code",
   "execution_count": 25,
   "id": "ea298e90",
   "metadata": {},
   "outputs": [],
   "source": [
    "TOOLS=[tool_map['probe_topic']] # trying the server after trying the enhanced rag class\n",
    "prompt = ( \"\"\"\n",
    "You are a friendly and knowledgeable Signals & Systems teaching assistant.\n",
    "\n",
    "### GOAL\n",
    "Your goal is to clearly explain a specific topic to a student, using ONLY the course materials provided by the `probe_topic` tool. You are an explainer, not a planner or a quiz master.\n",
    "\n",
    "### Tool use :\n",
    "- Call tool `probe_topic`  with intent=\"material\".\n",
    "- If the user hints specific lectures (e.g., \"only lecture 1\" / \"lectures 2-3\"), pass lectures=[...] to the tool.\n",
    "- In case of multiple lectures hinted, you should search for the answer in each lecture.\n",
    "- Do not call any other intents. Do not call tools more than once.\n",
    "\n",
    "### EXPLANATION STRATEGY\n",
    "1.  **Evidence is Key**: Base your entire explanation **only** on the text and sources returned by the tool. Do not use outside knowledge.\n",
    "2.  **Structure**:\n",
    "    - Start with a simple, one-sentence definition of the topic.\n",
    "    - Break down the concept into 2-3 key points or steps.\n",
    "    - If the sources provide a simple example, use it to illustrate the concept.\n",
    "3.  **Tone**: Be clear, concise, and encouraging. Explain it as you would to a fellow student.\n",
    "\n",
    "### OUTPUT FORMAT\n",
    "- Start with a heading: `## Explanation: <Topic Name>`\n",
    "- Use clear paragraphs for the explanation.\n",
    "- Use markdown for formatting (e.g., **bold** for key terms, bullet points for lists).\n",
    "- **DO NOT** mention the tool or the sources in your final answer. Just provide the explanation.\n",
    "\n",
    "\"\"\"\n",
    "    ).strip()\n",
    "\n",
    "model = ChatOpenAI(model=\"gpt-4o-mini\")  #reduce inference cost\n",
    "concepts_agent = Agent(model, TOOLS, system=prompt)"
   ]
  },
  {
   "cell_type": "code",
   "execution_count": 26,
   "id": "fa630874",
   "metadata": {},
   "outputs": [],
   "source": [
    "# class ConceptStateModel(AgentState):\n",
    "#     answer: str\n",
    "# def concept_output(state: AgentState):\n",
    "#     res=json.loads(state['messages'][-1].content)\n",
    "#     answer= res['answer']  # not critical\n",
    "\n",
    "class ConceptStateModel(AgentState):\n",
    "    answer: str\n",
    "\n",
    "def concept_output(state: AgentState):\n",
    "    \"\"\"\n",
    "    Extracts the final explanation text from the agent's last message\n",
    "    and prepares it for the graph's final output state.\n",
    "    \"\"\"\n",
    "    # The agent's final message is a Markdown string, not JSON.\n",
    "    # Directly access the content from the last message.\n",
    "    final_explanation = state['messages'][-1].content\n",
    "    # Return a dictionary to update the state according to the output_schema.\n",
    "    return {\"answer\": final_explanation}\n"
   ]
  },
  {
   "cell_type": "code",
   "execution_count": 27,
   "id": "7a24c856",
   "metadata": {},
   "outputs": [],
   "source": [
    "from langgraph.graph import StateGraph, START, END\n",
    "concepts_builder = StateGraph(AgentState,output_schema=ConceptStateModel)\n",
    "concepts_builder.add_node(\"planner\", concepts_agent.graph)\n",
    "concepts_builder.add_node(\"planner_state\", concept_output)\n",
    "concepts_builder.add_edge(START, \"planner\")\n",
    "concepts_builder.add_edge(\"planner\", \"planner_state\")\n",
    "concepts_builder.add_edge(\"planner_state\", END)\n",
    "concepts_builder=concepts_builder.compile()"
   ]
  },
  {
   "cell_type": "code",
   "execution_count": 16,
   "id": "9a8cbffa",
   "metadata": {},
   "outputs": [
    {
     "name": "stdout",
     "output_type": "stream",
     "text": [
      "--- Invoking graph with query: 'what is the fourier transform of the rect function as discussed in lectured 10, 11, 12'\n",
      "Calling: {'name': 'probe_topic', 'args': {'topic': 'Fourier Transform of the Rect Function', 'intent': 'material', 'lectures': [10, 11, 12]}, 'id': 'call_ZddjjVsnguqcU20zy6JVxpSc', 'type': 'tool_call'}\n",
      "Back to the model!\n",
      "--- Graph invocation complete.\n"
     ]
    }
   ],
   "source": [
    "response = await run_single_graph_test(concepts_builder, \"what is the fourier transform of the rect function as discussed in lectured 10, 11, 12\")"
   ]
  },
  {
   "cell_type": "code",
   "execution_count": 17,
   "id": "42e76268",
   "metadata": {},
   "outputs": [
    {
     "name": "stdout",
     "output_type": "stream",
     "text": [
      "## Explanation: Fourier Transform of the Rect Function\n",
      "\n",
      "The **Fourier Transform** of the **rect function** is a fundamental concept in signal processing that helps analyze signals in the frequency domain.\n",
      "\n",
      "### Key Points:\n",
      "\n",
      "1. **Definition of the Rect Function**: The rect function, or rectangular function, is defined as:\n",
      "   \\[\n",
      "   \\text{rect}(t) = \n",
      "   \\begin{cases} \n",
      "   1 & |t| \\leq \\frac{1}{2} \\\\ \n",
      "   0 & |t| > \\frac{1}{2} \n",
      "   \\end{cases}\n",
      "   \\]\n",
      "   It is a simple waveform that is equal to 1 for a specified interval and 0 elsewhere.\n",
      "\n",
      "2. **Fourier Transform Formula**: The Fourier Transform \\( X(f) \\) of a signal \\( x(t) \\) is given by:\n",
      "   \\[\n",
      "   X(f) = \\int_{-\\infty}^{\\infty} x(t) e^{-j2\\pi ft} dt\n",
      "   \\]\n",
      "   For the rect function, applying this formula results in:\n",
      "   \\[\n",
      "   X(f) = \\int_{-1/2}^{1/2} e^{-j2\\pi ft} dt\n",
      "   \\]\n",
      "\n",
      "3. **Result of the Fourier Transform**: Evaluating this integral results in:\n",
      "   \\[\n",
      "   X(f) = \\text{sin}(\\pi f) \\cdot \\frac{1}{\\pi f}\n",
      "   \\]\n",
      "   This function is frequently represented as \\( \\text{sinc}(f) \\), where:\n",
      "   \\[\n",
      "   \\text{sinc}(f) = \\frac{\\sin(\\pi f)}{\\pi f}\n",
      "   \\]\n",
      "\n",
      "### Example:\n",
      "If we take the rect function defined above and perform the Fourier Transform, we observe that it leads to a sinc function in the frequency domain. This illustrates how a simple time-domain signal like the rect function corresponds to a sinc function in the frequency domain.\n",
      "\n",
      "Understanding this relationship between the rect function and its Fourier transform is essential for analyzing the frequency components and characteristics of different signals in various applications.\n"
     ]
    }
   ],
   "source": [
    "print(response['messages'][-1].content)"
   ]
  },
  {
   "cell_type": "markdown",
   "id": "0463a28c",
   "metadata": {},
   "source": [
    "## Excersice Generator"
   ]
  },
  {
   "cell_type": "code",
   "execution_count": 28,
   "id": "62fed66b",
   "metadata": {},
   "outputs": [
    {
     "name": "stderr",
     "output_type": "stream",
     "text": [
      "<>:3: SyntaxWarning: invalid escape sequence '\\('\n",
      "<>:3: SyntaxWarning: invalid escape sequence '\\('\n",
      "C:\\Users\\User\\AppData\\Local\\Temp\\ipykernel_11368\\4013603686.py:3: SyntaxWarning: invalid escape sequence '\\('\n",
      "  prompt = (\"\"\"\n"
     ]
    }
   ],
   "source": [
    "TOOLS = [tool_map[\"probe_topic\"]]\n",
    "\n",
    "prompt = (\"\"\"\n",
    "You are a friendly and knowledgeable Signals & Systems exercise generator.\n",
    "\n",
    "## GOAL\n",
    "Generate a small, well-scaffolded set of **original practice exercises** for a given topic **using ONLY** content discoverable via the `probe_topic` tool. You must first ground yourself in the **specified lectures**, then pull **assignments/exercises** aligned with those lectures, and finally synthesize a short set with brief solutions.\n",
    "\n",
    "## INPUT HINTS\n",
    "- You will be given a `topic` (e.g., \"Fourier Transform\", \"Laplace partial fractions\") and a **list of lecture numbers** (e.g., [10, 11, 12]).\n",
    "- Treat the lecture list as a hard constraint for retrieval.\n",
    "\n",
    "## TOOL USE (STRICT ORDER)\n",
    "Make **exactly two tool calls** total:\n",
    "1) `probe_topic` with `intent=\"material\"` and `lectures=[...]`  \n",
    "   - Purpose: scrape relevant **chapter/notes** lines for these lectures.\n",
    "   - Use these results to confirm subtopics, notation, and methods actually covered.\n",
    "\n",
    "2) `probe_topic` with `intent=\"exercises\"` and `lectures=[...]`  \n",
    "   - Purpose: fetch **assignments** that map to the same lectures and carry exercise-like snippets.\n",
    "   - From the returned lines (format: `Lecture=<N or ?> | Chapter=<N or ?> | <filename> | page=<n> | relpath=<p> | snippet: <≤120 chars>`), extract:\n",
    "     - candidate **assignment files** and (if visible) **assignment numbers**\n",
    "     - **snippets** that look like problems or questions\n",
    "\n",
    "**Do not** call any other intents (`presence`, `resources`, `tests`) and **do not** exceed two calls.\n",
    "\n",
    "## PARSING & SELECTION RULES\n",
    "- From the `material` step: note terminology, formulas, and method cues that will constrain what you generate (e.g., convolution steps, transform pairs, typical problem shapes).\n",
    "- From the `exercises` step:\n",
    "  - Prefer items whose `Lecture=<N>` matches the provided lectures, or whose range covers them.\n",
    "  - If multiple assignments are returned, pick those with the clearest problem-like snippets (avoid pure solutions unless explicitly labeled as such).\n",
    "  - Deduplicate by filename/relpath; keep 3–6 strongest candidates.\n",
    "- **No results?** If either step returns nothing for the given lectures, **stop** and output a one-line note that no matching assignments were found for those lectures (do not fabricate content or mention tools).\n",
    "\n",
    "## GENERATION STRATEGY\n",
    "1. **Evidence-only**: Base every exercise strictly on concepts/patterns visible in the retrieved lines (filenames, snippets, lecture mapping). **Do not** use outside knowledge.\n",
    "2. **Set design (3–5 items)**:\n",
    "   - Include a mix: a quick concept check, at least one computational problem, one applied/system-level problem, and (optionally) a challenge.\n",
    "   - Use symbolic variables by default; add numbers only if the retrieved style suggests numeric practice.\n",
    "3. **Clarity & constraints**:\n",
    "   - State givens and what to find; specify assumptions (e.g., LTI, causality) when implied by the material.\n",
    "   - Keep notation consistent with the `material` step (e.g., \\(X(f)\\) vs \\(X(\\omega)\\)).\n",
    "   - For each exercise, provide a **brief** solution outline (final expression or 2–4 key steps), not a full derivation.\n",
    "4. **Grounding to lectures**:\n",
    "   - Tag each exercise with the lecture(s) it aligns to, using `L<N>` or `L<N–M>` as appropriate.\n",
    "   - If multiple lectures are hinted, distribute coverage.\n",
    "\n",
    "## OUTPUT FORMAT\n",
    "- Begin with: `## Exercise Set: <Topic Name>`\n",
    "- One short line: `Covers: Lecture(s) <N[, N…]>`\n",
    "- Then for each exercise:\n",
    "  - `### Q<i> — <short title> [<Difficulty> | L<lecture or range>]`\n",
    "  - Problem (1–4 concise sentences; use Markdown math `$...$`/`$$...$$`).\n",
    "  - `**Solution (brief):**` minimal correct outline or final result.\n",
    "- End with `### Answer Key` containing one-line final answers (no derivations).\n",
    "\n",
    "## STYLE & TONE\n",
    "Be clear, concise, and encouraging. Do **not** mention tools or sources in the final answer. Output only the exercise set as specified.\n",
    "\"\"\").strip()\n",
    "\n",
    "\n",
    "model = ChatOpenAI(model=\"gpt-4o-mini\")\n",
    "exercise_generator_agent = Agent(model, TOOLS, system=prompt)\n"
   ]
  },
  {
   "cell_type": "code",
   "execution_count": 29,
   "id": "d87e2f3d",
   "metadata": {},
   "outputs": [],
   "source": [
    "# class ConceptStateModel(AgentState):\n",
    "#     answer: str\n",
    "# def concept_output(state: AgentState):\n",
    "#     res=json.loads(state['messages'][-1].content)\n",
    "#     answer= res['answer']  # not critical\n",
    "\n",
    "class ExerciseStateModel(AgentState):\n",
    "    answer: str\n",
    "\n",
    "def exerciser_output(state: AgentState):\n",
    "    \"\"\"\n",
    "    Extracts the final explanation text from the agent's last message\n",
    "    and prepares it for the graph's final output state.\n",
    "    \"\"\"\n",
    "    # The agent's final message is a Markdown string, not JSON.\n",
    "    # Directly access the content from the last message.\n",
    "    exercise = state['messages'][-1].content\n",
    "    # Return a dictionary to update the state according to the output_schema.\n",
    "    return {\"answer\": exercise}\n"
   ]
  },
  {
   "cell_type": "code",
   "execution_count": 30,
   "id": "43d5ce6c",
   "metadata": {},
   "outputs": [],
   "source": [
    "from langgraph.graph import StateGraph, START, END\n",
    "exercise_generator_builder = StateGraph(AgentState,output_schema=ExerciseStateModel)\n",
    "exercise_generator_builder.add_node(\"planner\", exercise_generator_agent.graph)\n",
    "exercise_generator_builder.add_node(\"planner_state\", exerciser_output)\n",
    "exercise_generator_builder.add_edge(START, \"planner\")\n",
    "exercise_generator_builder.add_edge(\"planner\", \"planner_state\")\n",
    "exercise_generator_builder.add_edge(\"planner_state\", END)\n",
    "exercise_generator_builder=exercise_generator_builder.compile()"
   ]
  },
  {
   "cell_type": "code",
   "execution_count": 53,
   "id": "6fa85f27",
   "metadata": {},
   "outputs": [
    {
     "name": "stdout",
     "output_type": "stream",
     "text": [
      "--- Invoking graph with query: 'give me an exercise on fourier transform discussed from the corresponding assignment of lecture 10,11,12'\n",
      "Calling: {'name': 'probe_topic', 'args': {'topic': 'Fourier Transform', 'intent': 'material', 'lectures': [10, 11, 12]}, 'id': 'call_dekzYOrngg91XKVDxoNltq5n', 'type': 'tool_call'}\n",
      "Calling: {'name': 'probe_topic', 'args': {'topic': 'Fourier Transform', 'intent': 'exercises', 'lectures': [10, 11, 12]}, 'id': 'call_7YpaPuTQ2Q3DbcZGTVLN7JKT', 'type': 'tool_call'}\n",
      "Back to the model!\n",
      "--- Graph invocation complete.\n"
     ]
    }
   ],
   "source": [
    "response = await run_single_graph_test(exercise_generator_builder, \"give me an exercise on fourier transform discussed from the corresponding assignment of lecture 10,11,12\")"
   ]
  },
  {
   "cell_type": "code",
   "execution_count": 54,
   "id": "f9203551",
   "metadata": {},
   "outputs": [
    {
     "name": "stdout",
     "output_type": "stream",
     "text": [
      "## Exercise Set: Fourier Transform\n",
      "Covers: Lecture(s) 10, 11, 12\n",
      "\n",
      "### Q1 — Fourier Transform of a Signal [Easy | L10]\n",
      "Given the continuous-time signal \\( x(t) = e^{-2t} u(t) \\), where \\( u(t) \\) is the unit step function, find its Fourier Transform \\( X(f) \\).\n",
      "\n",
      "**Solution (brief):** Use the definition of the Fourier Transform:\n",
      "$$\n",
      "X(f) = \\int_{-\\infty}^{\\infty} x(t) e^{-j 2 \\pi f t} dt\n",
      "$$\n",
      "Since \\( x(t) \\) is causal, this simplifies to \\( X(f) = \\int_0^{\\infty} e^{-2t} e^{-j 2 \\pi f t} dt \\).\n",
      "\n",
      "### Q2 — Linearity of Fourier Transform [Medium | L11]\n",
      "Show that the Fourier Transform is a linear operator by proving that if \\( x_1(t) \\) and \\( x_2(t) \\) are two signals with Fourier Transforms \\( X_1(f) \\) and \\( X_2(f) \\) respectively, then the signal \\( ax_1(t) + bx_2(t) \\) has a Fourier Transform \\( aX_1(f) + bX_2(f) \\) for any scalars \\( a \\) and \\( b \\).\n",
      "\n",
      "**Solution (brief):** Start with the Fourier Transform definition:\n",
      "$$\n",
      "X(f) = \\int_{-\\infty}^{\\infty} [ax_1(t) + bx_2(t)] e^{-j 2 \\pi f t} dt\n",
      "$$\n",
      "Split the integral into two components and factor out \\( a \\) and \\( b \\).\n",
      "\n",
      "### Q3 — Frequency Scaling Property [Medium | L11]\n",
      "If the signal \\( x(t) \\) has a Fourier Transform \\( X(f) \\), find the Fourier Transform of \\( x(at) \\) for a non-zero constant \\( a \\).\n",
      "\n",
      "**Solution (brief):** The property states:\n",
      "$$\n",
      "X_a(f) = \\frac{1}{|a|} X\\left(\\frac{f}{a}\\right)\n",
      "$$\n",
      "This means you need to substitute accordingly and adjust the amplitude by \\( \\frac{1}{|a|} \\).\n",
      "\n",
      "### Q4 — Convolution and Fourier Transform [Hard | L12]\n",
      "Given two signals \\( x(t) \\) and \\( h(t) \\), where \\( y(t) = x(t) * h(t) \\) represents their convolution, prove that the Fourier Transform of \\( y(t) \\) is:\n",
      "$$\n",
      "Y(f) = X(f) H(f)\n",
      "$$\n",
      "\n",
      "**Solution (brief):** Use the convolution theorem:\n",
      "$$\n",
      "Y(f) = \\int_{-\\infty}^{\\infty} (x * h)(t)e^{-j 2 \\pi f t} dt\n",
      "$$\n",
      "Substituting the definition of convolution and interchange integrals leads to the product of their Fourier Transforms.\n",
      "\n",
      "### Answer Key\n",
      "1. \\( X(f) = \\frac{1}{2 + j 2 \\pi f} \\)\n",
      "2. \\( aX_1(f) + bX_2(f) \\) (show by integration)\n",
      "3. \\( X_a(f) = \\frac{1}{|a|} X\\left(\\frac{f}{a}\\right) \\)\n",
      "4. \\( Y(f) = X(f) H(f) \\) (prove using integration)\n"
     ]
    }
   ],
   "source": [
    "print(response['messages'][-1].content)"
   ]
  },
  {
   "cell_type": "markdown",
   "id": "7bc264a7",
   "metadata": {},
   "source": [
    "## Full build up"
   ]
  },
  {
   "cell_type": "code",
   "execution_count": 32,
   "id": "1015b1f6",
   "metadata": {},
   "outputs": [],
   "source": [
    "class RelevancerStateModel(AgentState):\n",
    "    purpose: str # what the user want -> inquiry or tutoring\n",
    "    topic: str\n",
    "    is_relevant: bool\n",
    "    lectures: List[int]\n",
    "def referencer_output(state: AgentState):\n",
    "    res=json.loads(state['messages'][-1].content)\n",
    "    purpose= res['purpose']  # not critical\n",
    "    topic= res['topic']\n",
    "    is_relevant =res['is_relevant']\n",
    "    lectures= res['list']\n",
    "    return {\n",
    "        \"topic\":topic,\n",
    "        \"purpose\":purpose,\n",
    "        \"is_relevant\":is_relevant,\n",
    "        \"lectures\":lectures\n",
    "    }\n",
    "class PlannerStateModel(AgentState):\n",
    "    plan: str\n",
    "def planner_output(state: AgentState):\n",
    "    res=json.loads(state['messages'][-1].content)\n",
    "    answer= res['plan'] \n",
    "    return {\"answer\": answer}\n",
    "\n",
    "class TutorStateModel(AgentState):\n",
    "    purpose: str\n",
    "    topic: str\n",
    "    answer: str\n",
    "\n",
    "def relevance_router(state: RelevancerStateModel):\n",
    "    res=json.loads(state['messages'][-1].content)\n",
    "    if(res['is_relevant']==False):\n",
    "        return \"end\"\n",
    "    elif (res[\"purpose\"] ==\"tutoring\"): \n",
    "        return \"planner\"\n",
    "    elif (res[\"purpose\"] ==\"question\"):\n",
    "        return \"concepter\"\n",
    "    else:\n",
    "        return \"exerciser\"\n",
    "entry_builder = StateGraph(TutorStateModel)\n",
    "entry_builder.add_node(\"relevancer\", relevancer_builder)\n",
    "entry_builder.add_node(\"planning_session\", planner_builder)\n",
    "entry_builder.add_node(\"exerciser_genreator\", exercise_generator_builder)\n",
    "entry_builder.add_node(\"concept_explainer\", concepts_builder)\n",
    "\n",
    "entry_builder.add_edge(START,\"relevancer\")\n",
    "\n",
    "entry_builder.add_conditional_edges(\n",
    "    \"relevancer\", # must be the name of the routing node\n",
    "    relevance_router,\n",
    "    {\"planner\": \"planning_session\",\n",
    "     \"concepter\": \"concept_explainer\",\n",
    "     \"exerciser\":\"exerciser_genreator\",\n",
    "     \"end\": END},\n",
    ")\n",
    "entry_builder.add_edge(\"planning_session\", END)\n",
    "graph = entry_builder.compile()"
   ]
  },
  {
   "cell_type": "code",
   "execution_count": 33,
   "id": "acb4e548",
   "metadata": {},
   "outputs": [
    {
     "data": {
      "image/png": "[encoded data removed]",
      "text/plain": [
       "<IPython.core.display.Image object>"
      ]
     },
     "metadata": {},
     "output_type": "display_data"
    }
   ],
   "source": [
    "from IPython.display import Image, display\n",
    "display(Image(graph.get_graph().draw_mermaid_png()))\n",
    "\n"
   ]
  }
 ],
 "metadata": {
  "kernelspec": {
   "display_name": "PT",
   "language": "python",
   "name": "python3"
  },
  "language_info": {
   "codemirror_mode": {
    "name": "ipython",
    "version": 3
   },
   "file_extension": ".py",
   "mimetype": "text/x-python",
   "name": "python",
   "nbconvert_exporter": "python",
   "pygments_lexer": "ipython3",
   "version": "3.12.8"
  }
 },
 "nbformat": 4,
 "nbformat_minor": 5
}
