{
 "cells": [
  {
   "cell_type": "markdown",
   "id": "606baa2f",
   "metadata": {},
   "source": [
    "## Trying to go over medium code and fix it"
   ]
  },
  {
   "cell_type": "code",
   "execution_count": 1,
   "id": "a1226377",
   "metadata": {},
   "outputs": [
    {
     "name": "stderr",
     "output_type": "stream",
     "text": [
      "c:\\Users\\User\\anaconda3\\envs\\PT\\Lib\\site-packages\\pydantic\\_internal\\_fields.py:198: UserWarning: Field name \"config_type\" in \"SequentialAgent\" shadows an attribute in parent \"BaseAgent\"\n",
      "  warnings.warn(\n"
     ]
    }
   ],
   "source": [
    "import asyncio # to run async methods and tool calls\n",
    "import os\n",
    "import urllib.parse\n",
    "from dotenv import load_dotenv\n",
    "from datetime import datetime\n",
    "\n",
    "from google.adk.artifacts import InMemoryArtifactService # short term storage for files/artifacts created during runs\n",
    "from google.adk.runners import Runner # engine that feeds messages through your agent graph and yields events\n",
    "from google.adk.sessions import InMemorySessionService # tracks conversation state and returns a session object (async)\n",
    "from google.genai import types as genai_types # message structures\n",
    "from google.adk.agents import LlmAgent # adk wrapper around llm and tools\n",
    "\n",
    "from google.adk.auth import AuthConfig, AuthCredential, AuthCredentialTypes, OAuth2Auth\n",
    "# AuthCredential / OAuth2Auth: carry client id/secret and dynamic fields\n",
    "from google.adk.tools.openapi_tool.openapi_spec_parser.openapi_toolset import OpenAPIToolset\n",
    "# parses your OpenAPI specs, returns ADK tool objects\n",
    "from fastapi.openapi.models import OAuth2, OAuthFlowAuthorizationCode, OAuthFlows"
   ]
  },
  {
   "cell_type": "code",
   "execution_count": null,
   "id": "c1f1adbf",
   "metadata": {},
   "outputs": [],
   "source": [
    "client_id = \"609528807091-1jslq73gobk3pii89u8v3km7ife7epli.apps.googleusercontent.com\"\n",
    "client_secret = \"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\""
   ]
  },
  {
   "cell_type": "code",
   "execution_count": null,
   "id": "c8212f68",
   "metadata": {},
   "outputs": [],
   "source": [
    "MODEL_NAME = Config.MODEL_NAME\n",
    "REDIRECT_URI = Config.REDIRECT_URI"
   ]
  },
  {
   "cell_type": "code",
   "execution_count": null,
   "id": "b907a53f",
   "metadata": {},
   "outputs": [],
   "source": [
    "required_scopes = {\n",
    "    # \"https://www.googleapis.com/auth/gmail.readonly\": \"gmail read scope\",\n",
    "    # \"https://www.googleapis.com/auth/gmail.send\": \"gmail send scope\",\n",
    "    # \"https://www.googleapis.com/auth/userinfo.profile\": \"user profile scope\",\n",
    "    \"https://www.googleapis.com/auth/calendar.events\": \"calendar read/write events scope\",\n",
    "    \"https://www.googleapis.com/auth/calendar.calendarlist\": \"calendar read scope\"\n",
    "}\n",
    "auth_scheme = OAuth2(\n",
    "   flows=OAuthFlows(\n",
    "      authorizationCode=OAuthFlowAuthorizationCode(\n",
    "            authorizationUrl=\"https://accounts.google.com/o/oauth2/auth\",\n",
    "            tokenUrl=\"https://oauth2.googleapis.com/token\",\n",
    "            scopes=required_scopes,\n",
    "      )\n",
    "   )\n",
    ")\n",
    "# auth_scheme describes the OAuth2 flow to the toolset (how to authorize & get tokens).\n",
    "auth_credential = AuthCredential(\n",
    "   auth_type=AuthCredentialTypes.OAUTH2,\n",
    "   oauth2=OAuth2Auth(\n",
    "      client_id=client_id,\n",
    "      client_secret=client_secret,\n",
    "      redirect_uri=REDIRECT_URI,\n",
    "   ),\n",
    ")"
   ]
  },
  {
   "cell_type": "code",
   "execution_count": 2,
   "id": "51457c44",
   "metadata": {},
   "outputs": [],
   "source": [
    "# from google.adk.tools.google_api_tool import CalendarToolset\n",
    "# cal = CalendarToolset(\n",
    "#     client_id=\"609528807091-1jslq73gobk3pii89u8v3km7ife7epli.apps.googleusercontent.com\",\n",
    "#     client_secret=\"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\",\n",
    "# )\n"
   ]
  },
  {
   "cell_type": "markdown",
   "id": "5df29fc3",
   "metadata": {},
   "source": [
    "Step 1 :Run Agent & Detect Auth Request\n",
    "\n",
    "Initiate the agent interaction using runner.run_async.\n",
    "Iterate through the yielded events.\n",
    "Look for a specific function call event whose function call has a special name: adk_request_credential. This event signals that user interaction is needed. You can use helper functions to identify this event and extract necessary information. (For the second case, the logic is similar. You deserialize the event from the http response)."
   ]
  },
  {
   "cell_type": "code",
   "execution_count": null,
   "id": "1ac98563",
   "metadata": {},
   "outputs": [],
   "source": [
    "from google.adk.events import Event\n",
    "from google.adk.auth import AuthConfig # Import necessary type\n",
    "from google.genai import types\n",
    "\n",
    "def get_auth_request_function_call(event: Event) -> types.FunctionCall:\n",
    "    # Get the special auth request function call from the event\n",
    "    if not event.content or event.content.parts:\n",
    "        return\n",
    "    for part in event.content.parts:\n",
    "        if (\n",
    "            part \n",
    "            and part.function_call \n",
    "            and part.function_call.name == 'adk_request_credential'\n",
    "            and event.long_running_tool_ids \n",
    "            and part.function_call.id in event.long_running_tool_ids\n",
    "        ):\n",
    "\n",
    "            return part.function_call\n",
    "\n",
    "def get_auth_config(auth_request_function_call: types.FunctionCall) -> AuthConfig:\n",
    "    # Extracts the AuthConfig object from the arguments of the auth request function call\n",
    "    if not auth_request_function_call.args or not (auth_config := auth_request_function_call.args.get('auth_config')):\n",
    "        raise ValueError(f'Cannot get auth config from function call: {auth_request_function_call}')\n",
    "    if not isinstance(auth_config, AuthConfig):\n",
    "        raise ValueError(f'Cannot get auth config {auth_config} is not an instance of AuthConfig.')\n",
    "    return auth_config"
   ]
  },
  {
   "cell_type": "code",
   "execution_count": null,
   "id": "03a2b835",
   "metadata": {},
   "outputs": [],
   "source": [
    "print(\"\\nRunning agent...\")\n",
    "events_async = runner.run_async(\n",
    "    session_id=session.id, user_id='user', new_message=content\n",
    ")\n",
    "\n",
    "auth_request_function_call_id, auth_config = None, None\n",
    "\n",
    "async for event in events_async:\n",
    "    # Use helper to check for the specific auth request event\n",
    "    if (auth_request_function_call := get_auth_request_function_call(event)):\n",
    "        print(\"--> Authentication required by agent.\")\n",
    "        # Store the ID needed to respond later\n",
    "        if not (auth_request_function_call_id := auth_request_function_call.id):\n",
    "            raise ValueError(f'Cannot get function call id from function call: {auth_request_function_call}')\n",
    "        # Get the AuthConfig containing the auth_uri etc.\n",
    "        auth_config = get_auth_config(auth_request_function_call)\n",
    "        break # Stop processing events for now, need user interaction\n",
    "\n",
    "if not auth_request_function_call_id:\n",
    "    print(\"\\nAuth not required or agent finished.\")\n",
    "    # return # Or handle final response if received"
   ]
  },
  {
   "cell_type": "markdown",
   "id": "44d0c084",
   "metadata": {},
   "source": [
    "Step 2: Redirect User for Authorization\n",
    "\n",
    "Get the authorization URL (auth_uri) from the auth_config extracted in the previous step.\n",
    "Crucially, append your application's redirect_uri as a query parameter to this auth_uri. This redirect_uri must be pre-registered with your OAuth provider (e.g., Google Cloud Console, Okta admin panel).\n",
    "Direct the user to this complete URL (e.g., open it in their browser)."
   ]
  },
  {
   "cell_type": "code",
   "execution_count": null,
   "id": "e673acc9",
   "metadata": {},
   "outputs": [],
   "source": [
    "# (Continuing after detecting auth needed)\n",
    "\n",
    "if auth_request_function_call_id and auth_config:\n",
    "    # Get the base authorization URL from the AuthConfig\n",
    "    base_auth_uri = auth_config.exchanged_auth_credential.oauth2.auth_uri\n",
    "\n",
    "    if base_auth_uri:\n",
    "        redirect_uri = 'http://localhost:8000/callback' # MUST match your OAuth client app config\n",
    "        # Append redirect_uri (use urlencode in production)\n",
    "        auth_request_uri = base_auth_uri + f'&redirect_uri={redirect_uri}'\n",
    "        # Now you need to redirect your end user to this auth_request_uri or ask them to open this auth_request_uri in their browser\n",
    "        # This auth_request_uri should be served by the corresponding auth provider and the end user should login and authorize your applicaiton to access their data\n",
    "        # And then the auth provider will redirect the end user to the redirect_uri you provided\n",
    "        # Next step: Get this callback URL from the user (or your web server handler)\n",
    "    else:\n",
    "         print(\"ERROR: Auth URI not found in auth_config.\")\n",
    "         # Handle error"
   ]
  },
  {
   "cell_type": "markdown",
   "id": "f817a687",
   "metadata": {},
   "source": [
    "Step 3. Handle the Redirect Callback (Client):\n",
    "\n",
    "Your application must have a mechanism (e.g., a web server route at the redirect_uri) to receive the user after they authorize the application with the provider.\n",
    "The provider redirects the user to your redirect_uri and appends an authorization_code (and potentially state, scope) as query parameters to the URL.\n",
    "Capture the full callback URL from this incoming request.\n",
    "(This step happens outside the main agent execution loop, in your web server or equivalent callback handler.)\n",
    "\n",
    "\n",
    "\n",
    "Step 4. Send Authentication Result Back to ADK (Client):\n",
    "\n",
    "Once you have the full callback URL (containing the authorization code), retrieve the auth_request_function_call_id and the auth_config object saved in Client Step 1.\n",
    "Set the captured callback URL into the exchanged_auth_credential.oauth2.auth_response_uri field. Also ensure exchanged_auth_credential.oauth2.redirect_uri contains the redirect URI you used.\n",
    "Create a types.Content object containing a types.Part with a types.FunctionResponse.\n",
    "Set name to \"adk_request_credential\". (Note: This is a special name for ADK to proceed with authentication. Do not use other names.)\n",
    "Set id to the auth_request_function_call_id you saved.\n",
    "Set response to the serialized (e.g., .model_dump()) updated AuthConfig object.\n",
    "Call runner.run_async again for the same session, passing this FunctionResponse content as the new_message.\n"
   ]
  },
  {
   "cell_type": "code",
   "execution_count": null,
   "id": "98398101",
   "metadata": {},
   "outputs": [],
   "source": [
    "# (Continuing after user interaction)\n",
    "\n",
    "    # Simulate getting the callback URL (e.g., from user paste or web handler)\n",
    "    auth_response_uri = await get_user_input(\n",
    "        f'Paste the full callback URL here:\\n> '\n",
    "    )\n",
    "    auth_response_uri = auth_response_uri.strip() # Clean input\n",
    "\n",
    "    if not auth_response_uri:\n",
    "        print(\"Callback URL not provided. Aborting.\")\n",
    "        return\n",
    "\n",
    "    # Update the received AuthConfig with the callback details\n",
    "    auth_config.exchanged_auth_credential.oauth2.auth_response_uri = auth_response_uri\n",
    "    # Also include the redirect_uri used, as the token exchange might need it\n",
    "    auth_config.exchanged_auth_credential.oauth2.redirect_uri = redirect_uri\n",
    "\n",
    "    # Construct the FunctionResponse Content object\n",
    "    auth_content = types.Content(\n",
    "        role='user', # Role can be 'user' when sending a FunctionResponse\n",
    "        parts=[\n",
    "            types.Part(\n",
    "                function_response=types.FunctionResponse(\n",
    "                    id=auth_request_function_call_id,       # Link to the original request\n",
    "                    name='adk_request_credential', # Special framework function name\n",
    "                    response=auth_config.model_dump() # Send back the *updated* AuthConfig\n",
    "                )\n",
    "            )\n",
    "        ],\n",
    "    )\n",
    "\n",
    "    # --- Resume Execution ---\n",
    "    print(\"\\nSubmitting authentication details back to the agent...\")\n",
    "    events_async_after_auth = runner.run_async(\n",
    "        session_id=session.id,\n",
    "        user_id='user',\n",
    "        new_message=auth_content, # Send the FunctionResponse back\n",
    "    )\n",
    "\n",
    "    # --- Process Final Agent Output ---\n",
    "    print(\"\\n--- Agent Response after Authentication ---\")\n",
    "    async for event in events_async_after_auth:\n",
    "        # Process events normally, expecting the tool call to succeed now\n",
    "        print(event) # Print the full event for inspection"
   ]
  },
  {
   "cell_type": "markdown",
   "id": "984e95bf",
   "metadata": {},
   "source": [
    "Step 5: ADK Handles Token Exchange & Tool Retry and gets Tool result\n",
    "\n",
    "ADK receives the FunctionResponse for adk_request_credential.\n",
    "It uses the information in the updated AuthConfig (including the callback URL containing the code) to perform the OAuth token exchange with the provider's token endpoint, obtaining the access token (and possibly refresh token).\n",
    "ADK internally makes these tokens available by setting them in the session state).\n",
    "ADK automatically retries the original tool call (the one that initially failed due to missing auth).\n",
    "This time, the tool finds the valid tokens (via tool_context.get_auth_response()) and successfully executes the authenticated API call.\n",
    "The agent receives the actual result from the tool and generates its final response to the user."
   ]
  },
  {
   "cell_type": "markdown",
   "id": "705d7911",
   "metadata": {},
   "source": [
    "### Note"
   ]
  },
  {
   "cell_type": "markdown",
   "id": "da7f4561",
   "metadata": {},
   "source": [
    "Tried desperately, did not get results as expected. trying a very different new way where i do my own tools from scratch, this way i can benefit from better deployment functionalities\n",
    "\n",
    "ref: https://google.github.io/adk-docs/tools/authentication/#2-handling-the-interactive-oauthoidc-flow-client-side\n",
    "\n",
    "ref: https://medium.com/google-cloud/building-a-multi-agent-application-to-interact-with-google-products-b7ff7eb2f17d"
   ]
  },
  {
   "cell_type": "markdown",
   "id": "2c0c2e78",
   "metadata": {},
   "source": [
    "## Trying to work around the authentication trouble"
   ]
  },
  {
   "cell_type": "code",
   "execution_count": 32,
   "id": "fea646e4",
   "metadata": {},
   "outputs": [],
   "source": [
    "import datetime\n",
    "import os.path\n",
    "\n",
    "from google.auth.transport.requests import Request\n",
    "from google.oauth2.credentials import Credentials\n",
    "from google_auth_oauthlib.flow import InstalledAppFlow\n",
    "from googleapiclient.discovery import build\n",
    "from googleapiclient.errors import HttpError\n",
    "\n",
    "# If modifying these scopes, delete the file token.json.\n",
    "SCOPES = [\"https://www.googleapis.com/auth/calendar.readonly\"]\n",
    "\n",
    "# event checker\n",
    "def scrape_calendar():\n",
    "  \"\"\"Shows basic usage of the Google Calendar API.\n",
    "  Prints the start and name of the next 10 events on the user's calendar.\n",
    "  \"\"\"\n",
    "  creds = None\n",
    "  # The file token.json stores the user's access and refresh tokens, and is\n",
    "  # created automatically when the authorization flow completes for the first\n",
    "  # time.\n",
    "  if os.path.exists(\"token.json\"):\n",
    "    creds = Credentials.from_authorized_user_file(\"token.json\", SCOPES)\n",
    "  # If there are no (valid) credentials available, let the user log in.\n",
    "  if not creds or not creds.valid:\n",
    "    if creds and creds.expired and creds.refresh_token:\n",
    "      creds.refresh(Request())\n",
    "    else:\n",
    "      flow = InstalledAppFlow.from_client_secrets_file(\"credentials.json\", SCOPES)\n",
    "      creds = flow.run_local_server(host=\"localhost\", port=50759)  # -> http://localhost:50759/\n",
    "    # Save the credentials for the next run\n",
    "    with open(\"token.json\", \"w\") as token:\n",
    "      token.write(creds.to_json())\n",
    "\n",
    "  try:\n",
    "    service = build(\"calendar\", \"v3\", credentials=creds)\n",
    "\n",
    "    # Call the Calendar API\n",
    "    now = datetime.datetime.now(tz=datetime.timezone.utc).isoformat()\n",
    "    print(\"Getting the upcoming 10 events\")\n",
    "    events_result = (\n",
    "        service.events()\n",
    "        .list(\n",
    "            calendarId=\"primary\",\n",
    "            timeMin=now,\n",
    "            maxResults=10,\n",
    "            singleEvents=True,\n",
    "            orderBy=\"startTime\",\n",
    "        )\n",
    "        .execute()\n",
    "    )\n",
    "    events = events_result.get(\"items\", [])\n",
    "\n",
    "    if not events:\n",
    "      print(\"No upcoming events found.\")\n",
    "      return\n",
    "\n",
    "    # Prints the start and name of the next 10 events\n",
    "    for event in events:\n",
    "      print(event)\n",
    "      start = event[\"start\"].get(\"dateTime\", event[\"start\"].get(\"date\"))\n",
    "      print(start, event[\"summary\"])\n",
    "      print('eventId:',event[\"id\"])\n",
    "\n",
    "  except HttpError as error:\n",
    "    print(f\"An error occurred: {error}\")\n"
   ]
  },
  {
   "cell_type": "code",
   "execution_count": 53,
   "id": "5214a003",
   "metadata": {},
   "outputs": [
    {
     "name": "stdout",
     "output_type": "stream",
     "text": [
      "Getting the upcoming 10 events\n",
      "{'kind': 'calendar#event', 'etag': '\"3511118841344702\"', 'id': '3i9f0qtgu2u86v3f2fv5b9de0g', 'status': 'confirmed', 'htmlLink': 'https://www.google.com/calendar/event?eid=M2k5ZjBxdGd1MnU4NnYzZjJmdjViOWRlMGcgZXk4MTUxODYwQG0', 'created': '2025-08-18T23:23:40.000Z', 'updated': '2025-08-18T23:23:40.672Z', 'summary': 'Dinner with friends', 'creator': {'email': 'ey8151860@gmail.com', 'self': True}, 'organizer': {'email': 'ey8151860@gmail.com', 'self': True}, 'start': {'dateTime': '2025-08-23T05:00:00+03:00', 'timeZone': 'Asia/Beirut'}, 'end': {'dateTime': '2025-08-23T08:00:00+03:00', 'timeZone': 'Asia/Beirut'}, 'iCalUID': '3i9f0qtgu2u86v3f2fv5b9de0g@google.com', 'sequence': 0, 'reminders': {'useDefault': True}, 'eventType': 'default'}\n",
      "2025-08-23T05:00:00+03:00 Dinner with friends\n",
      "eventId: 3i9f0qtgu2u86v3f2fv5b9de0g\n",
      "{'kind': 'calendar#event', 'etag': '\"3504849786880574\"', 'id': '6ti3gob564sjab9n6lh3eb9k74r6cb9o70oj6b9o68q32oppc8pmao9p6s', 'status': 'confirmed', 'htmlLink': 'https://www.google.com/calendar/event?eid=NnRpM2dvYjU2NHNqYWI5bjZsaDNlYjlrNzRyNmNiOW83MG9qNmI5bzY4cTMyb3BwYzhwbWFvOXA2cyBleTgxNTE4NjBAbQ', 'created': '2025-07-13T06:50:33.000Z', 'updated': '2025-07-13T16:41:33.440Z', 'summary': 'Birthday of ali tabaja', 'creator': {'email': 'ey8151860@gmail.com', 'self': True}, 'organizer': {'email': 'ey8151860@gmail.com', 'self': True}, 'start': {'dateTime': '2025-10-12T08:00:00+03:00', 'timeZone': 'Asia/Beirut'}, 'end': {'dateTime': '2025-10-12T09:00:00+03:00', 'timeZone': 'Asia/Beirut'}, 'iCalUID': '6ti3gob564sjab9n6lh3eb9k74r6cb9o70oj6b9o68q32oppc8pmao9p6s@google.com', 'sequence': 0, 'reminders': {'useDefault': False, 'overrides': [{'method': 'popup', 'minutes': 10}]}, 'eventType': 'default'}\n",
      "2025-10-12T08:00:00+03:00 Birthday of ali tabaja\n",
      "eventId: 6ti3gob564sjab9n6lh3eb9k74r6cb9o70oj6b9o68q32oppc8pmao9p6s\n",
      "{'kind': 'calendar#event', 'etag': '\"3496128952602814\"', 'id': '6dj6aohncphj8bb5cdij2b9k74s66bb171im8bb664qj2p9o6oqj4chn60', 'status': 'confirmed', 'htmlLink': 'https://www.google.com/calendar/event?eid=NmRqNmFvaG5jcGhqOGJiNWNkaWoyYjlrNzRzNjZiYjE3MWltOGJiNjY0cWoycDlvNm9xajRjaG42MCBleTgxNTE4NjBAbQ', 'created': '2025-05-24T05:27:56.000Z', 'updated': '2025-05-24T05:27:56.301Z', 'summary': 'My birthday 🎂 ', 'creator': {'email': 'ey8151860@gmail.com', 'self': True}, 'organizer': {'email': 'ey8151860@gmail.com', 'self': True}, 'start': {'date': '2025-11-07'}, 'end': {'date': '2025-11-08'}, 'iCalUID': '6dj6aohncphj8bb5cdij2b9k74s66bb171im8bb664qj2p9o6oqj4chn60@google.com', 'sequence': 0, 'reminders': {'useDefault': False, 'overrides': [{'method': 'popup', 'minutes': 420}]}, 'eventType': 'default'}\n",
      "2025-11-07 My birthday 🎂 \n",
      "eventId: 6dj6aohncphj8bb5cdij2b9k74s66bb171im8bb664qj2p9o6oqj4chn60\n",
      "{'kind': 'calendar#event', 'etag': '\"3504779887785950\"', 'id': 'c4s3acr3cko36b9i64rjgb9kcksm2bb1ccq6ab9n70r38chjchij0oj16k', 'status': 'confirmed', 'htmlLink': 'https://www.google.com/calendar/event?eid=YzRzM2FjcjNja28zNmI5aTY0cmpnYjlrY2tzbTJiYjFjY3E2YWI5bjcwcjM4Y2hqY2hpajBvajE2ayBleTgxNTE4NjBAbQ', 'created': '2025-07-13T06:59:03.000Z', 'updated': '2025-07-13T06:59:03.892Z', 'summary': ' Baby Wassim birthday ', 'creator': {'email': 'ey8151860@gmail.com', 'self': True}, 'organizer': {'email': 'ey8151860@gmail.com', 'self': True}, 'start': {'dateTime': '2025-12-04T08:00:00+02:00', 'timeZone': 'Asia/Beirut'}, 'end': {'dateTime': '2025-12-04T09:00:00+02:00', 'timeZone': 'Asia/Beirut'}, 'iCalUID': 'c4s3acr3cko36b9i64rjgb9kcksm2bb1ccq6ab9n70r38chjchij0oj16k@google.com', 'sequence': 0, 'reminders': {'useDefault': False, 'overrides': [{'method': 'popup', 'minutes': 10}]}, 'eventType': 'default'}\n",
      "2025-12-04T08:00:00+02:00  Baby Wassim birthday \n",
      "eventId: c4s3acr3cko36b9i64rjgb9kcksm2bb1ccq6ab9n70r38chjchij0oj16k\n",
      "{'kind': 'calendar#event', 'etag': '\"3504852220203486\"', 'id': '6som8dpp68s66bb5c8rjeb9kcoq6abb2coo34b9k6kqmcdb269j62dhoc4', 'status': 'confirmed', 'htmlLink': 'https://www.google.com/calendar/event?eid=NnNvbThkcHA2OHM2NmJiNWM4cmplYjlrY29xNmFiYjJjb28zNGI5azZrcW1jZGIyNjlqNjJkaG9jNCBleTgxNTE4NjBAbQ', 'created': '2025-07-13T17:01:49.000Z', 'updated': '2025-07-13T17:01:50.101Z', 'summary': \"Barhooma's birthday 💙💙\", 'creator': {'email': 'ey8151860@gmail.com', 'self': True}, 'organizer': {'email': 'ey8151860@gmail.com', 'self': True}, 'start': {'dateTime': '2025-12-19T08:00:00+02:00', 'timeZone': 'Asia/Beirut'}, 'end': {'dateTime': '2025-12-19T09:00:00+02:00', 'timeZone': 'Asia/Beirut'}, 'iCalUID': '6som8dpp68s66bb5c8rjeb9kcoq6abb2coo34b9k6kqmcdb269j62dhoc4@google.com', 'sequence': 0, 'reminders': {'useDefault': False, 'overrides': [{'method': 'popup', 'minutes': 10}]}, 'eventType': 'default'}\n",
      "2025-12-19T08:00:00+02:00 Barhooma's birthday 💙💙\n",
      "eventId: 6som8dpp68s66bb5c8rjeb9kcoq6abb2coo34b9k6kqmcdb269j62dhoc4\n"
     ]
    }
   ],
   "source": [
    "scrape_calendar()"
   ]
  },
  {
   "cell_type": "markdown",
   "id": "ef7f7a95",
   "metadata": {},
   "source": [
    "## Agent auth function"
   ]
  },
  {
   "cell_type": "markdown",
   "id": "b315599b",
   "metadata": {},
   "source": [
    "this will be added in langgraph before calling the adk main agent"
   ]
  },
  {
   "cell_type": "code",
   "execution_count": null,
   "id": "f5823249",
   "metadata": {},
   "outputs": [],
   "source": [
    "from pathlib import Path\n",
    "\n",
    "SCOPES = [\"https://www.googleapis.com/auth/gmail.compose\"]\n",
    "HERE = Path(__file__).resolve().parent\n",
    "creds = None\n",
    "# The file token.json stores the user's access and refresh tokens, and is\n",
    "# created automatically when the authorization flow completes for the first\n",
    "# time.\n",
    "print('path: ',HERE)\n",
    "if os.path.exists(Path(f\"HERE/tokern.json\")):\n",
    "    creds = Credentials.from_authorized_user_file(f\"{HERE}/token.json\", SCOPES)\n",
    "    # If there are no (valid) credentials available, let the user log in.\n",
    "if not creds or not creds.valid:\n",
    "    if creds and creds.expired and creds.refresh_token:\n",
    "        creds.refresh(Request())\n",
    "    else:\n",
    "        flow = InstalledAppFlow.from_client_secrets_file(f\"{HERE}/credentials.json\", SCOPES)\n",
    "        creds = flow.run_local_server(host=\"localhost\", port=50759)  # http://localhost:50759/\n",
    "\n",
    "with open(f\"{HERE}/token.json\", \"w\", encoding=\"utf-8\") as f:\n",
    "    f.write(creds.to_json())\n"
   ]
  },
  {
   "cell_type": "markdown",
   "id": "3b2e4c67",
   "metadata": {},
   "source": [
    "## Get Events"
   ]
  },
  {
   "cell_type": "code",
   "execution_count": null,
   "id": "02b62659",
   "metadata": {},
   "outputs": [],
   "source": [
    "def scrape_calendar():\n",
    "  \"\"\"Shows basic usage of the Google Calendar API.\n",
    "    Prints the start and name of the next 10 events on the user's calendar.\n",
    "  \"\"\"\n",
    "#   creds = None\n",
    "#   # The file token.json stores the user's access and refresh tokens, and is\n",
    "#   # created automatically when the authorization flow completes for the first\n",
    "#   # time.\n",
    "#   if os.path.exists(\"token.json\"):\n",
    "#     creds = Credentials.from_authorized_user_file(\"token.json\", SCOPES)\n",
    "#   # If there are no (valid) credentials available, let the user log in.\n",
    "#   if not creds or not creds.valid:\n",
    "#     if creds and creds.expired and creds.refresh_token:\n",
    "#       creds.refresh(Request())\n",
    "#     else:\n",
    "#       flow = InstalledAppFlow.from_client_secrets_file(\"credentials.json\", SCOPES)\n",
    "#       creds = flow.run_local_server(host=\"localhost\", port=50759)  # -> http://localhost:50759/\n",
    "#     # Save the credentials for the next run\n",
    "#     with open(\"token.json\", \"w\") as token:\n",
    "#       token.write(creds.to_json())\n",
    "\n",
    "  try:\n",
    "    service = build(\"calendar\", \"v3\", credentials=creds)\n",
    "\n",
    "    # Call the Calendar API\n",
    "    now = datetime.datetime.now(tz=datetime.timezone.utc).isoformat()\n",
    "    print(\"Getting the upcoming 10 events\")\n",
    "    events_result = (\n",
    "        service.events()\n",
    "        .list(\n",
    "            calendarId=\"primary\",\n",
    "            timeMin=now,\n",
    "            maxResults=10,\n",
    "            singleEvents=True,\n",
    "            orderBy=\"startTime\",\n",
    "        )\n",
    "        .execute()\n",
    "    )\n",
    "    events = events_result.get(\"items\", [])\n",
    "\n",
    "    if not events:\n",
    "      print(\"No upcoming events found.\")\n",
    "      return\n",
    "\n",
    "    # Prints the start and name of the next 10 events\n",
    "    for event in events:\n",
    "      print(event)\n",
    "      start = event[\"start\"].get(\"dateTime\", event[\"start\"].get(\"date\"))\n",
    "      print(start, event[\"summary\"])\n",
    "      print('eventId:',event[\"id\"])\n",
    "\n",
    "  except HttpError as error:\n",
    "    print(f\"An error occurred: {error}\")\n"
   ]
  },
  {
   "cell_type": "markdown",
   "id": "95dc82b8",
   "metadata": {},
   "source": [
    "## Insert event"
   ]
  },
  {
   "cell_type": "code",
   "execution_count": null,
   "id": "871258bb",
   "metadata": {},
   "outputs": [],
   "source": [
    "import datetime\n",
    "import os.path\n",
    "\n",
    "from google.auth.transport.requests import Request\n",
    "from google.oauth2.credentials import Credentials\n",
    "from google_auth_oauthlib.flow import InstalledAppFlow\n",
    "from googleapiclient.discovery import build\n",
    "from googleapiclient.errors import HttpError\n",
    "\n",
    "# If modifying these scopes, delete the file token.json.\n",
    "SCOPES = [\"https://www.googleapis.com/auth/calendar\"]\n",
    "\n",
    "# event checker\n",
    "def insert_to_calendar():\n",
    "  \"\"\"Shows basic usage of the Google Calendar API.\n",
    "  Prints the start and name of the next 10 events on the user's calendar.\n",
    "  \"\"\"\n",
    "  # creds = None\n",
    "  # # The file token.json stores the user's access and refresh tokens, and is\n",
    "  # # created automatically when the authorization flow completes for the first\n",
    "  # # time.\n",
    "  # if os.path.exists(\"token.json\"):\n",
    "  #   creds = Credentials.from_authorized_user_file(\"token.json\", SCOPES)\n",
    "  # # If there are no (valid) credentials available, let the user log in.\n",
    "  # if not creds or not creds.valid:\n",
    "  #   if creds and creds.expired and creds.refresh_token:\n",
    "  #     creds.refresh(Request())\n",
    "  #   else:\n",
    "  #     flow = InstalledAppFlow.from_client_secrets_file(\"credentials.json\", SCOPES)\n",
    "  #     creds = flow.run_local_server(host=\"localhost\", port=50759)  # -> http://localhost:50759/\n",
    "  #   # Save the credentials for the next run\n",
    "  #   with open(\"token.json\", \"w\") as token:\n",
    "  #     token.write(creds.to_json())\n",
    "  try:\n",
    "    service = build(\"calendar\", \"v3\", credentials=creds)\n",
    "\n",
    "\n",
    "    GMT_OFF = '-07:00'  # PDT/MST/GMT-7\n",
    "    EVENT = {\n",
    "        'summary': 'Dinner with friends',\n",
    "        'start': {'dateTime': '2025-08-22T19:00:00%s' % GMT_OFF},\n",
    "        'end':   {'dateTime': '2025-08-22T22:00:00%s' % GMT_OFF},\n",
    "        # 'attendees': [\n",
    "        #     # {'email': 'friend@example.com'},\n",
    "        # ],\n",
    "    }\n",
    "\n",
    "    event = service.events().insert(calendarId='primary', body=EVENT).execute()\n",
    "\n",
    "    print('''*** %r event added:\n",
    "    Start: %s\n",
    "    End:   %s''' % (event['summary'].encode('utf-8'),\n",
    "                    event['start']['dateTime'], event['end']['dateTime']))\n",
    "\n",
    "  except HttpError as error:\n",
    "        print(f\"An error occurred: {error}\")\n"
   ]
  },
  {
   "cell_type": "code",
   "execution_count": 52,
   "id": "eeebc12c",
   "metadata": {},
   "outputs": [
    {
     "name": "stdout",
     "output_type": "stream",
     "text": [
      "*** b'Dinner with friends' event added:\n",
      "    Start: 2025-08-23T05:00:00+03:00\n",
      "    End:   2025-08-23T08:00:00+03:00\n"
     ]
    }
   ],
   "source": [
    "insert_to_calendar()"
   ]
  },
  {
   "cell_type": "markdown",
   "id": "65232337",
   "metadata": {},
   "source": [
    "## Update Calendar"
   ]
  },
  {
   "cell_type": "code",
   "execution_count": null,
   "id": "1d30c210",
   "metadata": {},
   "outputs": [],
   "source": [
    "import datetime\n",
    "import os.path\n",
    "\n",
    "from google.auth.transport.requests import Request\n",
    "from google.oauth2.credentials import Credentials\n",
    "from google_auth_oauthlib.flow import InstalledAppFlow\n",
    "from googleapiclient.discovery import build\n",
    "from googleapiclient.errors import HttpError\n",
    "\n",
    "# If modifying these scopes, delete the file token.json.\n",
    "SCOPES = [\"https://www.googleapis.com/auth/calendar\"]\n",
    "\n",
    "# event checker\n",
    "def update_calendar():\n",
    "  \"\"\"Shows basic usage of the Google Calendar API.\n",
    "  Prints the start and name of the next 10 events on the user's calendar.\n",
    "  \"\"\"\n",
    "  # creds = None\n",
    "  # # The file token.json stores the user's access and refresh tokens, and is\n",
    "  # # created automatically when the authorization flow completes for the first\n",
    "  # # time.\n",
    "  # if os.path.exists(\"token.json\"):\n",
    "  #   creds = Credentials.from_authorized_user_file(\"token.json\", SCOPES)\n",
    "  # # If there are no (valid) credentials available, let the user log in.\n",
    "  # if not creds or not creds.valid:\n",
    "  #   if creds and creds.expired and creds.refresh_token:\n",
    "  #     creds.refresh(Request())\n",
    "  #   else:\n",
    "  #     flow = InstalledAppFlow.from_client_secrets_file(\"credentials.json\", SCOPES)\n",
    "  #     creds = flow.run_local_server(host=\"localhost\", port=50759)  # -> http://localhost:50759/\n",
    "  #   # Save the credentials for the next run\n",
    "  #   with open(\"token.json\", \"w\") as token:\n",
    "  #     token.write(creds.to_json())\n",
    "  try:\n",
    "    service = build(\"calendar\", \"v3\", credentials=creds)\n",
    "\n",
    "\n",
    "    # GMT_OFF = '-07:00'  # PDT/MST/GMT-7\n",
    "    # EVENT = {\n",
    "    #     'summary': 'Dinner with friends',\n",
    "    #     'start': {'dateTime': '2025-08-22T19:00:00%s' % GMT_OFF},\n",
    "    #     'end':   {'dateTime': '2025-08-22T22:00:00%s' % GMT_OFF},\n",
    "    #     # 'attendees': [\n",
    "    #     #     # {'email': 'friend@example.com'},\n",
    "    #     # ],\n",
    "    # }\n",
    "    GMT_OFF = '-07:00'  # PDT/MST/GMT-7\n",
    "\n",
    "    updated_event_body = {\n",
    "    'summary': 'Updated Meeting Title',\n",
    "    'location': 'New Meeting Room',\n",
    "    'description': 'This is an updated description for the meeting.',\n",
    "    'start': {'dateTime': '2025-08-23T19:00:00%s' % GMT_OFF},\n",
    "    'end':   {'dateTime': '2025-08-23T22:00:00%s' % GMT_OFF},\n",
    "    }\n",
    "\n",
    "    eventId= \"3i9f0qtgu2u86v3f2fv5b9de0g\"\n",
    "    updated_event= service.events().update(calendarId='primary',\n",
    "                                          eventId=eventId,\n",
    "                                          body=updated_event_body,\n",
    "                                          sendUpdates='all' # 'all', 'externalOnly', or 'none'\n",
    "                                          ).execute()\n",
    "    print(f\"Event updated: {updated_event['htmlLink']}\")\n",
    "\n",
    "  except HttpError as error:\n",
    "        print(f\"An error occurred: {error}\")\n",
    "\n"
   ]
  },
  {
   "cell_type": "code",
   "execution_count": 61,
   "id": "8cb45489",
   "metadata": {},
   "outputs": [
    {
     "name": "stdout",
     "output_type": "stream",
     "text": [
      "Please visit this URL to authorize this application: https://accounts.google.com/o/oauth2/auth?response_type=code&client_id=609528807091-1jslq73gobk3pii89u8v3km7ife7epli.apps.googleusercontent.com&redirect_uri=http%3A%2F%2Flocalhost%3A50759%2F&scope=https%3A%2F%2Fwww.googleapis.com%2Fauth%2Fcalendar&state=OzzgGHvtNAzvVY0kGLxjmWUMHnfu6X&access_type=offline\n",
      "Event updated: https://www.google.com/calendar/event?eid=M2k5ZjBxdGd1MnU4NnYzZjJmdjViOWRlMGcgZXk4MTUxODYwQG0\n"
     ]
    }
   ],
   "source": [
    "update_calendar()"
   ]
  },
  {
   "cell_type": "markdown",
   "id": "a96609cb",
   "metadata": {},
   "source": [
    "## Delete From Calendar"
   ]
  },
  {
   "cell_type": "code",
   "execution_count": null,
   "id": "e337114a",
   "metadata": {},
   "outputs": [],
   "source": [
    "import datetime\n",
    "import os.path\n",
    "\n",
    "from google.auth.transport.requests import Request\n",
    "from google.oauth2.credentials import Credentials\n",
    "from google_auth_oauthlib.flow import InstalledAppFlow\n",
    "from googleapiclient.discovery import build\n",
    "from googleapiclient.errors import HttpError\n",
    "\n",
    "# If modifying these scopes, delete the file token.json.\n",
    "SCOPES = [\"https://www.googleapis.com/auth/calendar\"]\n",
    "\n",
    "# event checker\n",
    "def delete_from_calendar():\n",
    "  \"\"\"Shows basic usage of the Google Calendar API.\n",
    "  Prints the start and name of the next 10 events on the user's calendar.\n",
    "  \"\"\"\n",
    "  # creds = None\n",
    "  # # The file token.json stores the user's access and refresh tokens, and is\n",
    "  # # created automatically when the authorization flow completes for the first\n",
    "  # # time.\n",
    "  # if os.path.exists(\"token.json\"):\n",
    "  #   creds = Credentials.from_authorized_user_file(\"token.json\", SCOPES)\n",
    "  # # If there are no (valid) credentials available, let the user log in.\n",
    "  # if not creds or not creds.valid:\n",
    "  #   if creds and creds.expired and creds.refresh_token:\n",
    "  #     creds.refresh(Request())\n",
    "  #   else:\n",
    "  #     flow = InstalledAppFlow.from_client_secrets_file(\"credentials.json\", SCOPES)\n",
    "  #     creds = flow.run_local_server(host=\"localhost\", port=50759)  # -> http://localhost:50759/\n",
    "  #   # Save the credentials for the next run\n",
    "  #   with open(\"token.json\", \"w\") as token:\n",
    "  #     token.write(creds.to_json())\n",
    "  try:\n",
    "    service = build(\"calendar\", \"v3\", credentials=creds)\n",
    "\n",
    "\n",
    "    # GMT_OFF = '-07:00'  # PDT/MST/GMT-7\n",
    "    # EVENT = {\n",
    "    #     'summary': 'Dinner with friends',\n",
    "    #     'start': {'dateTime': '2025-08-22T19:00:00%s' % GMT_OFF},\n",
    "    #     'end':   {'dateTime': '2025-08-22T22:00:00%s' % GMT_OFF},\n",
    "    #     # 'attendees': [\n",
    "    #     #     # {'email': 'friend@example.com'},\n",
    "    #     # ],\n",
    "    # }\n",
    "    eventId= \"c5tv80indvprfq2v09r0v28dhs\"\n",
    "    event= service.events().delete(calendarId='primary',eventId=eventId ).execute()\n",
    "\n",
    "  except HttpError as error:\n",
    "        print(f\"An error occurred: {error}\")\n",
    "\n"
   ]
  },
  {
   "cell_type": "code",
   "execution_count": 49,
   "id": "4ca5c5ff",
   "metadata": {},
   "outputs": [],
   "source": [
    "delete_from_calendar()"
   ]
  },
  {
   "cell_type": "markdown",
   "id": "59ec7f6f",
   "metadata": {},
   "source": [
    "## Draft Email TOOL"
   ]
  },
  {
   "cell_type": "code",
   "execution_count": null,
   "id": "6197b5de",
   "metadata": {},
   "outputs": [
    {
     "name": "stdout",
     "output_type": "stream",
     "text": [
      "Please visit this URL to authorize this application: https://accounts.google.com/o/oauth2/auth?response_type=code&client_id=609528807091-1jslq73gobk3pii89u8v3km7ife7epli.apps.googleusercontent.com&redirect_uri=http%3A%2F%2Flocalhost%3A50759%2F&scope=https%3A%2F%2Fwww.googleapis.com%2Fauth%2Fgmail.compose&state=fuc6FHpX8H0MFoJUSZCd8xozSf3SLk&access_type=offline\n"
     ]
    }
   ],
   "source": [
    "# from __future__ import annotations\n",
    "# import base64\n",
    "# import mimetypes\n",
    "# import os\n",
    "# from email.message import EmailMessage\n",
    "# from typing import Any, Dict, List, Optional\n",
    "# from mcp.server.fastmcp import FastMCP\n",
    "# from googleapiclient.discovery import build\n",
    "# from google.oauth2.credentials import Credentials\n",
    "# from google_auth_oauthlib.flow import InstalledAppFlow\n",
    "# from google.auth.transport.requests import Request\n",
    "# from googleapiclient.errors import HttpError\n",
    "\n",
    "# SCOPES = [\"https://www.googleapis.com/auth/gmail.compose\"]\n",
    "\n",
    "# creds = None\n",
    "#   # The file token.json stores the user's access and refresh tokens, and is\n",
    "#   # created automatically when the authorization flow completes for the first\n",
    "#   # time.\n",
    "# if os.path.exists(\"token.json\"):\n",
    "#     creds = Credentials.from_authorized_user_file(\"token.json\", SCOPES)\n",
    "#   # If there are no (valid) credentials available, let the user log in.\n",
    "# if not creds or not creds.valid:\n",
    "#     if creds and creds.expired and creds.refresh_token:\n",
    "#       creds.refresh(Request())\n",
    "#     else:\n",
    "#       flow = InstalledAppFlow.from_client_secrets_file(\"credentials.json\", SCOPES)\n",
    "#       creds = flow.run_local_server(host=\"localhost\", port=50759)  # http://localhost:50759/\n",
    "#     # Save the credentials for the next run\n",
    "#     with open(\"token.json\", \"w\") as token:\n",
    "#       token.write(creds.to_json())"
   ]
  },
  {
   "cell_type": "code",
   "execution_count": null,
   "id": "018f225b",
   "metadata": {},
   "outputs": [],
   "source": [
    "# with open(\"token.json\", \"w\", encoding=\"utf-8\") as f:\n",
    "#     f.write(creds.to_json())"
   ]
  },
  {
   "cell_type": "code",
   "execution_count": null,
   "id": "5f23a93d",
   "metadata": {},
   "outputs": [],
   "source": [
    "# service =build(\"gmail\", \"v1\", credentials=creds)"
   ]
  },
  {
   "cell_type": "code",
   "execution_count": null,
   "id": "d212d005",
   "metadata": {},
   "outputs": [
    {
     "data": {
      "text/plain": [
       "<googleapiclient.discovery.Resource at 0x243cb13fc80>"
      ]
     },
     "execution_count": 66,
     "metadata": {},
     "output_type": "execute_result"
    }
   ],
   "source": [
    "# service"
   ]
  },
  {
   "cell_type": "code",
   "execution_count": 78,
   "id": "109e28fa",
   "metadata": {},
   "outputs": [],
   "source": [
    "import base64\n",
    "from email.message import EmailMessage\n",
    "\n",
    "import google.auth\n",
    "from googleapiclient.discovery import build\n",
    "from googleapiclient.errors import HttpError\n",
    "\n",
    "\n",
    "def gmail_create_draft(to: str, body: str, meeting_date: datetime = datetime.datetime.now() , subject: str =\"Tutoring Session\"):\n",
    "  \"\"\"Create and insert a draft email.\n",
    "   Print the returned draft's message and id.\n",
    "   Returns: Draft object, including draft id and message meta data.\n",
    "\n",
    "  Load pre-authorized user credentials from the environment.\n",
    "  TODO(developer) - See https://developers.google.com/identity\n",
    "  for guides on implementing OAuth2 for the application.\n",
    "  \n",
    "Args:\n",
    "    to (str): Recipient email address (RFC 5322 format).\n",
    "    body (str): Plain-text email content (e.g., the planned session outline).\n",
    "    meeting_date (datetime.datetime): The meeting’s date/time. If timezone-aware,\n",
    "        it will be formatted accordingly; if naive, treat as UTC unless your\n",
    "        implementation defines otherwise.\n",
    "\n",
    "Returns:\n",
    "    dict: Gmail `Draft` resource as returned by the API, e.g.\n",
    "        `{\"id\": \"<draft_id>\", \"message\": {...}}`.\n",
    "\n",
    "Raises:\n",
    "    ValueError: If inputs are missing or invalid (e.g., empty `to` or `body`).\n",
    "    googleapiclient.errors.HttpError: If the Gmail API request fails.\n",
    "\n",
    "Notes:\n",
    "    - This function only creates a draft; sending the email is a separate action.\n",
    "    - Subject line and body formatting are implementation-defined.\n",
    "  \"\"\"\n",
    "  try:\n",
    "    # create gmail api client\n",
    "    service = build(\"gmail\", \"v1\", credentials=creds)\n",
    "\n",
    "    message = EmailMessage()\n",
    "    \n",
    "    time_str = meeting_date.strftime(\"%H:%M\")\n",
    "\n",
    "    content=\"\"\"\n",
    "    Greetings,\n",
    "    \n",
    "    I hope this email finds you well,\n",
    "    \n",
    "    Note that we will have our meeting on \"\"\"+time_str+\"\"\" , to access the meeting session, please use the following https://www.youtube.com/ ,\n",
    "    \n",
    "    For our session, we will cover the following topics:\n",
    "      \n",
    "    \"\"\"+ body+\"\"\"\n",
    "    \n",
    "    Best regards,\n",
    "    Ali\n",
    "    \"\"\"\n",
    "    \n",
    "    message.set_content(content)\n",
    "\n",
    "    message[\"To\"] = to\n",
    "    message[\"From\"] = \"ey8151860@gmail.com\"\n",
    "    message[\"Subject\"] = subject\n",
    "\n",
    "    # encoded message\n",
    "    encoded_message = base64.urlsafe_b64encode(message.as_bytes()).decode()\n",
    "\n",
    "    create_message = {\"message\": {\"raw\": encoded_message}}\n",
    "    # pylint: disable=E1101\n",
    "    draft = (\n",
    "        service.users()\n",
    "        .drafts()\n",
    "        .create(userId=\"me\", body=create_message)\n",
    "        .execute()\n",
    "    )\n",
    "\n",
    "    print(f'Draft id: {draft[\"id\"]}\\nDraft message: {draft[\"message\"]}')\n",
    "\n",
    "  except HttpError as error:\n",
    "    print(f\"An error occurred: {error}\")\n",
    "    draft = None\n",
    "\n",
    "  return draft\n"
   ]
  },
  {
   "cell_type": "code",
   "execution_count": 79,
   "id": "fa7f2d9b",
   "metadata": {},
   "outputs": [
    {
     "name": "stdout",
     "output_type": "stream",
     "text": [
      "Draft id: r-4389168225113594754\n",
      "Draft message: {'id': '198c13cce15fe10e', 'threadId': '198c13cce15fe10e', 'labelIds': ['DRAFT']}\n",
      "{'id': 'r-4389168225113594754', 'message': {'id': '198c13cce15fe10e', 'threadId': '198c13cce15fe10e', 'labelIds': ['DRAFT']}}\n"
     ]
    }
   ],
   "source": [
    "res = gmail_create_draft(\n",
    "    to=\"ay8151863@gmail.com\",           # or \"a@x.com, b@y.com\"\n",
    "    subject=\"Test draft from API\",\n",
    "    body=\"This is a test draft created via Gmail API.\",\n",
    "    # sender=\"me\"                           # or a specific alias you own\n",
    ")\n",
    "print(res)\n"
   ]
  },
  {
   "cell_type": "markdown",
   "id": "f6d79bf4",
   "metadata": {},
   "source": [
    "#### Loading the api"
   ]
  },
  {
   "cell_type": "code",
   "execution_count": 71,
   "id": "1e0ed1cf",
   "metadata": {},
   "outputs": [],
   "source": [
    "from dotenv import load_dotenv\n",
    "import os\n",
    "\n",
    "load_dotenv(\".env\", override=True)\n",
    "os.environ[\"GOOGLE_CSE_ID\"] = os.getenv(\"GOOGLE_CSE_ID\")\n",
    "os.environ[\"GOOGLE_API_KEY\"] = os.getenv(\"GOOGLE_API_KEY\")"
   ]
  },
  {
   "cell_type": "markdown",
   "id": "751c9cec",
   "metadata": {},
   "source": [
    "#### Trying with the agent"
   ]
  },
  {
   "cell_type": "code",
   "execution_count": 73,
   "id": "b29ec642",
   "metadata": {},
   "outputs": [],
   "source": [
    "gmail_agent = LlmAgent(\n",
    "    model='gemini-2.0-flash',\n",
    "    name=\"google_gmail_agent\",\n",
    "    description=\"Handles Gmail tasks like drafting emails.\",\n",
    "    instruction=f\"You handle queries related to Gmail. Do not ask any followup questions related to user ids, gmail ids etc. You don't need to know the actual email address or user ID if you're making requests on behalf of the logged-in user. Use the available tools to fulfill the user's request. If you encounter an error, provide the *exact* error message so the user can debug.\",\n",
    "    tools=[gmail_create_draft]\n",
    ") if gmail_create_draft else None"
   ]
  },
  {
   "cell_type": "code",
   "execution_count": null,
   "id": "b6802fb3",
   "metadata": {},
   "outputs": [],
   "source": [
    "session_service_stateful = InMemorySessionService()\n"
   ]
  }
 ],
 "metadata": {
  "kernelspec": {
   "display_name": "PT",
   "language": "python",
   "name": "python3"
  },
  "language_info": {
   "codemirror_mode": {
    "name": "ipython",
    "version": 3
   },
   "file_extension": ".py",
   "mimetype": "text/x-python",
   "name": "python",
   "nbconvert_exporter": "python",
   "pygments_lexer": "ipython3",
   "version": "3.12.8"
  }
 },
 "nbformat": 4,
 "nbformat_minor": 5
}
